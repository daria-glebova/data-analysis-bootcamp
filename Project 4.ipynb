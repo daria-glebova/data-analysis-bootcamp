{
 "cells": [
  {
   "cell_type": "markdown",
   "metadata": {},
   "source": [
    "**Contents**\n",
    "\n",
    "1. [Open files](#open_files)\n",
    "\n",
    "\n",
    "2. [Data preprocessing](#preprocessing)\n",
    "\n",
    "      2.1 [Variable names](#names)\n",
    "    \n",
    "      2.2 [Variable types](#types) \n",
    "      \n",
    "      2.3 [Missing values](#missing_values)\n",
    "    \n",
    "      2.4 [Duplicates processing](#duplicates) \n",
    "      \n",
    "      2.5 [Descriptive statistics](#descriptive_stats)\n",
    "    \n",
    "      2.6 [Users who are into both groups at once](#two_groups)\n",
    "      \n",
    "      2.7 [General structure of datasets](#datasets_structure)\n",
    "\n",
    "\n",
    "3. [Hypotheses prioritization](#hyp_prior)\n",
    "\n",
    "      3.1 [ICE](#ice)\n",
    "\n",
    "      3.2 [RICE](#rice)\n",
    "      \n",
    "\n",
    "4. [A/B test analysis](#ab_test)\n",
    "\n",
    "      4.1 [Cumulative metrics](#cum_metrics)\n",
    "\n",
    "      4.1.1 [Revenue](#revenue)\n",
    "\n",
    "      4.1.2 [Average check](#avg_check)\n",
    "\n",
    "      4.1.3 [Relative change in the cumulative average check in groups](#avg_check_relat)\n",
    "\n",
    "      4.1.4 [Average number of orders per user](#avg_orders)\n",
    "\n",
    "      4.1.5 [Relative change in the cumulative average number of orders per visitor in groups](#avg_orders_relat)\n",
    "\n",
    "      4.2 [Outliers analysis](#outliers)\n",
    "\n",
    "      4.2.1 [Number of orders per user](#orders)\n",
    "      \n",
    "      4.2.2 [Orders cost](#orders_cost)\n",
    "            \n",
    "      4.3 [Hypothesis testing](#hyp_test)\n",
    "      \n",
    "      4.3.1 [Differences in the average order check between groups (\"raw\" data)](#raw_avg_check_diff)\n",
    "      \n",
    "      4.3.2 [Differences in the number of orders per user between groups (\"raw\" data)](#raw_order_num_diff)\n",
    "      \n",
    "      4.3.3 [Differences in the average order check between groups (\"cleaned\" data)](#cleaned_avg_check_diff)\n",
    "      \n",
    "      4.3.4 [Differences in the number of orders per user between groups (\"cleaned\" data)](#cleaned_order_num_diff)\n",
    "  \n",
    "  \n",
    "5. [General conclusion](#conclusion)"
   ]
  },
  {
   "cell_type": "markdown",
   "metadata": {},
   "source": [
    "# Hypothesis prioritization and analysis of A/B test results"
   ]
  },
  {
   "cell_type": "markdown",
   "metadata": {},
   "source": [
    "**Input data:** data from a large online store containing hypotheses for increasing revenue.\n",
    "\n",
    "\n",
    "Data files include:\n",
    "- 9 hypotheses for increasing the revenue of an online store with the specified parameters Reach, Impact, Confidence and Effort,\n",
    "- Users' orders in the online store,\n",
    "- Site visits by users.\n",
    "\n",
    "\n",
    "**Purpose:** Prioritize hypotheses, run an A/B test, and analyze the results.\n",
    "\n",
    "\n",
    "**Tasks:**\n",
    "- Apply ICE and RICE frameworks to prioritize hypotheses,\n",
    "- Look at changes in cumulative revenue, average check and average number of orders per visitor by groups,\n",
    "- Check for differences in average bookings per visitor between groups,\n",
    "- Check for differences in the average check between groups,\n",
    "- Find out if there are significant outliers in the data, \"clear\" the data from them and repeat the stat. tests,\n",
    "- Make a decision based on the test results: stop the test and fix the results or continue the A/B test."
   ]
  },
  {
   "cell_type": "code",
   "execution_count": 1,
   "metadata": {},
   "outputs": [],
   "source": [
    "# Loading the required libraries\n",
    "import pandas as pd\n",
    "import numpy as np\n",
    "import scipy.stats as stats\n",
    "import datetime as dt\n",
    "from matplotlib import pyplot as plt\n",
    "from scipy import stats as st"
   ]
  },
  {
   "cell_type": "markdown",
   "metadata": {},
   "source": [
    "<a id=\"open_files\"></a> \n",
    "\n",
    "## 1. Open files"
   ]
  },
  {
   "cell_type": "code",
   "execution_count": 2,
   "metadata": {},
   "outputs": [],
   "source": [
    "# Reading files\n",
    "hypothesis = pd.read_csv('https://code.s3.yandex.net/datasets/hypothesis.csv')\n",
    "orders = pd.read_csv('https://code.s3.yandex.net/datasets/orders.csv')\n",
    "visitors = pd.read_csv('https://code.s3.yandex.net/datasets/visitors.csv')"
   ]
  },
  {
   "cell_type": "code",
   "execution_count": 3,
   "metadata": {},
   "outputs": [],
   "source": [
    "# Changing display settings so that all hypothesis text is visible\n",
    "pd.set_option('max_colwidth', 200)"
   ]
  },
  {
   "cell_type": "code",
   "execution_count": 4,
   "metadata": {},
   "outputs": [
    {
     "data": {
      "text/html": [
       "<div>\n",
       "<style scoped>\n",
       "    .dataframe tbody tr th:only-of-type {\n",
       "        vertical-align: middle;\n",
       "    }\n",
       "\n",
       "    .dataframe tbody tr th {\n",
       "        vertical-align: top;\n",
       "    }\n",
       "\n",
       "    .dataframe thead th {\n",
       "        text-align: right;\n",
       "    }\n",
       "</style>\n",
       "<table border=\"1\" class=\"dataframe\">\n",
       "  <thead>\n",
       "    <tr style=\"text-align: right;\">\n",
       "      <th></th>\n",
       "      <th>Hypothesis</th>\n",
       "      <th>Reach</th>\n",
       "      <th>Impact</th>\n",
       "      <th>Confidence</th>\n",
       "      <th>Efforts</th>\n",
       "    </tr>\n",
       "  </thead>\n",
       "  <tbody>\n",
       "    <tr>\n",
       "      <th>0</th>\n",
       "      <td>Добавить два новых канала привлечения трафика, что позволит привлекать на 30% больше пользователей</td>\n",
       "      <td>3</td>\n",
       "      <td>10</td>\n",
       "      <td>8</td>\n",
       "      <td>6</td>\n",
       "    </tr>\n",
       "    <tr>\n",
       "      <th>1</th>\n",
       "      <td>Запустить собственную службу доставки, что сократит срок доставки заказов</td>\n",
       "      <td>2</td>\n",
       "      <td>5</td>\n",
       "      <td>4</td>\n",
       "      <td>10</td>\n",
       "    </tr>\n",
       "    <tr>\n",
       "      <th>2</th>\n",
       "      <td>Добавить блоки рекомендаций товаров на сайт интернет магазина, чтобы повысить конверсию и средний чек заказа</td>\n",
       "      <td>8</td>\n",
       "      <td>3</td>\n",
       "      <td>7</td>\n",
       "      <td>3</td>\n",
       "    </tr>\n",
       "    <tr>\n",
       "      <th>3</th>\n",
       "      <td>Изменить структура категорий, что увеличит конверсию, т.к. пользователи быстрее найдут нужный товар</td>\n",
       "      <td>8</td>\n",
       "      <td>3</td>\n",
       "      <td>3</td>\n",
       "      <td>8</td>\n",
       "    </tr>\n",
       "    <tr>\n",
       "      <th>4</th>\n",
       "      <td>Изменить цвет фона главной страницы, чтобы увеличить вовлеченность пользователей</td>\n",
       "      <td>3</td>\n",
       "      <td>1</td>\n",
       "      <td>1</td>\n",
       "      <td>1</td>\n",
       "    </tr>\n",
       "    <tr>\n",
       "      <th>5</th>\n",
       "      <td>Добавить страницу отзывов клиентов о магазине, что позволит увеличить количество заказов</td>\n",
       "      <td>3</td>\n",
       "      <td>2</td>\n",
       "      <td>2</td>\n",
       "      <td>3</td>\n",
       "    </tr>\n",
       "    <tr>\n",
       "      <th>6</th>\n",
       "      <td>Показать на главной странице баннеры с актуальными акциями и распродажами, чтобы увеличить конверсию</td>\n",
       "      <td>5</td>\n",
       "      <td>3</td>\n",
       "      <td>8</td>\n",
       "      <td>3</td>\n",
       "    </tr>\n",
       "    <tr>\n",
       "      <th>7</th>\n",
       "      <td>Добавить форму подписки на все основные страницы, чтобы собрать базу клиентов для email-рассылок</td>\n",
       "      <td>10</td>\n",
       "      <td>7</td>\n",
       "      <td>8</td>\n",
       "      <td>5</td>\n",
       "    </tr>\n",
       "    <tr>\n",
       "      <th>8</th>\n",
       "      <td>Запустить акцию, дающую скидку на товар в день рождения</td>\n",
       "      <td>1</td>\n",
       "      <td>9</td>\n",
       "      <td>9</td>\n",
       "      <td>5</td>\n",
       "    </tr>\n",
       "  </tbody>\n",
       "</table>\n",
       "</div>"
      ],
      "text/plain": [
       "                                                                                                     Hypothesis  \\\n",
       "0            Добавить два новых канала привлечения трафика, что позволит привлекать на 30% больше пользователей   \n",
       "1                                     Запустить собственную службу доставки, что сократит срок доставки заказов   \n",
       "2  Добавить блоки рекомендаций товаров на сайт интернет магазина, чтобы повысить конверсию и средний чек заказа   \n",
       "3           Изменить структура категорий, что увеличит конверсию, т.к. пользователи быстрее найдут нужный товар   \n",
       "4                              Изменить цвет фона главной страницы, чтобы увеличить вовлеченность пользователей   \n",
       "5                      Добавить страницу отзывов клиентов о магазине, что позволит увеличить количество заказов   \n",
       "6          Показать на главной странице баннеры с актуальными акциями и распродажами, чтобы увеличить конверсию   \n",
       "7              Добавить форму подписки на все основные страницы, чтобы собрать базу клиентов для email-рассылок   \n",
       "8                                                       Запустить акцию, дающую скидку на товар в день рождения   \n",
       "\n",
       "   Reach  Impact  Confidence  Efforts  \n",
       "0      3      10           8        6  \n",
       "1      2       5           4       10  \n",
       "2      8       3           7        3  \n",
       "3      8       3           3        8  \n",
       "4      3       1           1        1  \n",
       "5      3       2           2        3  \n",
       "6      5       3           8        3  \n",
       "7     10       7           8        5  \n",
       "8      1       9           9        5  "
      ]
     },
     "metadata": {},
     "output_type": "display_data"
    },
    {
     "data": {
      "text/html": [
       "<div>\n",
       "<style scoped>\n",
       "    .dataframe tbody tr th:only-of-type {\n",
       "        vertical-align: middle;\n",
       "    }\n",
       "\n",
       "    .dataframe tbody tr th {\n",
       "        vertical-align: top;\n",
       "    }\n",
       "\n",
       "    .dataframe thead th {\n",
       "        text-align: right;\n",
       "    }\n",
       "</style>\n",
       "<table border=\"1\" class=\"dataframe\">\n",
       "  <thead>\n",
       "    <tr style=\"text-align: right;\">\n",
       "      <th></th>\n",
       "      <th>transactionId</th>\n",
       "      <th>visitorId</th>\n",
       "      <th>date</th>\n",
       "      <th>revenue</th>\n",
       "      <th>group</th>\n",
       "    </tr>\n",
       "  </thead>\n",
       "  <tbody>\n",
       "    <tr>\n",
       "      <th>0</th>\n",
       "      <td>3667963787</td>\n",
       "      <td>3312258926</td>\n",
       "      <td>2019-08-15</td>\n",
       "      <td>1650</td>\n",
       "      <td>B</td>\n",
       "    </tr>\n",
       "    <tr>\n",
       "      <th>1</th>\n",
       "      <td>2804400009</td>\n",
       "      <td>3642806036</td>\n",
       "      <td>2019-08-15</td>\n",
       "      <td>730</td>\n",
       "      <td>B</td>\n",
       "    </tr>\n",
       "    <tr>\n",
       "      <th>2</th>\n",
       "      <td>2961555356</td>\n",
       "      <td>4069496402</td>\n",
       "      <td>2019-08-15</td>\n",
       "      <td>400</td>\n",
       "      <td>A</td>\n",
       "    </tr>\n",
       "    <tr>\n",
       "      <th>3</th>\n",
       "      <td>3797467345</td>\n",
       "      <td>1196621759</td>\n",
       "      <td>2019-08-15</td>\n",
       "      <td>9759</td>\n",
       "      <td>B</td>\n",
       "    </tr>\n",
       "    <tr>\n",
       "      <th>4</th>\n",
       "      <td>2282983706</td>\n",
       "      <td>2322279887</td>\n",
       "      <td>2019-08-15</td>\n",
       "      <td>2308</td>\n",
       "      <td>B</td>\n",
       "    </tr>\n",
       "    <tr>\n",
       "      <th>5</th>\n",
       "      <td>182168103</td>\n",
       "      <td>935554773</td>\n",
       "      <td>2019-08-15</td>\n",
       "      <td>2210</td>\n",
       "      <td>B</td>\n",
       "    </tr>\n",
       "    <tr>\n",
       "      <th>6</th>\n",
       "      <td>398296753</td>\n",
       "      <td>2900797465</td>\n",
       "      <td>2019-08-15</td>\n",
       "      <td>1860</td>\n",
       "      <td>B</td>\n",
       "    </tr>\n",
       "    <tr>\n",
       "      <th>7</th>\n",
       "      <td>2626614568</td>\n",
       "      <td>78758296</td>\n",
       "      <td>2019-08-15</td>\n",
       "      <td>1044</td>\n",
       "      <td>A</td>\n",
       "    </tr>\n",
       "    <tr>\n",
       "      <th>8</th>\n",
       "      <td>1576988021</td>\n",
       "      <td>295230930</td>\n",
       "      <td>2019-08-15</td>\n",
       "      <td>13710</td>\n",
       "      <td>A</td>\n",
       "    </tr>\n",
       "    <tr>\n",
       "      <th>9</th>\n",
       "      <td>1506739906</td>\n",
       "      <td>1882260405</td>\n",
       "      <td>2019-08-15</td>\n",
       "      <td>1855</td>\n",
       "      <td>B</td>\n",
       "    </tr>\n",
       "  </tbody>\n",
       "</table>\n",
       "</div>"
      ],
      "text/plain": [
       "   transactionId   visitorId        date  revenue group\n",
       "0     3667963787  3312258926  2019-08-15     1650     B\n",
       "1     2804400009  3642806036  2019-08-15      730     B\n",
       "2     2961555356  4069496402  2019-08-15      400     A\n",
       "3     3797467345  1196621759  2019-08-15     9759     B\n",
       "4     2282983706  2322279887  2019-08-15     2308     B\n",
       "5      182168103   935554773  2019-08-15     2210     B\n",
       "6      398296753  2900797465  2019-08-15     1860     B\n",
       "7     2626614568    78758296  2019-08-15     1044     A\n",
       "8     1576988021   295230930  2019-08-15    13710     A\n",
       "9     1506739906  1882260405  2019-08-15     1855     B"
      ]
     },
     "metadata": {},
     "output_type": "display_data"
    },
    {
     "data": {
      "text/html": [
       "<div>\n",
       "<style scoped>\n",
       "    .dataframe tbody tr th:only-of-type {\n",
       "        vertical-align: middle;\n",
       "    }\n",
       "\n",
       "    .dataframe tbody tr th {\n",
       "        vertical-align: top;\n",
       "    }\n",
       "\n",
       "    .dataframe thead th {\n",
       "        text-align: right;\n",
       "    }\n",
       "</style>\n",
       "<table border=\"1\" class=\"dataframe\">\n",
       "  <thead>\n",
       "    <tr style=\"text-align: right;\">\n",
       "      <th></th>\n",
       "      <th>date</th>\n",
       "      <th>group</th>\n",
       "      <th>visitors</th>\n",
       "    </tr>\n",
       "  </thead>\n",
       "  <tbody>\n",
       "    <tr>\n",
       "      <th>0</th>\n",
       "      <td>2019-08-01</td>\n",
       "      <td>A</td>\n",
       "      <td>719</td>\n",
       "    </tr>\n",
       "    <tr>\n",
       "      <th>1</th>\n",
       "      <td>2019-08-02</td>\n",
       "      <td>A</td>\n",
       "      <td>619</td>\n",
       "    </tr>\n",
       "    <tr>\n",
       "      <th>2</th>\n",
       "      <td>2019-08-03</td>\n",
       "      <td>A</td>\n",
       "      <td>507</td>\n",
       "    </tr>\n",
       "    <tr>\n",
       "      <th>3</th>\n",
       "      <td>2019-08-04</td>\n",
       "      <td>A</td>\n",
       "      <td>717</td>\n",
       "    </tr>\n",
       "    <tr>\n",
       "      <th>4</th>\n",
       "      <td>2019-08-05</td>\n",
       "      <td>A</td>\n",
       "      <td>756</td>\n",
       "    </tr>\n",
       "    <tr>\n",
       "      <th>5</th>\n",
       "      <td>2019-08-06</td>\n",
       "      <td>A</td>\n",
       "      <td>667</td>\n",
       "    </tr>\n",
       "    <tr>\n",
       "      <th>6</th>\n",
       "      <td>2019-08-07</td>\n",
       "      <td>A</td>\n",
       "      <td>644</td>\n",
       "    </tr>\n",
       "    <tr>\n",
       "      <th>7</th>\n",
       "      <td>2019-08-08</td>\n",
       "      <td>A</td>\n",
       "      <td>610</td>\n",
       "    </tr>\n",
       "    <tr>\n",
       "      <th>8</th>\n",
       "      <td>2019-08-09</td>\n",
       "      <td>A</td>\n",
       "      <td>617</td>\n",
       "    </tr>\n",
       "    <tr>\n",
       "      <th>9</th>\n",
       "      <td>2019-08-10</td>\n",
       "      <td>A</td>\n",
       "      <td>406</td>\n",
       "    </tr>\n",
       "  </tbody>\n",
       "</table>\n",
       "</div>"
      ],
      "text/plain": [
       "         date group  visitors\n",
       "0  2019-08-01     A       719\n",
       "1  2019-08-02     A       619\n",
       "2  2019-08-03     A       507\n",
       "3  2019-08-04     A       717\n",
       "4  2019-08-05     A       756\n",
       "5  2019-08-06     A       667\n",
       "6  2019-08-07     A       644\n",
       "7  2019-08-08     A       610\n",
       "8  2019-08-09     A       617\n",
       "9  2019-08-10     A       406"
      ]
     },
     "execution_count": 4,
     "metadata": {},
     "output_type": "execute_result"
    }
   ],
   "source": [
    "# First 10 rows of datasets\n",
    "display(hypothesis.head(10))\n",
    "display(orders.head(10))\n",
    "visitors.head(10)"
   ]
  },
  {
   "cell_type": "code",
   "execution_count": 5,
   "metadata": {},
   "outputs": [
    {
     "name": "stdout",
     "output_type": "stream",
     "text": [
      "<class 'pandas.core.frame.DataFrame'>\n",
      "RangeIndex: 9 entries, 0 to 8\n",
      "Data columns (total 5 columns):\n",
      " #   Column      Non-Null Count  Dtype \n",
      "---  ------      --------------  ----- \n",
      " 0   Hypothesis  9 non-null      object\n",
      " 1   Reach       9 non-null      int64 \n",
      " 2   Impact      9 non-null      int64 \n",
      " 3   Confidence  9 non-null      int64 \n",
      " 4   Efforts     9 non-null      int64 \n",
      "dtypes: int64(4), object(1)\n",
      "memory usage: 488.0+ bytes\n",
      "None\n",
      "\n",
      "<class 'pandas.core.frame.DataFrame'>\n",
      "RangeIndex: 1197 entries, 0 to 1196\n",
      "Data columns (total 5 columns):\n",
      " #   Column         Non-Null Count  Dtype \n",
      "---  ------         --------------  ----- \n",
      " 0   transactionId  1197 non-null   int64 \n",
      " 1   visitorId      1197 non-null   int64 \n",
      " 2   date           1197 non-null   object\n",
      " 3   revenue        1197 non-null   int64 \n",
      " 4   group          1197 non-null   object\n",
      "dtypes: int64(3), object(2)\n",
      "memory usage: 46.9+ KB\n",
      "None\n",
      "\n",
      "<class 'pandas.core.frame.DataFrame'>\n",
      "RangeIndex: 62 entries, 0 to 61\n",
      "Data columns (total 3 columns):\n",
      " #   Column    Non-Null Count  Dtype \n",
      "---  ------    --------------  ----- \n",
      " 0   date      62 non-null     object\n",
      " 1   group     62 non-null     object\n",
      " 2   visitors  62 non-null     int64 \n",
      "dtypes: int64(1), object(2)\n",
      "memory usage: 1.6+ KB\n"
     ]
    }
   ],
   "source": [
    "# General information about datasets\n",
    "print(hypothesis.info())\n",
    "print()\n",
    "print(orders.info())\n",
    "print()\n",
    "visitors.info()"
   ]
  },
  {
   "cell_type": "markdown",
   "metadata": {},
   "source": [
    "There are a number of data issues:\n",
    "\n",
    "1) Names of variables - you need to lower case and get rid of CamelCase;\n",
    "\n",
    "2) The data type of `transactionId` and `visitorId` must be changed from int to str as it is a categorical variable;\n",
    "\n",
    "3) Data type `date` - must be cast to datetime."
   ]
  },
  {
   "cell_type": "markdown",
   "metadata": {},
   "source": [
    "<a id=\"preprocessing\"></a>\n",
    "\n",
    "## 2. Data preprocessing"
   ]
  },
  {
   "cell_type": "markdown",
   "metadata": {},
   "source": [
    "<a id=\"names\"></a>\n",
    "\n",
    "### 2. 1 Variable names"
   ]
  },
  {
   "cell_type": "code",
   "execution_count": 6,
   "metadata": {},
   "outputs": [
    {
     "name": "stdout",
     "output_type": "stream",
     "text": [
      "Index(['hypothesis', 'reach', 'impact', 'confidence', 'efforts'], dtype='object')\n",
      "\n",
      "Index(['transaction_id', 'visitor_id', 'date', 'revenue', 'group'], dtype='object')\n"
     ]
    },
    {
     "data": {
      "text/plain": [
       "Index(['date', 'group', 'visitors'], dtype='object')"
      ]
     },
     "execution_count": 6,
     "metadata": {},
     "output_type": "execute_result"
    }
   ],
   "source": [
    "# Changing case for variable names\n",
    "hypothesis.columns = hypothesis.columns.str.lower()\n",
    "orders.columns = orders.columns.str.lower()\n",
    "visitors.columns = visitors.columns.str.lower()\n",
    "\n",
    "# Replacing CamelCase Variable Names with Underscores\n",
    "orders.rename(columns={'transactionid': 'transaction_id',\n",
    "                       'visitorid': 'visitor_id'}, inplace = True)\n",
    "\n",
    "\n",
    "# Variable names\n",
    "print(hypothesis.columns)\n",
    "print()\n",
    "print(orders.columns)\n",
    "visitors.columns "
   ]
  },
  {
   "cell_type": "markdown",
   "metadata": {},
   "source": [
    "<a id=\"types\"></a>\n",
    "\n",
    "\n",
    "### 2.2 Variable types"
   ]
  },
  {
   "cell_type": "code",
   "execution_count": 7,
   "metadata": {},
   "outputs": [],
   "source": [
    "# Changing Data Types\n",
    "orders['transaction_id'] = orders['transaction_id'].astype(str)\n",
    "orders['visitor_id'] = orders['visitor_id'].astype(str)\n",
    "\n",
    "orders['date'] = orders['date'].map(lambda x: dt.datetime.strptime(x, '%Y-%m-%d'))\n",
    "visitors['date'] = visitors['date'].map(lambda x: dt.datetime.strptime(x, '%Y-%m-%d'))"
   ]
  },
  {
   "cell_type": "markdown",
   "metadata": {},
   "source": [
    "After all the transformations - let's check their correctness."
   ]
  },
  {
   "cell_type": "code",
   "execution_count": 8,
   "metadata": {},
   "outputs": [
    {
     "name": "stdout",
     "output_type": "stream",
     "text": [
      "<class 'pandas.core.frame.DataFrame'>\n",
      "RangeIndex: 9 entries, 0 to 8\n",
      "Data columns (total 5 columns):\n",
      " #   Column      Non-Null Count  Dtype \n",
      "---  ------      --------------  ----- \n",
      " 0   hypothesis  9 non-null      object\n",
      " 1   reach       9 non-null      int64 \n",
      " 2   impact      9 non-null      int64 \n",
      " 3   confidence  9 non-null      int64 \n",
      " 4   efforts     9 non-null      int64 \n",
      "dtypes: int64(4), object(1)\n",
      "memory usage: 488.0+ bytes\n",
      "None\n",
      "\n",
      "<class 'pandas.core.frame.DataFrame'>\n",
      "RangeIndex: 1197 entries, 0 to 1196\n",
      "Data columns (total 5 columns):\n",
      " #   Column          Non-Null Count  Dtype         \n",
      "---  ------          --------------  -----         \n",
      " 0   transaction_id  1197 non-null   object        \n",
      " 1   visitor_id      1197 non-null   object        \n",
      " 2   date            1197 non-null   datetime64[ns]\n",
      " 3   revenue         1197 non-null   int64         \n",
      " 4   group           1197 non-null   object        \n",
      "dtypes: datetime64[ns](1), int64(1), object(3)\n",
      "memory usage: 46.9+ KB\n",
      "None\n",
      "\n",
      "<class 'pandas.core.frame.DataFrame'>\n",
      "RangeIndex: 62 entries, 0 to 61\n",
      "Data columns (total 3 columns):\n",
      " #   Column    Non-Null Count  Dtype         \n",
      "---  ------    --------------  -----         \n",
      " 0   date      62 non-null     datetime64[ns]\n",
      " 1   group     62 non-null     object        \n",
      " 2   visitors  62 non-null     int64         \n",
      "dtypes: datetime64[ns](1), int64(1), object(1)\n",
      "memory usage: 1.6+ KB\n"
     ]
    }
   ],
   "source": [
    "# General information about datasets\n",
    "print(hypothesis.info())\n",
    "print()\n",
    "print(orders.info())\n",
    "print()\n",
    "visitors.info()"
   ]
  },
  {
   "cell_type": "code",
   "execution_count": 9,
   "metadata": {},
   "outputs": [
    {
     "data": {
      "text/html": [
       "<div>\n",
       "<style scoped>\n",
       "    .dataframe tbody tr th:only-of-type {\n",
       "        vertical-align: middle;\n",
       "    }\n",
       "\n",
       "    .dataframe tbody tr th {\n",
       "        vertical-align: top;\n",
       "    }\n",
       "\n",
       "    .dataframe thead th {\n",
       "        text-align: right;\n",
       "    }\n",
       "</style>\n",
       "<table border=\"1\" class=\"dataframe\">\n",
       "  <thead>\n",
       "    <tr style=\"text-align: right;\">\n",
       "      <th></th>\n",
       "      <th>hypothesis</th>\n",
       "      <th>reach</th>\n",
       "      <th>impact</th>\n",
       "      <th>confidence</th>\n",
       "      <th>efforts</th>\n",
       "    </tr>\n",
       "  </thead>\n",
       "  <tbody>\n",
       "    <tr>\n",
       "      <th>0</th>\n",
       "      <td>Добавить два новых канала привлечения трафика, что позволит привлекать на 30% больше пользователей</td>\n",
       "      <td>3</td>\n",
       "      <td>10</td>\n",
       "      <td>8</td>\n",
       "      <td>6</td>\n",
       "    </tr>\n",
       "    <tr>\n",
       "      <th>1</th>\n",
       "      <td>Запустить собственную службу доставки, что сократит срок доставки заказов</td>\n",
       "      <td>2</td>\n",
       "      <td>5</td>\n",
       "      <td>4</td>\n",
       "      <td>10</td>\n",
       "    </tr>\n",
       "    <tr>\n",
       "      <th>2</th>\n",
       "      <td>Добавить блоки рекомендаций товаров на сайт интернет магазина, чтобы повысить конверсию и средний чек заказа</td>\n",
       "      <td>8</td>\n",
       "      <td>3</td>\n",
       "      <td>7</td>\n",
       "      <td>3</td>\n",
       "    </tr>\n",
       "    <tr>\n",
       "      <th>3</th>\n",
       "      <td>Изменить структура категорий, что увеличит конверсию, т.к. пользователи быстрее найдут нужный товар</td>\n",
       "      <td>8</td>\n",
       "      <td>3</td>\n",
       "      <td>3</td>\n",
       "      <td>8</td>\n",
       "    </tr>\n",
       "    <tr>\n",
       "      <th>4</th>\n",
       "      <td>Изменить цвет фона главной страницы, чтобы увеличить вовлеченность пользователей</td>\n",
       "      <td>3</td>\n",
       "      <td>1</td>\n",
       "      <td>1</td>\n",
       "      <td>1</td>\n",
       "    </tr>\n",
       "    <tr>\n",
       "      <th>5</th>\n",
       "      <td>Добавить страницу отзывов клиентов о магазине, что позволит увеличить количество заказов</td>\n",
       "      <td>3</td>\n",
       "      <td>2</td>\n",
       "      <td>2</td>\n",
       "      <td>3</td>\n",
       "    </tr>\n",
       "    <tr>\n",
       "      <th>6</th>\n",
       "      <td>Показать на главной странице баннеры с актуальными акциями и распродажами, чтобы увеличить конверсию</td>\n",
       "      <td>5</td>\n",
       "      <td>3</td>\n",
       "      <td>8</td>\n",
       "      <td>3</td>\n",
       "    </tr>\n",
       "    <tr>\n",
       "      <th>7</th>\n",
       "      <td>Добавить форму подписки на все основные страницы, чтобы собрать базу клиентов для email-рассылок</td>\n",
       "      <td>10</td>\n",
       "      <td>7</td>\n",
       "      <td>8</td>\n",
       "      <td>5</td>\n",
       "    </tr>\n",
       "    <tr>\n",
       "      <th>8</th>\n",
       "      <td>Запустить акцию, дающую скидку на товар в день рождения</td>\n",
       "      <td>1</td>\n",
       "      <td>9</td>\n",
       "      <td>9</td>\n",
       "      <td>5</td>\n",
       "    </tr>\n",
       "  </tbody>\n",
       "</table>\n",
       "</div>"
      ],
      "text/plain": [
       "                                                                                                     hypothesis  \\\n",
       "0            Добавить два новых канала привлечения трафика, что позволит привлекать на 30% больше пользователей   \n",
       "1                                     Запустить собственную службу доставки, что сократит срок доставки заказов   \n",
       "2  Добавить блоки рекомендаций товаров на сайт интернет магазина, чтобы повысить конверсию и средний чек заказа   \n",
       "3           Изменить структура категорий, что увеличит конверсию, т.к. пользователи быстрее найдут нужный товар   \n",
       "4                              Изменить цвет фона главной страницы, чтобы увеличить вовлеченность пользователей   \n",
       "5                      Добавить страницу отзывов клиентов о магазине, что позволит увеличить количество заказов   \n",
       "6          Показать на главной странице баннеры с актуальными акциями и распродажами, чтобы увеличить конверсию   \n",
       "7              Добавить форму подписки на все основные страницы, чтобы собрать базу клиентов для email-рассылок   \n",
       "8                                                       Запустить акцию, дающую скидку на товар в день рождения   \n",
       "\n",
       "   reach  impact  confidence  efforts  \n",
       "0      3      10           8        6  \n",
       "1      2       5           4       10  \n",
       "2      8       3           7        3  \n",
       "3      8       3           3        8  \n",
       "4      3       1           1        1  \n",
       "5      3       2           2        3  \n",
       "6      5       3           8        3  \n",
       "7     10       7           8        5  \n",
       "8      1       9           9        5  "
      ]
     },
     "metadata": {},
     "output_type": "display_data"
    },
    {
     "data": {
      "text/html": [
       "<div>\n",
       "<style scoped>\n",
       "    .dataframe tbody tr th:only-of-type {\n",
       "        vertical-align: middle;\n",
       "    }\n",
       "\n",
       "    .dataframe tbody tr th {\n",
       "        vertical-align: top;\n",
       "    }\n",
       "\n",
       "    .dataframe thead th {\n",
       "        text-align: right;\n",
       "    }\n",
       "</style>\n",
       "<table border=\"1\" class=\"dataframe\">\n",
       "  <thead>\n",
       "    <tr style=\"text-align: right;\">\n",
       "      <th></th>\n",
       "      <th>transaction_id</th>\n",
       "      <th>visitor_id</th>\n",
       "      <th>date</th>\n",
       "      <th>revenue</th>\n",
       "      <th>group</th>\n",
       "    </tr>\n",
       "  </thead>\n",
       "  <tbody>\n",
       "    <tr>\n",
       "      <th>0</th>\n",
       "      <td>3667963787</td>\n",
       "      <td>3312258926</td>\n",
       "      <td>2019-08-15</td>\n",
       "      <td>1650</td>\n",
       "      <td>B</td>\n",
       "    </tr>\n",
       "    <tr>\n",
       "      <th>1</th>\n",
       "      <td>2804400009</td>\n",
       "      <td>3642806036</td>\n",
       "      <td>2019-08-15</td>\n",
       "      <td>730</td>\n",
       "      <td>B</td>\n",
       "    </tr>\n",
       "    <tr>\n",
       "      <th>2</th>\n",
       "      <td>2961555356</td>\n",
       "      <td>4069496402</td>\n",
       "      <td>2019-08-15</td>\n",
       "      <td>400</td>\n",
       "      <td>A</td>\n",
       "    </tr>\n",
       "    <tr>\n",
       "      <th>3</th>\n",
       "      <td>3797467345</td>\n",
       "      <td>1196621759</td>\n",
       "      <td>2019-08-15</td>\n",
       "      <td>9759</td>\n",
       "      <td>B</td>\n",
       "    </tr>\n",
       "    <tr>\n",
       "      <th>4</th>\n",
       "      <td>2282983706</td>\n",
       "      <td>2322279887</td>\n",
       "      <td>2019-08-15</td>\n",
       "      <td>2308</td>\n",
       "      <td>B</td>\n",
       "    </tr>\n",
       "    <tr>\n",
       "      <th>5</th>\n",
       "      <td>182168103</td>\n",
       "      <td>935554773</td>\n",
       "      <td>2019-08-15</td>\n",
       "      <td>2210</td>\n",
       "      <td>B</td>\n",
       "    </tr>\n",
       "    <tr>\n",
       "      <th>6</th>\n",
       "      <td>398296753</td>\n",
       "      <td>2900797465</td>\n",
       "      <td>2019-08-15</td>\n",
       "      <td>1860</td>\n",
       "      <td>B</td>\n",
       "    </tr>\n",
       "    <tr>\n",
       "      <th>7</th>\n",
       "      <td>2626614568</td>\n",
       "      <td>78758296</td>\n",
       "      <td>2019-08-15</td>\n",
       "      <td>1044</td>\n",
       "      <td>A</td>\n",
       "    </tr>\n",
       "    <tr>\n",
       "      <th>8</th>\n",
       "      <td>1576988021</td>\n",
       "      <td>295230930</td>\n",
       "      <td>2019-08-15</td>\n",
       "      <td>13710</td>\n",
       "      <td>A</td>\n",
       "    </tr>\n",
       "    <tr>\n",
       "      <th>9</th>\n",
       "      <td>1506739906</td>\n",
       "      <td>1882260405</td>\n",
       "      <td>2019-08-15</td>\n",
       "      <td>1855</td>\n",
       "      <td>B</td>\n",
       "    </tr>\n",
       "  </tbody>\n",
       "</table>\n",
       "</div>"
      ],
      "text/plain": [
       "  transaction_id  visitor_id       date  revenue group\n",
       "0     3667963787  3312258926 2019-08-15     1650     B\n",
       "1     2804400009  3642806036 2019-08-15      730     B\n",
       "2     2961555356  4069496402 2019-08-15      400     A\n",
       "3     3797467345  1196621759 2019-08-15     9759     B\n",
       "4     2282983706  2322279887 2019-08-15     2308     B\n",
       "5      182168103   935554773 2019-08-15     2210     B\n",
       "6      398296753  2900797465 2019-08-15     1860     B\n",
       "7     2626614568    78758296 2019-08-15     1044     A\n",
       "8     1576988021   295230930 2019-08-15    13710     A\n",
       "9     1506739906  1882260405 2019-08-15     1855     B"
      ]
     },
     "metadata": {},
     "output_type": "display_data"
    },
    {
     "data": {
      "text/html": [
       "<div>\n",
       "<style scoped>\n",
       "    .dataframe tbody tr th:only-of-type {\n",
       "        vertical-align: middle;\n",
       "    }\n",
       "\n",
       "    .dataframe tbody tr th {\n",
       "        vertical-align: top;\n",
       "    }\n",
       "\n",
       "    .dataframe thead th {\n",
       "        text-align: right;\n",
       "    }\n",
       "</style>\n",
       "<table border=\"1\" class=\"dataframe\">\n",
       "  <thead>\n",
       "    <tr style=\"text-align: right;\">\n",
       "      <th></th>\n",
       "      <th>date</th>\n",
       "      <th>group</th>\n",
       "      <th>visitors</th>\n",
       "    </tr>\n",
       "  </thead>\n",
       "  <tbody>\n",
       "    <tr>\n",
       "      <th>0</th>\n",
       "      <td>2019-08-01</td>\n",
       "      <td>A</td>\n",
       "      <td>719</td>\n",
       "    </tr>\n",
       "    <tr>\n",
       "      <th>1</th>\n",
       "      <td>2019-08-02</td>\n",
       "      <td>A</td>\n",
       "      <td>619</td>\n",
       "    </tr>\n",
       "    <tr>\n",
       "      <th>2</th>\n",
       "      <td>2019-08-03</td>\n",
       "      <td>A</td>\n",
       "      <td>507</td>\n",
       "    </tr>\n",
       "    <tr>\n",
       "      <th>3</th>\n",
       "      <td>2019-08-04</td>\n",
       "      <td>A</td>\n",
       "      <td>717</td>\n",
       "    </tr>\n",
       "    <tr>\n",
       "      <th>4</th>\n",
       "      <td>2019-08-05</td>\n",
       "      <td>A</td>\n",
       "      <td>756</td>\n",
       "    </tr>\n",
       "    <tr>\n",
       "      <th>5</th>\n",
       "      <td>2019-08-06</td>\n",
       "      <td>A</td>\n",
       "      <td>667</td>\n",
       "    </tr>\n",
       "    <tr>\n",
       "      <th>6</th>\n",
       "      <td>2019-08-07</td>\n",
       "      <td>A</td>\n",
       "      <td>644</td>\n",
       "    </tr>\n",
       "    <tr>\n",
       "      <th>7</th>\n",
       "      <td>2019-08-08</td>\n",
       "      <td>A</td>\n",
       "      <td>610</td>\n",
       "    </tr>\n",
       "    <tr>\n",
       "      <th>8</th>\n",
       "      <td>2019-08-09</td>\n",
       "      <td>A</td>\n",
       "      <td>617</td>\n",
       "    </tr>\n",
       "    <tr>\n",
       "      <th>9</th>\n",
       "      <td>2019-08-10</td>\n",
       "      <td>A</td>\n",
       "      <td>406</td>\n",
       "    </tr>\n",
       "  </tbody>\n",
       "</table>\n",
       "</div>"
      ],
      "text/plain": [
       "        date group  visitors\n",
       "0 2019-08-01     A       719\n",
       "1 2019-08-02     A       619\n",
       "2 2019-08-03     A       507\n",
       "3 2019-08-04     A       717\n",
       "4 2019-08-05     A       756\n",
       "5 2019-08-06     A       667\n",
       "6 2019-08-07     A       644\n",
       "7 2019-08-08     A       610\n",
       "8 2019-08-09     A       617\n",
       "9 2019-08-10     A       406"
      ]
     },
     "execution_count": 9,
     "metadata": {},
     "output_type": "execute_result"
    }
   ],
   "source": [
    "# First 10 rows of datasets\n",
    "display(hypothesis.head(10))\n",
    "display(orders.head(10))\n",
    "visitors.head(10)"
   ]
  },
  {
   "cell_type": "markdown",
   "metadata": {},
   "source": [
    "The changes were made successfully."
   ]
  },
  {
   "cell_type": "markdown",
   "metadata": {},
   "source": [
    "<a id=\"missing_values\"></a>\n",
    "\n",
    "### 2.3 Missing values"
   ]
  },
  {
   "cell_type": "code",
   "execution_count": 10,
   "metadata": {},
   "outputs": [
    {
     "name": "stdout",
     "output_type": "stream",
     "text": [
      "hypothesis    0\n",
      "reach         0\n",
      "impact        0\n",
      "confidence    0\n",
      "efforts       0\n",
      "dtype: int64\n",
      "\n",
      "transaction_id    0\n",
      "visitor_id        0\n",
      "date              0\n",
      "revenue           0\n",
      "group             0\n",
      "dtype: int64\n"
     ]
    },
    {
     "data": {
      "text/plain": [
       "date        0\n",
       "group       0\n",
       "visitors    0\n",
       "dtype: int64"
      ]
     },
     "execution_count": 10,
     "metadata": {},
     "output_type": "execute_result"
    }
   ],
   "source": [
    "print(hypothesis.isna().sum())\n",
    "print()\n",
    "print(orders.isna().sum())\n",
    "visitors.isna().sum()"
   ]
  },
  {
   "cell_type": "markdown",
   "metadata": {},
   "source": [
    "There are no missing values."
   ]
  },
  {
   "cell_type": "markdown",
   "metadata": {},
   "source": [
    "<a id=\"duplicates\"></a>\n",
    " \n",
    "### 2.4 Duplicates processing"
   ]
  },
  {
   "cell_type": "code",
   "execution_count": 11,
   "metadata": {},
   "outputs": [
    {
     "name": "stdout",
     "output_type": "stream",
     "text": [
      "0\n",
      "\n",
      "0\n"
     ]
    },
    {
     "data": {
      "text/plain": [
       "0"
      ]
     },
     "execution_count": 11,
     "metadata": {},
     "output_type": "execute_result"
    }
   ],
   "source": [
    "print(hypothesis.duplicated().sum())\n",
    "print()\n",
    "print(orders.duplicated().sum())\n",
    "visitors.duplicated().sum()"
   ]
  },
  {
   "cell_type": "markdown",
   "metadata": {},
   "source": [
    "There are no obvious duplicates in the data."
   ]
  },
  {
   "cell_type": "markdown",
   "metadata": {},
   "source": [
    "<a id=\"descriptive_stats\"></a>\n",
    "\n",
    "### 2.5 Descriptive statistics\n",
    "\n",
    "Let's check the descriptive statistics of quantitative and datetime variables for anomalies. And also look at the number of values inside group A and B."
   ]
  },
  {
   "cell_type": "code",
   "execution_count": 12,
   "metadata": {
    "scrolled": false
   },
   "outputs": [
    {
     "name": "stdout",
     "output_type": "stream",
     "text": [
      "count    1.197000e+03\n",
      "mean     8.348006e+03\n",
      "std      3.919113e+04\n",
      "min      5.000000e+01\n",
      "25%      1.220000e+03\n",
      "50%      2.978000e+03\n",
      "75%      8.290000e+03\n",
      "max      1.294500e+06\n",
      "Name: revenue, dtype: float64\n",
      "\n"
     ]
    },
    {
     "data": {
      "text/plain": [
       "count     62.000000\n",
       "mean     607.290323\n",
       "std      114.400560\n",
       "min      361.000000\n",
       "25%      534.000000\n",
       "50%      624.500000\n",
       "75%      710.500000\n",
       "max      770.000000\n",
       "Name: visitors, dtype: float64"
      ]
     },
     "execution_count": 12,
     "metadata": {},
     "output_type": "execute_result"
    }
   ],
   "source": [
    "# Descriptive statistics for scale variables\n",
    "print(orders['revenue'].describe())\n",
    "print()\n",
    "visitors['visitors'].describe()"
   ]
  },
  {
   "cell_type": "markdown",
   "metadata": {},
   "source": [
    "The statistics for the `visitors` table are generally plausible - on 50% of the dates, the number of visitors to the store's website ranged from 534 to 710 people, which can be called a normal fluctuation in traffic.\n",
    "\n",
    "However, the data of the `orders` table is most likely interfered with by abnormal values of the online store's revenue, which can be judged by the large difference between the median and average revenue (almost 3 times), as well as the maximum revenue value of more than 1 million (at \" ordinary \"revenue 1-8 thousand)."
   ]
  },
  {
   "cell_type": "code",
   "execution_count": 13,
   "metadata": {
    "scrolled": true
   },
   "outputs": [
    {
     "name": "stdout",
     "output_type": "stream",
     "text": [
      "2019-08-01 00:00:00\n",
      "2019-08-31 00:00:00\n",
      "\n",
      "2019-08-01 00:00:00\n",
      "2019-08-31 00:00:00\n"
     ]
    }
   ],
   "source": [
    "# Min and Max dates\n",
    "print(orders['date'].min())\n",
    "print(orders['date'].max())\n",
    "print()\n",
    "print(visitors['date'].min())\n",
    "print(visitors['date'].max())"
   ]
  },
  {
   "cell_type": "markdown",
   "metadata": {},
   "source": [
    "Both the `orders` and `visitors` tables store data for the entire month of August 2019."
   ]
  },
  {
   "cell_type": "code",
   "execution_count": 14,
   "metadata": {},
   "outputs": [
    {
     "name": "stdout",
     "output_type": "stream",
     "text": [
      "503\n",
      "586\n",
      "\n",
      "557\n",
      "640\n",
      "\n",
      "18736\n",
      "18916\n"
     ]
    }
   ],
   "source": [
    "# Counting values for each of the groups\n",
    "print(orders[orders['group'] == 'A']['visitor_id'].nunique())\n",
    "print(orders[orders['group'] == 'B']['visitor_id'].nunique())\n",
    "print()\n",
    "print(orders[orders['group'] == 'A']['transaction_id'].nunique())\n",
    "print(orders[orders['group'] == 'B']['transaction_id'].nunique())\n",
    "print()\n",
    "print(visitors[visitors['group'] == 'A']['visitors'].sum())\n",
    "print(visitors[visitors['group'] == 'B']['visitors'].sum())"
   ]
  },
  {
   "cell_type": "markdown",
   "metadata": {},
   "source": [
    "The number of visitors for the A/B test groups is approximately equal to each other - almost 19 thousand in each group, which is approximately equal to the ratio of 49.8 to 50.2 - that is, optimal for the A/B test.\n",
    "\n",
    "The number of unique users and orders is also approximately the same for groups, with a preponderance towards group B."
   ]
  },
  {
   "cell_type": "markdown",
   "metadata": {},
   "source": [
    "<a id=\"two_groups\"></a>\n",
    "\n",
    "### 2.6 Users who are into both groups at once\n",
    "\n",
    "Let's see if there are users who accidentally fell into both groups of the A/B test at once."
   ]
  },
  {
   "cell_type": "code",
   "execution_count": 15,
   "metadata": {},
   "outputs": [
    {
     "data": {
      "text/plain": [
       "0"
      ]
     },
     "execution_count": 15,
     "metadata": {},
     "output_type": "execute_result"
    }
   ],
   "source": [
    "orders[np.logical_and(orders['group'] == 'A',\n",
    "                      orders['group'] == 'B')]['visitor_id'].nunique()"
   ]
  },
  {
   "cell_type": "markdown",
   "metadata": {},
   "source": [
    "Fortunately, there were no such users."
   ]
  },
  {
   "cell_type": "markdown",
   "metadata": {},
   "source": [
    "<a id=\"datasets_structure\"></a>\n",
    "\n",
    "### 2.7 General structure of datasets\n",
    "\n",
    "1) **hypothesis** table:\n",
    "\n",
    "- `hypothesis` - a brief description of the hypothesis;\n",
    "\n",
    "- `reach` - coverage of users on a 10-point scale;\n",
    "\n",
    "- `impact` - impact on users on a 10-point scale;\n",
    "\n",
    "- `confidence` - confidence in the hypothesis on a 10-point scale;\n",
    "\n",
    "- `efforts` - the cost of resources to test the hypothesis on a 10-point scale.\n",
    "\n",
    "\n",
    "2) **orders** table:\n",
    "\n",
    "- `transaction_id` — order identifier;\n",
    "\n",
    "- `visitor_id` - identifier of the user who made the order;\n",
    "\n",
    "- `date` — date when the order was made;\n",
    "\n",
    "- `revenue` — order revenue;\n",
    "\n",
    "- `group` — the A/B test group that the order belongs to.\n",
    "\n",
    "\n",
    "3) Table **visitors**:\n",
    "\n",
    "- `date` — date;\n",
    "\n",
    "- `group` — A/B test group;\n",
    "\n",
    "- `visitors` is the number of users on the specified date in the specified A/B test group."
   ]
  },
  {
   "cell_type": "markdown",
   "metadata": {},
   "source": [
    "<a id=\"hyp_prior\"></a>\n",
    "\n",
    "## 3. Hypotheses prioritization\n",
    "\n",
    "Let's use the ICE and RICE frameworks to prioritize hypotheses."
   ]
  },
  {
   "cell_type": "markdown",
   "metadata": {},
   "source": [
    "<a id=\"ice\"></a>\n",
    "\n",
    "### 3.1 ICE\n",
    "\n",
    "```\n",
    "ICE score = (Impact x Confidence) / Efforts\n",
    "```"
   ]
  },
  {
   "cell_type": "code",
   "execution_count": 16,
   "metadata": {
    "scrolled": false
   },
   "outputs": [
    {
     "data": {
      "text/html": [
       "<div>\n",
       "<style scoped>\n",
       "    .dataframe tbody tr th:only-of-type {\n",
       "        vertical-align: middle;\n",
       "    }\n",
       "\n",
       "    .dataframe tbody tr th {\n",
       "        vertical-align: top;\n",
       "    }\n",
       "\n",
       "    .dataframe thead th {\n",
       "        text-align: right;\n",
       "    }\n",
       "</style>\n",
       "<table border=\"1\" class=\"dataframe\">\n",
       "  <thead>\n",
       "    <tr style=\"text-align: right;\">\n",
       "      <th></th>\n",
       "      <th>hypothesis</th>\n",
       "      <th>ice</th>\n",
       "    </tr>\n",
       "  </thead>\n",
       "  <tbody>\n",
       "    <tr>\n",
       "      <th>8</th>\n",
       "      <td>Запустить акцию, дающую скидку на товар в день рождения</td>\n",
       "      <td>16.200000</td>\n",
       "    </tr>\n",
       "    <tr>\n",
       "      <th>0</th>\n",
       "      <td>Добавить два новых канала привлечения трафика, что позволит привлекать на 30% больше пользователей</td>\n",
       "      <td>13.333333</td>\n",
       "    </tr>\n",
       "    <tr>\n",
       "      <th>7</th>\n",
       "      <td>Добавить форму подписки на все основные страницы, чтобы собрать базу клиентов для email-рассылок</td>\n",
       "      <td>11.200000</td>\n",
       "    </tr>\n",
       "    <tr>\n",
       "      <th>6</th>\n",
       "      <td>Показать на главной странице баннеры с актуальными акциями и распродажами, чтобы увеличить конверсию</td>\n",
       "      <td>8.000000</td>\n",
       "    </tr>\n",
       "    <tr>\n",
       "      <th>2</th>\n",
       "      <td>Добавить блоки рекомендаций товаров на сайт интернет магазина, чтобы повысить конверсию и средний чек заказа</td>\n",
       "      <td>7.000000</td>\n",
       "    </tr>\n",
       "    <tr>\n",
       "      <th>1</th>\n",
       "      <td>Запустить собственную службу доставки, что сократит срок доставки заказов</td>\n",
       "      <td>2.000000</td>\n",
       "    </tr>\n",
       "    <tr>\n",
       "      <th>5</th>\n",
       "      <td>Добавить страницу отзывов клиентов о магазине, что позволит увеличить количество заказов</td>\n",
       "      <td>1.333333</td>\n",
       "    </tr>\n",
       "    <tr>\n",
       "      <th>3</th>\n",
       "      <td>Изменить структура категорий, что увеличит конверсию, т.к. пользователи быстрее найдут нужный товар</td>\n",
       "      <td>1.125000</td>\n",
       "    </tr>\n",
       "    <tr>\n",
       "      <th>4</th>\n",
       "      <td>Изменить цвет фона главной страницы, чтобы увеличить вовлеченность пользователей</td>\n",
       "      <td>1.000000</td>\n",
       "    </tr>\n",
       "  </tbody>\n",
       "</table>\n",
       "</div>"
      ],
      "text/plain": [
       "                                                                                                     hypothesis  \\\n",
       "8                                                       Запустить акцию, дающую скидку на товар в день рождения   \n",
       "0            Добавить два новых канала привлечения трафика, что позволит привлекать на 30% больше пользователей   \n",
       "7              Добавить форму подписки на все основные страницы, чтобы собрать базу клиентов для email-рассылок   \n",
       "6          Показать на главной странице баннеры с актуальными акциями и распродажами, чтобы увеличить конверсию   \n",
       "2  Добавить блоки рекомендаций товаров на сайт интернет магазина, чтобы повысить конверсию и средний чек заказа   \n",
       "1                                     Запустить собственную службу доставки, что сократит срок доставки заказов   \n",
       "5                      Добавить страницу отзывов клиентов о магазине, что позволит увеличить количество заказов   \n",
       "3           Изменить структура категорий, что увеличит конверсию, т.к. пользователи быстрее найдут нужный товар   \n",
       "4                              Изменить цвет фона главной страницы, чтобы увеличить вовлеченность пользователей   \n",
       "\n",
       "         ice  \n",
       "8  16.200000  \n",
       "0  13.333333  \n",
       "7  11.200000  \n",
       "6   8.000000  \n",
       "2   7.000000  \n",
       "1   2.000000  \n",
       "5   1.333333  \n",
       "3   1.125000  \n",
       "4   1.000000  "
      ]
     },
     "metadata": {},
     "output_type": "display_data"
    }
   ],
   "source": [
    "# Change display settings so that all hypotheses text is visible\n",
    "pd.set_option('max_colwidth', 200)\n",
    "\n",
    "# Hypothesis priority calculation - ICE methodology\n",
    "hypothesis['ice'] = hypothesis['impact'] * hypothesis['confidence'] / hypothesis['efforts']\n",
    "\n",
    "# Relative position of hypotheses - highest priority first\n",
    "display(hypothesis[['hypothesis', 'ice']].sort_values(by='ice', ascending=False))"
   ]
  },
  {
   "cell_type": "markdown",
   "metadata": {},
   "source": [
    "**Findings:**\n",
    "\n",
    "Highest Priority Hypotheses\n",
    "\n",
    "- №8 `Запустить акцию, дающую скидку на товар в день рождения` (due to high impact = 9 and confidence = 9)\n",
    "- №0 `Добавить два новых канала привлечения трафика, что позволит привлекать на 30% больше пользователей` (due to high impact = 10)\n",
    "- №7 `Добавить форму подписки на все основные страницы, чтобы собрать базу клиентов для email-рассылок`\n",
    "- №6 `Показать на главной странице баннеры с актуальными акциями и распродажами, чтобы увеличить конверсию`\n",
    "- №2 `Добавить блоки рекомендаций товаров на сайт интернет магазина, чтобы повысить конверсию и средний чек заказа`\n",
    "\n",
    "The remaining hypotheses scored low on impact and confidence, and/or scored high on efforts. That is, with a small impact and certainty of this impact on the user, a disproportionate amount of resources will be expended. Therefore, testing the last four hypotheses will not be rational."
   ]
  },
  {
   "cell_type": "markdown",
   "metadata": {},
   "source": [
    "<a id=\"rice\"></a>\n",
    "\n",
    "### 3. 2 RICE\n",
    "\n",
    "```\n",
    "RICE score = (Reach x Impact x Confidence) / Efforts\n",
    "```"
   ]
  },
  {
   "cell_type": "code",
   "execution_count": 17,
   "metadata": {},
   "outputs": [
    {
     "data": {
      "text/html": [
       "<div>\n",
       "<style scoped>\n",
       "    .dataframe tbody tr th:only-of-type {\n",
       "        vertical-align: middle;\n",
       "    }\n",
       "\n",
       "    .dataframe tbody tr th {\n",
       "        vertical-align: top;\n",
       "    }\n",
       "\n",
       "    .dataframe thead th {\n",
       "        text-align: right;\n",
       "    }\n",
       "</style>\n",
       "<table border=\"1\" class=\"dataframe\">\n",
       "  <thead>\n",
       "    <tr style=\"text-align: right;\">\n",
       "      <th></th>\n",
       "      <th>hypothesis</th>\n",
       "      <th>rice</th>\n",
       "    </tr>\n",
       "  </thead>\n",
       "  <tbody>\n",
       "    <tr>\n",
       "      <th>7</th>\n",
       "      <td>Добавить форму подписки на все основные страницы, чтобы собрать базу клиентов для email-рассылок</td>\n",
       "      <td>112.0</td>\n",
       "    </tr>\n",
       "    <tr>\n",
       "      <th>2</th>\n",
       "      <td>Добавить блоки рекомендаций товаров на сайт интернет магазина, чтобы повысить конверсию и средний чек заказа</td>\n",
       "      <td>56.0</td>\n",
       "    </tr>\n",
       "    <tr>\n",
       "      <th>0</th>\n",
       "      <td>Добавить два новых канала привлечения трафика, что позволит привлекать на 30% больше пользователей</td>\n",
       "      <td>40.0</td>\n",
       "    </tr>\n",
       "    <tr>\n",
       "      <th>6</th>\n",
       "      <td>Показать на главной странице баннеры с актуальными акциями и распродажами, чтобы увеличить конверсию</td>\n",
       "      <td>40.0</td>\n",
       "    </tr>\n",
       "    <tr>\n",
       "      <th>8</th>\n",
       "      <td>Запустить акцию, дающую скидку на товар в день рождения</td>\n",
       "      <td>16.2</td>\n",
       "    </tr>\n",
       "    <tr>\n",
       "      <th>3</th>\n",
       "      <td>Изменить структура категорий, что увеличит конверсию, т.к. пользователи быстрее найдут нужный товар</td>\n",
       "      <td>9.0</td>\n",
       "    </tr>\n",
       "    <tr>\n",
       "      <th>1</th>\n",
       "      <td>Запустить собственную службу доставки, что сократит срок доставки заказов</td>\n",
       "      <td>4.0</td>\n",
       "    </tr>\n",
       "    <tr>\n",
       "      <th>5</th>\n",
       "      <td>Добавить страницу отзывов клиентов о магазине, что позволит увеличить количество заказов</td>\n",
       "      <td>4.0</td>\n",
       "    </tr>\n",
       "    <tr>\n",
       "      <th>4</th>\n",
       "      <td>Изменить цвет фона главной страницы, чтобы увеличить вовлеченность пользователей</td>\n",
       "      <td>3.0</td>\n",
       "    </tr>\n",
       "  </tbody>\n",
       "</table>\n",
       "</div>"
      ],
      "text/plain": [
       "                                                                                                     hypothesis  \\\n",
       "7              Добавить форму подписки на все основные страницы, чтобы собрать базу клиентов для email-рассылок   \n",
       "2  Добавить блоки рекомендаций товаров на сайт интернет магазина, чтобы повысить конверсию и средний чек заказа   \n",
       "0            Добавить два новых канала привлечения трафика, что позволит привлекать на 30% больше пользователей   \n",
       "6          Показать на главной странице баннеры с актуальными акциями и распродажами, чтобы увеличить конверсию   \n",
       "8                                                       Запустить акцию, дающую скидку на товар в день рождения   \n",
       "3           Изменить структура категорий, что увеличит конверсию, т.к. пользователи быстрее найдут нужный товар   \n",
       "1                                     Запустить собственную службу доставки, что сократит срок доставки заказов   \n",
       "5                      Добавить страницу отзывов клиентов о магазине, что позволит увеличить количество заказов   \n",
       "4                              Изменить цвет фона главной страницы, чтобы увеличить вовлеченность пользователей   \n",
       "\n",
       "    rice  \n",
       "7  112.0  \n",
       "2   56.0  \n",
       "0   40.0  \n",
       "6   40.0  \n",
       "8   16.2  \n",
       "3    9.0  \n",
       "1    4.0  \n",
       "5    4.0  \n",
       "4    3.0  "
      ]
     },
     "metadata": {},
     "output_type": "display_data"
    }
   ],
   "source": [
    "# Change dataset display settings so that all hypotheses text is visible\n",
    "pd.set_option('max_colwidth', 200)\n",
    "\n",
    "# Hypothesis priority calculation - RICE methodology\n",
    "hypothesis['rice'] = hypothesis['reach'] * hypothesis['ice'] \n",
    "\n",
    "# Relative positions of hypotheses - highest priority first\n",
    "display(hypothesis[['hypothesis', 'rice']].sort_values(by='rice', ascending=False))"
   ]
  },
  {
   "cell_type": "markdown",
   "metadata": {},
   "source": [
    "**Findings:**\n",
    "\n",
    "Highest Priority Hypotheses\n",
    "\n",
    "- №7 `Добавить форму подписки на все основные страницы, чтобы собрать базу клиентов для email-рассылок` (was in third place for the ICE paradigm, high reach = 10) - this hypothesis should be tested first, as it covers all users and can potentially increase the profitability of the store and / or reduce lost profits.\n",
    "- №2 `Добавить блоки рекомендаций товаров на сайт интернет магазина, чтобы повысить конверсию и средний чек заказа` (second place from fifth due to high reach = 8)\n",
    "- №0 `Добавить два новых канала привлечения трафика, что позволит привлекать на 30% больше пользователей`\n",
    "- №6 `Показать на главной странице баннеры с актуальными акциями и распродажами, чтобы увеличить конверсию`\n",
    "\n",
    "The remaining hypotheses scored significantly lower in RICE, having 1-4 points in the reach indicator, which corresponds to a small coverage, so we can assume that the development of these hypotheses will not be appropriate.\n",
    "\n",
    "\n",
    "The difference in the ranking of the hypotheses priority according to the ICE and RICE methodology lies in the inclusion of the change coverage parameter in the latter. It is important to consider both the strength of the hypotheses and the assumption of how many users will be affected by the innovation."
   ]
  },
  {
   "cell_type": "markdown",
   "metadata": {},
   "source": [
    "<a id=\"ab_test\"></a>\n",
    "\n",
    "## 4. A/B test analysis"
   ]
  },
  {
   "cell_type": "markdown",
   "metadata": {},
   "source": [
    "<a id=\"cum_metrics\"></a>\n",
    "\n",
    "### 4.1 Cumulative metrics\n",
    "\n",
    "To visually analyze the results of the A/B test, let's prepare the data:\n",
    "\n",
    "- get data on visits, number of orders and revenue for each of the dates of the A/B test;\n",
    "- get cumulative data on orders, visitors and revenue by each date;\n",
    "- combine the cumulative data into a single table for further work only with it.\n",
    "\n",
    "Let's start with the visits table `visitors`."
   ]
  },
  {
   "cell_type": "code",
   "execution_count": 18,
   "metadata": {},
   "outputs": [],
   "source": [
    "# Create a table with the date and number of visits for group A\n",
    "visitors_a_daily = visitors[visitors['group'] == 'A'][['date', 'visitors']]\n",
    "\n",
    "# Adding meaningful column names\n",
    "visitors_a_daily.columns = ['date', 'visitors_per_date_a']"
   ]
  },
  {
   "cell_type": "code",
   "execution_count": 19,
   "metadata": {},
   "outputs": [],
   "source": [
    "# Count the number of users up to the selected date inclusive in group A\n",
    "visitors_a_cummulative = (\n",
    "    visitors_a_daily\n",
    "    # filter data\n",
    "    .apply(\n",
    "        lambda x: visitors_a_daily[visitors_a_daily['date'] <= x['date']].agg(\n",
    "        {'date': 'max',                  # save date\n",
    "         'visitors_per_date_a': 'sum'}), # sum up the number of users by this date\n",
    "           axis=1)\n",
    ")\n",
    "\n",
    "# Adding meaningful column names\n",
    "visitors_a_cummulative.columns = ['date', 'visitors_cummulative_a']"
   ]
  },
  {
   "cell_type": "code",
   "execution_count": 20,
   "metadata": {},
   "outputs": [],
   "source": [
    "# Create a table with the date and number of visits for group B\n",
    "visitors_b_daily = visitors[visitors['group'] == 'B'][['date', 'visitors']]\n",
    "\n",
    "# Adding meaningful column names\n",
    "visitors_b_daily.columns = ['date', 'visitors_per_date_b']"
   ]
  },
  {
   "cell_type": "code",
   "execution_count": 21,
   "metadata": {},
   "outputs": [],
   "source": [
    "# Count the number of users up to the selected date inclusive in group B\n",
    "visitors_b_cummulative = (\n",
    "    visitors_b_daily\n",
    "    .apply(\n",
    "        lambda x: visitors_b_daily[visitors_b_daily['date'] <= x['date']].agg(\n",
    "        {'date': 'max',                  # save date\n",
    "         'visitors_per_date_b': 'sum'}), # sum up the number of users by this date\n",
    "           axis=1)\n",
    ")\n",
    "\n",
    "# Adding meaningful column names\n",
    "visitors_b_cummulative.columns = ['date', 'visitors_cummulative_b']"
   ]
  },
  {
   "cell_type": "markdown",
   "metadata": {},
   "source": [
    "Let's do the same for the orders table `orders`: calculate the cumulative metrics."
   ]
  },
  {
   "cell_type": "code",
   "execution_count": 22,
   "metadata": {},
   "outputs": [],
   "source": [
    "# Create a table with the date, number of orders and revenue for group A\n",
    "orders_a_daily = (\n",
    "    orders[orders['group'] == 'A'][['date', 'transaction_id', 'visitor_id', 'revenue']]\n",
    "    .groupby('date', as_index=False)\n",
    "    .agg({'transaction_id': pd.Series.nunique, \n",
    "          'revenue': 'sum'})\n",
    ")\n",
    "\n",
    "# Adding meaningful column names\n",
    "orders_a_daily.columns = ['date', 'orders_per_date_a', 'revenue_per_date_a']"
   ]
  },
  {
   "cell_type": "code",
   "execution_count": 23,
   "metadata": {},
   "outputs": [],
   "source": [
    "# Count total number of orders and revenue up to selected date inclusive in the group A\n",
    "orders_a_cummulative = (\n",
    "    orders_a_daily\n",
    "    # filter data\n",
    "    .apply(lambda x: orders_a_daily[orders_a_daily['date'] <= x['date']].agg(\n",
    "        {'date': 'max',                 # store the date\n",
    "         'orders_per_date_a': 'sum',    # sum up the number of orders to this date\n",
    "         'revenue_per_date_a': 'sum'}), # sum the revenue up to this date\n",
    "           axis=1)\n",
    "    .sort_values(by=['date'])           # sort by date - from earliest to latest\n",
    ")\n",
    "\n",
    "# Adding meaningful column names\n",
    "orders_a_cummulative.columns = ['date', 'orders_cummulative_a', 'revenue_cummulative_a']"
   ]
  },
  {
   "cell_type": "code",
   "execution_count": 24,
   "metadata": {},
   "outputs": [],
   "source": [
    "# Create a table with the date, number of orders and revenue for group B\n",
    "orders_b_daily = (\n",
    "    orders[orders['group'] == 'B'][['date', 'transaction_id', 'visitor_id', 'revenue']]\n",
    "    .groupby('date', as_index=False)\n",
    "    .agg({'transaction_id': pd.Series.nunique, \n",
    "          'revenue': 'sum'})\n",
    ")\n",
    "\n",
    "# Adding meaningful column names\n",
    "orders_b_daily.columns = ['date', 'orders_per_date_b', 'revenue_per_date_b']"
   ]
  },
  {
   "cell_type": "code",
   "execution_count": 25,
   "metadata": {},
   "outputs": [],
   "source": [
    "# Count total number of orders and revenue up to selected date inclusive in the group B\n",
    "orders_b_cummulative = (\n",
    "    orders_b_daily\n",
    "    # filter data\n",
    "    .apply(lambda x: orders_b_daily[orders_b_daily['date'] <= x['date']].agg(\n",
    "        {'date': 'max',                 # store the date\n",
    "         'orders_per_date_b': 'sum',    # sum up the number of orders to this dateате\n",
    "         'revenue_per_date_b': 'sum'}), # sum the revenue up to this date\n",
    "           axis=1)\n",
    "    .sort_values(by=['date'])           # sort by date - from earliest to latest\n",
    ")\n",
    "\n",
    "# Adding meaningful column names\n",
    "orders_b_cummulative.columns = ['date', 'orders_cummulative_b', 'revenue_cummulative_b']"
   ]
  },
  {
   "cell_type": "markdown",
   "metadata": {},
   "source": [
    "Now we can combine the tables - the data on the number of visits and revenue, and the cumulative number of orders and visits for the two groups. Based on the resulting `merged_data` table, we will build indicative graphs of changes in cumulative revenue, average check and average number of orders per visitor for each group."
   ]
  },
  {
   "cell_type": "code",
   "execution_count": 26,
   "metadata": {},
   "outputs": [],
   "source": [
    "# Merging tables by date column\n",
    "merged_data = (\n",
    "    orders_a_daily.merge(\n",
    "        orders_b_daily, left_on='date', right_on='date', how='left'\n",
    "    )\n",
    "    .merge(orders_a_cummulative, left_on='date', right_on='date', how='left')\n",
    "    .merge(orders_b_cummulative, left_on='date', right_on='date', how='left')\n",
    "    .merge(visitors_a_daily, left_on='date', right_on='date', how='left')\n",
    "    .merge(visitors_b_daily, left_on='date', right_on='date', how='left')\n",
    "    .merge(visitors_a_cummulative, left_on='date', right_on='date', how='left')\n",
    "    .merge(visitors_b_cummulative, left_on='date', right_on='date', how='left')\n",
    ")"
   ]
  },
  {
   "cell_type": "code",
   "execution_count": 27,
   "metadata": {},
   "outputs": [
    {
     "data": {
      "text/html": [
       "<div>\n",
       "<style scoped>\n",
       "    .dataframe tbody tr th:only-of-type {\n",
       "        vertical-align: middle;\n",
       "    }\n",
       "\n",
       "    .dataframe tbody tr th {\n",
       "        vertical-align: top;\n",
       "    }\n",
       "\n",
       "    .dataframe thead th {\n",
       "        text-align: right;\n",
       "    }\n",
       "</style>\n",
       "<table border=\"1\" class=\"dataframe\">\n",
       "  <thead>\n",
       "    <tr style=\"text-align: right;\">\n",
       "      <th></th>\n",
       "      <th>date</th>\n",
       "      <th>orders_per_date_a</th>\n",
       "      <th>revenue_per_date_a</th>\n",
       "      <th>orders_per_date_b</th>\n",
       "      <th>revenue_per_date_b</th>\n",
       "      <th>orders_cummulative_a</th>\n",
       "      <th>revenue_cummulative_a</th>\n",
       "      <th>orders_cummulative_b</th>\n",
       "      <th>revenue_cummulative_b</th>\n",
       "      <th>visitors_per_date_a</th>\n",
       "      <th>visitors_per_date_b</th>\n",
       "      <th>visitors_cummulative_a</th>\n",
       "      <th>visitors_cummulative_b</th>\n",
       "    </tr>\n",
       "  </thead>\n",
       "  <tbody>\n",
       "    <tr>\n",
       "      <th>0</th>\n",
       "      <td>2019-08-01</td>\n",
       "      <td>24</td>\n",
       "      <td>148579</td>\n",
       "      <td>21</td>\n",
       "      <td>101217</td>\n",
       "      <td>24</td>\n",
       "      <td>148579</td>\n",
       "      <td>21</td>\n",
       "      <td>101217</td>\n",
       "      <td>719</td>\n",
       "      <td>713</td>\n",
       "      <td>719</td>\n",
       "      <td>713</td>\n",
       "    </tr>\n",
       "    <tr>\n",
       "      <th>1</th>\n",
       "      <td>2019-08-02</td>\n",
       "      <td>20</td>\n",
       "      <td>93822</td>\n",
       "      <td>24</td>\n",
       "      <td>165531</td>\n",
       "      <td>44</td>\n",
       "      <td>242401</td>\n",
       "      <td>45</td>\n",
       "      <td>266748</td>\n",
       "      <td>619</td>\n",
       "      <td>581</td>\n",
       "      <td>1338</td>\n",
       "      <td>1294</td>\n",
       "    </tr>\n",
       "    <tr>\n",
       "      <th>2</th>\n",
       "      <td>2019-08-03</td>\n",
       "      <td>24</td>\n",
       "      <td>112473</td>\n",
       "      <td>16</td>\n",
       "      <td>114248</td>\n",
       "      <td>68</td>\n",
       "      <td>354874</td>\n",
       "      <td>61</td>\n",
       "      <td>380996</td>\n",
       "      <td>507</td>\n",
       "      <td>509</td>\n",
       "      <td>1845</td>\n",
       "      <td>1803</td>\n",
       "    </tr>\n",
       "    <tr>\n",
       "      <th>3</th>\n",
       "      <td>2019-08-04</td>\n",
       "      <td>16</td>\n",
       "      <td>70825</td>\n",
       "      <td>17</td>\n",
       "      <td>108571</td>\n",
       "      <td>84</td>\n",
       "      <td>425699</td>\n",
       "      <td>78</td>\n",
       "      <td>489567</td>\n",
       "      <td>717</td>\n",
       "      <td>770</td>\n",
       "      <td>2562</td>\n",
       "      <td>2573</td>\n",
       "    </tr>\n",
       "    <tr>\n",
       "      <th>4</th>\n",
       "      <td>2019-08-05</td>\n",
       "      <td>25</td>\n",
       "      <td>124218</td>\n",
       "      <td>23</td>\n",
       "      <td>92428</td>\n",
       "      <td>109</td>\n",
       "      <td>549917</td>\n",
       "      <td>101</td>\n",
       "      <td>581995</td>\n",
       "      <td>756</td>\n",
       "      <td>707</td>\n",
       "      <td>3318</td>\n",
       "      <td>3280</td>\n",
       "    </tr>\n",
       "  </tbody>\n",
       "</table>\n",
       "</div>"
      ],
      "text/plain": [
       "        date  orders_per_date_a  revenue_per_date_a  orders_per_date_b  \\\n",
       "0 2019-08-01                 24              148579                 21   \n",
       "1 2019-08-02                 20               93822                 24   \n",
       "2 2019-08-03                 24              112473                 16   \n",
       "3 2019-08-04                 16               70825                 17   \n",
       "4 2019-08-05                 25              124218                 23   \n",
       "\n",
       "   revenue_per_date_b  orders_cummulative_a  revenue_cummulative_a  \\\n",
       "0              101217                    24                 148579   \n",
       "1              165531                    44                 242401   \n",
       "2              114248                    68                 354874   \n",
       "3              108571                    84                 425699   \n",
       "4               92428                   109                 549917   \n",
       "\n",
       "   orders_cummulative_b  revenue_cummulative_b  visitors_per_date_a  \\\n",
       "0                    21                 101217                  719   \n",
       "1                    45                 266748                  619   \n",
       "2                    61                 380996                  507   \n",
       "3                    78                 489567                  717   \n",
       "4                   101                 581995                  756   \n",
       "\n",
       "   visitors_per_date_b  visitors_cummulative_a  visitors_cummulative_b  \n",
       "0                  713                     719                     713  \n",
       "1                  581                    1338                    1294  \n",
       "2                  509                    1845                    1803  \n",
       "3                  770                    2562                    2573  \n",
       "4                  707                    3318                    3280  "
      ]
     },
     "execution_count": 27,
     "metadata": {},
     "output_type": "execute_result"
    }
   ],
   "source": [
    "# First 5 rows \n",
    "merged_data.head(5)"
   ]
  },
  {
   "cell_type": "markdown",
   "metadata": {},
   "source": [
    "<a id=\"revenue\"></a>\n",
    "\n",
    "#### 4.1.1 Revenue\n",
    "\n",
    "After the necessary transformations, we will plot cumulative revenue graphs by days and groups of A/B testing."
   ]
  },
  {
   "cell_type": "code",
   "execution_count": 28,
   "metadata": {},
   "outputs": [
    {
     "data": {
      "image/png": "[encoded data removed]",
      "text/plain": [
       "<Figure size 1080x720 with 1 Axes>"
      ]
     },
     "metadata": {
      "needs_background": "light"
     },
     "output_type": "display_data"
    }
   ],
   "source": [
    "# Set the grid size for charts\n",
    "plt.figure(figsize=(15, 10))\n",
    "\n",
    "# Group A revenue chart\n",
    "plt.plot(merged_data['date'], merged_data['revenue_cummulative_a'], label='A')\n",
    "\n",
    "# Group B revenue chart\n",
    "plt.plot(merged_data['date'], merged_data['revenue_cummulative_b'], label='B')\n",
    "\n",
    "plt.legend()\n",
    "plt.title('Cumulative revenue by A/B test groups')\n",
    "plt.ylabel('Revenue (in millions)');"
   ]
  },
  {
   "cell_type": "markdown",
   "metadata": {},
   "source": [
    "**Findings:**\n",
    "\n",
    "Revenue increases throughout the test, which is good.\n",
    "However, Group B's revenue curve rises sharply between August 17 and 21, which could signal either a surge in orders or very expensive orders in the sample (outliers). This can skew the results of the A/B test, so let's analyze for outliers next."
   ]
  },
  {
   "cell_type": "markdown",
   "metadata": {},
   "source": [
    "<a id=\"avg_check\"></a>\n",
    "\n",
    "#### 4.1.2 Average check\n",
    "\n",
    "Let's build graphs of the average bill by groups - we will divide the cumulative revenue by the cumulative number of orders:"
   ]
  },
  {
   "cell_type": "code",
   "execution_count": 29,
   "metadata": {},
   "outputs": [
    {
     "data": {
      "image/png": "[encoded data removed]",
      "text/plain": [
       "<Figure size 1080x720 with 1 Axes>"
      ]
     },
     "metadata": {
      "needs_background": "light"
     },
     "output_type": "display_data"
    }
   ],
   "source": [
    "# Set the grid size for charts\n",
    "plt.figure(figsize=(15, 10))\n",
    "\n",
    "# Graph of the cumulative average check for group A\n",
    "plt.plot(merged_data['date'], \n",
    "         merged_data['revenue_cummulative_a'] / merged_data['orders_cummulative_a'], \n",
    "         label='A')\n",
    "\n",
    "# Graph of the cumulative average check for group B\n",
    "plt.plot(merged_data['date'], \n",
    "         merged_data['revenue_cummulative_b'] / merged_data['orders_cummulative_b'], \n",
    "         label='B')\n",
    "\n",
    "plt.legend()\n",
    "plt.title('Cumulative average check by A/B test groups')\n",
    "plt.ylabel('Average check amount');"
   ]
  },
  {
   "cell_type": "markdown",
   "metadata": {},
   "source": [
    "**Findings:**\n",
    "\n",
    "The average check fluctuates for both groups, but some outliers (possibly large orders) affected group B the most. After a sharp increase in the average check every August 17 and 21, the graph for group B begins to decline. Thus, sharp jumps on the chart do not allow visually judging the differences between the average checks of the groups."
   ]
  },
  {
   "cell_type": "markdown",
   "metadata": {},
   "source": [
    "<a id=\"avg_check_relat\"></a>\n",
    "\n",
    "#### 4.1.3 Relative change in the cumulative average check in groups\n",
    "\n",
    "Let's build a graph of the relative difference for the average bill."
   ]
  },
  {
   "cell_type": "code",
   "execution_count": 30,
   "metadata": {},
   "outputs": [
    {
     "data": {
      "image/png": "[encoded data removed]",
      "text/plain": [
       "<Figure size 1080x720 with 1 Axes>"
      ]
     },
     "metadata": {
      "needs_background": "light"
     },
     "output_type": "display_data"
    }
   ],
   "source": [
    "# Set the grid size for charts\n",
    "plt.figure(figsize=(15, 10))\n",
    "\n",
    "# The ratio of average checks\n",
    "plt.plot(merged_data['date'], \n",
    "         (merged_data['revenue_cummulative_b'] / merged_data['orders_cummulative_b']) /\n",
    "         (merged_data['revenue_cummulative_a'] / merged_data['orders_cummulative_a']) - 1)\n",
    "\n",
    "# Adding the X Axis\n",
    "plt.axhline(y=0, color='black', linestyle='--') \n",
    "\n",
    "plt.title('Relative change in the cumulative average check in groups')\n",
    "plt.ylabel('Average check amount');"
   ]
  },
  {
   "cell_type": "markdown",
   "metadata": {},
   "source": [
    "**Findings:**\n",
    "\n",
    "At several points, the graph of the difference between the segments fluctuates sharply. The data is heavily distorted by large orders and/or other outliers, so it is not yet possible to judge the test results. It will be necessary to \"clear\" the data."
   ]
  },
  {
   "cell_type": "markdown",
   "metadata": {},
   "source": [
    "<a id=\"avg_orders\"></a>\n",
    "\n",
    "#### 4.1.4 Average number of orders per user\n",
    "\n",
    "To check what exactly influenced the outliers in the data, we plot the cumulative average number of orders per visitor by groups. To do this, we calculate the cumulative number of visitors for each date for each of the A/B test groups."
   ]
  },
  {
   "cell_type": "code",
   "execution_count": 31,
   "metadata": {},
   "outputs": [],
   "source": [
    "# Cumulative conversion for group A - the average number of orders per user\n",
    "merged_data['conversion_a'] = (merged_data['orders_cummulative_a'] /\n",
    "                               merged_data['visitors_cummulative_a'])\n",
    "\n",
    "# Cumulative conversion for group B\n",
    "merged_data['conversion_b'] = (merged_data['orders_cummulative_b'] /\n",
    "                               merged_data['visitors_cummulative_b'])"
   ]
  },
  {
   "cell_type": "code",
   "execution_count": 32,
   "metadata": {},
   "outputs": [
    {
     "data": {
      "image/png": "[encoded data removed]",
      "text/plain": [
       "<Figure size 1080x720 with 1 Axes>"
      ]
     },
     "metadata": {
      "needs_background": "light"
     },
     "output_type": "display_data"
    }
   ],
   "source": [
    "# Set the grid size for charts\n",
    "plt.figure(figsize=(15, 10))\n",
    "\n",
    "# Graph of the cumulative average check for group A\n",
    "plt.plot(merged_data['date'], \n",
    "         merged_data['conversion_a'], \n",
    "         label='A')\n",
    "\n",
    "# Graph of the cumulative average check for group B\n",
    "plt.plot(merged_data['date'], \n",
    "         merged_data['conversion_b'], \n",
    "         label='B')\n",
    "\n",
    "# Set the scale of the axes\n",
    "plt.axis([dt.datetime.strptime('2019-07-31', '%Y-%m-%d').date(), \n",
    "          dt.datetime.strptime('2019-09-01', '%Y-%m-%d').date(), \n",
    "          0, \n",
    "          0.04]) \n",
    "\n",
    "plt.legend()\n",
    "plt.title('Cumulative average number of orders across A/B test groups')\n",
    "plt.ylabel('Average number of orders per user');"
   ]
  },
  {
   "cell_type": "markdown",
   "metadata": {},
   "source": [
    "**Findings:**\n",
    "\n",
    "The average number of orders per user becomes uniform towards the end of the test: fluctuate at the beginning of the month (due to the small amount of data at the beginning of the test, any outliers greatly affect the result, since the variance is larger), but by the second half of August, the indicators have settled down, and you can make a preliminary the conclusion is that for group B, the average number of orders per user is slightly higher."
   ]
  },
  {
   "cell_type": "markdown",
   "metadata": {},
   "source": [
    "<a id=\"avg_orders_relat\"></a>\n",
    "\n",
    "#### 4.1.5 Relative change in the cumulative average number of orders per visitor in groups"
   ]
  },
  {
   "cell_type": "code",
   "execution_count": 33,
   "metadata": {},
   "outputs": [
    {
     "data": {
      "image/png": "[encoded data removed]",
      "text/plain": [
       "<Figure size 1080x720 with 1 Axes>"
      ]
     },
     "metadata": {
      "needs_background": "light"
     },
     "output_type": "display_data"
    }
   ],
   "source": [
    "# Set the grid size for charts\n",
    "plt.figure(figsize=(15, 10))\n",
    "\n",
    "# Average checks relations\n",
    "plt.plot(merged_data['date'], \n",
    "         (merged_data['orders_cummulative_b'] / merged_data['visitors_cummulative_b']) /\n",
    "         (merged_data['orders_cummulative_a'] / merged_data['visitors_cummulative_a']) - 1)\n",
    "\n",
    "# Adding the X Axis\n",
    "plt.axhline(y=0, color='black', linestyle='--') \n",
    "plt.axhline(y=0.1, color='grey', linestyle='--')\n",
    "\n",
    "plt.title('Relative change in the cumulative average check of group B to group A')\n",
    "plt.ylabel('Average check amount');"
   ]
  },
  {
   "cell_type": "markdown",
   "metadata": {},
   "source": [
    "**Findings:**\n",
    "\n",
    "At the beginning of the test, group B was losing to group A, then pulled ahead. Closer to the end of the test, the cumulative average number of orders per visitor began to fluctuate around a value of + 10% relative to the indicator for group A.\n",
    "In general, the conversion ratio has not yet been established, and now it is not worth drawing any conclusions from the test. Perhaps working with outliers will change the picture."
   ]
  },
  {
   "cell_type": "markdown",
   "metadata": {},
   "source": [
    "<a id=\"outliers\"></a>\n",
    "\n",
    "### 4.2 Outliers analysis "
   ]
  },
  {
   "cell_type": "markdown",
   "metadata": {},
   "source": [
    "<a id=\"orders\"></a>\n",
    "\n",
    "#### 4.2.1 Number of orders per user"
   ]
  },
  {
   "cell_type": "code",
   "execution_count": 34,
   "metadata": {},
   "outputs": [
    {
     "data": {
      "text/html": [
       "<div>\n",
       "<style scoped>\n",
       "    .dataframe tbody tr th:only-of-type {\n",
       "        vertical-align: middle;\n",
       "    }\n",
       "\n",
       "    .dataframe tbody tr th {\n",
       "        vertical-align: top;\n",
       "    }\n",
       "\n",
       "    .dataframe thead th {\n",
       "        text-align: right;\n",
       "    }\n",
       "</style>\n",
       "<table border=\"1\" class=\"dataframe\">\n",
       "  <thead>\n",
       "    <tr style=\"text-align: right;\">\n",
       "      <th></th>\n",
       "      <th>visitor_id</th>\n",
       "      <th>orders</th>\n",
       "    </tr>\n",
       "  </thead>\n",
       "  <tbody>\n",
       "    <tr>\n",
       "      <th>866</th>\n",
       "      <td>4256040402</td>\n",
       "      <td>11</td>\n",
       "    </tr>\n",
       "    <tr>\n",
       "      <th>385</th>\n",
       "      <td>2458001652</td>\n",
       "      <td>11</td>\n",
       "    </tr>\n",
       "    <tr>\n",
       "      <th>361</th>\n",
       "      <td>2378935119</td>\n",
       "      <td>9</td>\n",
       "    </tr>\n",
       "    <tr>\n",
       "      <th>270</th>\n",
       "      <td>2038680547</td>\n",
       "      <td>8</td>\n",
       "    </tr>\n",
       "    <tr>\n",
       "      <th>557</th>\n",
       "      <td>3062433592</td>\n",
       "      <td>5</td>\n",
       "    </tr>\n",
       "    <tr>\n",
       "      <th>746</th>\n",
       "      <td>3803269165</td>\n",
       "      <td>5</td>\n",
       "    </tr>\n",
       "    <tr>\n",
       "      <th>726</th>\n",
       "      <td>3717692402</td>\n",
       "      <td>5</td>\n",
       "    </tr>\n",
       "    <tr>\n",
       "      <th>359</th>\n",
       "      <td>237748145</td>\n",
       "      <td>5</td>\n",
       "    </tr>\n",
       "    <tr>\n",
       "      <th>57</th>\n",
       "      <td>1230306981</td>\n",
       "      <td>5</td>\n",
       "    </tr>\n",
       "    <tr>\n",
       "      <th>258</th>\n",
       "      <td>199603092</td>\n",
       "      <td>5</td>\n",
       "    </tr>\n",
       "  </tbody>\n",
       "</table>\n",
       "</div>"
      ],
      "text/plain": [
       "     visitor_id  orders\n",
       "866  4256040402      11\n",
       "385  2458001652      11\n",
       "361  2378935119       9\n",
       "270  2038680547       8\n",
       "557  3062433592       5\n",
       "746  3803269165       5\n",
       "726  3717692402       5\n",
       "359   237748145       5\n",
       "57   1230306981       5\n",
       "258   199603092       5"
      ]
     },
     "execution_count": 34,
     "metadata": {},
     "output_type": "execute_result"
    }
   ],
   "source": [
    "# Count the number of orders per user\n",
    "orders_by_users = (\n",
    "    orders.groupby('visitor_id', as_index=False)\n",
    "    .agg({'transaction_id': 'nunique'})\n",
    ")\n",
    "\n",
    "# Adding meaningful column names\n",
    "orders_by_users.columns = ['visitor_id', 'orders']\n",
    "\n",
    "# First 10 rows of the dataset\n",
    "orders_by_users.sort_values(by='orders', ascending=False).head(10)"
   ]
  },
  {
   "cell_type": "markdown",
   "metadata": {},
   "source": [
    "It seems that most users do not make more than five orders. We will also build a dot plot of the number of orders by users to identify the boundary of emissions."
   ]
  },
  {
   "cell_type": "code",
   "execution_count": 35,
   "metadata": {},
   "outputs": [
    {
     "data": {
      "image/png": "[encoded data removed]",
      "text/plain": [
       "<Figure size 1080x720 with 1 Axes>"
      ]
     },
     "metadata": {
      "needs_background": "light"
     },
     "output_type": "display_data"
    }
   ],
   "source": [
    "# Set the grid size for charts\n",
    "plt.figure(figsize=(15, 10))\n",
    "\n",
    "# Set the values of the X axis - from zero to the number of records in the orders table\n",
    "x_values = pd.Series(range(0, len(orders_by_users)))\n",
    "\n",
    "# Scatter plot of the number of orders by users\n",
    "plt.scatter(x_values, orders_by_users['orders'])\n",
    "\n",
    "plt.title('Number of orders per user')\n",
    "plt.ylabel('The number of orders')\n",
    "plt.xlabel('User number');"
   ]
  },
  {
   "cell_type": "markdown",
   "metadata": {},
   "source": [
    "Most users did not make more than 6 orders. Let's check this statement by counting the 95th and 99th percentiles of the number of orders per user."
   ]
  },
  {
   "cell_type": "code",
   "execution_count": 36,
   "metadata": {},
   "outputs": [
    {
     "name": "stdout",
     "output_type": "stream",
     "text": [
      "[2. 4.]\n"
     ]
    }
   ],
   "source": [
    "print(np.percentile(orders_by_users['orders'], [95, 99]))"
   ]
  },
  {
   "cell_type": "markdown",
   "metadata": {},
   "source": [
    "No more than 5% of users have made more than 2 orders and no more than 1% - more than 4 orders.\n",
    "\n",
    "Since most of the users on the chart seem to have made between 1-5 orders, let's define the abnormal number of orders as more than 5, which corresponds to the 95-99th percentile."
   ]
  },
  {
   "cell_type": "code",
   "execution_count": 37,
   "metadata": {},
   "outputs": [
    {
     "data": {
      "text/plain": [
       "99.36954413191077"
      ]
     },
     "execution_count": 37,
     "metadata": {},
     "output_type": "execute_result"
    }
   ],
   "source": [
    "# What percentile is 5 orders per user?\n",
    "percentile = stats.percentileofscore(orders_by_users['orders'], 5)\n",
    "\n",
    "percentile"
   ]
  },
  {
   "cell_type": "code",
   "execution_count": 38,
   "metadata": {},
   "outputs": [
    {
     "data": {
      "text/plain": [
       "5.0"
      ]
     },
     "execution_count": 38,
     "metadata": {},
     "output_type": "execute_result"
    }
   ],
   "source": [
    "# Percentile value for outlier filtering\n",
    "percentile_orders = np.percentile(orders_by_users['orders'], percentile)\n",
    "\n",
    "percentile_orders"
   ]
  },
  {
   "cell_type": "markdown",
   "metadata": {},
   "source": [
    "Thus, we will limit the outliers to about the 99.4th percentile."
   ]
  },
  {
   "cell_type": "markdown",
   "metadata": {},
   "source": [
    "<a id=\"orders_cost\"></a>\n",
    "\n",
    "#### 4.2.2 Orders cost\n",
    "\n",
    "Let's build a dot plot of the cost of orders to identify the boundary of outliers."
   ]
  },
  {
   "cell_type": "code",
   "execution_count": 39,
   "metadata": {},
   "outputs": [
    {
     "data": {
      "image/png": "[encoded data removed]",
      "text/plain": [
       "<Figure size 1080x720 with 1 Axes>"
      ]
     },
     "metadata": {
      "needs_background": "light"
     },
     "output_type": "display_data"
    }
   ],
   "source": [
    "# Set the grid size for charts\n",
    "plt.figure(figsize=(15, 10))\n",
    "\n",
    "# Set the values of the X axis - from zero to the number of records in the orders table\n",
    "x_values = pd.Series(range(0, len(orders['revenue'])))\n",
    "\n",
    "# Scatter plot of the number of orders by users\n",
    "plt.scatter(x_values, orders['revenue'])\n",
    "\n",
    "plt.title('Order Cost Distribution')\n",
    "plt.ylabel('Order cost (in million)')\n",
    "plt.xlabel('User number');"
   ]
  },
  {
   "cell_type": "markdown",
   "metadata": {},
   "source": [
    "The data clearly shows an outlier around 1,250,000 per order. The remaining orders brought revenue several times less.\n",
    "\n",
    "This expensive order fell into one of the test groups and skewed the results. Purchases for such an amount are a rarity and an exception, which manifested itself not due to testing a hypothesis, but by chance.\n",
    "\n",
    "Let's calculate the 95th and 99th percentiles of the order value and choose a border to detect anomalous orders."
   ]
  },
  {
   "cell_type": "code",
   "execution_count": 40,
   "metadata": {
    "scrolled": true
   },
   "outputs": [
    {
     "name": "stdout",
     "output_type": "stream",
     "text": [
      "[28000.  58233.2]\n"
     ]
    }
   ],
   "source": [
    "print(np.percentile(orders['revenue'], [95, 99]))"
   ]
  },
  {
   "cell_type": "markdown",
   "metadata": {},
   "source": [
    "No more than 5% of orders are more expensive than 28 thousand and no more than 1% are more expensive than 58 thousand rubles.\n",
    "\n",
    "Since the majority of orders on the chart are within 20 thousand, we define the abnormal order amount as exceeding the 95th percentile."
   ]
  },
  {
   "cell_type": "code",
   "execution_count": 41,
   "metadata": {},
   "outputs": [
    {
     "data": {
      "text/plain": [
       "28000.000000000004"
      ]
     },
     "execution_count": 41,
     "metadata": {},
     "output_type": "execute_result"
    }
   ],
   "source": [
    "# Store the selected percentile value for outlier filtering\n",
    "percentile_revenue = np.percentile(orders['revenue'], 95)\n",
    "\n",
    "percentile_revenue"
   ]
  },
  {
   "cell_type": "markdown",
   "metadata": {},
   "source": [
    "<a id=\"hyp_test\"></a>\n",
    "\n",
    "\n",
    "### 4.3 Hypothesis testing"
   ]
  },
  {
   "cell_type": "markdown",
   "metadata": {},
   "source": [
    "<a id=\"raw_avg_check_diff\"></a>\n",
    "\n",
    "#### 4.3.1 Differences in the average order check between groups (\"raw\" data)\n",
    "\n",
    "Let's formulate and test hypotheses regarding differences in the average order receipt between groups according to \"raw\" data.\n",
    "\n",
    "To do this, we will conduct a non-parametric (since there are many outliers in the data) Wilcoxon-Mann-Whitney test about the equality of the means of two samples.\n",
    "\n",
    "The null hypothesis is always about the absence of differences, the first one is about their presence.\n",
    "\n",
    "```\n",
    "H_0: Average order receipts between A/B test groups are equal.\n",
    "H_1: Average order receipts between A/B test groups differ.\n",
    "\n",
    "alpha = 0.05\n",
    "```"
   ]
  },
  {
   "cell_type": "code",
   "execution_count": 42,
   "metadata": {},
   "outputs": [],
   "source": [
    "# Final sample for group A\n",
    "sample_a = orders[orders['group']=='A']['revenue']"
   ]
  },
  {
   "cell_type": "code",
   "execution_count": 43,
   "metadata": {},
   "outputs": [],
   "source": [
    "# Final sample for group B\n",
    "sample_b = orders[orders['group']=='B']['revenue']"
   ]
  },
  {
   "cell_type": "code",
   "execution_count": 44,
   "metadata": {},
   "outputs": [],
   "source": [
    "# The level of significance\n",
    "alpha = 0.05"
   ]
  },
  {
   "cell_type": "code",
   "execution_count": 45,
   "metadata": {},
   "outputs": [
    {
     "name": "stdout",
     "output_type": "stream",
     "text": [
      "p-value: 0.72929\n",
      "Relative growth: 0.259\n",
      "We cannot reject null hypothesis, the difference is NOT statistically significant\n"
     ]
    }
   ],
   "source": [
    "# Calling a Method to Test a Hypothesis\n",
    "results = st.mannwhitneyu(sample_a, sample_b)\n",
    "\n",
    "# p-value\n",
    "print('p-value:', '{0:.5f}'.format(results[1]))\n",
    "\n",
    "# Relative increase in the average number of orders of group B\n",
    "print('Relative growth:', \n",
    "      '{0:.3f}'.format(sample_b.mean() / sample_a.mean() - 1))\n",
    "\n",
    "# Conditional operator with the output of a string with the answer\n",
    "if results.pvalue < alpha:\n",
    "    print('We reject the null hypothesis: the difference is statistically significant')\n",
    "else:\n",
    "    print(\n",
    "        'We cannot reject null hypothesis, the difference is NOT statistically significant'\n",
    "    )"
   ]
  },
  {
   "cell_type": "markdown",
   "metadata": {},
   "source": [
    "**Findings:**\n",
    "\n",
    "p-value = 0.729, which is more than the given significance level of 0.05.\n",
    "\n",
    "Thus, the assumption that the average check per user did not change for group B could not be rejected. That is, the probability of an error in rejecting the null hypothesis (error of the first kind) is equal in our case to almost 73%. We have no reason to believe that the average checks differ for the two groups.\n",
    "\n",
    "Thus, based on \"raw\" data, we can conclude that in the new interface of the online store, the average check of users from group B has not changed. However, the average check of group B is significantly higher than the average check of group A (almost by 26%), but these differences are not statistically significant."
   ]
  },
  {
   "cell_type": "markdown",
   "metadata": {},
   "source": [
    "<a id=\"raw_order_num_diff\"></a>\n",
    "\n",
    "#### 4.3.2 Differences in the number of orders per user between groups (\"raw\" data)\n",
    "\n",
    "Let us formulate and test hypotheses regarding differences in the average number of orders per user between groups according to \"raw\" data.\n",
    "\n",
    "To do this, we will conduct a non-parametric (since there are many outliers in the data) Wilcoxon-Mann-Whitney test about the equality of the means of two samples.\n",
    "\n",
    "The null hypothesis is always about the absence of differences, the first one is about their presence.\n",
    "\n",
    "```\n",
    "H_0: Average orders per user are equal for both A/B test groups.\n",
    "H_1: Average orders per user differ.\n",
    "\n",
    "alpha = 0.05\n",
    "```\n",
    "\n",
    "To test the hypotheses, we will create two datasets `orders_by_users_a` and `orders_by_users_b`, in which we will collect all users who made at least one order, and also put zeros for users who did not order anything (their number is equal to the difference between the sum of visitors and the number of order records )."
   ]
  },
  {
   "cell_type": "code",
   "execution_count": 46,
   "metadata": {},
   "outputs": [],
   "source": [
    "# Number of orders for users in group A (only users with orders)\n",
    "orders_by_users_a = (\n",
    "    orders[orders['group'] == 'A']\n",
    "    .groupby('visitor_id', as_index=False)\n",
    "    .agg({'transaction_id': pd.Series.nunique})\n",
    ")\n",
    "\n",
    "# Adding meaningful column names\n",
    "orders_by_users_a.columns = ['visitor_id', 'orders']\n",
    "\n",
    "# Users who have not made any orders\n",
    "zero_orders_a = (\n",
    "    pd\n",
    "    .Series(0, \n",
    "            index=np.arange(merged_data['visitors_per_date_a'].sum() -\n",
    "                            len(orders_by_users_a['orders'])), \n",
    "            name='orders')\n",
    ")\n",
    "\n",
    "# Final sample - add users who have not made a single order to the dataset\n",
    "sample_a = pd.concat([orders_by_users_a['orders'], zero_orders_a], axis=0)"
   ]
  },
  {
   "cell_type": "code",
   "execution_count": 47,
   "metadata": {},
   "outputs": [],
   "source": [
    "# Number of orders for users in group B (only users with orders)\n",
    "orders_by_users_b = (\n",
    "    orders[orders['group'] == 'B']\n",
    "    .groupby('visitor_id', as_index=False)\n",
    "    .agg({'transaction_id': pd.Series.nunique})\n",
    ")\n",
    "\n",
    "# Adding meaningful column names\n",
    "orders_by_users_b.columns = ['visitor_id', 'orders']\n",
    "\n",
    "# Users who have not made any orders\n",
    "zero_orders_b = (\n",
    "    pd\n",
    "    .Series(0, \n",
    "            index=np.arange(merged_data['visitors_per_date_b'].sum() -\n",
    "                            len(orders_by_users_b['orders'])), \n",
    "            name='orders')\n",
    ")\n",
    "\n",
    "# Final sample - add users who have not made a single order to the dataset\n",
    "sample_b = pd.concat([orders_by_users_b['orders'], zero_orders_b], axis=0)"
   ]
  },
  {
   "cell_type": "code",
   "execution_count": 48,
   "metadata": {},
   "outputs": [],
   "source": [
    "# The level of significance\n",
    "alpha = 0.05  "
   ]
  },
  {
   "cell_type": "code",
   "execution_count": 49,
   "metadata": {},
   "outputs": [
    {
     "name": "stdout",
     "output_type": "stream",
     "text": [
      "p-value: 0.01679\n",
      "Relative growth: 0.138\n",
      "We reject the null hypothesis: the difference is statistically significant\n"
     ]
    }
   ],
   "source": [
    "# Calling a Method to Test a Hypothesis\n",
    "results = st.mannwhitneyu(sample_a, sample_b)\n",
    "\n",
    "# p-value\n",
    "print('p-value:', '{0:.5f}'.format(results[1]))\n",
    "\n",
    "# Relative increase in the average number of orders of group B\n",
    "print('Relative growth:', \n",
    "      '{0:.3f}'.format(sample_b.mean() / sample_a.mean() - 1))\n",
    "\n",
    "# Conditional operator with the output of a string with the answer\n",
    "if results.pvalue < alpha:\n",
    "    print('We reject the null hypothesis: the difference is statistically significant')\n",
    "else:\n",
    "    print(\n",
    "        'We cannot reject null hypothesis, the difference is NOT statistically significant'\n",
    "    )"
   ]
  },
  {
   "cell_type": "markdown",
   "metadata": {},
   "source": [
    "**Findings:**\n",
    "\n",
    "p-value = 0.017, which is less than the given significance level of 0.05.\n",
    "\n",
    "Thus, the assumption that the number of orders per user did not change for group B was rejected. That is, the probability of an error in rejecting the null hypothesis (error of the first kind) is equal in our case to 1.7%. Since this is quite small, we have reason to believe that the number of orders per user varies.\n",
    "\n",
    "Thus, on the \"raw\" data, we can conclude that in the new interface of the online store, users began to make 13.8% more orders."
   ]
  },
  {
   "cell_type": "markdown",
   "metadata": {},
   "source": [
    "<a id=\"cleaned_avg_check_diff\"></a>\n",
    "\n",
    "#### 4.3.3 Differences in the average order check between groups (\"cleaned\" data)\n",
    "\n",
    "Let us formulate and test hypotheses regarding the differences in the average check between groups according to the \"cleaned\" data.\n",
    "\n",
    "To do this, we will conduct the Wilcoxon-Mann-Whitney test to the obtained samples.\n",
    "\n",
    "\n",
    "```\n",
    "H_0: Average order receipts between A/B test groups are equal.\n",
    "H_1: Average order receipts between A/B test groups differ.\n",
    "\n",
    "alpha = 0.05\n",
    "```"
   ]
  },
  {
   "cell_type": "markdown",
   "metadata": {},
   "source": [
    "We recognized as anomalous users who made more than 5 orders and who made an order for more than 28 thousand. That is, we will remove about 1% of users with an abnormally large number of orders and from 1 to 5% of users with an abnormally high order receipt.\n",
    "\n",
    "Let's calculate how many users will not be included in the final sample."
   ]
  },
  {
   "cell_type": "code",
   "execution_count": 50,
   "metadata": {},
   "outputs": [],
   "source": [
    "# Users with an abnormally large number of orders\n",
    "users_with_many_orders = pd.concat(\n",
    "    [orders_by_users_a[orders_by_users_a['orders'] > percentile_orders]['visitor_id'],\n",
    "     orders_by_users_b[orders_by_users_b['orders'] > percentile_orders]['visitor_id']],\n",
    "    axis=0)\n",
    "\n",
    "# Users with abnormally expensive orders\n",
    "users_with_expensive_orders = orders[orders['revenue'] > percentile_revenue]['visitor_id']\n",
    "\n",
    "# \"Abnormal\" Users\n",
    "abnormal_users = (\n",
    "    pd.concat([users_with_many_orders, users_with_expensive_orders], axis=0)\n",
    "    .drop_duplicates()\n",
    "    .sort_values()\n",
    ")"
   ]
  },
  {
   "cell_type": "code",
   "execution_count": 51,
   "metadata": {},
   "outputs": [
    {
     "name": "stdout",
     "output_type": "stream",
     "text": [
      "58\n"
     ]
    },
    {
     "data": {
      "text/plain": [
       "1103    1164614297\n",
       "137     1211585711\n",
       "1136    1307669133\n",
       "858     1316129916\n",
       "421     1357170471\n",
       "Name: visitor_id, dtype: object"
      ]
     },
     "execution_count": 51,
     "metadata": {},
     "output_type": "execute_result"
    }
   ],
   "source": [
    "# Number of \"Abnormal\" users\n",
    "print(abnormal_users.shape[0]) \n",
    "\n",
    "# First 5 rows\n",
    "abnormal_users.head(5)"
   ]
  },
  {
   "cell_type": "markdown",
   "metadata": {},
   "source": [
    "There are 58 abnormal users in total.\n",
    "\n",
    "\n",
    "Let's find out how their actions influenced the test results. Let's calculate the statistical significance of the differences in the average order receipt between the groups of the A/B test according to the \"cleaned\" data.\n",
    "\n",
    "To do this, we will prepare samples of the number of orders per user by groups."
   ]
  },
  {
   "cell_type": "code",
   "execution_count": 52,
   "metadata": {},
   "outputs": [],
   "source": [
    "# Final sample for group A\n",
    "sample_a = (\n",
    "    orders[\n",
    "        np.logical_and(orders['group'] == 'A',\n",
    "                       np.logical_not(orders['visitor_id'].isin(abnormal_users)))\n",
    "    ]['revenue']\n",
    ")"
   ]
  },
  {
   "cell_type": "code",
   "execution_count": 53,
   "metadata": {},
   "outputs": [],
   "source": [
    "# Final sample for group B\n",
    "sample_b = (\n",
    "    orders[\n",
    "        np.logical_and(orders['group'] == 'B',\n",
    "                       np.logical_not(orders['visitor_id'].isin(abnormal_users)))\n",
    "    ]['revenue']\n",
    ")"
   ]
  },
  {
   "cell_type": "code",
   "execution_count": 54,
   "metadata": {},
   "outputs": [],
   "source": [
    "# The level of significance\n",
    "alpha = 0.05  "
   ]
  },
  {
   "cell_type": "code",
   "execution_count": 55,
   "metadata": {},
   "outputs": [
    {
     "name": "stdout",
     "output_type": "stream",
     "text": [
      "p-value: 0.89336\n",
      "Relative growth: -0.010\n",
      "We cannot reject null hypothesis, the difference is NOT statistically significant\n"
     ]
    }
   ],
   "source": [
    "# Calling a Method to Test a Hypothesis\n",
    "results = st.mannwhitneyu(sample_a, sample_b)\n",
    "\n",
    "# p-value\n",
    "print('p-value:', '{0:.5f}'.format(results[1]))\n",
    "\n",
    "# Relative increase in the average number of orders of group B\n",
    "print('Relative growth:', \n",
    "      '{0:.3f}'.format(sample_b.mean() / sample_a.mean() - 1))\n",
    "\n",
    "# Conditional operator with the output of a string with the answer\n",
    "if results.pvalue < alpha:\n",
    "    print('We reject the null hypothesis: the difference is statistically significant')\n",
    "else:\n",
    "    print(\n",
    "        'We cannot reject null hypothesis, the difference is NOT statistically significant'\n",
    "    )"
   ]
  },
  {
   "cell_type": "markdown",
   "metadata": {},
   "source": [
    "**Findings:**\n",
    "\n",
    "p-value = 0.893, which is much higher than the given significance level of 0.05.\n",
    "\n",
    "Thus, the assumption that the average check per user did not change for group B could not be rejected on the \"cleaned\" data. That is, the probability of error when rejecting the null hypothesis (error of the first kind) is 89%, that is, there is no reason to believe that the average check per user for group B is different from group A.\n",
    "\n",
    "Thus, on the \"cleaned\" data, we can conclude that in the new interface of the online store, the average check of users from group B has not changed compared to group A, that is, the conclusion has not changed for \"cleaned\" data compared to \"raw\". At the same time, group B shows \"negative growth\" - that is, a worse result than group A for \"clean\" data, while on raw data due to emissions, group B showed an increase of more than 1/4 of the average bill."
   ]
  },
  {
   "cell_type": "markdown",
   "metadata": {},
   "source": [
    "<a id=\"cleaned_order_num_diff\"></a>\n",
    "\n",
    "#### 4.3.4 Differences in the number of orders per user between groups (\"cleaned\" data)\n",
    "\n",
    "Let us formulate and test hypotheses regarding differences in the average number of orders per user between groups according to \"cleaned\" data.\n",
    "\n",
    "To do this, we will conduct the Wilcoxon-Mann-Whitney test to the obtained samples.\n",
    "\n",
    "The null hypothesis is always about the absence of differences, the first one is about their presence.\n",
    "\n",
    "```\n",
    "H_0: Average orders per user between A/B test groups are equal.\n",
    "H_1: Average orders per user between A/B test groups differ.\n",
    "\n",
    "alpha = 0.05\n",
    "```"
   ]
  },
  {
   "cell_type": "code",
   "execution_count": 56,
   "metadata": {},
   "outputs": [],
   "source": [
    "# Users who have not made a single order\n",
    "zero_orders_a = (\n",
    "    pd.Series(\n",
    "    0,\n",
    "    index=np.arange(merged_data['visitors_per_date_a'].sum() - len(orders_by_users_a['orders'])), \n",
    "    name='orders')\n",
    ")\n",
    "\n",
    "# Final sample for group A - added users who made 0 orders\n",
    "sample_a = (\n",
    "    pd\n",
    "    .concat(\n",
    "        [orders_by_users_a[np.logical_not(orders_by_users_a['visitor_id']\n",
    "                                          .isin(abnormal_users))]['orders'],\n",
    "         zero_orders_a],\n",
    "    axis=0)\n",
    ")"
   ]
  },
  {
   "cell_type": "code",
   "execution_count": 57,
   "metadata": {},
   "outputs": [],
   "source": [
    "# Users who have not made a single order\n",
    "zero_orders_b = (\n",
    "    pd.Series(\n",
    "    0,\n",
    "    index=np.arange(merged_data['visitors_per_date_b'].sum() - len(orders_by_users_b['orders'])), \n",
    "    name='orders')\n",
    ")\n",
    "\n",
    "# Final sample for group B - added users who made 0 orders\n",
    "sample_b = (\n",
    "    pd\n",
    "    .concat(\n",
    "        [orders_by_users_b[np.logical_not(orders_by_users_b['visitor_id']\n",
    "                                          .isin(abnormal_users))]['orders'],\n",
    "         zero_orders_b],\n",
    "    axis=0)\n",
    ")"
   ]
  },
  {
   "cell_type": "code",
   "execution_count": 58,
   "metadata": {},
   "outputs": [],
   "source": [
    "# The level of significance\n",
    "alpha = 0.05 "
   ]
  },
  {
   "cell_type": "code",
   "execution_count": 59,
   "metadata": {},
   "outputs": [
    {
     "name": "stdout",
     "output_type": "stream",
     "text": [
      "p-value: 0.01859\n",
      "Relative growth: 0.140\n",
      "We reject the null hypothesis: the difference is statistically significant\n"
     ]
    }
   ],
   "source": [
    "# Calling a Method to Test a Hypothesis\n",
    "results = st.mannwhitneyu(sample_a, sample_b)\n",
    "\n",
    "# p-value\n",
    "print('p-value:', '{0:.5f}'.format(results[1]))\n",
    "\n",
    "# Relative increase in the average number of orders of group B\n",
    "print('Relative growth:', \n",
    "      '{0:.3f}'.format(sample_b.mean() / sample_a.mean() - 1))\n",
    "\n",
    "# Conditional operator with the output of a string with the answer\n",
    "if results.pvalue < alpha:\n",
    "    print('We reject the null hypothesis: the difference is statistically significant')\n",
    "else:\n",
    "    print(\n",
    "        'We cannot reject null hypothesis, the difference is NOT statistically significant'\n",
    "    )"
   ]
  },
  {
   "cell_type": "markdown",
   "metadata": {},
   "source": [
    "**Findings:**\n",
    "\n",
    "p-value = 0.019, which is less than the given significance level of 0.05.\n",
    "\n",
    "Thus, the assumption that the number of orders per user did not change for group B was rejected. That is, the probability of an error in rejecting the null hypothesis (error of the first kind) is equal in our case to 1.9%. Since this is small enough, we have reason to believe that the number of orders per user for group B is different from group A.\n",
    "\n",
    "Thus, on the \"cleaned\" data, we can conclude that in the new interface of the online store, users began to make 14% more orders. That is, the result was \"confirmed\" on \"pure\" data too.\n",
    "\n",
    "It is worth noting that at a lower significance level alpha = 0.01, the null hypothesis would not be rejected."
   ]
  },
  {
   "cell_type": "markdown",
   "metadata": {},
   "source": [
    "<a id=\"conclusion\"></a>\n",
    "\n",
    "## 5. General conclusion"
   ]
  },
  {
   "cell_type": "markdown",
   "metadata": {},
   "source": [
    "**Project purpose:** prioritize hypotheses, run an A/B test, and make a decision based on the results.\n",
    "\n",
    "*Input data:*\n",
    "- a set of hypotheses, compiled jointly with the marketing department, and their evaluation using the ICE and RICE frameworks;\n",
    "- data on visits, orders and revenue of the online store divided into test groups from August 1 to August 31, 2019;\n",
    "- A/B test duration - 31 days; about 19 thousand observations were collected for each group.\n",
    "\n",
    "*Applying results:*\n",
    "- testing the most priority hypotheses in the first place;\n",
    "- making a decision to continue the A / B test or stop it and fix the results.\n",
    "\n",
    "*Research hypotheses:*\n",
    "\n",
    "- Hypothesis 1. The average check for group B will be significantly higher than for group A.\n",
    "- Hypothesis 2. The number of orders per user for group B will be significantly higher than for group A.\n",
    "\n",
    "**Results**\n",
    "\n",
    "1) The most promising hypotheses for testing are (in descending order of priority):\n",
    "\n",
    "- №7: `Добавить форму подписки на все основные страницы, чтобы собрать базу клиентов для email-рассылок` (затронет 100% пользователей);\n",
    "- №2: `Добавить блоки рекомендаций товаров на сайт интернет магазина, чтобы повысить конверсию и средний чек заказа`;\n",
    "- №0: `Добавить два новых канала привлечения трафика, что позволит привлекать на 30% больше пользователей`.\n",
    "\n",
    "These hypotheses have the highest priority according to the RICE methodology. The rest of the hypotheses scored significantly lower, with 1-4 points on reach, which corresponds to low coverage, and also scored low on impact and confidence, and/or scored high on efforts. That is, with a small impact and certainty of this impact on the user, a disproportionate amount of resources will be expended.\n",
    "Therefore, we can assume that the study of other hypotheses will not be appropriate.\n",
    "\n",
    "2) **Hypothesis 1 - not accepted**\n",
    "\n",
    "- Failed to reject the assumption about the equality of average checks for groups A and B (p-value = 0.89).\n",
    "- There is no reason to believe that the average check per user for group B is different from group A.\n",
    "- At the same time, group B shows a worse result than group A on data cleared of outliers (users with an abnormally large number of orders and an abnormally high check per order were removed), while on raw data (with outliers), group B showed an increase of more than 1/4 of the average check.\n",
    "\n",
    "\n",
    "3) **Hypothesis 2 - accepted**\n",
    "\n",
    "- It was possible to reject the assumption of the average number of orders per user for groups A and B (p-value = 0.02).\n",
    "- There is reason to believe that the number of orders per user for group B is different from group A.\n",
    "- On the \"cleaned\" data in the new interface of the online store, users began to make 14% more orders.\n",
    "- With a more rigorous test, the null hypothesis would not be rejected - more data would be needed for validation.\n",
    "\n",
    "\n",
    "**Recommendations**\n",
    "\n",
    "- Stop the test.\n",
    "- Record the victory of group B: users of the new interface began to make more orders on average.\n",
    "- Fix the absence of differences in the average bill of user orders for the two groups."
   ]
  }
 ],
 "metadata": {
  "ExecuteTimeLog": [
   {
    "duration": 832,
    "start_time": "2023-01-31T14:11:19.831Z"
   },
   {
    "duration": 225,
    "start_time": "2023-01-31T14:11:22.122Z"
   },
   {
    "duration": 30,
    "start_time": "2023-01-31T14:12:04.276Z"
   },
   {
    "duration": 106,
    "start_time": "2023-01-31T14:12:44.365Z"
   },
   {
    "duration": 81,
    "start_time": "2023-01-31T14:13:15.012Z"
   },
   {
    "duration": 19,
    "start_time": "2023-01-31T14:13:21.152Z"
   },
   {
    "duration": 25,
    "start_time": "2023-01-31T14:13:24.525Z"
   },
   {
    "duration": 11,
    "start_time": "2023-01-31T14:19:12.262Z"
   },
   {
    "duration": 13,
    "start_time": "2023-01-31T14:19:19.856Z"
   },
   {
    "duration": 19,
    "start_time": "2023-01-31T14:19:37.207Z"
   },
   {
    "duration": 15,
    "start_time": "2023-01-31T14:19:47.020Z"
   },
   {
    "duration": 11,
    "start_time": "2023-01-31T14:20:22.334Z"
   },
   {
    "duration": 13,
    "start_time": "2023-01-31T14:20:59.782Z"
   },
   {
    "duration": 10,
    "start_time": "2023-01-31T14:21:33.248Z"
   },
   {
    "duration": 13,
    "start_time": "2023-01-31T14:21:37.335Z"
   },
   {
    "duration": 104,
    "start_time": "2023-01-31T14:21:46.808Z"
   },
   {
    "duration": 20,
    "start_time": "2023-01-31T14:21:48.079Z"
   },
   {
    "duration": 26,
    "start_time": "2023-01-31T14:21:52.465Z"
   },
   {
    "duration": 9,
    "start_time": "2023-01-31T14:21:54.951Z"
   },
   {
    "duration": 15,
    "start_time": "2023-01-31T14:23:19.193Z"
   },
   {
    "duration": 76,
    "start_time": "2023-01-31T14:23:38.050Z"
   },
   {
    "duration": 20,
    "start_time": "2023-01-31T14:23:38.967Z"
   },
   {
    "duration": 29,
    "start_time": "2023-01-31T14:23:41.286Z"
   },
   {
    "duration": 15,
    "start_time": "2023-01-31T14:23:43.527Z"
   },
   {
    "duration": 15,
    "start_time": "2023-01-31T14:24:01.095Z"
   },
   {
    "duration": 11,
    "start_time": "2023-01-31T14:24:46.545Z"
   },
   {
    "duration": 77,
    "start_time": "2023-01-31T14:24:56.159Z"
   },
   {
    "duration": 26,
    "start_time": "2023-01-31T14:24:57.460Z"
   },
   {
    "duration": 31,
    "start_time": "2023-01-31T14:25:00.967Z"
   },
   {
    "duration": 27,
    "start_time": "2023-01-31T14:25:11.870Z"
   },
   {
    "duration": 10,
    "start_time": "2023-01-31T14:25:27.944Z"
   },
   {
    "duration": 3,
    "start_time": "2023-01-31T15:30:29.748Z"
   },
   {
    "duration": 481,
    "start_time": "2023-01-31T15:30:49.667Z"
   },
   {
    "duration": 75,
    "start_time": "2023-01-31T15:30:52.693Z"
   },
   {
    "duration": 23,
    "start_time": "2023-01-31T15:30:54.734Z"
   },
   {
    "duration": 31,
    "start_time": "2023-01-31T15:31:00.213Z"
   },
   {
    "duration": 8,
    "start_time": "2023-01-31T15:31:03.565Z"
   },
   {
    "duration": 22,
    "start_time": "2023-01-31T15:31:33.529Z"
   },
   {
    "duration": 33,
    "start_time": "2023-01-31T15:32:00.739Z"
   },
   {
    "duration": 20,
    "start_time": "2023-01-31T15:32:34.112Z"
   },
   {
    "duration": 18,
    "start_time": "2023-01-31T15:33:11.514Z"
   },
   {
    "duration": 10,
    "start_time": "2023-01-31T15:33:37.199Z"
   },
   {
    "duration": 62,
    "start_time": "2023-01-31T15:34:25.337Z"
   },
   {
    "duration": 13,
    "start_time": "2023-01-31T15:34:58.537Z"
   },
   {
    "duration": 16,
    "start_time": "2023-01-31T15:35:08.501Z"
   },
   {
    "duration": 13,
    "start_time": "2023-01-31T15:36:58.956Z"
   },
   {
    "duration": 15,
    "start_time": "2023-01-31T15:37:13.400Z"
   },
   {
    "duration": 13,
    "start_time": "2023-01-31T15:37:22.825Z"
   },
   {
    "duration": 11,
    "start_time": "2023-01-31T15:38:09.578Z"
   },
   {
    "duration": 7,
    "start_time": "2023-01-31T15:38:14.786Z"
   },
   {
    "duration": 5,
    "start_time": "2023-01-31T15:38:28.318Z"
   },
   {
    "duration": 174,
    "start_time": "2023-01-31T15:40:31.199Z"
   },
   {
    "duration": 268,
    "start_time": "2023-01-31T15:40:47.296Z"
   },
   {
    "duration": 263,
    "start_time": "2023-01-31T15:41:16.729Z"
   },
   {
    "duration": 167,
    "start_time": "2023-01-31T15:41:22.268Z"
   },
   {
    "duration": 12,
    "start_time": "2023-01-31T15:42:13.214Z"
   },
   {
    "duration": 8,
    "start_time": "2023-01-31T15:42:32.392Z"
   },
   {
    "duration": 6,
    "start_time": "2023-01-31T15:46:07.107Z"
   },
   {
    "duration": 6,
    "start_time": "2023-01-31T15:46:18.997Z"
   },
   {
    "duration": 5,
    "start_time": "2023-01-31T15:46:30.100Z"
   },
   {
    "duration": 5,
    "start_time": "2023-01-31T15:46:39.827Z"
   },
   {
    "duration": 5,
    "start_time": "2023-01-31T15:46:59.742Z"
   },
   {
    "duration": 6,
    "start_time": "2023-01-31T15:47:27.568Z"
   },
   {
    "duration": 4,
    "start_time": "2023-01-31T15:51:58.749Z"
   },
   {
    "duration": 7,
    "start_time": "2023-01-31T15:54:16.505Z"
   },
   {
    "duration": 11,
    "start_time": "2023-01-31T16:33:09.404Z"
   },
   {
    "duration": 10,
    "start_time": "2023-01-31T16:34:00.248Z"
   },
   {
    "duration": 10,
    "start_time": "2023-01-31T16:34:23.185Z"
   },
   {
    "duration": 11,
    "start_time": "2023-01-31T16:34:35.119Z"
   },
   {
    "duration": 57,
    "start_time": "2023-01-31T16:56:00.218Z"
   },
   {
    "duration": 9,
    "start_time": "2023-01-31T16:59:16.613Z"
   },
   {
    "duration": 19,
    "start_time": "2023-01-31T17:00:54.932Z"
   },
   {
    "duration": 14,
    "start_time": "2023-01-31T17:03:05.182Z"
   },
   {
    "duration": 5,
    "start_time": "2023-01-31T17:07:43.159Z"
   },
   {
    "duration": 49,
    "start_time": "2023-01-31T17:07:44.248Z"
   },
   {
    "duration": 10,
    "start_time": "2023-01-31T17:07:45.836Z"
   },
   {
    "duration": 55,
    "start_time": "2023-01-31T17:07:47.192Z"
   },
   {
    "duration": 15,
    "start_time": "2023-01-31T17:26:07.015Z"
   },
   {
    "duration": 28,
    "start_time": "2023-01-31T17:26:55.933Z"
   },
   {
    "duration": 18,
    "start_time": "2023-01-31T17:27:07.508Z"
   },
   {
    "duration": 23,
    "start_time": "2023-01-31T17:27:29.241Z"
   },
   {
    "duration": 55,
    "start_time": "2023-01-31T17:27:39.543Z"
   },
   {
    "duration": 6,
    "start_time": "2023-01-31T17:32:16.565Z"
   },
   {
    "duration": 49,
    "start_time": "2023-01-31T17:34:39.684Z"
   },
   {
    "duration": 6,
    "start_time": "2023-01-31T17:34:50.178Z"
   },
   {
    "duration": 23,
    "start_time": "2023-01-31T17:35:03.769Z"
   },
   {
    "duration": 48,
    "start_time": "2023-01-31T17:35:28.773Z"
   },
   {
    "duration": 16,
    "start_time": "2023-01-31T17:35:52.076Z"
   },
   {
    "duration": 52,
    "start_time": "2023-01-31T17:35:56.051Z"
   },
   {
    "duration": 15,
    "start_time": "2023-01-31T17:36:26.060Z"
   },
   {
    "duration": 17,
    "start_time": "2023-01-31T17:37:23.492Z"
   },
   {
    "duration": 61,
    "start_time": "2023-01-31T17:37:28.362Z"
   },
   {
    "duration": 31,
    "start_time": "2023-01-31T17:39:23.271Z"
   },
   {
    "duration": 34,
    "start_time": "2023-01-31T17:40:04.470Z"
   },
   {
    "duration": 33,
    "start_time": "2023-01-31T17:42:15.984Z"
   },
   {
    "duration": 1120,
    "start_time": "2023-02-01T10:59:31.102Z"
   },
   {
    "duration": 292,
    "start_time": "2023-02-01T10:59:32.225Z"
   },
   {
    "duration": 22,
    "start_time": "2023-02-01T10:59:32.519Z"
   },
   {
    "duration": 23,
    "start_time": "2023-02-01T10:59:32.544Z"
   },
   {
    "duration": 8,
    "start_time": "2023-02-01T10:59:32.568Z"
   },
   {
    "duration": 21,
    "start_time": "2023-02-01T10:59:32.578Z"
   },
   {
    "duration": 33,
    "start_time": "2023-02-01T10:59:32.600Z"
   },
   {
    "duration": 29,
    "start_time": "2023-02-01T10:59:32.635Z"
   },
   {
    "duration": 17,
    "start_time": "2023-02-01T10:59:32.666Z"
   },
   {
    "duration": 20,
    "start_time": "2023-02-01T10:59:32.686Z"
   },
   {
    "duration": 14,
    "start_time": "2023-02-01T10:59:32.707Z"
   },
   {
    "duration": 9,
    "start_time": "2023-02-01T10:59:32.722Z"
   },
   {
    "duration": 27,
    "start_time": "2023-02-01T10:59:32.732Z"
   },
   {
    "duration": 13,
    "start_time": "2023-02-01T10:59:32.761Z"
   },
   {
    "duration": 17,
    "start_time": "2023-02-01T10:59:32.775Z"
   },
   {
    "duration": 6,
    "start_time": "2023-02-01T10:59:32.793Z"
   },
   {
    "duration": 57,
    "start_time": "2023-02-01T10:59:32.800Z"
   },
   {
    "duration": 4,
    "start_time": "2023-02-01T10:59:32.859Z"
   },
   {
    "duration": 62,
    "start_time": "2023-02-01T10:59:32.865Z"
   },
   {
    "duration": 21,
    "start_time": "2023-02-01T10:59:32.929Z"
   },
   {
    "duration": 48,
    "start_time": "2023-02-01T10:59:32.952Z"
   },
   {
    "duration": 15,
    "start_time": "2023-02-01T10:59:33.002Z"
   },
   {
    "duration": 57,
    "start_time": "2023-02-01T10:59:33.019Z"
   },
   {
    "duration": 26,
    "start_time": "2023-02-01T10:59:33.078Z"
   },
   {
    "duration": 7,
    "start_time": "2023-02-01T11:12:07.848Z"
   },
   {
    "duration": 90,
    "start_time": "2023-02-01T11:12:27.715Z"
   },
   {
    "duration": 5,
    "start_time": "2023-02-01T11:12:30.090Z"
   },
   {
    "duration": 158,
    "start_time": "2023-02-01T11:12:31.093Z"
   },
   {
    "duration": 150,
    "start_time": "2023-02-01T11:13:30.944Z"
   },
   {
    "duration": 7,
    "start_time": "2023-02-01T11:14:00.685Z"
   },
   {
    "duration": 8,
    "start_time": "2023-02-01T11:14:32.693Z"
   },
   {
    "duration": 6,
    "start_time": "2023-02-01T11:25:56.893Z"
   },
   {
    "duration": 10,
    "start_time": "2023-02-01T11:25:58.102Z"
   },
   {
    "duration": 255,
    "start_time": "2023-02-01T11:26:03.904Z"
   },
   {
    "duration": 168,
    "start_time": "2023-02-01T11:26:07.142Z"
   },
   {
    "duration": 215,
    "start_time": "2023-02-01T11:26:30.208Z"
   },
   {
    "duration": 218,
    "start_time": "2023-02-01T11:29:09.355Z"
   },
   {
    "duration": 214,
    "start_time": "2023-02-01T11:30:00.565Z"
   },
   {
    "duration": 10,
    "start_time": "2023-02-01T11:35:09.942Z"
   },
   {
    "duration": 178,
    "start_time": "2023-02-01T11:35:57.900Z"
   },
   {
    "duration": 215,
    "start_time": "2023-02-01T11:36:17.035Z"
   },
   {
    "duration": 5,
    "start_time": "2023-02-01T11:43:56.318Z"
   },
   {
    "duration": 204,
    "start_time": "2023-02-01T11:46:30.208Z"
   },
   {
    "duration": 727,
    "start_time": "2023-02-01T11:46:52.758Z"
   },
   {
    "duration": 10,
    "start_time": "2023-02-01T11:47:12.110Z"
   },
   {
    "duration": 7,
    "start_time": "2023-02-01T11:47:24.839Z"
   },
   {
    "duration": 9,
    "start_time": "2023-02-01T11:47:26.402Z"
   },
   {
    "duration": 13,
    "start_time": "2023-02-01T11:47:36.617Z"
   },
   {
    "duration": 10,
    "start_time": "2023-02-01T11:47:38.751Z"
   },
   {
    "duration": 6,
    "start_time": "2023-02-01T11:47:44.208Z"
   },
   {
    "duration": 15,
    "start_time": "2023-02-01T11:47:45.509Z"
   },
   {
    "duration": 437,
    "start_time": "2023-02-01T11:47:52.289Z"
   },
   {
    "duration": 288,
    "start_time": "2023-02-01T11:48:00.704Z"
   },
   {
    "duration": 7,
    "start_time": "2023-02-01T12:00:59.697Z"
   },
   {
    "duration": 9,
    "start_time": "2023-02-01T12:01:12.049Z"
   },
   {
    "duration": 240,
    "start_time": "2023-02-01T12:06:05.405Z"
   },
   {
    "duration": 208,
    "start_time": "2023-02-01T12:06:15.733Z"
   },
   {
    "duration": 217,
    "start_time": "2023-02-01T12:09:09.350Z"
   },
   {
    "duration": 5,
    "start_time": "2023-02-01T12:16:13.871Z"
   },
   {
    "duration": 44,
    "start_time": "2023-02-01T12:16:15.596Z"
   },
   {
    "duration": 5,
    "start_time": "2023-02-01T12:16:17.040Z"
   },
   {
    "duration": 41,
    "start_time": "2023-02-01T12:16:18.542Z"
   },
   {
    "duration": 17,
    "start_time": "2023-02-01T12:16:22.516Z"
   },
   {
    "duration": 60,
    "start_time": "2023-02-01T12:16:25.320Z"
   },
   {
    "duration": 15,
    "start_time": "2023-02-01T12:16:30.265Z"
   },
   {
    "duration": 47,
    "start_time": "2023-02-01T12:16:33.635Z"
   },
   {
    "duration": 25,
    "start_time": "2023-02-01T12:17:40.008Z"
   },
   {
    "duration": 280,
    "start_time": "2023-02-01T12:18:45.641Z"
   },
   {
    "duration": 207,
    "start_time": "2023-02-01T12:18:51.313Z"
   },
   {
    "duration": 333,
    "start_time": "2023-02-01T12:19:59.012Z"
   },
   {
    "duration": 268,
    "start_time": "2023-02-01T12:22:25.759Z"
   },
   {
    "duration": 220,
    "start_time": "2023-02-01T12:23:26.360Z"
   },
   {
    "duration": 223,
    "start_time": "2023-02-01T12:25:02.142Z"
   },
   {
    "duration": 335,
    "start_time": "2023-02-01T12:26:06.609Z"
   },
   {
    "duration": 212,
    "start_time": "2023-02-01T12:26:33.356Z"
   },
   {
    "duration": 213,
    "start_time": "2023-02-01T12:28:30.516Z"
   },
   {
    "duration": 216,
    "start_time": "2023-02-01T12:28:49.545Z"
   },
   {
    "duration": 203,
    "start_time": "2023-02-01T12:31:41.158Z"
   },
   {
    "duration": 263,
    "start_time": "2023-02-01T12:31:55.313Z"
   },
   {
    "duration": 246,
    "start_time": "2023-02-01T12:32:55.115Z"
   },
   {
    "duration": 13,
    "start_time": "2023-02-01T12:33:21.352Z"
   },
   {
    "duration": 183,
    "start_time": "2023-02-01T12:33:30.058Z"
   },
   {
    "duration": 245,
    "start_time": "2023-02-01T12:33:39.812Z"
   },
   {
    "duration": 262,
    "start_time": "2023-02-01T12:33:53.968Z"
   },
   {
    "duration": 232,
    "start_time": "2023-02-01T12:34:05.028Z"
   },
   {
    "duration": 315,
    "start_time": "2023-02-01T12:34:15.671Z"
   },
   {
    "duration": 44,
    "start_time": "2023-02-01T12:46:04.822Z"
   },
   {
    "duration": 346,
    "start_time": "2023-02-01T12:47:11.358Z"
   },
   {
    "duration": 349,
    "start_time": "2023-02-01T12:47:25.540Z"
   },
   {
    "duration": 281,
    "start_time": "2023-02-01T12:47:33.102Z"
   },
   {
    "duration": 154,
    "start_time": "2023-02-01T12:56:06.238Z"
   },
   {
    "duration": 146,
    "start_time": "2023-02-01T12:56:11.131Z"
   },
   {
    "duration": 51,
    "start_time": "2023-02-01T13:46:01.778Z"
   },
   {
    "duration": 7,
    "start_time": "2023-02-01T13:48:33.486Z"
   },
   {
    "duration": 1209,
    "start_time": "2023-02-01T13:48:41.037Z"
   },
   {
    "duration": 298,
    "start_time": "2023-02-01T13:48:42.247Z"
   },
   {
    "duration": 23,
    "start_time": "2023-02-01T13:48:42.546Z"
   },
   {
    "duration": 25,
    "start_time": "2023-02-01T13:48:42.572Z"
   },
   {
    "duration": 10,
    "start_time": "2023-02-01T13:48:42.599Z"
   },
   {
    "duration": 53,
    "start_time": "2023-02-01T13:48:42.611Z"
   },
   {
    "duration": 29,
    "start_time": "2023-02-01T13:48:42.666Z"
   },
   {
    "duration": 23,
    "start_time": "2023-02-01T13:48:42.697Z"
   },
   {
    "duration": 31,
    "start_time": "2023-02-01T13:48:42.722Z"
   },
   {
    "duration": 9,
    "start_time": "2023-02-01T13:48:42.755Z"
   },
   {
    "duration": 14,
    "start_time": "2023-02-01T13:48:42.766Z"
   },
   {
    "duration": 11,
    "start_time": "2023-02-01T13:48:42.782Z"
   },
   {
    "duration": 14,
    "start_time": "2023-02-01T13:48:42.794Z"
   },
   {
    "duration": 11,
    "start_time": "2023-02-01T13:48:42.810Z"
   },
   {
    "duration": 10,
    "start_time": "2023-02-01T13:48:42.848Z"
   },
   {
    "duration": 4,
    "start_time": "2023-02-01T13:48:42.860Z"
   },
   {
    "duration": 52,
    "start_time": "2023-02-01T13:48:42.865Z"
   },
   {
    "duration": 4,
    "start_time": "2023-02-01T13:48:42.919Z"
   },
   {
    "duration": 66,
    "start_time": "2023-02-01T13:48:42.926Z"
   },
   {
    "duration": 14,
    "start_time": "2023-02-01T13:48:42.994Z"
   },
   {
    "duration": 65,
    "start_time": "2023-02-01T13:48:43.010Z"
   },
   {
    "duration": 15,
    "start_time": "2023-02-01T13:48:43.076Z"
   },
   {
    "duration": 68,
    "start_time": "2023-02-01T13:48:43.092Z"
   },
   {
    "duration": 39,
    "start_time": "2023-02-01T13:48:43.162Z"
   },
   {
    "duration": 375,
    "start_time": "2023-02-01T13:48:43.203Z"
   },
   {
    "duration": 262,
    "start_time": "2023-02-01T13:48:43.580Z"
   },
   {
    "duration": 413,
    "start_time": "2023-02-01T13:48:43.843Z"
   },
   {
    "duration": 7,
    "start_time": "2023-02-01T13:48:44.261Z"
   },
   {
    "duration": 286,
    "start_time": "2023-02-01T13:48:44.270Z"
   },
   {
    "duration": 338,
    "start_time": "2023-02-01T13:48:44.558Z"
   },
   {
    "duration": 176,
    "start_time": "2023-02-01T13:48:44.898Z"
   },
   {
    "duration": 5,
    "start_time": "2023-02-01T13:48:45.075Z"
   },
   {
    "duration": 188,
    "start_time": "2023-02-01T13:52:53.471Z"
   },
   {
    "duration": 53,
    "start_time": "2023-02-01T13:54:12.313Z"
   },
   {
    "duration": 41,
    "start_time": "2023-02-01T13:54:20.286Z"
   },
   {
    "duration": 13,
    "start_time": "2023-02-01T13:57:33.037Z"
   },
   {
    "duration": 16,
    "start_time": "2023-02-01T14:02:21.740Z"
   },
   {
    "duration": 174,
    "start_time": "2023-02-01T14:07:44.851Z"
   },
   {
    "duration": 5,
    "start_time": "2023-02-01T14:09:58.670Z"
   },
   {
    "duration": 5,
    "start_time": "2023-02-01T14:10:18.327Z"
   },
   {
    "duration": 13,
    "start_time": "2023-02-01T14:22:19.398Z"
   },
   {
    "duration": 13,
    "start_time": "2023-02-01T14:22:26.967Z"
   },
   {
    "duration": 1023,
    "start_time": "2023-02-01T14:46:01.063Z"
   },
   {
    "duration": 129,
    "start_time": "2023-02-01T14:46:02.088Z"
   },
   {
    "duration": 20,
    "start_time": "2023-02-01T14:46:02.219Z"
   },
   {
    "duration": 23,
    "start_time": "2023-02-01T14:46:02.241Z"
   },
   {
    "duration": 12,
    "start_time": "2023-02-01T14:46:02.266Z"
   },
   {
    "duration": 16,
    "start_time": "2023-02-01T14:46:02.280Z"
   },
   {
    "duration": 24,
    "start_time": "2023-02-01T14:46:02.298Z"
   },
   {
    "duration": 40,
    "start_time": "2023-02-01T14:46:02.323Z"
   },
   {
    "duration": 9,
    "start_time": "2023-02-01T14:46:02.364Z"
   },
   {
    "duration": 12,
    "start_time": "2023-02-01T14:46:02.376Z"
   },
   {
    "duration": 14,
    "start_time": "2023-02-01T14:46:02.390Z"
   },
   {
    "duration": 5,
    "start_time": "2023-02-01T14:46:02.405Z"
   },
   {
    "duration": 42,
    "start_time": "2023-02-01T14:46:02.411Z"
   },
   {
    "duration": 10,
    "start_time": "2023-02-01T14:46:02.454Z"
   },
   {
    "duration": 10,
    "start_time": "2023-02-01T14:46:02.465Z"
   },
   {
    "duration": 10,
    "start_time": "2023-02-01T14:46:02.476Z"
   },
   {
    "duration": 62,
    "start_time": "2023-02-01T14:46:02.487Z"
   },
   {
    "duration": 4,
    "start_time": "2023-02-01T14:46:02.550Z"
   },
   {
    "duration": 52,
    "start_time": "2023-02-01T14:46:02.556Z"
   },
   {
    "duration": 14,
    "start_time": "2023-02-01T14:46:02.610Z"
   },
   {
    "duration": 63,
    "start_time": "2023-02-01T14:46:02.626Z"
   },
   {
    "duration": 16,
    "start_time": "2023-02-01T14:46:02.691Z"
   },
   {
    "duration": 55,
    "start_time": "2023-02-01T14:46:02.708Z"
   },
   {
    "duration": 28,
    "start_time": "2023-02-01T14:46:02.765Z"
   },
   {
    "duration": 8,
    "start_time": "2023-02-01T14:46:02.795Z"
   },
   {
    "duration": 301,
    "start_time": "2023-02-01T14:46:02.805Z"
   },
   {
    "duration": 241,
    "start_time": "2023-02-01T14:46:03.107Z"
   },
   {
    "duration": 342,
    "start_time": "2023-02-01T14:46:03.352Z"
   },
   {
    "duration": 6,
    "start_time": "2023-02-01T14:46:03.695Z"
   },
   {
    "duration": 263,
    "start_time": "2023-02-01T14:46:03.703Z"
   },
   {
    "duration": 316,
    "start_time": "2023-02-01T14:46:03.968Z"
   },
   {
    "duration": 12,
    "start_time": "2023-02-01T14:46:04.286Z"
   },
   {
    "duration": 177,
    "start_time": "2023-02-01T14:46:04.299Z"
   },
   {
    "duration": 4,
    "start_time": "2023-02-01T14:46:04.478Z"
   },
   {
    "duration": 185,
    "start_time": "2023-02-01T14:46:04.484Z"
   },
   {
    "duration": 4,
    "start_time": "2023-02-01T14:46:04.670Z"
   },
   {
    "duration": 86,
    "start_time": "2023-02-01T14:46:04.676Z"
   },
   {
    "duration": 113,
    "start_time": "2023-02-01T14:46:04.764Z"
   },
   {
    "duration": 105,
    "start_time": "2023-02-01T14:46:04.878Z"
   },
   {
    "duration": 4,
    "start_time": "2023-02-01T14:46:31.692Z"
   },
   {
    "duration": 25,
    "start_time": "2023-02-01T14:46:45.000Z"
   },
   {
    "duration": 24,
    "start_time": "2023-02-01T14:47:14.209Z"
   },
   {
    "duration": 4,
    "start_time": "2023-02-01T15:03:51.844Z"
   },
   {
    "duration": 4,
    "start_time": "2023-02-01T15:03:53.356Z"
   },
   {
    "duration": 8,
    "start_time": "2023-02-01T15:04:03.634Z"
   },
   {
    "duration": 11,
    "start_time": "2023-02-01T15:36:21.394Z"
   },
   {
    "duration": 6,
    "start_time": "2023-02-01T15:45:50.633Z"
   },
   {
    "duration": 7,
    "start_time": "2023-02-01T15:45:54.422Z"
   },
   {
    "duration": 24,
    "start_time": "2023-02-01T15:51:56.707Z"
   },
   {
    "duration": 4,
    "start_time": "2023-02-01T16:03:38.803Z"
   },
   {
    "duration": 4,
    "start_time": "2023-02-01T16:03:39.910Z"
   },
   {
    "duration": 7,
    "start_time": "2023-02-01T16:03:41.330Z"
   },
   {
    "duration": 11,
    "start_time": "2023-02-01T16:06:23.028Z"
   },
   {
    "duration": 8,
    "start_time": "2023-02-01T16:10:14.704Z"
   },
   {
    "duration": 9,
    "start_time": "2023-02-01T16:10:22.338Z"
   },
   {
    "duration": 1077,
    "start_time": "2023-02-01T16:15:00.910Z"
   },
   {
    "duration": 145,
    "start_time": "2023-02-01T16:15:01.989Z"
   },
   {
    "duration": 22,
    "start_time": "2023-02-01T16:15:02.135Z"
   },
   {
    "duration": 25,
    "start_time": "2023-02-01T16:15:02.158Z"
   },
   {
    "duration": 16,
    "start_time": "2023-02-01T16:15:02.184Z"
   },
   {
    "duration": 34,
    "start_time": "2023-02-01T16:15:02.202Z"
   },
   {
    "duration": 118,
    "start_time": "2023-02-01T16:15:02.237Z"
   },
   {
    "duration": 22,
    "start_time": "2023-02-01T16:15:02.357Z"
   },
   {
    "duration": 10,
    "start_time": "2023-02-01T16:15:02.381Z"
   },
   {
    "duration": 10,
    "start_time": "2023-02-01T16:15:02.393Z"
   },
   {
    "duration": 11,
    "start_time": "2023-02-01T16:15:02.405Z"
   },
   {
    "duration": 33,
    "start_time": "2023-02-01T16:15:02.418Z"
   },
   {
    "duration": 13,
    "start_time": "2023-02-01T16:15:02.453Z"
   },
   {
    "duration": 10,
    "start_time": "2023-02-01T16:15:02.467Z"
   },
   {
    "duration": 23,
    "start_time": "2023-02-01T16:15:02.479Z"
   },
   {
    "duration": 14,
    "start_time": "2023-02-01T16:15:02.503Z"
   },
   {
    "duration": 56,
    "start_time": "2023-02-01T16:15:02.518Z"
   },
   {
    "duration": 5,
    "start_time": "2023-02-01T16:15:02.576Z"
   },
   {
    "duration": 58,
    "start_time": "2023-02-01T16:15:02.583Z"
   },
   {
    "duration": 17,
    "start_time": "2023-02-01T16:15:02.643Z"
   },
   {
    "duration": 49,
    "start_time": "2023-02-01T16:15:02.661Z"
   },
   {
    "duration": 13,
    "start_time": "2023-02-01T16:15:02.712Z"
   },
   {
    "duration": 65,
    "start_time": "2023-02-01T16:15:02.727Z"
   },
   {
    "duration": 23,
    "start_time": "2023-02-01T16:15:02.794Z"
   },
   {
    "duration": 10,
    "start_time": "2023-02-01T16:15:02.818Z"
   },
   {
    "duration": 331,
    "start_time": "2023-02-01T16:15:02.829Z"
   },
   {
    "duration": 237,
    "start_time": "2023-02-01T16:15:03.161Z"
   },
   {
    "duration": 332,
    "start_time": "2023-02-01T16:15:03.402Z"
   },
   {
    "duration": 7,
    "start_time": "2023-02-01T16:15:03.736Z"
   },
   {
    "duration": 269,
    "start_time": "2023-02-01T16:15:03.749Z"
   },
   {
    "duration": 362,
    "start_time": "2023-02-01T16:15:04.020Z"
   },
   {
    "duration": 12,
    "start_time": "2023-02-01T16:15:04.384Z"
   },
   {
    "duration": 174,
    "start_time": "2023-02-01T16:15:04.397Z"
   },
   {
    "duration": 4,
    "start_time": "2023-02-01T16:15:04.573Z"
   },
   {
    "duration": 194,
    "start_time": "2023-02-01T16:15:04.579Z"
   },
   {
    "duration": 4,
    "start_time": "2023-02-01T16:15:04.775Z"
   },
   {
    "duration": 18,
    "start_time": "2023-02-01T16:15:04.780Z"
   },
   {
    "duration": 9,
    "start_time": "2023-02-01T16:15:04.800Z"
   },
   {
    "duration": 13,
    "start_time": "2023-02-01T16:15:04.810Z"
   },
   {
    "duration": 84,
    "start_time": "2023-02-01T16:15:04.824Z"
   },
   {
    "duration": 98,
    "start_time": "2023-02-01T16:15:04.910Z"
   },
   {
    "duration": 24,
    "start_time": "2023-02-01T16:15:05.010Z"
   },
   {
    "duration": 20,
    "start_time": "2023-02-01T16:15:05.036Z"
   },
   {
    "duration": 14,
    "start_time": "2023-02-01T16:15:05.058Z"
   },
   {
    "duration": 9,
    "start_time": "2023-02-01T16:15:20.619Z"
   },
   {
    "duration": 7,
    "start_time": "2023-02-01T16:19:21.707Z"
   },
   {
    "duration": 7,
    "start_time": "2023-02-01T16:19:23.409Z"
   },
   {
    "duration": 25,
    "start_time": "2023-02-01T16:19:51.194Z"
   },
   {
    "duration": 102,
    "start_time": "2023-02-01T16:32:36.727Z"
   },
   {
    "duration": 5,
    "start_time": "2023-02-01T16:32:48.959Z"
   },
   {
    "duration": 4,
    "start_time": "2023-02-01T16:32:54.125Z"
   },
   {
    "duration": 4,
    "start_time": "2023-02-01T16:32:59.187Z"
   },
   {
    "duration": 3,
    "start_time": "2023-02-01T16:33:42.800Z"
   },
   {
    "duration": 3,
    "start_time": "2023-02-01T16:35:30.364Z"
   },
   {
    "duration": 4,
    "start_time": "2023-02-01T16:36:32.897Z"
   },
   {
    "duration": 4,
    "start_time": "2023-02-01T16:37:03.727Z"
   },
   {
    "duration": 4,
    "start_time": "2023-02-01T16:37:10.508Z"
   },
   {
    "duration": 4,
    "start_time": "2023-02-01T16:37:14.407Z"
   },
   {
    "duration": 5,
    "start_time": "2023-02-01T16:37:43.811Z"
   },
   {
    "duration": 1244,
    "start_time": "2023-02-02T09:35:17.057Z"
   },
   {
    "duration": 303,
    "start_time": "2023-02-02T09:35:26.515Z"
   },
   {
    "duration": 26,
    "start_time": "2023-02-02T09:35:31.181Z"
   },
   {
    "duration": 26,
    "start_time": "2023-02-02T09:35:37.939Z"
   },
   {
    "duration": 9,
    "start_time": "2023-02-02T09:36:00.852Z"
   },
   {
    "duration": 8,
    "start_time": "2023-02-02T09:36:33.468Z"
   },
   {
    "duration": 16,
    "start_time": "2023-02-02T09:36:41.341Z"
   },
   {
    "duration": 26,
    "start_time": "2023-02-02T09:36:41.359Z"
   },
   {
    "duration": 20,
    "start_time": "2023-02-02T09:36:41.387Z"
   },
   {
    "duration": 12,
    "start_time": "2023-02-02T09:36:41.410Z"
   },
   {
    "duration": 14,
    "start_time": "2023-02-02T09:36:41.423Z"
   },
   {
    "duration": 59,
    "start_time": "2023-02-02T09:36:41.439Z"
   },
   {
    "duration": 6,
    "start_time": "2023-02-02T09:36:41.500Z"
   },
   {
    "duration": 13,
    "start_time": "2023-02-02T09:36:41.508Z"
   },
   {
    "duration": 11,
    "start_time": "2023-02-02T09:36:41.523Z"
   },
   {
    "duration": 10,
    "start_time": "2023-02-02T09:36:41.538Z"
   },
   {
    "duration": 42,
    "start_time": "2023-02-02T09:36:41.550Z"
   },
   {
    "duration": 53,
    "start_time": "2023-02-02T09:36:41.594Z"
   },
   {
    "duration": 4,
    "start_time": "2023-02-02T09:36:41.649Z"
   },
   {
    "duration": 59,
    "start_time": "2023-02-02T09:36:41.655Z"
   },
   {
    "duration": 20,
    "start_time": "2023-02-02T09:36:41.716Z"
   },
   {
    "duration": 65,
    "start_time": "2023-02-02T09:36:41.737Z"
   },
   {
    "duration": 13,
    "start_time": "2023-02-02T09:36:41.803Z"
   },
   {
    "duration": 49,
    "start_time": "2023-02-02T09:36:41.817Z"
   },
   {
    "duration": 39,
    "start_time": "2023-02-02T09:36:41.867Z"
   },
   {
    "duration": 10,
    "start_time": "2023-02-02T09:36:41.908Z"
   },
   {
    "duration": 324,
    "start_time": "2023-02-02T09:36:41.919Z"
   },
   {
    "duration": 226,
    "start_time": "2023-02-02T09:36:42.244Z"
   },
   {
    "duration": 396,
    "start_time": "2023-02-02T09:36:42.471Z"
   },
   {
    "duration": 5,
    "start_time": "2023-02-02T09:36:42.869Z"
   },
   {
    "duration": 261,
    "start_time": "2023-02-02T09:36:42.876Z"
   },
   {
    "duration": 329,
    "start_time": "2023-02-02T09:36:43.144Z"
   },
   {
    "duration": 25,
    "start_time": "2023-02-02T09:36:43.474Z"
   },
   {
    "duration": 179,
    "start_time": "2023-02-02T09:36:43.503Z"
   },
   {
    "duration": 10,
    "start_time": "2023-02-02T09:36:43.684Z"
   },
   {
    "duration": 201,
    "start_time": "2023-02-02T09:36:43.696Z"
   },
   {
    "duration": 4,
    "start_time": "2023-02-02T09:36:43.899Z"
   },
   {
    "duration": 9,
    "start_time": "2023-02-02T09:36:43.904Z"
   },
   {
    "duration": 6,
    "start_time": "2023-02-02T09:36:43.915Z"
   },
   {
    "duration": 10,
    "start_time": "2023-02-02T09:36:43.923Z"
   },
   {
    "duration": 100,
    "start_time": "2023-02-02T09:36:43.934Z"
   },
   {
    "duration": 92,
    "start_time": "2023-02-02T09:36:44.036Z"
   },
   {
    "duration": 23,
    "start_time": "2023-02-02T09:36:44.130Z"
   },
   {
    "duration": 11,
    "start_time": "2023-02-02T09:36:44.155Z"
   },
   {
    "duration": 27,
    "start_time": "2023-02-02T09:36:44.168Z"
   },
   {
    "duration": 15,
    "start_time": "2023-02-02T09:36:44.197Z"
   },
   {
    "duration": 16,
    "start_time": "2023-02-02T09:36:44.214Z"
   },
   {
    "duration": 7,
    "start_time": "2023-02-02T09:36:44.231Z"
   },
   {
    "duration": 28,
    "start_time": "2023-02-02T09:36:44.240Z"
   },
   {
    "duration": 3,
    "start_time": "2023-02-02T09:36:44.270Z"
   },
   {
    "duration": 888,
    "start_time": "2023-02-02T09:48:22.569Z"
   },
   {
    "duration": 1084,
    "start_time": "2023-02-02T09:48:29.958Z"
   },
   {
    "duration": 3,
    "start_time": "2023-02-02T09:48:51.982Z"
   },
   {
    "duration": 5,
    "start_time": "2023-02-02T09:48:59.352Z"
   },
   {
    "duration": 1004,
    "start_time": "2023-02-02T09:49:11.597Z"
   },
   {
    "duration": 783,
    "start_time": "2023-02-02T09:49:18.570Z"
   },
   {
    "duration": 9,
    "start_time": "2023-02-02T09:49:29.081Z"
   },
   {
    "duration": 13,
    "start_time": "2023-02-02T09:56:16.813Z"
   },
   {
    "duration": 14,
    "start_time": "2023-02-02T09:59:15.986Z"
   },
   {
    "duration": 350,
    "start_time": "2023-02-02T10:22:28.261Z"
   },
   {
    "duration": 4,
    "start_time": "2023-02-02T10:36:16.162Z"
   },
   {
    "duration": 96,
    "start_time": "2023-02-02T10:36:16.168Z"
   },
   {
    "duration": 24,
    "start_time": "2023-02-02T10:36:16.266Z"
   },
   {
    "duration": 31,
    "start_time": "2023-02-02T10:36:16.293Z"
   },
   {
    "duration": 11,
    "start_time": "2023-02-02T10:36:16.326Z"
   },
   {
    "duration": 47,
    "start_time": "2023-02-02T10:36:16.339Z"
   },
   {
    "duration": 49,
    "start_time": "2023-02-02T10:36:16.388Z"
   },
   {
    "duration": 35,
    "start_time": "2023-02-02T10:36:16.439Z"
   },
   {
    "duration": 11,
    "start_time": "2023-02-02T10:36:16.477Z"
   },
   {
    "duration": 17,
    "start_time": "2023-02-02T10:36:16.492Z"
   },
   {
    "duration": 27,
    "start_time": "2023-02-02T10:36:16.510Z"
   },
   {
    "duration": 7,
    "start_time": "2023-02-02T10:36:16.539Z"
   },
   {
    "duration": 21,
    "start_time": "2023-02-02T10:36:16.547Z"
   },
   {
    "duration": 14,
    "start_time": "2023-02-02T10:36:16.570Z"
   },
   {
    "duration": 13,
    "start_time": "2023-02-02T10:36:16.586Z"
   },
   {
    "duration": 7,
    "start_time": "2023-02-02T10:36:16.601Z"
   },
   {
    "duration": 56,
    "start_time": "2023-02-02T10:36:16.609Z"
   },
   {
    "duration": 8,
    "start_time": "2023-02-02T10:36:16.667Z"
   },
   {
    "duration": 57,
    "start_time": "2023-02-02T10:36:16.676Z"
   },
   {
    "duration": 42,
    "start_time": "2023-02-02T10:36:16.735Z"
   },
   {
    "duration": 65,
    "start_time": "2023-02-02T10:36:16.778Z"
   },
   {
    "duration": 15,
    "start_time": "2023-02-02T10:36:16.845Z"
   },
   {
    "duration": 50,
    "start_time": "2023-02-02T10:36:16.862Z"
   },
   {
    "duration": 20,
    "start_time": "2023-02-02T10:36:16.915Z"
   },
   {
    "duration": 30,
    "start_time": "2023-02-02T10:36:16.937Z"
   },
   {
    "duration": 252,
    "start_time": "2023-02-02T10:36:16.969Z"
   },
   {
    "duration": 313,
    "start_time": "2023-02-02T10:36:17.223Z"
   },
   {
    "duration": 328,
    "start_time": "2023-02-02T10:36:17.537Z"
   },
   {
    "duration": 5,
    "start_time": "2023-02-02T10:36:17.866Z"
   },
   {
    "duration": 243,
    "start_time": "2023-02-02T10:36:17.872Z"
   },
   {
    "duration": 330,
    "start_time": "2023-02-02T10:36:18.117Z"
   },
   {
    "duration": 14,
    "start_time": "2023-02-02T10:36:18.448Z"
   },
   {
    "duration": 182,
    "start_time": "2023-02-02T10:36:18.463Z"
   },
   {
    "duration": 5,
    "start_time": "2023-02-02T10:36:18.647Z"
   },
   {
    "duration": 196,
    "start_time": "2023-02-02T10:36:18.653Z"
   },
   {
    "duration": 5,
    "start_time": "2023-02-02T10:36:18.851Z"
   },
   {
    "duration": 5,
    "start_time": "2023-02-02T10:36:26.330Z"
   },
   {
    "duration": 4,
    "start_time": "2023-02-02T10:36:27.424Z"
   },
   {
    "duration": 3,
    "start_time": "2023-02-02T10:36:28.322Z"
   },
   {
    "duration": 8,
    "start_time": "2023-02-02T10:36:29.923Z"
   },
   {
    "duration": 92,
    "start_time": "2023-02-02T10:36:36.846Z"
   },
   {
    "duration": 83,
    "start_time": "2023-02-02T10:36:39.430Z"
   },
   {
    "duration": 3,
    "start_time": "2023-02-02T10:36:41.733Z"
   },
   {
    "duration": 24,
    "start_time": "2023-02-02T10:36:43.657Z"
   },
   {
    "duration": 9,
    "start_time": "2023-02-02T10:36:47.904Z"
   },
   {
    "duration": 5,
    "start_time": "2023-02-02T10:36:50.054Z"
   },
   {
    "duration": 5,
    "start_time": "2023-02-02T10:36:52.045Z"
   },
   {
    "duration": 6,
    "start_time": "2023-02-02T10:36:53.831Z"
   },
   {
    "duration": 3,
    "start_time": "2023-02-02T10:36:55.556Z"
   },
   {
    "duration": 7,
    "start_time": "2023-02-02T10:36:57.041Z"
   },
   {
    "duration": 181,
    "start_time": "2023-02-02T10:48:02.283Z"
   },
   {
    "duration": 281,
    "start_time": "2023-02-02T10:48:24.837Z"
   },
   {
    "duration": 5,
    "start_time": "2023-02-02T10:48:28.057Z"
   },
   {
    "duration": 5,
    "start_time": "2023-02-02T10:48:29.793Z"
   },
   {
    "duration": 9,
    "start_time": "2023-02-02T10:48:34.333Z"
   },
   {
    "duration": 234,
    "start_time": "2023-02-02T10:49:06.891Z"
   },
   {
    "duration": 1557,
    "start_time": "2023-02-02T10:50:02.936Z"
   },
   {
    "duration": 290,
    "start_time": "2023-02-02T10:51:22.110Z"
   },
   {
    "duration": 6,
    "start_time": "2023-02-02T10:51:24.421Z"
   },
   {
    "duration": 5,
    "start_time": "2023-02-02T10:51:25.933Z"
   },
   {
    "duration": 225,
    "start_time": "2023-02-02T10:51:27.081Z"
   },
   {
    "duration": 14,
    "start_time": "2023-02-02T10:52:11.927Z"
   },
   {
    "duration": 9,
    "start_time": "2023-02-02T10:52:19.080Z"
   },
   {
    "duration": 4757,
    "start_time": "2023-02-02T10:52:30.606Z"
   },
   {
    "duration": 12,
    "start_time": "2023-02-02T10:52:35.365Z"
   },
   {
    "duration": 281,
    "start_time": "2023-02-02T10:53:01.651Z"
   },
   {
    "duration": 5,
    "start_time": "2023-02-02T10:53:03.908Z"
   },
   {
    "duration": 4,
    "start_time": "2023-02-02T10:53:05.252Z"
   },
   {
    "duration": 221,
    "start_time": "2023-02-02T10:53:06.732Z"
   },
   {
    "duration": 14,
    "start_time": "2023-02-02T10:54:01.808Z"
   },
   {
    "duration": 232,
    "start_time": "2023-02-02T10:55:37.472Z"
   },
   {
    "duration": 12,
    "start_time": "2023-02-02T10:56:15.658Z"
   },
   {
    "duration": 263,
    "start_time": "2023-02-02T10:56:41.111Z"
   },
   {
    "duration": 3,
    "start_time": "2023-02-02T10:59:09.347Z"
   },
   {
    "duration": 8,
    "start_time": "2023-02-02T10:59:10.747Z"
   },
   {
    "duration": 1139,
    "start_time": "2023-02-02T10:59:30.529Z"
   },
   {
    "duration": 130,
    "start_time": "2023-02-02T10:59:31.670Z"
   },
   {
    "duration": 23,
    "start_time": "2023-02-02T10:59:31.802Z"
   },
   {
    "duration": 28,
    "start_time": "2023-02-02T10:59:31.827Z"
   },
   {
    "duration": 9,
    "start_time": "2023-02-02T10:59:31.857Z"
   },
   {
    "duration": 43,
    "start_time": "2023-02-02T10:59:31.868Z"
   },
   {
    "duration": 40,
    "start_time": "2023-02-02T10:59:31.913Z"
   },
   {
    "duration": 39,
    "start_time": "2023-02-02T10:59:31.955Z"
   },
   {
    "duration": 24,
    "start_time": "2023-02-02T10:59:31.996Z"
   },
   {
    "duration": 14,
    "start_time": "2023-02-02T10:59:32.023Z"
   },
   {
    "duration": 17,
    "start_time": "2023-02-02T10:59:32.038Z"
   },
   {
    "duration": 15,
    "start_time": "2023-02-02T10:59:32.057Z"
   },
   {
    "duration": 34,
    "start_time": "2023-02-02T10:59:32.074Z"
   },
   {
    "duration": 14,
    "start_time": "2023-02-02T10:59:32.110Z"
   },
   {
    "duration": 28,
    "start_time": "2023-02-02T10:59:32.125Z"
   },
   {
    "duration": 13,
    "start_time": "2023-02-02T10:59:32.155Z"
   },
   {
    "duration": 78,
    "start_time": "2023-02-02T10:59:32.169Z"
   },
   {
    "duration": 10,
    "start_time": "2023-02-02T10:59:32.249Z"
   },
   {
    "duration": 52,
    "start_time": "2023-02-02T10:59:32.261Z"
   },
   {
    "duration": 25,
    "start_time": "2023-02-02T10:59:32.315Z"
   },
   {
    "duration": 61,
    "start_time": "2023-02-02T10:59:32.342Z"
   },
   {
    "duration": 18,
    "start_time": "2023-02-02T10:59:32.405Z"
   },
   {
    "duration": 78,
    "start_time": "2023-02-02T10:59:32.425Z"
   },
   {
    "duration": 36,
    "start_time": "2023-02-02T10:59:32.505Z"
   },
   {
    "duration": 12,
    "start_time": "2023-02-02T10:59:32.543Z"
   },
   {
    "duration": 350,
    "start_time": "2023-02-02T10:59:32.556Z"
   },
   {
    "duration": 275,
    "start_time": "2023-02-02T10:59:32.908Z"
   },
   {
    "duration": 352,
    "start_time": "2023-02-02T10:59:33.195Z"
   },
   {
    "duration": 5,
    "start_time": "2023-02-02T10:59:33.549Z"
   },
   {
    "duration": 295,
    "start_time": "2023-02-02T10:59:33.556Z"
   },
   {
    "duration": 342,
    "start_time": "2023-02-02T10:59:33.853Z"
   },
   {
    "duration": 15,
    "start_time": "2023-02-02T10:59:34.197Z"
   },
   {
    "duration": 190,
    "start_time": "2023-02-02T10:59:34.214Z"
   },
   {
    "duration": 6,
    "start_time": "2023-02-02T10:59:34.405Z"
   },
   {
    "duration": 220,
    "start_time": "2023-02-02T10:59:34.413Z"
   },
   {
    "duration": 5,
    "start_time": "2023-02-02T10:59:34.635Z"
   },
   {
    "duration": 28,
    "start_time": "2023-02-02T10:59:34.642Z"
   },
   {
    "duration": 23,
    "start_time": "2023-02-02T10:59:34.672Z"
   },
   {
    "duration": 13,
    "start_time": "2023-02-02T10:59:34.697Z"
   },
   {
    "duration": 10,
    "start_time": "2023-02-02T10:59:34.711Z"
   },
   {
    "duration": 91,
    "start_time": "2023-02-02T10:59:34.722Z"
   },
   {
    "duration": 93,
    "start_time": "2023-02-02T10:59:34.815Z"
   },
   {
    "duration": 3,
    "start_time": "2023-02-02T10:59:34.910Z"
   },
   {
    "duration": 26,
    "start_time": "2023-02-02T10:59:34.915Z"
   },
   {
    "duration": 7,
    "start_time": "2023-02-02T10:59:34.943Z"
   },
   {
    "duration": 27,
    "start_time": "2023-02-02T10:59:34.952Z"
   },
   {
    "duration": 12,
    "start_time": "2023-02-02T10:59:34.980Z"
   },
   {
    "duration": 7,
    "start_time": "2023-02-02T10:59:34.994Z"
   },
   {
    "duration": 8,
    "start_time": "2023-02-02T10:59:35.003Z"
   },
   {
    "duration": 12,
    "start_time": "2023-02-02T10:59:35.013Z"
   },
   {
    "duration": 34,
    "start_time": "2023-02-02T10:59:35.027Z"
   },
   {
    "duration": 34,
    "start_time": "2023-02-02T10:59:35.062Z"
   },
   {
    "duration": 16,
    "start_time": "2023-02-02T10:59:35.098Z"
   },
   {
    "duration": 26,
    "start_time": "2023-02-02T10:59:35.116Z"
   },
   {
    "duration": 5,
    "start_time": "2023-02-02T10:59:35.143Z"
   },
   {
    "duration": 12,
    "start_time": "2023-02-02T11:05:37.496Z"
   },
   {
    "duration": 12,
    "start_time": "2023-02-02T11:07:47.211Z"
   },
   {
    "duration": 13,
    "start_time": "2023-02-02T11:34:56.414Z"
   },
   {
    "duration": 8,
    "start_time": "2023-02-02T11:45:47.677Z"
   },
   {
    "duration": 14,
    "start_time": "2023-02-02T11:46:36.041Z"
   },
   {
    "duration": 10,
    "start_time": "2023-02-02T11:46:41.983Z"
   },
   {
    "duration": 10,
    "start_time": "2023-02-02T11:47:02.175Z"
   },
   {
    "duration": 1041,
    "start_time": "2023-02-02T11:53:18.919Z"
   },
   {
    "duration": 267,
    "start_time": "2023-02-02T11:53:19.961Z"
   },
   {
    "duration": 24,
    "start_time": "2023-02-02T11:53:20.230Z"
   },
   {
    "duration": 25,
    "start_time": "2023-02-02T11:53:20.256Z"
   },
   {
    "duration": 7,
    "start_time": "2023-02-02T11:53:20.283Z"
   },
   {
    "duration": 26,
    "start_time": "2023-02-02T11:53:20.292Z"
   },
   {
    "duration": 32,
    "start_time": "2023-02-02T11:53:20.320Z"
   },
   {
    "duration": 20,
    "start_time": "2023-02-02T11:53:20.353Z"
   },
   {
    "duration": 25,
    "start_time": "2023-02-02T11:53:20.374Z"
   },
   {
    "duration": 15,
    "start_time": "2023-02-02T11:53:20.402Z"
   },
   {
    "duration": 13,
    "start_time": "2023-02-02T11:53:20.419Z"
   },
   {
    "duration": 5,
    "start_time": "2023-02-02T11:53:20.434Z"
   },
   {
    "duration": 14,
    "start_time": "2023-02-02T11:53:20.440Z"
   },
   {
    "duration": 41,
    "start_time": "2023-02-02T11:53:20.456Z"
   },
   {
    "duration": 11,
    "start_time": "2023-02-02T11:53:20.498Z"
   },
   {
    "duration": 7,
    "start_time": "2023-02-02T11:53:20.510Z"
   },
   {
    "duration": 52,
    "start_time": "2023-02-02T11:53:20.519Z"
   },
   {
    "duration": 20,
    "start_time": "2023-02-02T11:53:20.573Z"
   },
   {
    "duration": 51,
    "start_time": "2023-02-02T11:53:20.595Z"
   },
   {
    "duration": 14,
    "start_time": "2023-02-02T11:53:20.648Z"
   },
   {
    "duration": 72,
    "start_time": "2023-02-02T11:53:20.664Z"
   },
   {
    "duration": 17,
    "start_time": "2023-02-02T11:53:20.738Z"
   },
   {
    "duration": 70,
    "start_time": "2023-02-02T11:53:20.757Z"
   },
   {
    "duration": 19,
    "start_time": "2023-02-02T11:53:20.829Z"
   },
   {
    "duration": 11,
    "start_time": "2023-02-02T11:53:20.850Z"
   },
   {
    "duration": 325,
    "start_time": "2023-02-02T11:53:20.863Z"
   },
   {
    "duration": 255,
    "start_time": "2023-02-02T11:53:21.192Z"
   },
   {
    "duration": 341,
    "start_time": "2023-02-02T11:53:21.451Z"
   },
   {
    "duration": 6,
    "start_time": "2023-02-02T11:53:21.793Z"
   },
   {
    "duration": 252,
    "start_time": "2023-02-02T11:53:21.800Z"
   },
   {
    "duration": 325,
    "start_time": "2023-02-02T11:53:22.054Z"
   },
   {
    "duration": 16,
    "start_time": "2023-02-02T11:53:22.381Z"
   },
   {
    "duration": 182,
    "start_time": "2023-02-02T11:53:22.399Z"
   },
   {
    "duration": 10,
    "start_time": "2023-02-02T11:53:22.582Z"
   },
   {
    "duration": 190,
    "start_time": "2023-02-02T11:53:22.594Z"
   },
   {
    "duration": 8,
    "start_time": "2023-02-02T11:53:22.786Z"
   },
   {
    "duration": 8,
    "start_time": "2023-02-02T11:53:22.795Z"
   },
   {
    "duration": 10,
    "start_time": "2023-02-02T11:53:22.806Z"
   },
   {
    "duration": 17,
    "start_time": "2023-02-02T11:53:22.818Z"
   },
   {
    "duration": 10,
    "start_time": "2023-02-02T11:53:22.836Z"
   },
   {
    "duration": 74,
    "start_time": "2023-02-02T11:53:22.847Z"
   },
   {
    "duration": 102,
    "start_time": "2023-02-02T11:53:22.922Z"
   },
   {
    "duration": 3,
    "start_time": "2023-02-02T11:53:23.026Z"
   },
   {
    "duration": 28,
    "start_time": "2023-02-02T11:53:23.030Z"
   },
   {
    "duration": 8,
    "start_time": "2023-02-02T11:53:23.060Z"
   },
   {
    "duration": 25,
    "start_time": "2023-02-02T11:53:23.071Z"
   },
   {
    "duration": 9,
    "start_time": "2023-02-02T11:53:23.098Z"
   },
   {
    "duration": 8,
    "start_time": "2023-02-02T11:53:23.108Z"
   },
   {
    "duration": 14,
    "start_time": "2023-02-02T11:53:23.117Z"
   },
   {
    "duration": 12,
    "start_time": "2023-02-02T11:53:23.133Z"
   },
   {
    "duration": 6,
    "start_time": "2023-02-02T11:53:23.147Z"
   },
   {
    "duration": 14,
    "start_time": "2023-02-02T11:53:23.154Z"
   },
   {
    "duration": 12,
    "start_time": "2023-02-02T11:53:23.169Z"
   },
   {
    "duration": 37,
    "start_time": "2023-02-02T11:53:23.183Z"
   },
   {
    "duration": 139,
    "start_time": "2023-02-02T11:53:52.583Z"
   },
   {
    "duration": 19,
    "start_time": "2023-02-02T11:53:54.373Z"
   },
   {
    "duration": 5,
    "start_time": "2023-02-02T11:54:18.797Z"
   },
   {
    "duration": 1058,
    "start_time": "2023-02-02T11:59:21.874Z"
   },
   {
    "duration": 152,
    "start_time": "2023-02-02T11:59:22.935Z"
   },
   {
    "duration": 23,
    "start_time": "2023-02-02T11:59:23.089Z"
   },
   {
    "duration": 26,
    "start_time": "2023-02-02T11:59:23.115Z"
   },
   {
    "duration": 14,
    "start_time": "2023-02-02T11:59:23.143Z"
   },
   {
    "duration": 43,
    "start_time": "2023-02-02T11:59:23.158Z"
   },
   {
    "duration": 26,
    "start_time": "2023-02-02T11:59:23.204Z"
   },
   {
    "duration": 20,
    "start_time": "2023-02-02T11:59:23.232Z"
   },
   {
    "duration": 9,
    "start_time": "2023-02-02T11:59:23.254Z"
   },
   {
    "duration": 38,
    "start_time": "2023-02-02T11:59:23.265Z"
   },
   {
    "duration": 23,
    "start_time": "2023-02-02T11:59:23.304Z"
   },
   {
    "duration": 5,
    "start_time": "2023-02-02T11:59:23.328Z"
   },
   {
    "duration": 18,
    "start_time": "2023-02-02T11:59:23.336Z"
   },
   {
    "duration": 11,
    "start_time": "2023-02-02T11:59:23.356Z"
   },
   {
    "duration": 33,
    "start_time": "2023-02-02T11:59:23.369Z"
   },
   {
    "duration": 13,
    "start_time": "2023-02-02T11:59:23.403Z"
   },
   {
    "duration": 50,
    "start_time": "2023-02-02T11:59:23.418Z"
   },
   {
    "duration": 4,
    "start_time": "2023-02-02T11:59:23.470Z"
   },
   {
    "duration": 58,
    "start_time": "2023-02-02T11:59:23.475Z"
   },
   {
    "duration": 15,
    "start_time": "2023-02-02T11:59:23.534Z"
   },
   {
    "duration": 66,
    "start_time": "2023-02-02T11:59:23.550Z"
   },
   {
    "duration": 28,
    "start_time": "2023-02-02T11:59:23.618Z"
   },
   {
    "duration": 49,
    "start_time": "2023-02-02T11:59:23.648Z"
   },
   {
    "duration": 21,
    "start_time": "2023-02-02T11:59:23.699Z"
   },
   {
    "duration": 9,
    "start_time": "2023-02-02T11:59:23.722Z"
   },
   {
    "duration": 345,
    "start_time": "2023-02-02T11:59:23.733Z"
   },
   {
    "duration": 260,
    "start_time": "2023-02-02T11:59:24.079Z"
   },
   {
    "duration": 395,
    "start_time": "2023-02-02T11:59:24.342Z"
   },
   {
    "duration": 5,
    "start_time": "2023-02-02T11:59:24.739Z"
   },
   {
    "duration": 291,
    "start_time": "2023-02-02T11:59:24.746Z"
   },
   {
    "duration": 311,
    "start_time": "2023-02-02T11:59:25.038Z"
   },
   {
    "duration": 13,
    "start_time": "2023-02-02T11:59:25.351Z"
   },
   {
    "duration": 174,
    "start_time": "2023-02-02T11:59:25.365Z"
   },
   {
    "duration": 4,
    "start_time": "2023-02-02T11:59:25.541Z"
   },
   {
    "duration": 191,
    "start_time": "2023-02-02T11:59:25.547Z"
   },
   {
    "duration": 4,
    "start_time": "2023-02-02T11:59:25.740Z"
   },
   {
    "duration": 10,
    "start_time": "2023-02-02T11:59:25.745Z"
   },
   {
    "duration": 6,
    "start_time": "2023-02-02T11:59:25.757Z"
   },
   {
    "duration": 13,
    "start_time": "2023-02-02T11:59:25.765Z"
   },
   {
    "duration": 15,
    "start_time": "2023-02-02T11:59:25.780Z"
   },
   {
    "duration": 80,
    "start_time": "2023-02-02T11:59:25.797Z"
   },
   {
    "duration": 102,
    "start_time": "2023-02-02T11:59:25.879Z"
   },
   {
    "duration": 2,
    "start_time": "2023-02-02T11:59:25.991Z"
   },
   {
    "duration": 24,
    "start_time": "2023-02-02T11:59:25.995Z"
   },
   {
    "duration": 8,
    "start_time": "2023-02-02T11:59:26.021Z"
   },
   {
    "duration": 11,
    "start_time": "2023-02-02T11:59:26.030Z"
   },
   {
    "duration": 9,
    "start_time": "2023-02-02T11:59:26.042Z"
   },
   {
    "duration": 18,
    "start_time": "2023-02-02T11:59:26.052Z"
   },
   {
    "duration": 35,
    "start_time": "2023-02-02T11:59:26.072Z"
   },
   {
    "duration": 10,
    "start_time": "2023-02-02T11:59:26.108Z"
   },
   {
    "duration": 8,
    "start_time": "2023-02-02T11:59:26.119Z"
   },
   {
    "duration": 7,
    "start_time": "2023-02-02T11:59:26.128Z"
   },
   {
    "duration": 8,
    "start_time": "2023-02-02T11:59:26.137Z"
   },
   {
    "duration": 25,
    "start_time": "2023-02-02T11:59:26.146Z"
   },
   {
    "duration": 3,
    "start_time": "2023-02-02T13:56:03.149Z"
   },
   {
    "duration": 86,
    "start_time": "2023-02-02T13:56:03.156Z"
   },
   {
    "duration": 18,
    "start_time": "2023-02-02T13:56:03.244Z"
   },
   {
    "duration": 29,
    "start_time": "2023-02-02T13:56:03.264Z"
   },
   {
    "duration": 8,
    "start_time": "2023-02-02T13:56:03.295Z"
   },
   {
    "duration": 42,
    "start_time": "2023-02-02T13:56:03.304Z"
   },
   {
    "duration": 39,
    "start_time": "2023-02-02T13:56:03.347Z"
   },
   {
    "duration": 29,
    "start_time": "2023-02-02T13:56:03.388Z"
   },
   {
    "duration": 32,
    "start_time": "2023-02-02T13:56:03.419Z"
   },
   {
    "duration": 43,
    "start_time": "2023-02-02T13:56:03.453Z"
   },
   {
    "duration": 26,
    "start_time": "2023-02-02T13:56:03.498Z"
   },
   {
    "duration": 30,
    "start_time": "2023-02-02T13:56:03.526Z"
   },
   {
    "duration": 21,
    "start_time": "2023-02-02T13:56:03.557Z"
   },
   {
    "duration": 16,
    "start_time": "2023-02-02T13:56:03.580Z"
   },
   {
    "duration": 31,
    "start_time": "2023-02-02T13:56:03.598Z"
   },
   {
    "duration": 19,
    "start_time": "2023-02-02T13:56:03.631Z"
   },
   {
    "duration": 67,
    "start_time": "2023-02-02T13:56:03.652Z"
   },
   {
    "duration": 34,
    "start_time": "2023-02-02T13:56:03.721Z"
   },
   {
    "duration": 69,
    "start_time": "2023-02-02T13:56:03.757Z"
   },
   {
    "duration": 20,
    "start_time": "2023-02-02T13:56:03.828Z"
   },
   {
    "duration": 52,
    "start_time": "2023-02-02T13:56:03.850Z"
   },
   {
    "duration": 16,
    "start_time": "2023-02-02T13:56:03.904Z"
   },
   {
    "duration": 51,
    "start_time": "2023-02-02T13:56:03.923Z"
   },
   {
    "duration": 34,
    "start_time": "2023-02-02T13:56:03.976Z"
   },
   {
    "duration": 15,
    "start_time": "2023-02-02T13:56:04.011Z"
   },
   {
    "duration": 259,
    "start_time": "2023-02-02T13:56:04.028Z"
   },
   {
    "duration": 317,
    "start_time": "2023-02-02T13:56:04.292Z"
   },
   {
    "duration": 328,
    "start_time": "2023-02-02T13:56:04.611Z"
   },
   {
    "duration": 6,
    "start_time": "2023-02-02T13:56:04.944Z"
   },
   {
    "duration": 279,
    "start_time": "2023-02-02T13:56:04.952Z"
   },
   {
    "duration": 318,
    "start_time": "2023-02-02T13:56:05.233Z"
   },
   {
    "duration": 15,
    "start_time": "2023-02-02T13:56:05.552Z"
   },
   {
    "duration": 191,
    "start_time": "2023-02-02T13:56:05.569Z"
   },
   {
    "duration": 5,
    "start_time": "2023-02-02T13:56:05.762Z"
   },
   {
    "duration": 194,
    "start_time": "2023-02-02T13:56:05.769Z"
   },
   {
    "duration": 4,
    "start_time": "2023-02-02T13:56:05.965Z"
   },
   {
    "duration": 12,
    "start_time": "2023-02-02T13:56:05.971Z"
   },
   {
    "duration": 39,
    "start_time": "2023-02-02T13:56:05.985Z"
   },
   {
    "duration": 37,
    "start_time": "2023-02-02T13:56:06.027Z"
   },
   {
    "duration": 37,
    "start_time": "2023-02-02T13:56:06.066Z"
   },
   {
    "duration": 109,
    "start_time": "2023-02-02T13:56:06.106Z"
   },
   {
    "duration": 99,
    "start_time": "2023-02-02T13:56:06.217Z"
   },
   {
    "duration": 3,
    "start_time": "2023-02-02T13:56:06.317Z"
   },
   {
    "duration": 26,
    "start_time": "2023-02-02T13:56:06.321Z"
   },
   {
    "duration": 7,
    "start_time": "2023-02-02T13:56:06.348Z"
   },
   {
    "duration": 14,
    "start_time": "2023-02-02T13:56:06.357Z"
   },
   {
    "duration": 20,
    "start_time": "2023-02-02T13:56:06.372Z"
   },
   {
    "duration": 7,
    "start_time": "2023-02-02T13:56:06.394Z"
   },
   {
    "duration": 20,
    "start_time": "2023-02-02T13:56:06.403Z"
   },
   {
    "duration": 10,
    "start_time": "2023-02-02T13:56:06.425Z"
   },
   {
    "duration": 15,
    "start_time": "2023-02-02T13:56:06.436Z"
   },
   {
    "duration": 34,
    "start_time": "2023-02-02T13:56:06.452Z"
   },
   {
    "duration": 18,
    "start_time": "2023-02-02T13:56:06.488Z"
   },
   {
    "duration": 45,
    "start_time": "2023-02-02T13:56:06.507Z"
   },
   {
    "duration": 993,
    "start_time": "2023-02-02T13:56:57.322Z"
   },
   {
    "duration": 133,
    "start_time": "2023-02-02T13:56:58.317Z"
   },
   {
    "duration": 21,
    "start_time": "2023-02-02T13:56:58.451Z"
   },
   {
    "duration": 23,
    "start_time": "2023-02-02T13:56:58.474Z"
   },
   {
    "duration": 7,
    "start_time": "2023-02-02T13:56:58.499Z"
   },
   {
    "duration": 33,
    "start_time": "2023-02-02T13:56:58.507Z"
   },
   {
    "duration": 44,
    "start_time": "2023-02-02T13:56:58.541Z"
   },
   {
    "duration": 20,
    "start_time": "2023-02-02T13:56:58.587Z"
   },
   {
    "duration": 11,
    "start_time": "2023-02-02T13:56:58.608Z"
   },
   {
    "duration": 18,
    "start_time": "2023-02-02T13:56:58.620Z"
   },
   {
    "duration": 12,
    "start_time": "2023-02-02T13:56:58.640Z"
   },
   {
    "duration": 7,
    "start_time": "2023-02-02T13:56:58.654Z"
   },
   {
    "duration": 41,
    "start_time": "2023-02-02T13:56:58.663Z"
   },
   {
    "duration": 11,
    "start_time": "2023-02-02T13:56:58.707Z"
   },
   {
    "duration": 10,
    "start_time": "2023-02-02T13:56:58.719Z"
   },
   {
    "duration": 16,
    "start_time": "2023-02-02T13:56:58.731Z"
   },
   {
    "duration": 67,
    "start_time": "2023-02-02T13:56:58.749Z"
   },
   {
    "duration": 5,
    "start_time": "2023-02-02T13:56:58.818Z"
   },
   {
    "duration": 47,
    "start_time": "2023-02-02T13:56:58.825Z"
   },
   {
    "duration": 18,
    "start_time": "2023-02-02T13:56:58.891Z"
   },
   {
    "duration": 51,
    "start_time": "2023-02-02T13:56:58.911Z"
   },
   {
    "duration": 19,
    "start_time": "2023-02-02T13:56:58.964Z"
   },
   {
    "duration": 48,
    "start_time": "2023-02-02T13:56:58.992Z"
   },
   {
    "duration": 20,
    "start_time": "2023-02-02T13:56:59.041Z"
   },
   {
    "duration": 30,
    "start_time": "2023-02-02T13:56:59.063Z"
   },
   {
    "duration": 336,
    "start_time": "2023-02-02T13:56:59.095Z"
   },
   {
    "duration": 255,
    "start_time": "2023-02-02T13:56:59.433Z"
   },
   {
    "duration": 361,
    "start_time": "2023-02-02T13:56:59.693Z"
   },
   {
    "duration": 6,
    "start_time": "2023-02-02T13:57:00.055Z"
   },
   {
    "duration": 298,
    "start_time": "2023-02-02T13:57:00.063Z"
   },
   {
    "duration": 380,
    "start_time": "2023-02-02T13:57:00.363Z"
   },
   {
    "duration": 13,
    "start_time": "2023-02-02T13:57:00.745Z"
   },
   {
    "duration": 184,
    "start_time": "2023-02-02T13:57:00.760Z"
   },
   {
    "duration": 4,
    "start_time": "2023-02-02T13:57:00.946Z"
   },
   {
    "duration": 240,
    "start_time": "2023-02-02T13:57:00.952Z"
   },
   {
    "duration": 4,
    "start_time": "2023-02-02T13:57:01.194Z"
   },
   {
    "duration": 38,
    "start_time": "2023-02-02T13:57:01.200Z"
   },
   {
    "duration": 34,
    "start_time": "2023-02-02T13:57:01.240Z"
   },
   {
    "duration": 38,
    "start_time": "2023-02-02T13:57:01.276Z"
   },
   {
    "duration": 40,
    "start_time": "2023-02-02T13:57:01.316Z"
   },
   {
    "duration": 112,
    "start_time": "2023-02-02T13:57:01.360Z"
   },
   {
    "duration": 105,
    "start_time": "2023-02-02T13:57:01.473Z"
   },
   {
    "duration": 3,
    "start_time": "2023-02-02T13:57:01.580Z"
   },
   {
    "duration": 45,
    "start_time": "2023-02-02T13:57:01.592Z"
   },
   {
    "duration": 31,
    "start_time": "2023-02-02T13:57:01.639Z"
   },
   {
    "duration": 34,
    "start_time": "2023-02-02T13:57:01.672Z"
   },
   {
    "duration": 36,
    "start_time": "2023-02-02T13:57:01.708Z"
   },
   {
    "duration": 35,
    "start_time": "2023-02-02T13:57:01.746Z"
   },
   {
    "duration": 26,
    "start_time": "2023-02-02T13:57:01.783Z"
   },
   {
    "duration": 40,
    "start_time": "2023-02-02T13:57:01.811Z"
   },
   {
    "duration": 27,
    "start_time": "2023-02-02T13:57:01.853Z"
   },
   {
    "duration": 47,
    "start_time": "2023-02-02T13:57:01.881Z"
   },
   {
    "duration": 22,
    "start_time": "2023-02-02T13:57:01.930Z"
   },
   {
    "duration": 40,
    "start_time": "2023-02-02T13:57:01.954Z"
   },
   {
    "duration": 1187,
    "start_time": "2023-02-02T17:55:33.267Z"
   },
   {
    "duration": 126,
    "start_time": "2023-02-02T17:55:34.457Z"
   },
   {
    "duration": 28,
    "start_time": "2023-02-02T17:55:34.585Z"
   },
   {
    "duration": 28,
    "start_time": "2023-02-02T17:55:34.615Z"
   },
   {
    "duration": 15,
    "start_time": "2023-02-02T17:55:34.645Z"
   },
   {
    "duration": 50,
    "start_time": "2023-02-02T17:55:34.662Z"
   },
   {
    "duration": 42,
    "start_time": "2023-02-02T17:55:34.714Z"
   },
   {
    "duration": 22,
    "start_time": "2023-02-02T17:55:34.758Z"
   },
   {
    "duration": 12,
    "start_time": "2023-02-02T17:55:34.782Z"
   },
   {
    "duration": 13,
    "start_time": "2023-02-02T17:55:34.798Z"
   },
   {
    "duration": 16,
    "start_time": "2023-02-02T17:55:34.813Z"
   },
   {
    "duration": 5,
    "start_time": "2023-02-02T17:55:34.830Z"
   },
   {
    "duration": 15,
    "start_time": "2023-02-02T17:55:34.837Z"
   },
   {
    "duration": 50,
    "start_time": "2023-02-02T17:55:34.853Z"
   },
   {
    "duration": 15,
    "start_time": "2023-02-02T17:55:34.906Z"
   },
   {
    "duration": 5,
    "start_time": "2023-02-02T17:55:34.922Z"
   },
   {
    "duration": 43,
    "start_time": "2023-02-02T17:55:34.928Z"
   },
   {
    "duration": 27,
    "start_time": "2023-02-02T17:55:34.972Z"
   },
   {
    "duration": 50,
    "start_time": "2023-02-02T17:55:35.001Z"
   },
   {
    "duration": 20,
    "start_time": "2023-02-02T17:55:35.052Z"
   },
   {
    "duration": 76,
    "start_time": "2023-02-02T17:55:35.073Z"
   },
   {
    "duration": 22,
    "start_time": "2023-02-02T17:55:35.151Z"
   },
   {
    "duration": 61,
    "start_time": "2023-02-02T17:55:35.174Z"
   },
   {
    "duration": 24,
    "start_time": "2023-02-02T17:55:35.237Z"
   },
   {
    "duration": 10,
    "start_time": "2023-02-02T17:55:35.263Z"
   },
   {
    "duration": 376,
    "start_time": "2023-02-02T17:55:35.274Z"
   },
   {
    "duration": 246,
    "start_time": "2023-02-02T17:55:35.652Z"
   },
   {
    "duration": 371,
    "start_time": "2023-02-02T17:55:35.904Z"
   },
   {
    "duration": 5,
    "start_time": "2023-02-02T17:55:36.276Z"
   },
   {
    "duration": 267,
    "start_time": "2023-02-02T17:55:36.282Z"
   },
   {
    "duration": 333,
    "start_time": "2023-02-02T17:55:36.551Z"
   },
   {
    "duration": 26,
    "start_time": "2023-02-02T17:55:36.886Z"
   },
   {
    "duration": 194,
    "start_time": "2023-02-02T17:55:36.914Z"
   },
   {
    "duration": 5,
    "start_time": "2023-02-02T17:55:37.111Z"
   },
   {
    "duration": 204,
    "start_time": "2023-02-02T17:55:37.119Z"
   },
   {
    "duration": 5,
    "start_time": "2023-02-02T17:55:37.324Z"
   },
   {
    "duration": 6,
    "start_time": "2023-02-02T17:55:37.330Z"
   },
   {
    "duration": 7,
    "start_time": "2023-02-02T17:55:37.337Z"
   },
   {
    "duration": 6,
    "start_time": "2023-02-02T17:55:37.345Z"
   },
   {
    "duration": 12,
    "start_time": "2023-02-02T17:55:37.352Z"
   },
   {
    "duration": 97,
    "start_time": "2023-02-02T17:55:37.366Z"
   },
   {
    "duration": 94,
    "start_time": "2023-02-02T17:55:37.465Z"
   },
   {
    "duration": 2,
    "start_time": "2023-02-02T17:55:37.561Z"
   },
   {
    "duration": 34,
    "start_time": "2023-02-02T17:55:37.565Z"
   },
   {
    "duration": 7,
    "start_time": "2023-02-02T17:55:37.601Z"
   },
   {
    "duration": 9,
    "start_time": "2023-02-02T17:55:37.609Z"
   },
   {
    "duration": 7,
    "start_time": "2023-02-02T17:55:37.619Z"
   },
   {
    "duration": 10,
    "start_time": "2023-02-02T17:55:37.627Z"
   },
   {
    "duration": 8,
    "start_time": "2023-02-02T17:55:37.638Z"
   },
   {
    "duration": 12,
    "start_time": "2023-02-02T17:55:37.648Z"
   },
   {
    "duration": 9,
    "start_time": "2023-02-02T17:55:37.662Z"
   },
   {
    "duration": 7,
    "start_time": "2023-02-02T17:55:37.693Z"
   },
   {
    "duration": 11,
    "start_time": "2023-02-02T17:55:37.701Z"
   },
   {
    "duration": 27,
    "start_time": "2023-02-02T17:55:37.713Z"
   },
   {
    "duration": 1251,
    "start_time": "2023-02-03T12:27:20.115Z"
   },
   {
    "duration": 354,
    "start_time": "2023-02-03T12:27:21.368Z"
   },
   {
    "duration": 25,
    "start_time": "2023-02-03T12:27:21.724Z"
   },
   {
    "duration": 24,
    "start_time": "2023-02-03T12:27:21.751Z"
   },
   {
    "duration": 11,
    "start_time": "2023-02-03T12:27:21.777Z"
   },
   {
    "duration": 17,
    "start_time": "2023-02-03T12:27:21.790Z"
   },
   {
    "duration": 52,
    "start_time": "2023-02-03T12:27:21.809Z"
   },
   {
    "duration": 33,
    "start_time": "2023-02-03T12:27:21.863Z"
   },
   {
    "duration": 19,
    "start_time": "2023-02-03T12:27:21.898Z"
   },
   {
    "duration": 22,
    "start_time": "2023-02-03T12:27:21.920Z"
   },
   {
    "duration": 26,
    "start_time": "2023-02-03T12:27:21.944Z"
   },
   {
    "duration": 5,
    "start_time": "2023-02-03T12:27:21.971Z"
   },
   {
    "duration": 17,
    "start_time": "2023-02-03T12:27:21.978Z"
   },
   {
    "duration": 12,
    "start_time": "2023-02-03T12:27:21.996Z"
   },
   {
    "duration": 33,
    "start_time": "2023-02-03T12:27:22.010Z"
   },
   {
    "duration": 7,
    "start_time": "2023-02-03T12:27:22.045Z"
   },
   {
    "duration": 54,
    "start_time": "2023-02-03T12:27:22.054Z"
   },
   {
    "duration": 4,
    "start_time": "2023-02-03T12:27:22.110Z"
   },
   {
    "duration": 104,
    "start_time": "2023-02-03T12:27:22.137Z"
   },
   {
    "duration": 27,
    "start_time": "2023-02-03T12:27:22.243Z"
   },
   {
    "duration": 88,
    "start_time": "2023-02-03T12:27:22.272Z"
   },
   {
    "duration": 83,
    "start_time": "2023-02-03T12:27:22.362Z"
   },
   {
    "duration": 90,
    "start_time": "2023-02-03T12:27:22.447Z"
   },
   {
    "duration": 25,
    "start_time": "2023-02-03T12:27:22.538Z"
   },
   {
    "duration": 78,
    "start_time": "2023-02-03T12:27:22.564Z"
   },
   {
    "duration": 617,
    "start_time": "2023-02-03T12:27:22.644Z"
   },
   {
    "duration": 376,
    "start_time": "2023-02-03T12:27:23.263Z"
   },
   {
    "duration": 725,
    "start_time": "2023-02-03T12:27:23.644Z"
   },
   {
    "duration": 5,
    "start_time": "2023-02-03T12:27:24.371Z"
   },
   {
    "duration": 502,
    "start_time": "2023-02-03T12:27:24.377Z"
   },
   {
    "duration": 767,
    "start_time": "2023-02-03T12:27:24.881Z"
   },
   {
    "duration": 14,
    "start_time": "2023-02-03T12:27:25.651Z"
   },
   {
    "duration": 370,
    "start_time": "2023-02-03T12:27:25.667Z"
   },
   {
    "duration": 6,
    "start_time": "2023-02-03T12:27:26.039Z"
   },
   {
    "duration": 299,
    "start_time": "2023-02-03T12:27:26.047Z"
   },
   {
    "duration": 4,
    "start_time": "2023-02-03T12:27:26.348Z"
   },
   {
    "duration": 119,
    "start_time": "2023-02-03T12:27:26.354Z"
   },
   {
    "duration": 38,
    "start_time": "2023-02-03T12:27:26.475Z"
   },
   {
    "duration": 40,
    "start_time": "2023-02-03T12:27:26.515Z"
   },
   {
    "duration": 21,
    "start_time": "2023-02-03T12:27:26.557Z"
   },
   {
    "duration": 182,
    "start_time": "2023-02-03T12:27:26.580Z"
   },
   {
    "duration": 119,
    "start_time": "2023-02-03T12:27:26.764Z"
   },
   {
    "duration": 2,
    "start_time": "2023-02-03T12:27:26.885Z"
   },
   {
    "duration": 53,
    "start_time": "2023-02-03T12:27:26.889Z"
   },
   {
    "duration": 8,
    "start_time": "2023-02-03T12:27:26.944Z"
   },
   {
    "duration": 44,
    "start_time": "2023-02-03T12:27:26.953Z"
   },
   {
    "duration": 26,
    "start_time": "2023-02-03T12:27:26.998Z"
   },
   {
    "duration": 34,
    "start_time": "2023-02-03T12:27:27.026Z"
   },
   {
    "duration": 25,
    "start_time": "2023-02-03T12:27:27.062Z"
   },
   {
    "duration": 24,
    "start_time": "2023-02-03T12:27:27.089Z"
   },
   {
    "duration": 55,
    "start_time": "2023-02-03T12:27:27.114Z"
   },
   {
    "duration": 47,
    "start_time": "2023-02-03T12:27:27.171Z"
   },
   {
    "duration": 43,
    "start_time": "2023-02-03T12:27:27.219Z"
   },
   {
    "duration": 77,
    "start_time": "2023-02-03T12:27:27.264Z"
   },
   {
    "duration": 97,
    "start_time": "2023-02-03T13:09:13.564Z"
   },
   {
    "duration": 0,
    "start_time": "2023-02-03T13:09:13.663Z"
   },
   {
    "duration": 113,
    "start_time": "2023-02-03T13:12:05.159Z"
   },
   {
    "duration": 1391,
    "start_time": "2023-02-03T13:38:59.062Z"
   },
   {
    "duration": 439,
    "start_time": "2023-02-03T13:39:06.052Z"
   },
   {
    "duration": 79,
    "start_time": "2023-02-03T13:39:15.052Z"
   },
   {
    "duration": 28,
    "start_time": "2023-02-03T13:39:16.902Z"
   },
   {
    "duration": 82,
    "start_time": "2023-02-03T13:41:06.586Z"
   },
   {
    "duration": 3,
    "start_time": "2023-02-03T13:41:08.350Z"
   },
   {
    "duration": 21,
    "start_time": "2023-02-03T13:41:09.781Z"
   },
   {
    "duration": 39,
    "start_time": "2023-02-03T13:41:13.239Z"
   },
   {
    "duration": 11,
    "start_time": "2023-02-03T13:41:17.855Z"
   },
   {
    "duration": 28,
    "start_time": "2023-02-03T13:41:19.576Z"
   },
   {
    "duration": 24,
    "start_time": "2023-02-03T13:41:21.115Z"
   },
   {
    "duration": 31,
    "start_time": "2023-02-03T13:41:22.891Z"
   },
   {
    "duration": 13,
    "start_time": "2023-02-03T13:41:26.935Z"
   },
   {
    "duration": 13,
    "start_time": "2023-02-03T13:41:29.097Z"
   },
   {
    "duration": 13,
    "start_time": "2023-02-03T13:41:33.223Z"
   },
   {
    "duration": 7,
    "start_time": "2023-02-03T13:41:34.972Z"
   },
   {
    "duration": 15,
    "start_time": "2023-02-03T13:41:36.661Z"
   },
   {
    "duration": 5,
    "start_time": "2023-02-03T13:47:02.449Z"
   },
   {
    "duration": 8,
    "start_time": "2023-02-03T13:47:15.092Z"
   },
   {
    "duration": 20,
    "start_time": "2023-02-03T13:49:58.488Z"
   },
   {
    "duration": 14,
    "start_time": "2023-02-03T13:52:23.889Z"
   },
   {
    "duration": 46,
    "start_time": "2023-02-03T13:52:45.510Z"
   },
   {
    "duration": 10,
    "start_time": "2023-02-03T14:00:43.974Z"
   },
   {
    "duration": 3,
    "start_time": "2023-02-03T14:00:54.419Z"
   },
   {
    "duration": 82,
    "start_time": "2023-02-03T14:00:54.429Z"
   },
   {
    "duration": 2,
    "start_time": "2023-02-03T14:00:54.514Z"
   },
   {
    "duration": 21,
    "start_time": "2023-02-03T14:00:54.518Z"
   },
   {
    "duration": 23,
    "start_time": "2023-02-03T14:00:54.540Z"
   },
   {
    "duration": 11,
    "start_time": "2023-02-03T14:00:54.564Z"
   },
   {
    "duration": 23,
    "start_time": "2023-02-03T14:00:54.576Z"
   },
   {
    "duration": 27,
    "start_time": "2023-02-03T14:00:54.600Z"
   },
   {
    "duration": 18,
    "start_time": "2023-02-03T14:00:54.629Z"
   },
   {
    "duration": 38,
    "start_time": "2023-02-03T14:00:54.649Z"
   },
   {
    "duration": 18,
    "start_time": "2023-02-03T14:00:54.689Z"
   },
   {
    "duration": 12,
    "start_time": "2023-02-03T14:00:54.709Z"
   },
   {
    "duration": 7,
    "start_time": "2023-02-03T14:00:54.722Z"
   },
   {
    "duration": 14,
    "start_time": "2023-02-03T14:00:54.730Z"
   },
   {
    "duration": 37,
    "start_time": "2023-02-03T14:00:54.747Z"
   },
   {
    "duration": 27,
    "start_time": "2023-02-03T14:00:54.785Z"
   },
   {
    "duration": 37,
    "start_time": "2023-02-03T14:00:54.815Z"
   },
   {
    "duration": 10,
    "start_time": "2023-02-03T14:00:54.854Z"
   },
   {
    "duration": 71,
    "start_time": "2023-02-03T14:00:54.866Z"
   },
   {
    "duration": 12,
    "start_time": "2023-02-03T14:00:54.939Z"
   },
   {
    "duration": 60,
    "start_time": "2023-02-03T14:00:54.953Z"
   },
   {
    "duration": 33,
    "start_time": "2023-02-03T14:00:55.015Z"
   },
   {
    "duration": 112,
    "start_time": "2023-02-03T14:00:55.050Z"
   },
   {
    "duration": 39,
    "start_time": "2023-02-03T14:00:55.165Z"
   },
   {
    "duration": 54,
    "start_time": "2023-02-03T14:00:55.206Z"
   },
   {
    "duration": 41,
    "start_time": "2023-02-03T14:00:55.261Z"
   },
   {
    "duration": 9,
    "start_time": "2023-02-03T14:00:55.303Z"
   },
   {
    "duration": 308,
    "start_time": "2023-02-03T14:00:55.313Z"
   },
   {
    "duration": 239,
    "start_time": "2023-02-03T14:00:55.623Z"
   },
   {
    "duration": 375,
    "start_time": "2023-02-03T14:00:55.864Z"
   },
   {
    "duration": 6,
    "start_time": "2023-02-03T14:00:56.241Z"
   },
   {
    "duration": 259,
    "start_time": "2023-02-03T14:00:56.248Z"
   },
   {
    "duration": 326,
    "start_time": "2023-02-03T14:00:56.509Z"
   },
   {
    "duration": 15,
    "start_time": "2023-02-03T14:00:56.837Z"
   },
   {
    "duration": 182,
    "start_time": "2023-02-03T14:00:56.854Z"
   },
   {
    "duration": 6,
    "start_time": "2023-02-03T14:00:57.038Z"
   },
   {
    "duration": 8,
    "start_time": "2023-02-03T14:00:59.477Z"
   },
   {
    "duration": 4,
    "start_time": "2023-02-03T14:01:29.887Z"
   },
   {
    "duration": 826,
    "start_time": "2023-02-03T14:07:33.512Z"
   },
   {
    "duration": 194,
    "start_time": "2023-02-03T14:07:40.603Z"
   },
   {
    "duration": 5,
    "start_time": "2023-02-03T14:07:43.795Z"
   },
   {
    "duration": 815,
    "start_time": "2023-02-03T14:07:45.421Z"
   },
   {
    "duration": 5,
    "start_time": "2023-02-03T14:07:58.236Z"
   },
   {
    "duration": 3,
    "start_time": "2023-02-03T14:08:46.497Z"
   },
   {
    "duration": 90,
    "start_time": "2023-02-03T14:08:46.504Z"
   },
   {
    "duration": 4,
    "start_time": "2023-02-03T14:08:46.596Z"
   },
   {
    "duration": 31,
    "start_time": "2023-02-03T14:08:46.601Z"
   },
   {
    "duration": 24,
    "start_time": "2023-02-03T14:08:46.634Z"
   },
   {
    "duration": 15,
    "start_time": "2023-02-03T14:08:46.660Z"
   },
   {
    "duration": 38,
    "start_time": "2023-02-03T14:08:46.677Z"
   },
   {
    "duration": 41,
    "start_time": "2023-02-03T14:08:46.717Z"
   },
   {
    "duration": 30,
    "start_time": "2023-02-03T14:08:46.760Z"
   },
   {
    "duration": 13,
    "start_time": "2023-02-03T14:08:46.792Z"
   },
   {
    "duration": 35,
    "start_time": "2023-02-03T14:08:46.809Z"
   },
   {
    "duration": 14,
    "start_time": "2023-02-03T14:08:46.846Z"
   },
   {
    "duration": 20,
    "start_time": "2023-02-03T14:08:46.862Z"
   },
   {
    "duration": 14,
    "start_time": "2023-02-03T14:08:46.884Z"
   },
   {
    "duration": 8,
    "start_time": "2023-02-03T14:08:46.900Z"
   },
   {
    "duration": 13,
    "start_time": "2023-02-03T14:08:46.909Z"
   },
   {
    "duration": 19,
    "start_time": "2023-02-03T14:08:46.923Z"
   },
   {
    "duration": 10,
    "start_time": "2023-02-03T14:08:46.944Z"
   },
   {
    "duration": 57,
    "start_time": "2023-02-03T14:08:46.956Z"
   },
   {
    "duration": 5,
    "start_time": "2023-02-03T14:08:47.014Z"
   },
   {
    "duration": 65,
    "start_time": "2023-02-03T14:08:47.021Z"
   },
   {
    "duration": 29,
    "start_time": "2023-02-03T14:08:47.089Z"
   },
   {
    "duration": 66,
    "start_time": "2023-02-03T14:08:47.120Z"
   },
   {
    "duration": 22,
    "start_time": "2023-02-03T14:08:47.188Z"
   },
   {
    "duration": 67,
    "start_time": "2023-02-03T14:08:47.213Z"
   },
   {
    "duration": 32,
    "start_time": "2023-02-03T14:08:47.282Z"
   },
   {
    "duration": 9,
    "start_time": "2023-02-03T14:08:47.316Z"
   },
   {
    "duration": 255,
    "start_time": "2023-02-03T14:08:47.327Z"
   },
   {
    "duration": 238,
    "start_time": "2023-02-03T14:08:47.587Z"
   },
   {
    "duration": 407,
    "start_time": "2023-02-03T14:08:47.827Z"
   },
   {
    "duration": 5,
    "start_time": "2023-02-03T14:08:48.235Z"
   },
   {
    "duration": 247,
    "start_time": "2023-02-03T14:08:48.242Z"
   },
   {
    "duration": 346,
    "start_time": "2023-02-03T14:08:48.491Z"
   },
   {
    "duration": 14,
    "start_time": "2023-02-03T14:08:48.839Z"
   },
   {
    "duration": 177,
    "start_time": "2023-02-03T14:08:48.854Z"
   },
   {
    "duration": 4,
    "start_time": "2023-02-03T14:08:49.033Z"
   },
   {
    "duration": 8,
    "start_time": "2023-02-03T14:08:49.039Z"
   },
   {
    "duration": 193,
    "start_time": "2023-02-03T14:08:49.049Z"
   },
   {
    "duration": 4,
    "start_time": "2023-02-03T14:08:49.244Z"
   },
   {
    "duration": 34,
    "start_time": "2023-02-03T14:08:49.249Z"
   },
   {
    "duration": 4,
    "start_time": "2023-02-03T14:08:49.284Z"
   },
   {
    "duration": 6,
    "start_time": "2023-02-03T14:08:49.290Z"
   },
   {
    "duration": 5,
    "start_time": "2023-02-03T14:08:49.297Z"
   },
   {
    "duration": 9,
    "start_time": "2023-02-03T14:08:49.303Z"
   },
   {
    "duration": 83,
    "start_time": "2023-02-03T14:08:49.314Z"
   },
   {
    "duration": 102,
    "start_time": "2023-02-03T14:08:49.399Z"
   },
   {
    "duration": 3,
    "start_time": "2023-02-03T14:08:49.502Z"
   },
   {
    "duration": 25,
    "start_time": "2023-02-03T14:08:49.507Z"
   },
   {
    "duration": 8,
    "start_time": "2023-02-03T14:08:52.412Z"
   },
   {
    "duration": 5,
    "start_time": "2023-02-03T14:08:54.198Z"
   },
   {
    "duration": 5,
    "start_time": "2023-02-03T14:09:36.648Z"
   },
   {
    "duration": 5,
    "start_time": "2023-02-03T14:11:04.206Z"
   },
   {
    "duration": 6,
    "start_time": "2023-02-03T14:11:05.506Z"
   },
   {
    "duration": 1044,
    "start_time": "2023-02-03T14:11:47.496Z"
   },
   {
    "duration": 136,
    "start_time": "2023-02-03T14:11:48.542Z"
   },
   {
    "duration": 3,
    "start_time": "2023-02-03T14:11:48.684Z"
   },
   {
    "duration": 25,
    "start_time": "2023-02-03T14:11:48.689Z"
   },
   {
    "duration": 22,
    "start_time": "2023-02-03T14:11:48.715Z"
   },
   {
    "duration": 8,
    "start_time": "2023-02-03T14:11:48.739Z"
   },
   {
    "duration": 44,
    "start_time": "2023-02-03T14:11:48.749Z"
   },
   {
    "duration": 22,
    "start_time": "2023-02-03T14:11:48.795Z"
   },
   {
    "duration": 20,
    "start_time": "2023-02-03T14:11:48.818Z"
   },
   {
    "duration": 30,
    "start_time": "2023-02-03T14:11:48.840Z"
   },
   {
    "duration": 13,
    "start_time": "2023-02-03T14:11:48.872Z"
   },
   {
    "duration": 12,
    "start_time": "2023-02-03T14:11:48.887Z"
   },
   {
    "duration": 6,
    "start_time": "2023-02-03T14:11:48.900Z"
   },
   {
    "duration": 14,
    "start_time": "2023-02-03T14:11:48.908Z"
   },
   {
    "duration": 7,
    "start_time": "2023-02-03T14:11:48.923Z"
   },
   {
    "duration": 49,
    "start_time": "2023-02-03T14:11:48.932Z"
   },
   {
    "duration": 16,
    "start_time": "2023-02-03T14:11:48.982Z"
   },
   {
    "duration": 6,
    "start_time": "2023-02-03T14:11:49.000Z"
   },
   {
    "duration": 61,
    "start_time": "2023-02-03T14:11:49.007Z"
   },
   {
    "duration": 8,
    "start_time": "2023-02-03T14:11:49.071Z"
   },
   {
    "duration": 58,
    "start_time": "2023-02-03T14:11:49.081Z"
   },
   {
    "duration": 17,
    "start_time": "2023-02-03T14:11:49.140Z"
   },
   {
    "duration": 56,
    "start_time": "2023-02-03T14:11:49.159Z"
   },
   {
    "duration": 13,
    "start_time": "2023-02-03T14:11:49.217Z"
   },
   {
    "duration": 55,
    "start_time": "2023-02-03T14:11:49.231Z"
   },
   {
    "duration": 27,
    "start_time": "2023-02-03T14:11:49.288Z"
   },
   {
    "duration": 9,
    "start_time": "2023-02-03T14:11:49.316Z"
   },
   {
    "duration": 350,
    "start_time": "2023-02-03T14:11:49.329Z"
   },
   {
    "duration": 261,
    "start_time": "2023-02-03T14:11:49.681Z"
   },
   {
    "duration": 381,
    "start_time": "2023-02-03T14:11:49.945Z"
   },
   {
    "duration": 5,
    "start_time": "2023-02-03T14:11:50.328Z"
   },
   {
    "duration": 251,
    "start_time": "2023-02-03T14:11:50.334Z"
   },
   {
    "duration": 328,
    "start_time": "2023-02-03T14:11:50.587Z"
   },
   {
    "duration": 13,
    "start_time": "2023-02-03T14:11:50.917Z"
   },
   {
    "duration": 186,
    "start_time": "2023-02-03T14:11:50.931Z"
   },
   {
    "duration": 4,
    "start_time": "2023-02-03T14:11:51.119Z"
   },
   {
    "duration": 20,
    "start_time": "2023-02-03T14:11:51.125Z"
   },
   {
    "duration": 8,
    "start_time": "2023-02-03T14:11:51.147Z"
   },
   {
    "duration": 194,
    "start_time": "2023-02-03T14:11:51.157Z"
   },
   {
    "duration": 4,
    "start_time": "2023-02-03T14:11:51.353Z"
   },
   {
    "duration": 31,
    "start_time": "2023-02-03T14:11:51.359Z"
   },
   {
    "duration": 15,
    "start_time": "2023-02-03T14:11:51.392Z"
   },
   {
    "duration": 9,
    "start_time": "2023-02-03T14:11:51.409Z"
   },
   {
    "duration": 9,
    "start_time": "2023-02-03T14:11:51.420Z"
   },
   {
    "duration": 10,
    "start_time": "2023-02-03T14:11:51.432Z"
   },
   {
    "duration": 78,
    "start_time": "2023-02-03T14:11:51.444Z"
   },
   {
    "duration": 109,
    "start_time": "2023-02-03T14:11:51.524Z"
   },
   {
    "duration": 3,
    "start_time": "2023-02-03T14:11:51.634Z"
   },
   {
    "duration": 47,
    "start_time": "2023-02-03T14:11:51.639Z"
   },
   {
    "duration": 7,
    "start_time": "2023-02-03T14:11:51.688Z"
   },
   {
    "duration": 7,
    "start_time": "2023-02-03T14:11:54.126Z"
   },
   {
    "duration": 6,
    "start_time": "2023-02-03T14:12:00.076Z"
   },
   {
    "duration": 5,
    "start_time": "2023-02-03T14:12:02.885Z"
   },
   {
    "duration": 3,
    "start_time": "2023-02-03T14:12:04.421Z"
   },
   {
    "duration": 9,
    "start_time": "2023-02-03T14:12:06.047Z"
   },
   {
    "duration": 6,
    "start_time": "2023-02-03T14:12:09.742Z"
   },
   {
    "duration": 8,
    "start_time": "2023-02-03T14:13:01.511Z"
   },
   {
    "duration": 3,
    "start_time": "2023-02-03T14:13:04.447Z"
   },
   {
    "duration": 32,
    "start_time": "2023-02-03T14:13:05.399Z"
   },
   {
    "duration": 14,
    "start_time": "2023-02-03T14:13:28.207Z"
   },
   {
    "duration": 1092,
    "start_time": "2023-02-03T14:16:14.726Z"
   },
   {
    "duration": 138,
    "start_time": "2023-02-03T14:16:15.820Z"
   },
   {
    "duration": 3,
    "start_time": "2023-02-03T14:16:15.960Z"
   },
   {
    "duration": 35,
    "start_time": "2023-02-03T14:16:15.966Z"
   },
   {
    "duration": 28,
    "start_time": "2023-02-03T14:16:16.003Z"
   },
   {
    "duration": 10,
    "start_time": "2023-02-03T14:16:16.032Z"
   },
   {
    "duration": 43,
    "start_time": "2023-02-03T14:16:16.043Z"
   },
   {
    "duration": 31,
    "start_time": "2023-02-03T14:16:16.088Z"
   },
   {
    "duration": 21,
    "start_time": "2023-02-03T14:16:16.121Z"
   },
   {
    "duration": 26,
    "start_time": "2023-02-03T14:16:16.145Z"
   },
   {
    "duration": 13,
    "start_time": "2023-02-03T14:16:16.172Z"
   },
   {
    "duration": 17,
    "start_time": "2023-02-03T14:16:16.188Z"
   },
   {
    "duration": 7,
    "start_time": "2023-02-03T14:16:16.206Z"
   },
   {
    "duration": 18,
    "start_time": "2023-02-03T14:16:16.215Z"
   },
   {
    "duration": 39,
    "start_time": "2023-02-03T14:16:16.234Z"
   },
   {
    "duration": 24,
    "start_time": "2023-02-03T14:16:16.281Z"
   },
   {
    "duration": 11,
    "start_time": "2023-02-03T14:16:16.307Z"
   },
   {
    "duration": 10,
    "start_time": "2023-02-03T14:16:16.320Z"
   },
   {
    "duration": 65,
    "start_time": "2023-02-03T14:16:16.333Z"
   },
   {
    "duration": 5,
    "start_time": "2023-02-03T14:16:16.401Z"
   },
   {
    "duration": 47,
    "start_time": "2023-02-03T14:16:16.407Z"
   },
   {
    "duration": 19,
    "start_time": "2023-02-03T14:16:16.471Z"
   },
   {
    "duration": 48,
    "start_time": "2023-02-03T14:16:16.491Z"
   },
   {
    "duration": 22,
    "start_time": "2023-02-03T14:16:16.541Z"
   },
   {
    "duration": 51,
    "start_time": "2023-02-03T14:16:16.564Z"
   },
   {
    "duration": 19,
    "start_time": "2023-02-03T14:16:16.616Z"
   },
   {
    "duration": 9,
    "start_time": "2023-02-03T14:16:16.637Z"
   },
   {
    "duration": 350,
    "start_time": "2023-02-03T14:16:16.649Z"
   },
   {
    "duration": 261,
    "start_time": "2023-02-03T14:16:17.001Z"
   },
   {
    "duration": 338,
    "start_time": "2023-02-03T14:16:17.268Z"
   },
   {
    "duration": 5,
    "start_time": "2023-02-03T14:16:17.608Z"
   },
   {
    "duration": 239,
    "start_time": "2023-02-03T14:16:17.615Z"
   },
   {
    "duration": 377,
    "start_time": "2023-02-03T14:16:17.856Z"
   },
   {
    "duration": 19,
    "start_time": "2023-02-03T14:16:18.235Z"
   },
   {
    "duration": 165,
    "start_time": "2023-02-03T14:16:18.269Z"
   },
   {
    "duration": 4,
    "start_time": "2023-02-03T14:16:18.435Z"
   },
   {
    "duration": 10,
    "start_time": "2023-02-03T14:16:18.440Z"
   },
   {
    "duration": 8,
    "start_time": "2023-02-03T14:16:18.467Z"
   },
   {
    "duration": 201,
    "start_time": "2023-02-03T14:16:18.477Z"
   },
   {
    "duration": 4,
    "start_time": "2023-02-03T14:16:18.682Z"
   },
   {
    "duration": 5,
    "start_time": "2023-02-03T14:16:18.688Z"
   },
   {
    "duration": 5,
    "start_time": "2023-02-03T14:16:18.695Z"
   },
   {
    "duration": 6,
    "start_time": "2023-02-03T14:16:18.701Z"
   },
   {
    "duration": 4,
    "start_time": "2023-02-03T14:16:18.708Z"
   },
   {
    "duration": 8,
    "start_time": "2023-02-03T14:16:18.714Z"
   },
   {
    "duration": 115,
    "start_time": "2023-02-03T14:16:18.724Z"
   },
   {
    "duration": 92,
    "start_time": "2023-02-03T14:16:18.840Z"
   },
   {
    "duration": 2,
    "start_time": "2023-02-03T14:16:18.934Z"
   },
   {
    "duration": 53,
    "start_time": "2023-02-03T14:16:18.937Z"
   },
   {
    "duration": 7,
    "start_time": "2023-02-03T14:16:18.992Z"
   },
   {
    "duration": 20,
    "start_time": "2023-02-03T14:16:19.001Z"
   },
   {
    "duration": 18,
    "start_time": "2023-02-03T14:16:19.023Z"
   },
   {
    "duration": 22,
    "start_time": "2023-02-03T14:16:19.043Z"
   },
   {
    "duration": 27,
    "start_time": "2023-02-03T14:16:19.066Z"
   },
   {
    "duration": 22,
    "start_time": "2023-02-03T14:16:19.097Z"
   },
   {
    "duration": 20,
    "start_time": "2023-02-03T14:16:19.121Z"
   },
   {
    "duration": 11,
    "start_time": "2023-02-03T14:16:19.143Z"
   },
   {
    "duration": 30,
    "start_time": "2023-02-03T14:16:19.155Z"
   },
   {
    "duration": 40,
    "start_time": "2023-02-03T14:16:19.187Z"
   },
   {
    "duration": 1101,
    "start_time": "2023-02-04T10:02:21.950Z"
   },
   {
    "duration": 305,
    "start_time": "2023-02-04T10:02:23.053Z"
   },
   {
    "duration": 4,
    "start_time": "2023-02-04T10:02:23.360Z"
   },
   {
    "duration": 33,
    "start_time": "2023-02-04T10:02:23.366Z"
   },
   {
    "duration": 29,
    "start_time": "2023-02-04T10:02:23.400Z"
   },
   {
    "duration": 11,
    "start_time": "2023-02-04T10:02:23.431Z"
   },
   {
    "duration": 16,
    "start_time": "2023-02-04T10:02:23.444Z"
   },
   {
    "duration": 45,
    "start_time": "2023-02-04T10:02:23.462Z"
   },
   {
    "duration": 23,
    "start_time": "2023-02-04T10:02:23.509Z"
   },
   {
    "duration": 12,
    "start_time": "2023-02-04T10:02:23.535Z"
   },
   {
    "duration": 10,
    "start_time": "2023-02-04T10:02:23.549Z"
   },
   {
    "duration": 40,
    "start_time": "2023-02-04T10:02:23.561Z"
   },
   {
    "duration": 16,
    "start_time": "2023-02-04T10:02:23.603Z"
   },
   {
    "duration": 19,
    "start_time": "2023-02-04T10:02:23.620Z"
   },
   {
    "duration": 6,
    "start_time": "2023-02-04T10:02:23.640Z"
   },
   {
    "duration": 15,
    "start_time": "2023-02-04T10:02:23.647Z"
   },
   {
    "duration": 9,
    "start_time": "2023-02-04T10:02:23.664Z"
   },
   {
    "duration": 4,
    "start_time": "2023-02-04T10:02:23.691Z"
   },
   {
    "duration": 44,
    "start_time": "2023-02-04T10:02:23.697Z"
   },
   {
    "duration": 4,
    "start_time": "2023-02-04T10:02:23.743Z"
   },
   {
    "duration": 77,
    "start_time": "2023-02-04T10:02:23.748Z"
   },
   {
    "duration": 46,
    "start_time": "2023-02-04T10:02:23.827Z"
   },
   {
    "duration": 58,
    "start_time": "2023-02-04T10:02:23.875Z"
   },
   {
    "duration": 13,
    "start_time": "2023-02-04T10:02:23.934Z"
   },
   {
    "duration": 62,
    "start_time": "2023-02-04T10:02:23.949Z"
   },
   {
    "duration": 20,
    "start_time": "2023-02-04T10:02:24.013Z"
   },
   {
    "duration": 10,
    "start_time": "2023-02-04T10:02:24.035Z"
   },
   {
    "duration": 317,
    "start_time": "2023-02-04T10:02:24.048Z"
   },
   {
    "duration": 236,
    "start_time": "2023-02-04T10:02:24.366Z"
   },
   {
    "duration": 378,
    "start_time": "2023-02-04T10:02:24.604Z"
   },
   {
    "duration": 11,
    "start_time": "2023-02-04T10:02:24.984Z"
   },
   {
    "duration": 258,
    "start_time": "2023-02-04T10:02:24.997Z"
   },
   {
    "duration": 303,
    "start_time": "2023-02-04T10:02:25.256Z"
   },
   {
    "duration": 13,
    "start_time": "2023-02-04T10:02:25.561Z"
   },
   {
    "duration": 190,
    "start_time": "2023-02-04T10:02:25.575Z"
   },
   {
    "duration": 5,
    "start_time": "2023-02-04T10:02:25.766Z"
   },
   {
    "duration": 7,
    "start_time": "2023-02-04T10:02:25.772Z"
   },
   {
    "duration": 5,
    "start_time": "2023-02-04T10:02:25.792Z"
   },
   {
    "duration": 188,
    "start_time": "2023-02-04T10:02:25.798Z"
   },
   {
    "duration": 5,
    "start_time": "2023-02-04T10:02:25.991Z"
   },
   {
    "duration": 11,
    "start_time": "2023-02-04T10:02:25.997Z"
   },
   {
    "duration": 5,
    "start_time": "2023-02-04T10:02:26.010Z"
   },
   {
    "duration": 16,
    "start_time": "2023-02-04T10:02:26.017Z"
   },
   {
    "duration": 18,
    "start_time": "2023-02-04T10:02:26.035Z"
   },
   {
    "duration": 10,
    "start_time": "2023-02-04T10:02:26.054Z"
   },
   {
    "duration": 98,
    "start_time": "2023-02-04T10:02:26.066Z"
   },
   {
    "duration": 95,
    "start_time": "2023-02-04T10:02:26.165Z"
   },
   {
    "duration": 3,
    "start_time": "2023-02-04T10:02:26.262Z"
   },
   {
    "duration": 57,
    "start_time": "2023-02-04T10:02:26.267Z"
   },
   {
    "duration": 26,
    "start_time": "2023-02-04T10:02:26.326Z"
   },
   {
    "duration": 44,
    "start_time": "2023-02-04T10:02:26.354Z"
   },
   {
    "duration": 13,
    "start_time": "2023-02-04T10:02:26.400Z"
   },
   {
    "duration": 15,
    "start_time": "2023-02-04T10:02:26.415Z"
   },
   {
    "duration": 17,
    "start_time": "2023-02-04T10:02:26.432Z"
   },
   {
    "duration": 14,
    "start_time": "2023-02-04T10:02:26.451Z"
   },
   {
    "duration": 22,
    "start_time": "2023-02-04T10:02:26.467Z"
   },
   {
    "duration": 18,
    "start_time": "2023-02-04T10:02:26.492Z"
   },
   {
    "duration": 11,
    "start_time": "2023-02-04T10:02:26.512Z"
   },
   {
    "duration": 28,
    "start_time": "2023-02-04T10:02:26.525Z"
   },
   {
    "duration": 74,
    "start_time": "2023-02-04T10:05:20.878Z"
   }
  ],
  "kernelspec": {
   "display_name": "Python 3 (ipykernel)",
   "language": "python",
   "name": "python3"
  },
  "language_info": {
   "codemirror_mode": {
    "name": "ipython",
    "version": 3
   },
   "file_extension": ".py",
   "mimetype": "text/x-python",
   "name": "python",
   "nbconvert_exporter": "python",
   "pygments_lexer": "ipython3",
   "version": "3.9.12"
  },
  "toc": {
   "base_numbering": 1,
   "nav_menu": {},
   "number_sections": true,
   "sideBar": true,
   "skip_h1_title": true,
   "title_cell": "Содержание",
   "title_sidebar": "",
   "toc_cell": true,
   "toc_position": {
    "height": "calc(100% - 180px)",
    "left": "10px",
    "top": "150px",
    "width": "165px"
   },
   "toc_section_display": true,
   "toc_window_display": false
  }
 },
 "nbformat": 4,
 "nbformat_minor": 2
}
