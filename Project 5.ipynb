{
 "cells": [
  {
   "cell_type": "markdown",
   "id": "9026f52f",
   "metadata": {},
   "source": [
    "**Contents**\n",
    "\n",
    "1. [Open files](#open_files)\n",
    "\n",
    "\n",
    "2. [Data preprocessing](#preprocessing)\n",
    "\n",
    "      2.1 [Missing values](#missing_values)\n",
    "      \n",
    "      2.2 [Outliers analysis](#outliers) \n",
    "      \n",
    "      2.3 [Variable types](#types) \n",
    "      \n",
    "      2.4 [Duplicates processing](#duplicates) \n",
    "      \n",
    "      2.5 [Data categorization](#categorization)\n",
    "      \n",
    "      \n",
    "3. [EDA](#eda)\n",
    "\n",
    "      3.1 [Relationship between the number of children and loan repayment on time](#children_and_debt)\n",
    "      \n",
    "      3.2 [Relationship between marital status and loan repayment on time](#marriage_and_debt)\n",
    "      \n",
    "      3.3 [Relationship between income level and loan repayment on time](#income_and_debt)\n",
    "      \n",
    "      3.4 [Relationship between purposes of a loan and loan repayment on time](#purpose_and_debt)\n",
    "      \n",
    "      \n",
    "4. [General conclusion](#conclusion)"
   ]
  },
  {
   "cell_type": "markdown",
   "id": "7b481241",
   "metadata": {},
   "source": [
    "# Study of the bank borrower reliability\n",
    "\n",
    "**Input data** from the bank - statistics on the solvency of customers. The customer is the credit department of the bank. It is necessary to find out whether the marital status and the number of children of the client affect the fact of repaying the loan on time. The results of the study will be taken into account when building a credit scoring model - a special system that assesses the ability of a potential borrower to return a loan to a bank.\n",
    "\n",
    "**Purpose**: Using data from the Yandex.Realty service, determine the market value of real estate and typical parameters of apartments.\n",
    "\n",
    "**Datasets structure**:\n",
    "\n",
    "- `children` — number of children in the family\n",
    "- `days_employed` — total work experience in days\n",
    "- `dob_years` — client's age in years\n",
    "- `education` — the level of education of the client\n",
    "- `education_id` — education level identifier\n",
    "- `family_status` — marital status\n",
    "- `family_status_id` — marital status identifier\n",
    "- `gender` — gender of the client\n",
    "- `income_type` — type of employment\n",
    "- `debt` — whether he had debt to repay loans\n",
    "- `total_income` — monthly income\n",
    "- `purpose` — the purpose of obtaining a loan"
   ]
  },
  {
   "cell_type": "code",
   "execution_count": null,
   "id": "475223d3",
   "metadata": {},
   "outputs": [],
   "source": [
    "# Loading the required libraries\n",
    "import pandas as pd\n",
    "import seaborn as sns\n",
    "import matplotlib.pyplot as plt"
   ]
  },
  {
   "cell_type": "markdown",
   "id": "d9e340f4",
   "metadata": {},
   "source": [
    "<a id=\"open_files\"></a> \n",
    "\n",
    "## 1. Open files"
   ]
  },
  {
   "cell_type": "code",
   "execution_count": 1,
   "id": "cb4d91c8",
   "metadata": {},
   "outputs": [],
   "source": [
    "# Reading file\n",
    "data = pd.read_csv('https://code.s3.yandex.net/datasets/data.csv')"
   ]
  },
  {
   "cell_type": "code",
   "execution_count": 2,
   "id": "e656903d",
   "metadata": {},
   "outputs": [
    {
     "data": {
      "text/html": [
       "<div>\n",
       "<style scoped>\n",
       "    .dataframe tbody tr th:only-of-type {\n",
       "        vertical-align: middle;\n",
       "    }\n",
       "\n",
       "    .dataframe tbody tr th {\n",
       "        vertical-align: top;\n",
       "    }\n",
       "\n",
       "    .dataframe thead th {\n",
       "        text-align: right;\n",
       "    }\n",
       "</style>\n",
       "<table border=\"1\" class=\"dataframe\">\n",
       "  <thead>\n",
       "    <tr style=\"text-align: right;\">\n",
       "      <th></th>\n",
       "      <th>children</th>\n",
       "      <th>days_employed</th>\n",
       "      <th>dob_years</th>\n",
       "      <th>education</th>\n",
       "      <th>education_id</th>\n",
       "      <th>family_status</th>\n",
       "      <th>family_status_id</th>\n",
       "      <th>gender</th>\n",
       "      <th>income_type</th>\n",
       "      <th>debt</th>\n",
       "      <th>total_income</th>\n",
       "      <th>purpose</th>\n",
       "    </tr>\n",
       "  </thead>\n",
       "  <tbody>\n",
       "    <tr>\n",
       "      <th>0</th>\n",
       "      <td>1</td>\n",
       "      <td>-8437.673028</td>\n",
       "      <td>42</td>\n",
       "      <td>высшее</td>\n",
       "      <td>0</td>\n",
       "      <td>женат / замужем</td>\n",
       "      <td>0</td>\n",
       "      <td>F</td>\n",
       "      <td>сотрудник</td>\n",
       "      <td>0</td>\n",
       "      <td>253875.639453</td>\n",
       "      <td>покупка жилья</td>\n",
       "    </tr>\n",
       "    <tr>\n",
       "      <th>1</th>\n",
       "      <td>1</td>\n",
       "      <td>-4024.803754</td>\n",
       "      <td>36</td>\n",
       "      <td>среднее</td>\n",
       "      <td>1</td>\n",
       "      <td>женат / замужем</td>\n",
       "      <td>0</td>\n",
       "      <td>F</td>\n",
       "      <td>сотрудник</td>\n",
       "      <td>0</td>\n",
       "      <td>112080.014102</td>\n",
       "      <td>приобретение автомобиля</td>\n",
       "    </tr>\n",
       "    <tr>\n",
       "      <th>2</th>\n",
       "      <td>0</td>\n",
       "      <td>-5623.422610</td>\n",
       "      <td>33</td>\n",
       "      <td>Среднее</td>\n",
       "      <td>1</td>\n",
       "      <td>женат / замужем</td>\n",
       "      <td>0</td>\n",
       "      <td>M</td>\n",
       "      <td>сотрудник</td>\n",
       "      <td>0</td>\n",
       "      <td>145885.952297</td>\n",
       "      <td>покупка жилья</td>\n",
       "    </tr>\n",
       "    <tr>\n",
       "      <th>3</th>\n",
       "      <td>3</td>\n",
       "      <td>-4124.747207</td>\n",
       "      <td>32</td>\n",
       "      <td>среднее</td>\n",
       "      <td>1</td>\n",
       "      <td>женат / замужем</td>\n",
       "      <td>0</td>\n",
       "      <td>M</td>\n",
       "      <td>сотрудник</td>\n",
       "      <td>0</td>\n",
       "      <td>267628.550329</td>\n",
       "      <td>дополнительное образование</td>\n",
       "    </tr>\n",
       "    <tr>\n",
       "      <th>4</th>\n",
       "      <td>0</td>\n",
       "      <td>340266.072047</td>\n",
       "      <td>53</td>\n",
       "      <td>среднее</td>\n",
       "      <td>1</td>\n",
       "      <td>гражданский брак</td>\n",
       "      <td>1</td>\n",
       "      <td>F</td>\n",
       "      <td>пенсионер</td>\n",
       "      <td>0</td>\n",
       "      <td>158616.077870</td>\n",
       "      <td>сыграть свадьбу</td>\n",
       "    </tr>\n",
       "    <tr>\n",
       "      <th>5</th>\n",
       "      <td>0</td>\n",
       "      <td>-926.185831</td>\n",
       "      <td>27</td>\n",
       "      <td>высшее</td>\n",
       "      <td>0</td>\n",
       "      <td>гражданский брак</td>\n",
       "      <td>1</td>\n",
       "      <td>M</td>\n",
       "      <td>компаньон</td>\n",
       "      <td>0</td>\n",
       "      <td>255763.565419</td>\n",
       "      <td>покупка жилья</td>\n",
       "    </tr>\n",
       "    <tr>\n",
       "      <th>6</th>\n",
       "      <td>0</td>\n",
       "      <td>-2879.202052</td>\n",
       "      <td>43</td>\n",
       "      <td>высшее</td>\n",
       "      <td>0</td>\n",
       "      <td>женат / замужем</td>\n",
       "      <td>0</td>\n",
       "      <td>F</td>\n",
       "      <td>компаньон</td>\n",
       "      <td>0</td>\n",
       "      <td>240525.971920</td>\n",
       "      <td>операции с жильем</td>\n",
       "    </tr>\n",
       "    <tr>\n",
       "      <th>7</th>\n",
       "      <td>0</td>\n",
       "      <td>-152.779569</td>\n",
       "      <td>50</td>\n",
       "      <td>СРЕДНЕЕ</td>\n",
       "      <td>1</td>\n",
       "      <td>женат / замужем</td>\n",
       "      <td>0</td>\n",
       "      <td>M</td>\n",
       "      <td>сотрудник</td>\n",
       "      <td>0</td>\n",
       "      <td>135823.934197</td>\n",
       "      <td>образование</td>\n",
       "    </tr>\n",
       "    <tr>\n",
       "      <th>8</th>\n",
       "      <td>2</td>\n",
       "      <td>-6929.865299</td>\n",
       "      <td>35</td>\n",
       "      <td>ВЫСШЕЕ</td>\n",
       "      <td>0</td>\n",
       "      <td>гражданский брак</td>\n",
       "      <td>1</td>\n",
       "      <td>F</td>\n",
       "      <td>сотрудник</td>\n",
       "      <td>0</td>\n",
       "      <td>95856.832424</td>\n",
       "      <td>на проведение свадьбы</td>\n",
       "    </tr>\n",
       "    <tr>\n",
       "      <th>9</th>\n",
       "      <td>0</td>\n",
       "      <td>-2188.756445</td>\n",
       "      <td>41</td>\n",
       "      <td>среднее</td>\n",
       "      <td>1</td>\n",
       "      <td>женат / замужем</td>\n",
       "      <td>0</td>\n",
       "      <td>M</td>\n",
       "      <td>сотрудник</td>\n",
       "      <td>0</td>\n",
       "      <td>144425.938277</td>\n",
       "      <td>покупка жилья для семьи</td>\n",
       "    </tr>\n",
       "    <tr>\n",
       "      <th>10</th>\n",
       "      <td>2</td>\n",
       "      <td>-4171.483647</td>\n",
       "      <td>36</td>\n",
       "      <td>высшее</td>\n",
       "      <td>0</td>\n",
       "      <td>женат / замужем</td>\n",
       "      <td>0</td>\n",
       "      <td>M</td>\n",
       "      <td>компаньон</td>\n",
       "      <td>0</td>\n",
       "      <td>113943.491460</td>\n",
       "      <td>покупка недвижимости</td>\n",
       "    </tr>\n",
       "    <tr>\n",
       "      <th>11</th>\n",
       "      <td>0</td>\n",
       "      <td>-792.701887</td>\n",
       "      <td>40</td>\n",
       "      <td>среднее</td>\n",
       "      <td>1</td>\n",
       "      <td>женат / замужем</td>\n",
       "      <td>0</td>\n",
       "      <td>F</td>\n",
       "      <td>сотрудник</td>\n",
       "      <td>0</td>\n",
       "      <td>77069.234271</td>\n",
       "      <td>покупка коммерческой недвижимости</td>\n",
       "    </tr>\n",
       "    <tr>\n",
       "      <th>12</th>\n",
       "      <td>0</td>\n",
       "      <td>NaN</td>\n",
       "      <td>65</td>\n",
       "      <td>среднее</td>\n",
       "      <td>1</td>\n",
       "      <td>гражданский брак</td>\n",
       "      <td>1</td>\n",
       "      <td>M</td>\n",
       "      <td>пенсионер</td>\n",
       "      <td>0</td>\n",
       "      <td>NaN</td>\n",
       "      <td>сыграть свадьбу</td>\n",
       "    </tr>\n",
       "    <tr>\n",
       "      <th>13</th>\n",
       "      <td>0</td>\n",
       "      <td>-1846.641941</td>\n",
       "      <td>54</td>\n",
       "      <td>неоконченное высшее</td>\n",
       "      <td>2</td>\n",
       "      <td>женат / замужем</td>\n",
       "      <td>0</td>\n",
       "      <td>F</td>\n",
       "      <td>сотрудник</td>\n",
       "      <td>0</td>\n",
       "      <td>130458.228857</td>\n",
       "      <td>приобретение автомобиля</td>\n",
       "    </tr>\n",
       "    <tr>\n",
       "      <th>14</th>\n",
       "      <td>0</td>\n",
       "      <td>-1844.956182</td>\n",
       "      <td>56</td>\n",
       "      <td>высшее</td>\n",
       "      <td>0</td>\n",
       "      <td>гражданский брак</td>\n",
       "      <td>1</td>\n",
       "      <td>F</td>\n",
       "      <td>компаньон</td>\n",
       "      <td>1</td>\n",
       "      <td>165127.911772</td>\n",
       "      <td>покупка жилой недвижимости</td>\n",
       "    </tr>\n",
       "    <tr>\n",
       "      <th>15</th>\n",
       "      <td>1</td>\n",
       "      <td>-972.364419</td>\n",
       "      <td>26</td>\n",
       "      <td>среднее</td>\n",
       "      <td>1</td>\n",
       "      <td>женат / замужем</td>\n",
       "      <td>0</td>\n",
       "      <td>F</td>\n",
       "      <td>сотрудник</td>\n",
       "      <td>0</td>\n",
       "      <td>116820.904450</td>\n",
       "      <td>строительство собственной недвижимости</td>\n",
       "    </tr>\n",
       "    <tr>\n",
       "      <th>16</th>\n",
       "      <td>0</td>\n",
       "      <td>-1719.934226</td>\n",
       "      <td>35</td>\n",
       "      <td>среднее</td>\n",
       "      <td>1</td>\n",
       "      <td>женат / замужем</td>\n",
       "      <td>0</td>\n",
       "      <td>F</td>\n",
       "      <td>сотрудник</td>\n",
       "      <td>0</td>\n",
       "      <td>289202.704229</td>\n",
       "      <td>недвижимость</td>\n",
       "    </tr>\n",
       "    <tr>\n",
       "      <th>17</th>\n",
       "      <td>0</td>\n",
       "      <td>-2369.999720</td>\n",
       "      <td>33</td>\n",
       "      <td>высшее</td>\n",
       "      <td>0</td>\n",
       "      <td>гражданский брак</td>\n",
       "      <td>1</td>\n",
       "      <td>M</td>\n",
       "      <td>сотрудник</td>\n",
       "      <td>0</td>\n",
       "      <td>90410.586745</td>\n",
       "      <td>строительство недвижимости</td>\n",
       "    </tr>\n",
       "    <tr>\n",
       "      <th>18</th>\n",
       "      <td>0</td>\n",
       "      <td>400281.136913</td>\n",
       "      <td>53</td>\n",
       "      <td>среднее</td>\n",
       "      <td>1</td>\n",
       "      <td>вдовец / вдова</td>\n",
       "      <td>2</td>\n",
       "      <td>F</td>\n",
       "      <td>пенсионер</td>\n",
       "      <td>0</td>\n",
       "      <td>56823.777243</td>\n",
       "      <td>на покупку подержанного автомобиля</td>\n",
       "    </tr>\n",
       "    <tr>\n",
       "      <th>19</th>\n",
       "      <td>0</td>\n",
       "      <td>-10038.818549</td>\n",
       "      <td>48</td>\n",
       "      <td>СРЕДНЕЕ</td>\n",
       "      <td>1</td>\n",
       "      <td>в разводе</td>\n",
       "      <td>3</td>\n",
       "      <td>F</td>\n",
       "      <td>сотрудник</td>\n",
       "      <td>0</td>\n",
       "      <td>242831.107982</td>\n",
       "      <td>на покупку своего автомобиля</td>\n",
       "    </tr>\n",
       "  </tbody>\n",
       "</table>\n",
       "</div>"
      ],
      "text/plain": [
       "    children  days_employed  dob_years            education  education_id  \\\n",
       "0          1   -8437.673028         42               высшее             0   \n",
       "1          1   -4024.803754         36              среднее             1   \n",
       "2          0   -5623.422610         33              Среднее             1   \n",
       "3          3   -4124.747207         32              среднее             1   \n",
       "4          0  340266.072047         53              среднее             1   \n",
       "5          0    -926.185831         27               высшее             0   \n",
       "6          0   -2879.202052         43               высшее             0   \n",
       "7          0    -152.779569         50              СРЕДНЕЕ             1   \n",
       "8          2   -6929.865299         35               ВЫСШЕЕ             0   \n",
       "9          0   -2188.756445         41              среднее             1   \n",
       "10         2   -4171.483647         36               высшее             0   \n",
       "11         0    -792.701887         40              среднее             1   \n",
       "12         0            NaN         65              среднее             1   \n",
       "13         0   -1846.641941         54  неоконченное высшее             2   \n",
       "14         0   -1844.956182         56               высшее             0   \n",
       "15         1    -972.364419         26              среднее             1   \n",
       "16         0   -1719.934226         35              среднее             1   \n",
       "17         0   -2369.999720         33               высшее             0   \n",
       "18         0  400281.136913         53              среднее             1   \n",
       "19         0  -10038.818549         48              СРЕДНЕЕ             1   \n",
       "\n",
       "       family_status  family_status_id gender income_type  debt  \\\n",
       "0    женат / замужем                 0      F   сотрудник     0   \n",
       "1    женат / замужем                 0      F   сотрудник     0   \n",
       "2    женат / замужем                 0      M   сотрудник     0   \n",
       "3    женат / замужем                 0      M   сотрудник     0   \n",
       "4   гражданский брак                 1      F   пенсионер     0   \n",
       "5   гражданский брак                 1      M   компаньон     0   \n",
       "6    женат / замужем                 0      F   компаньон     0   \n",
       "7    женат / замужем                 0      M   сотрудник     0   \n",
       "8   гражданский брак                 1      F   сотрудник     0   \n",
       "9    женат / замужем                 0      M   сотрудник     0   \n",
       "10   женат / замужем                 0      M   компаньон     0   \n",
       "11   женат / замужем                 0      F   сотрудник     0   \n",
       "12  гражданский брак                 1      M   пенсионер     0   \n",
       "13   женат / замужем                 0      F   сотрудник     0   \n",
       "14  гражданский брак                 1      F   компаньон     1   \n",
       "15   женат / замужем                 0      F   сотрудник     0   \n",
       "16   женат / замужем                 0      F   сотрудник     0   \n",
       "17  гражданский брак                 1      M   сотрудник     0   \n",
       "18    вдовец / вдова                 2      F   пенсионер     0   \n",
       "19         в разводе                 3      F   сотрудник     0   \n",
       "\n",
       "     total_income                                 purpose  \n",
       "0   253875.639453                           покупка жилья  \n",
       "1   112080.014102                 приобретение автомобиля  \n",
       "2   145885.952297                           покупка жилья  \n",
       "3   267628.550329              дополнительное образование  \n",
       "4   158616.077870                         сыграть свадьбу  \n",
       "5   255763.565419                           покупка жилья  \n",
       "6   240525.971920                       операции с жильем  \n",
       "7   135823.934197                             образование  \n",
       "8    95856.832424                   на проведение свадьбы  \n",
       "9   144425.938277                 покупка жилья для семьи  \n",
       "10  113943.491460                    покупка недвижимости  \n",
       "11   77069.234271       покупка коммерческой недвижимости  \n",
       "12            NaN                         сыграть свадьбу  \n",
       "13  130458.228857                 приобретение автомобиля  \n",
       "14  165127.911772              покупка жилой недвижимости  \n",
       "15  116820.904450  строительство собственной недвижимости  \n",
       "16  289202.704229                            недвижимость  \n",
       "17   90410.586745              строительство недвижимости  \n",
       "18   56823.777243      на покупку подержанного автомобиля  \n",
       "19  242831.107982            на покупку своего автомобиля  "
      ]
     },
     "execution_count": 2,
     "metadata": {},
     "output_type": "execute_result"
    }
   ],
   "source": [
    "# First 20 rows of dataset\n",
    "data.head(20)"
   ]
  },
  {
   "cell_type": "code",
   "execution_count": 3,
   "id": "0594ca9b",
   "metadata": {},
   "outputs": [
    {
     "name": "stdout",
     "output_type": "stream",
     "text": [
      "<class 'pandas.core.frame.DataFrame'>\n",
      "RangeIndex: 21525 entries, 0 to 21524\n",
      "Data columns (total 12 columns):\n",
      " #   Column            Non-Null Count  Dtype  \n",
      "---  ------            --------------  -----  \n",
      " 0   children          21525 non-null  int64  \n",
      " 1   days_employed     19351 non-null  float64\n",
      " 2   dob_years         21525 non-null  int64  \n",
      " 3   education         21525 non-null  object \n",
      " 4   education_id      21525 non-null  int64  \n",
      " 5   family_status     21525 non-null  object \n",
      " 6   family_status_id  21525 non-null  int64  \n",
      " 7   gender            21525 non-null  object \n",
      " 8   income_type       21525 non-null  object \n",
      " 9   debt              21525 non-null  int64  \n",
      " 10  total_income      19351 non-null  float64\n",
      " 11  purpose           21525 non-null  object \n",
      "dtypes: float64(2), int64(5), object(5)\n",
      "memory usage: 2.0+ MB\n"
     ]
    }
   ],
   "source": [
    "# General information about dataset\n",
    "data.info()"
   ]
  },
  {
   "cell_type": "markdown",
   "id": "d13e2f0e",
   "metadata": {},
   "source": [
    "Let's create a separate `na_data` dataset with rows that have missing values for further study."
   ]
  },
  {
   "cell_type": "code",
   "execution_count": 4,
   "id": "cdc80371",
   "metadata": {},
   "outputs": [
    {
     "data": {
      "text/html": [
       "<div>\n",
       "<style scoped>\n",
       "    .dataframe tbody tr th:only-of-type {\n",
       "        vertical-align: middle;\n",
       "    }\n",
       "\n",
       "    .dataframe tbody tr th {\n",
       "        vertical-align: top;\n",
       "    }\n",
       "\n",
       "    .dataframe thead th {\n",
       "        text-align: right;\n",
       "    }\n",
       "</style>\n",
       "<table border=\"1\" class=\"dataframe\">\n",
       "  <thead>\n",
       "    <tr style=\"text-align: right;\">\n",
       "      <th></th>\n",
       "      <th>children</th>\n",
       "      <th>days_employed</th>\n",
       "      <th>dob_years</th>\n",
       "      <th>education</th>\n",
       "      <th>education_id</th>\n",
       "      <th>family_status</th>\n",
       "      <th>family_status_id</th>\n",
       "      <th>gender</th>\n",
       "      <th>income_type</th>\n",
       "      <th>debt</th>\n",
       "      <th>total_income</th>\n",
       "      <th>purpose</th>\n",
       "    </tr>\n",
       "  </thead>\n",
       "  <tbody>\n",
       "    <tr>\n",
       "      <th>12</th>\n",
       "      <td>0</td>\n",
       "      <td>NaN</td>\n",
       "      <td>65</td>\n",
       "      <td>среднее</td>\n",
       "      <td>1</td>\n",
       "      <td>гражданский брак</td>\n",
       "      <td>1</td>\n",
       "      <td>M</td>\n",
       "      <td>пенсионер</td>\n",
       "      <td>0</td>\n",
       "      <td>NaN</td>\n",
       "      <td>сыграть свадьбу</td>\n",
       "    </tr>\n",
       "    <tr>\n",
       "      <th>26</th>\n",
       "      <td>0</td>\n",
       "      <td>NaN</td>\n",
       "      <td>41</td>\n",
       "      <td>среднее</td>\n",
       "      <td>1</td>\n",
       "      <td>женат / замужем</td>\n",
       "      <td>0</td>\n",
       "      <td>M</td>\n",
       "      <td>госслужащий</td>\n",
       "      <td>0</td>\n",
       "      <td>NaN</td>\n",
       "      <td>образование</td>\n",
       "    </tr>\n",
       "    <tr>\n",
       "      <th>29</th>\n",
       "      <td>0</td>\n",
       "      <td>NaN</td>\n",
       "      <td>63</td>\n",
       "      <td>среднее</td>\n",
       "      <td>1</td>\n",
       "      <td>Не женат / не замужем</td>\n",
       "      <td>4</td>\n",
       "      <td>F</td>\n",
       "      <td>пенсионер</td>\n",
       "      <td>0</td>\n",
       "      <td>NaN</td>\n",
       "      <td>строительство жилой недвижимости</td>\n",
       "    </tr>\n",
       "    <tr>\n",
       "      <th>41</th>\n",
       "      <td>0</td>\n",
       "      <td>NaN</td>\n",
       "      <td>50</td>\n",
       "      <td>среднее</td>\n",
       "      <td>1</td>\n",
       "      <td>женат / замужем</td>\n",
       "      <td>0</td>\n",
       "      <td>F</td>\n",
       "      <td>госслужащий</td>\n",
       "      <td>0</td>\n",
       "      <td>NaN</td>\n",
       "      <td>сделка с подержанным автомобилем</td>\n",
       "    </tr>\n",
       "    <tr>\n",
       "      <th>55</th>\n",
       "      <td>0</td>\n",
       "      <td>NaN</td>\n",
       "      <td>54</td>\n",
       "      <td>среднее</td>\n",
       "      <td>1</td>\n",
       "      <td>гражданский брак</td>\n",
       "      <td>1</td>\n",
       "      <td>F</td>\n",
       "      <td>пенсионер</td>\n",
       "      <td>1</td>\n",
       "      <td>NaN</td>\n",
       "      <td>сыграть свадьбу</td>\n",
       "    </tr>\n",
       "    <tr>\n",
       "      <th>65</th>\n",
       "      <td>0</td>\n",
       "      <td>NaN</td>\n",
       "      <td>21</td>\n",
       "      <td>среднее</td>\n",
       "      <td>1</td>\n",
       "      <td>Не женат / не замужем</td>\n",
       "      <td>4</td>\n",
       "      <td>M</td>\n",
       "      <td>компаньон</td>\n",
       "      <td>0</td>\n",
       "      <td>NaN</td>\n",
       "      <td>операции с коммерческой недвижимостью</td>\n",
       "    </tr>\n",
       "    <tr>\n",
       "      <th>67</th>\n",
       "      <td>0</td>\n",
       "      <td>NaN</td>\n",
       "      <td>52</td>\n",
       "      <td>высшее</td>\n",
       "      <td>0</td>\n",
       "      <td>женат / замужем</td>\n",
       "      <td>0</td>\n",
       "      <td>F</td>\n",
       "      <td>пенсионер</td>\n",
       "      <td>0</td>\n",
       "      <td>NaN</td>\n",
       "      <td>покупка жилья для семьи</td>\n",
       "    </tr>\n",
       "    <tr>\n",
       "      <th>72</th>\n",
       "      <td>1</td>\n",
       "      <td>NaN</td>\n",
       "      <td>32</td>\n",
       "      <td>высшее</td>\n",
       "      <td>0</td>\n",
       "      <td>женат / замужем</td>\n",
       "      <td>0</td>\n",
       "      <td>M</td>\n",
       "      <td>госслужащий</td>\n",
       "      <td>0</td>\n",
       "      <td>NaN</td>\n",
       "      <td>операции с коммерческой недвижимостью</td>\n",
       "    </tr>\n",
       "    <tr>\n",
       "      <th>82</th>\n",
       "      <td>2</td>\n",
       "      <td>NaN</td>\n",
       "      <td>50</td>\n",
       "      <td>высшее</td>\n",
       "      <td>0</td>\n",
       "      <td>женат / замужем</td>\n",
       "      <td>0</td>\n",
       "      <td>F</td>\n",
       "      <td>сотрудник</td>\n",
       "      <td>0</td>\n",
       "      <td>NaN</td>\n",
       "      <td>жилье</td>\n",
       "    </tr>\n",
       "    <tr>\n",
       "      <th>83</th>\n",
       "      <td>0</td>\n",
       "      <td>NaN</td>\n",
       "      <td>52</td>\n",
       "      <td>среднее</td>\n",
       "      <td>1</td>\n",
       "      <td>женат / замужем</td>\n",
       "      <td>0</td>\n",
       "      <td>M</td>\n",
       "      <td>сотрудник</td>\n",
       "      <td>0</td>\n",
       "      <td>NaN</td>\n",
       "      <td>жилье</td>\n",
       "    </tr>\n",
       "    <tr>\n",
       "      <th>90</th>\n",
       "      <td>2</td>\n",
       "      <td>NaN</td>\n",
       "      <td>35</td>\n",
       "      <td>высшее</td>\n",
       "      <td>0</td>\n",
       "      <td>женат / замужем</td>\n",
       "      <td>0</td>\n",
       "      <td>F</td>\n",
       "      <td>сотрудник</td>\n",
       "      <td>0</td>\n",
       "      <td>NaN</td>\n",
       "      <td>операции с жильем</td>\n",
       "    </tr>\n",
       "    <tr>\n",
       "      <th>94</th>\n",
       "      <td>1</td>\n",
       "      <td>NaN</td>\n",
       "      <td>34</td>\n",
       "      <td>высшее</td>\n",
       "      <td>0</td>\n",
       "      <td>гражданский брак</td>\n",
       "      <td>1</td>\n",
       "      <td>F</td>\n",
       "      <td>компаньон</td>\n",
       "      <td>0</td>\n",
       "      <td>NaN</td>\n",
       "      <td>на проведение свадьбы</td>\n",
       "    </tr>\n",
       "    <tr>\n",
       "      <th>96</th>\n",
       "      <td>0</td>\n",
       "      <td>NaN</td>\n",
       "      <td>44</td>\n",
       "      <td>СРЕДНЕЕ</td>\n",
       "      <td>1</td>\n",
       "      <td>женат / замужем</td>\n",
       "      <td>0</td>\n",
       "      <td>F</td>\n",
       "      <td>сотрудник</td>\n",
       "      <td>0</td>\n",
       "      <td>NaN</td>\n",
       "      <td>покупка жилой недвижимости</td>\n",
       "    </tr>\n",
       "    <tr>\n",
       "      <th>97</th>\n",
       "      <td>0</td>\n",
       "      <td>NaN</td>\n",
       "      <td>47</td>\n",
       "      <td>высшее</td>\n",
       "      <td>0</td>\n",
       "      <td>женат / замужем</td>\n",
       "      <td>0</td>\n",
       "      <td>F</td>\n",
       "      <td>сотрудник</td>\n",
       "      <td>0</td>\n",
       "      <td>NaN</td>\n",
       "      <td>профильное образование</td>\n",
       "    </tr>\n",
       "    <tr>\n",
       "      <th>120</th>\n",
       "      <td>0</td>\n",
       "      <td>NaN</td>\n",
       "      <td>46</td>\n",
       "      <td>среднее</td>\n",
       "      <td>1</td>\n",
       "      <td>женат / замужем</td>\n",
       "      <td>0</td>\n",
       "      <td>F</td>\n",
       "      <td>сотрудник</td>\n",
       "      <td>0</td>\n",
       "      <td>NaN</td>\n",
       "      <td>высшее образование</td>\n",
       "    </tr>\n",
       "    <tr>\n",
       "      <th>121</th>\n",
       "      <td>0</td>\n",
       "      <td>NaN</td>\n",
       "      <td>29</td>\n",
       "      <td>высшее</td>\n",
       "      <td>0</td>\n",
       "      <td>женат / замужем</td>\n",
       "      <td>0</td>\n",
       "      <td>F</td>\n",
       "      <td>компаньон</td>\n",
       "      <td>0</td>\n",
       "      <td>NaN</td>\n",
       "      <td>автомобиль</td>\n",
       "    </tr>\n",
       "    <tr>\n",
       "      <th>135</th>\n",
       "      <td>0</td>\n",
       "      <td>NaN</td>\n",
       "      <td>27</td>\n",
       "      <td>среднее</td>\n",
       "      <td>1</td>\n",
       "      <td>женат / замужем</td>\n",
       "      <td>0</td>\n",
       "      <td>M</td>\n",
       "      <td>компаньон</td>\n",
       "      <td>0</td>\n",
       "      <td>NaN</td>\n",
       "      <td>жилье</td>\n",
       "    </tr>\n",
       "    <tr>\n",
       "      <th>141</th>\n",
       "      <td>0</td>\n",
       "      <td>NaN</td>\n",
       "      <td>39</td>\n",
       "      <td>среднее</td>\n",
       "      <td>1</td>\n",
       "      <td>гражданский брак</td>\n",
       "      <td>1</td>\n",
       "      <td>M</td>\n",
       "      <td>сотрудник</td>\n",
       "      <td>0</td>\n",
       "      <td>NaN</td>\n",
       "      <td>свадьба</td>\n",
       "    </tr>\n",
       "    <tr>\n",
       "      <th>145</th>\n",
       "      <td>0</td>\n",
       "      <td>NaN</td>\n",
       "      <td>62</td>\n",
       "      <td>среднее</td>\n",
       "      <td>1</td>\n",
       "      <td>женат / замужем</td>\n",
       "      <td>0</td>\n",
       "      <td>M</td>\n",
       "      <td>пенсионер</td>\n",
       "      <td>0</td>\n",
       "      <td>NaN</td>\n",
       "      <td>строительство недвижимости</td>\n",
       "    </tr>\n",
       "    <tr>\n",
       "      <th>174</th>\n",
       "      <td>0</td>\n",
       "      <td>NaN</td>\n",
       "      <td>55</td>\n",
       "      <td>высшее</td>\n",
       "      <td>0</td>\n",
       "      <td>вдовец / вдова</td>\n",
       "      <td>2</td>\n",
       "      <td>F</td>\n",
       "      <td>компаньон</td>\n",
       "      <td>0</td>\n",
       "      <td>NaN</td>\n",
       "      <td>свой автомобиль</td>\n",
       "    </tr>\n",
       "  </tbody>\n",
       "</table>\n",
       "</div>"
      ],
      "text/plain": [
       "     children  days_employed  dob_years education  education_id  \\\n",
       "12          0            NaN         65   среднее             1   \n",
       "26          0            NaN         41   среднее             1   \n",
       "29          0            NaN         63   среднее             1   \n",
       "41          0            NaN         50   среднее             1   \n",
       "55          0            NaN         54   среднее             1   \n",
       "65          0            NaN         21   среднее             1   \n",
       "67          0            NaN         52    высшее             0   \n",
       "72          1            NaN         32    высшее             0   \n",
       "82          2            NaN         50    высшее             0   \n",
       "83          0            NaN         52   среднее             1   \n",
       "90          2            NaN         35    высшее             0   \n",
       "94          1            NaN         34    высшее             0   \n",
       "96          0            NaN         44   СРЕДНЕЕ             1   \n",
       "97          0            NaN         47    высшее             0   \n",
       "120         0            NaN         46   среднее             1   \n",
       "121         0            NaN         29    высшее             0   \n",
       "135         0            NaN         27   среднее             1   \n",
       "141         0            NaN         39   среднее             1   \n",
       "145         0            NaN         62   среднее             1   \n",
       "174         0            NaN         55    высшее             0   \n",
       "\n",
       "             family_status  family_status_id gender  income_type  debt  \\\n",
       "12        гражданский брак                 1      M    пенсионер     0   \n",
       "26         женат / замужем                 0      M  госслужащий     0   \n",
       "29   Не женат / не замужем                 4      F    пенсионер     0   \n",
       "41         женат / замужем                 0      F  госслужащий     0   \n",
       "55        гражданский брак                 1      F    пенсионер     1   \n",
       "65   Не женат / не замужем                 4      M    компаньон     0   \n",
       "67         женат / замужем                 0      F    пенсионер     0   \n",
       "72         женат / замужем                 0      M  госслужащий     0   \n",
       "82         женат / замужем                 0      F    сотрудник     0   \n",
       "83         женат / замужем                 0      M    сотрудник     0   \n",
       "90         женат / замужем                 0      F    сотрудник     0   \n",
       "94        гражданский брак                 1      F    компаньон     0   \n",
       "96         женат / замужем                 0      F    сотрудник     0   \n",
       "97         женат / замужем                 0      F    сотрудник     0   \n",
       "120        женат / замужем                 0      F    сотрудник     0   \n",
       "121        женат / замужем                 0      F    компаньон     0   \n",
       "135        женат / замужем                 0      M    компаньон     0   \n",
       "141       гражданский брак                 1      M    сотрудник     0   \n",
       "145        женат / замужем                 0      M    пенсионер     0   \n",
       "174         вдовец / вдова                 2      F    компаньон     0   \n",
       "\n",
       "     total_income                                purpose  \n",
       "12            NaN                        сыграть свадьбу  \n",
       "26            NaN                            образование  \n",
       "29            NaN       строительство жилой недвижимости  \n",
       "41            NaN       сделка с подержанным автомобилем  \n",
       "55            NaN                        сыграть свадьбу  \n",
       "65            NaN  операции с коммерческой недвижимостью  \n",
       "67            NaN                покупка жилья для семьи  \n",
       "72            NaN  операции с коммерческой недвижимостью  \n",
       "82            NaN                                  жилье  \n",
       "83            NaN                                  жилье  \n",
       "90            NaN                      операции с жильем  \n",
       "94            NaN                  на проведение свадьбы  \n",
       "96            NaN             покупка жилой недвижимости  \n",
       "97            NaN                 профильное образование  \n",
       "120           NaN                     высшее образование  \n",
       "121           NaN                             автомобиль  \n",
       "135           NaN                                  жилье  \n",
       "141           NaN                                свадьба  \n",
       "145           NaN             строительство недвижимости  \n",
       "174           NaN                        свой автомобиль  "
      ]
     },
     "execution_count": 4,
     "metadata": {},
     "output_type": "execute_result"
    }
   ],
   "source": [
    "na_data = data.loc[(data['days_employed'].isna()) | (data['total_income'].isna())]\n",
    "na_data.head(20)"
   ]
  },
  {
   "cell_type": "code",
   "execution_count": 5,
   "id": "7049b61d",
   "metadata": {},
   "outputs": [
    {
     "data": {
      "text/plain": [
       "2174"
      ]
     },
     "execution_count": 5,
     "metadata": {},
     "output_type": "execute_result"
    }
   ],
   "source": [
    "# Dataframe length\n",
    "len(na_data)"
   ]
  },
  {
   "cell_type": "markdown",
   "id": "ebc89d01",
   "metadata": {},
   "source": [
    "<a id=\"preprocessing\"></a> \n",
    "\n",
    "## 2. Data preprocessing"
   ]
  },
  {
   "cell_type": "markdown",
   "id": "e2e8c208",
   "metadata": {},
   "source": [
    "<a id=\"missing_values\"></a> \n",
    "\n",
    "###      2.1 Missing values"
   ]
  },
  {
   "cell_type": "code",
   "execution_count": 6,
   "id": "12db4cf9",
   "metadata": {},
   "outputs": [
    {
     "data": {
      "text/plain": [
       "children               0\n",
       "days_employed       2174\n",
       "dob_years              0\n",
       "education              0\n",
       "education_id           0\n",
       "family_status          0\n",
       "family_status_id       0\n",
       "gender                 0\n",
       "income_type            0\n",
       "debt                   0\n",
       "total_income        2174\n",
       "purpose                0\n",
       "dtype: int64"
      ]
     },
     "execution_count": 6,
     "metadata": {},
     "output_type": "execute_result"
    }
   ],
   "source": [
    "# Count the number of missing values for each column\n",
    "data.isna().sum()"
   ]
  },
  {
   "cell_type": "markdown",
   "id": "ba18b46a",
   "metadata": {},
   "source": [
    "The amount of income is most affected by the type of employment, so fill in the gaps in this column with the median value for each type from the `income_type` column. For example, for a person with an employment type of `сотрудник` (employee), the gap in the `total_income` column should be filled with the median income among all records with the same type."
   ]
  },
  {
   "cell_type": "code",
   "execution_count": 7,
   "id": "c62838d4",
   "metadata": {},
   "outputs": [],
   "source": [
    "for t in data['income_type'].unique():\n",
    "    data.loc[(data['income_type'] == t) & (data['total_income'].isna()), 'total_income'] = \\\n",
    "    data.loc[(data['income_type'] == t), 'total_income'].median()"
   ]
  },
  {
   "cell_type": "markdown",
   "id": "4339f0e2",
   "metadata": {},
   "source": [
    "Missing values occur only in both `total_income` and `days_employed` variables at once, since the length of the `na_data` dataframe is equal to the number of gaps in the original dataset.\n",
    "\n",
    "Possible reasons for missing values:\n",
    "\n",
    "- The client has never been officially employed (freelance, individual entrepreneur, private investor-trader). Then the confirmation of unofficial income and length of service does not come from the employer, but in the form of a bank;\n",
    "\n",
    "- The client receives a salary or pension on the card of this bank, and he does not need to confirm income and length of service;\n",
    "\n",
    "- The client is a bank employee, and he does not need to confirm income and length of service;\n",
    "\n",
    "- The client has not taken a loan for a long time (more than 7 years), and the period of storage of his data has come to an end;\n",
    "\n",
    "- Data upload failed.\n",
    "\n",
    "\n",
    "Importantly, that the average value incorrectly characterizes the data when some values stand out strongly among the majority.\n",
    "At the same time, it is known that, for example, such a quantitative variable as earnings is distributed abnormally. Let's demonstrate this on the original data."
   ]
  },
  {
   "cell_type": "code",
   "execution_count": 44,
   "id": "a1574af0",
   "metadata": {},
   "outputs": [
    {
     "data": {
      "image/png": "[encoded data removed]",
      "text/plain": [
       "<Figure size 576x576 with 1 Axes>"
      ]
     },
     "metadata": {
      "needs_background": "light"
     },
     "output_type": "display_data"
    }
   ],
   "source": [
    "# Income distribution\n",
    "plt.ticklabel_format(style='plain')\n",
    "    \n",
    "sns.histplot(data=data, \n",
    "             x='total_income', \n",
    "             color='#cdb89a', \n",
    "             bins=50).set(title='Income distribution');"
   ]
  },
  {
   "cell_type": "markdown",
   "id": "b565dbdd",
   "metadata": {},
   "source": [
    "The graph shows that the distribution of income is skewed to the right - most bank customers earn less than 500,000 rubles per month. In reality, wage data is unevenly distributed.\n",
    "\n",
    "Now let's look at the median and mean for the `total_income` variable."
   ]
  },
  {
   "cell_type": "code",
   "execution_count": 45,
   "id": "a4ae297e",
   "metadata": {},
   "outputs": [
    {
     "data": {
      "text/plain": [
       "142594.0"
      ]
     },
     "execution_count": 45,
     "metadata": {},
     "output_type": "execute_result"
    }
   ],
   "source": [
    "data['total_income'].median()"
   ]
  },
  {
   "cell_type": "code",
   "execution_count": 46,
   "id": "85845b94",
   "metadata": {},
   "outputs": [
    {
     "data": {
      "text/plain": [
       "165342.74576906848"
      ]
     },
     "execution_count": 46,
     "metadata": {},
     "output_type": "execute_result"
    }
   ],
   "source": [
    "data['total_income'].mean()"
   ]
  },
  {
   "cell_type": "markdown",
   "id": "23920573",
   "metadata": {},
   "source": [
    "The mean and median differ from each other by almost 23,000 rubles, since the mean is very sensitive to \"unusual\" values, outliers. For example, trere are only 25 clients earning more than 1,000,000 rubles per month, although these data will strongly \"pull over\" the average salary for the sample.\n",
    "\n",
    "*****\n",
    "\n",
    "Let's look at the distribution of the `days_employed` variable in the data."
   ]
  },
  {
   "cell_type": "code",
   "execution_count": 47,
   "id": "ac7c508b",
   "metadata": {},
   "outputs": [
    {
     "data": {
      "image/png": "[encoded data removed]",
      "text/plain": [
       "<Figure size 576x576 with 1 Axes>"
      ]
     },
     "metadata": {
      "needs_background": "light"
     },
     "output_type": "display_data"
    }
   ],
   "source": [
    "# Days employed distribution\n",
    "plt.ticklabel_format(style='plain')\n",
    "    \n",
    "sns.histplot(data=data, \n",
    "             x='days_employed', \n",
    "             color='#accd9a', \n",
    "             bins=100).set(title='Days employed distribution');"
   ]
  },
  {
   "cell_type": "markdown",
   "id": "cd5e3624",
   "metadata": {},
   "source": [
    "The graph clearly shows a peak near the minimum values and a \"stripe\" of extremely high values due to abnormally high values among pensioners and the unemployed (as we found out in Task 7).\n",
    "\n",
    "\n",
    "Let's also calculate the median and mean for the `days_employed` variable."
   ]
  },
  {
   "cell_type": "code",
   "execution_count": 48,
   "id": "47c20d82",
   "metadata": {},
   "outputs": [
    {
     "data": {
      "text/plain": [
       "1996.732855437927"
      ]
     },
     "execution_count": 48,
     "metadata": {},
     "output_type": "execute_result"
    }
   ],
   "source": [
    "data['days_employed'].median()"
   ]
  },
  {
   "cell_type": "code",
   "execution_count": 49,
   "id": "c4a4293b",
   "metadata": {},
   "outputs": [
    {
     "data": {
      "text/plain": [
       "67148.9721325843"
      ]
     },
     "execution_count": 49,
     "metadata": {},
     "output_type": "execute_result"
    }
   ],
   "source": [
    "data['days_employed'].mean()"
   ]
  },
  {
   "cell_type": "markdown",
   "id": "78f0d9ad",
   "metadata": {},
   "source": [
    "The average work experience is strongly skewed to the right and is 33 times the median for the sample, so it is better to fill in the gaps with the median, as it corresponds to the \"expected\" value."
   ]
  },
  {
   "cell_type": "markdown",
   "id": "4fd4e29e",
   "metadata": {},
   "source": [
    "<a id=\"outliers\"></a> \n",
    "\n",
    "### 2.2 Outliers analysis \n",
    "\n",
    "Outliers (anomalies) can occur in the data - values that do not reflect reality and appeared due to some kind of error. Such an artifact would be the negative number of days of work experience in the `days_employed` column. For real data, this is normal. Let's process the values in this column: replace all negative values with positive ones."
   ]
  },
  {
   "cell_type": "code",
   "execution_count": 8,
   "id": "f0c9418c",
   "metadata": {},
   "outputs": [],
   "source": [
    "data['days_employed'] = data['days_employed'].abs()"
   ]
  },
  {
   "cell_type": "markdown",
   "id": "296de6aa",
   "metadata": {},
   "source": [
    "For each type of employment, let's display the median value of the work experience `days_employed` in days."
   ]
  },
  {
   "cell_type": "code",
   "execution_count": 9,
   "id": "0ac09352",
   "metadata": {},
   "outputs": [
    {
     "data": {
      "text/plain": [
       "income_type\n",
       "безработный        366413.652744\n",
       "в декрете            3296.759962\n",
       "госслужащий          2689.368353\n",
       "компаньон            1547.382223\n",
       "пенсионер          365213.306266\n",
       "предприниматель       520.848083\n",
       "сотрудник            1574.202821\n",
       "студент               578.751554\n",
       "Name: days_employed, dtype: float64"
      ]
     },
     "execution_count": 9,
     "metadata": {},
     "output_type": "execute_result"
    }
   ],
   "source": [
    "data.groupby('income_type')['days_employed'].agg('median')"
   ]
  },
  {
   "cell_type": "markdown",
   "id": "341b043d",
   "metadata": {},
   "source": [
    "Two types (`безработный` - unemployed and `пенсионер` - pensioners) have abnormally large values. Correcting such values is difficult, so let's leave them as they are. Moreover, we will not need this column for research."
   ]
  },
  {
   "cell_type": "code",
   "execution_count": 10,
   "id": "0fad16e6",
   "metadata": {},
   "outputs": [
    {
     "data": {
      "text/plain": [
       "array([ 1,  0,  3,  2, -1,  4, 20,  5], dtype=int64)"
      ]
     },
     "execution_count": 10,
     "metadata": {},
     "output_type": "execute_result"
    }
   ],
   "source": [
    "# Unique chaildren column values\n",
    "data['children'].unique()"
   ]
  },
  {
   "cell_type": "markdown",
   "id": "b9c6a21f",
   "metadata": {},
   "source": [
    "There are two anomalous values in the `children` column. Let's remove the rows that contain such anomalous values from the dataframe data."
   ]
  },
  {
   "cell_type": "code",
   "execution_count": 11,
   "id": "f7be0054",
   "metadata": {},
   "outputs": [],
   "source": [
    "data = data[(data['children'] != -1) & (data['children'] != 20)]"
   ]
  },
  {
   "cell_type": "code",
   "execution_count": 12,
   "id": "cbc1c62d",
   "metadata": {},
   "outputs": [
    {
     "data": {
      "text/plain": [
       "array([1, 0, 3, 2, 4, 5], dtype=int64)"
      ]
     },
     "execution_count": 12,
     "metadata": {},
     "output_type": "execute_result"
    }
   ],
   "source": [
    "# Unique chaildren column values again \n",
    "# to make sure the artifacts have been removed\n",
    "data['children'].unique()"
   ]
  },
  {
   "cell_type": "markdown",
   "id": "0dbdbf16",
   "metadata": {},
   "source": [
    "Let's fill in the gaps in the `days_employed` column with the median values for each `income_type` of employment."
   ]
  },
  {
   "cell_type": "code",
   "execution_count": 13,
   "id": "ccf76cf5",
   "metadata": {},
   "outputs": [],
   "source": [
    "for t in data['income_type'].unique():\n",
    "    data.loc[(data['income_type'] == t) & (data['days_employed'].isna()), 'days_employed'] = \\\n",
    "    data.loc[(data['income_type'] == t), 'days_employed'].median()"
   ]
  },
  {
   "cell_type": "code",
   "execution_count": 14,
   "id": "c9201fea",
   "metadata": {},
   "outputs": [
    {
     "data": {
      "text/plain": [
       "children            0\n",
       "days_employed       0\n",
       "dob_years           0\n",
       "education           0\n",
       "education_id        0\n",
       "family_status       0\n",
       "family_status_id    0\n",
       "gender              0\n",
       "income_type         0\n",
       "debt                0\n",
       "total_income        0\n",
       "purpose             0\n",
       "dtype: int64"
      ]
     },
     "execution_count": 14,
     "metadata": {},
     "output_type": "execute_result"
    }
   ],
   "source": [
    "# Make sure all gaps are filled\n",
    "data.isna().sum()"
   ]
  },
  {
   "cell_type": "markdown",
   "id": "d8afcddb",
   "metadata": {},
   "source": [
    "<a id=\"types\"></a> \n",
    "\n",
    "### 2.3 Variable types\n",
    "\n",
    "Let's replace the float data type in the `total_income` column with an integer one."
   ]
  },
  {
   "cell_type": "code",
   "execution_count": 15,
   "id": "fa88bbe3",
   "metadata": {},
   "outputs": [],
   "source": [
    "data['total_income'] = data['total_income'].astype(int)"
   ]
  },
  {
   "cell_type": "markdown",
   "id": "e4a45383",
   "metadata": {},
   "source": [
    "Several variables have **wrong data type**. Let's transform them:\n",
    "\n",
    "* `children ` convert from int to str (in order to use this variable for grouping later);\n",
    "\n",
    "* `education_id` is converted from int to str (since numbers are categories here);\n",
    "\n",
    "* `family_status_id` is converted from int to str (numbers act as categories);\n",
    "\n",
    "* `debt` is converted from int to str (numbers act as categories)."
   ]
  },
  {
   "cell_type": "code",
   "execution_count": 25,
   "id": "2578e097",
   "metadata": {},
   "outputs": [],
   "source": [
    "data['children'] = data['children'].astype(str)\n",
    "data['education_id'] = data['education_id'].astype(str)\n",
    "data['family_status_id'] = data['family_status_id'].astype(str)\n",
    "data['debt'] = data['debt'].astype(str)"
   ]
  },
  {
   "cell_type": "markdown",
   "id": "325c7d8f",
   "metadata": {},
   "source": [
    "<a id=\"duplicates\"></a>\n",
    "\n",
    "### 2.4 Duplicates processing \n",
    "\n",
    "Let's handle the implicit duplicates in the `education` column. This column has the same values, but written differently: using uppercase and lowercase letters. Let's convert them to lower case. Then also let's check the rest of the columns."
   ]
  },
  {
   "cell_type": "code",
   "execution_count": 16,
   "id": "a45e8f4e",
   "metadata": {},
   "outputs": [],
   "source": [
    "data['education'] = data['education'].str.lower()"
   ]
  },
  {
   "cell_type": "code",
   "execution_count": 17,
   "id": "08b4c84b",
   "metadata": {},
   "outputs": [
    {
     "data": {
      "text/plain": [
       "71"
      ]
     },
     "execution_count": 17,
     "metadata": {},
     "output_type": "execute_result"
    }
   ],
   "source": [
    "# Number of duplicate rows in the data\n",
    "data.duplicated().sum()"
   ]
  },
  {
   "cell_type": "code",
   "execution_count": 18,
   "id": "813fa811",
   "metadata": {},
   "outputs": [],
   "source": [
    "# Removing duplicate rows\n",
    "data = data.drop_duplicates()"
   ]
  },
  {
   "cell_type": "markdown",
   "id": "0a3daabf",
   "metadata": {},
   "source": [
    "<a id=\"categorization\"></a> \n",
    "\n",
    "### 2.5 Data categorization\n",
    "\n",
    "Based on the ranges below, create a `total_income_category` column with categories in the `data` dataframe:**\n",
    "\n",
    "- 0–30000 - `'E'`;\n",
    "\n",
    "- 30001–50000 - `'D'`;\n",
    "\n",
    "- 50001–200000 - `'C'`;\n",
    "\n",
    "- 200001–1000000 - `'B'`;\n",
    "\n",
    "- 1000001 and above - `'A'`.\n",
    "\n",
    "\n",
    "For example, a borrower with an income of 25,000 should be assigned an `'E'` category, and a customer with an income of 235,000 would be assigned a `'B'` category."
   ]
  },
  {
   "cell_type": "code",
   "execution_count": 19,
   "id": "6be620e4",
   "metadata": {},
   "outputs": [],
   "source": [
    "def categorize_income(income):\n",
    "    try:\n",
    "        if 0 <= income <= 30000:\n",
    "            return 'E'\n",
    "        elif 30001 <= income <= 50000:\n",
    "            return 'D'\n",
    "        elif 50001 <= income <= 200000:\n",
    "            return 'C'\n",
    "        elif 200001 <= income <= 1000000:\n",
    "            return 'B'\n",
    "        elif income >= 1000001:\n",
    "            return 'A'\n",
    "    except:\n",
    "        pass"
   ]
  },
  {
   "cell_type": "code",
   "execution_count": 20,
   "id": "e9072912",
   "metadata": {},
   "outputs": [],
   "source": [
    "data['total_income_category'] = data['total_income'].apply(categorize_income)"
   ]
  },
  {
   "cell_type": "markdown",
   "id": "0c92eca8",
   "metadata": {},
   "source": [
    "Let's display a list of unique purposes for taking a loan from the `purpose` column."
   ]
  },
  {
   "cell_type": "code",
   "execution_count": 21,
   "id": "31c94c3a",
   "metadata": {},
   "outputs": [
    {
     "data": {
      "text/plain": [
       "array(['покупка жилья', 'приобретение автомобиля',\n",
       "       'дополнительное образование', 'сыграть свадьбу',\n",
       "       'операции с жильем', 'образование', 'на проведение свадьбы',\n",
       "       'покупка жилья для семьи', 'покупка недвижимости',\n",
       "       'покупка коммерческой недвижимости', 'покупка жилой недвижимости',\n",
       "       'строительство собственной недвижимости', 'недвижимость',\n",
       "       'строительство недвижимости', 'на покупку подержанного автомобиля',\n",
       "       'на покупку своего автомобиля',\n",
       "       'операции с коммерческой недвижимостью',\n",
       "       'строительство жилой недвижимости', 'жилье',\n",
       "       'операции со своей недвижимостью', 'автомобили',\n",
       "       'заняться образованием', 'сделка с подержанным автомобилем',\n",
       "       'получение образования', 'автомобиль', 'свадьба',\n",
       "       'получение дополнительного образования', 'покупка своего жилья',\n",
       "       'операции с недвижимостью', 'получение высшего образования',\n",
       "       'свой автомобиль', 'сделка с автомобилем',\n",
       "       'профильное образование', 'высшее образование',\n",
       "       'покупка жилья для сдачи', 'на покупку автомобиля', 'ремонт жилью',\n",
       "       'заняться высшим образованием'], dtype=object)"
      ]
     },
     "execution_count": 21,
     "metadata": {},
     "output_type": "execute_result"
    }
   ],
   "source": [
    "data['purpose'].unique()"
   ]
  },
  {
   "cell_type": "markdown",
   "id": "98e2975b",
   "metadata": {},
   "source": [
    "Let's create a function that, based on the data from the `purpose` column, will form a new `purpose_category` column, which will include the following categories:\n",
    "\n",
    "- `'car operations'`,\n",
    "- `'real estate transactions'`,\n",
    "- `'conducting a wedding'`,\n",
    "- `'getting an education'`.\n",
    "\n",
    "For example, if the `purpose` column contains the substring `'car purchase'`, then the `purpose_category` column should contain the string `'car operations'`."
   ]
  },
  {
   "cell_type": "code",
   "execution_count": 22,
   "id": "d8522a1a",
   "metadata": {},
   "outputs": [],
   "source": [
    "def categorize_purpose(row):\n",
    "    try:\n",
    "        if 'автом' in row:\n",
    "            return 'операции с автомобилем'\n",
    "        elif 'жил' in row or 'недвиж' in row:\n",
    "            return 'операции с недвижимостью'\n",
    "        elif 'свад' in row:\n",
    "            return 'проведение свадьбы'\n",
    "        elif 'образов' in row:\n",
    "            return 'получение образования'\n",
    "    except:\n",
    "        return 'нет категории'"
   ]
  },
  {
   "cell_type": "code",
   "execution_count": 23,
   "id": "66485084",
   "metadata": {},
   "outputs": [],
   "source": [
    "data['purpose_category'] = data['purpose'].apply(categorize_purpose)"
   ]
  },
  {
   "cell_type": "markdown",
   "id": "a480d543",
   "metadata": {},
   "source": [
    "Let's also create \"reference books\" to quickly restore the original value of each of the variables."
   ]
  },
  {
   "cell_type": "code",
   "execution_count": 26,
   "id": "23b35a90",
   "metadata": {},
   "outputs": [
    {
     "data": {
      "text/html": [
       "<div>\n",
       "<style scoped>\n",
       "    .dataframe tbody tr th:only-of-type {\n",
       "        vertical-align: middle;\n",
       "    }\n",
       "\n",
       "    .dataframe tbody tr th {\n",
       "        vertical-align: top;\n",
       "    }\n",
       "\n",
       "    .dataframe thead th {\n",
       "        text-align: right;\n",
       "    }\n",
       "</style>\n",
       "<table border=\"1\" class=\"dataframe\">\n",
       "  <thead>\n",
       "    <tr style=\"text-align: right;\">\n",
       "      <th></th>\n",
       "      <th>education_id</th>\n",
       "      <th>education</th>\n",
       "    </tr>\n",
       "  </thead>\n",
       "  <tbody>\n",
       "    <tr>\n",
       "      <th>0</th>\n",
       "      <td>0</td>\n",
       "      <td>высшее</td>\n",
       "    </tr>\n",
       "    <tr>\n",
       "      <th>1</th>\n",
       "      <td>1</td>\n",
       "      <td>среднее</td>\n",
       "    </tr>\n",
       "    <tr>\n",
       "      <th>2</th>\n",
       "      <td>2</td>\n",
       "      <td>неоконченное высшее</td>\n",
       "    </tr>\n",
       "    <tr>\n",
       "      <th>3</th>\n",
       "      <td>3</td>\n",
       "      <td>начальное</td>\n",
       "    </tr>\n",
       "    <tr>\n",
       "      <th>4</th>\n",
       "      <td>4</td>\n",
       "      <td>ученая степень</td>\n",
       "    </tr>\n",
       "  </tbody>\n",
       "</table>\n",
       "</div>"
      ],
      "text/plain": [
       "  education_id            education\n",
       "0            0               высшее\n",
       "1            1              среднее\n",
       "2            2  неоконченное высшее\n",
       "3            3            начальное\n",
       "4            4       ученая степень"
      ]
     },
     "execution_count": 26,
     "metadata": {},
     "output_type": "execute_result"
    }
   ],
   "source": [
    "# Categorization of education information\n",
    "education_dict = data[['education_id', 'education']]\n",
    "education_dict = education_dict.drop_duplicates().reset_index(drop=True)\n",
    "education_dict.head() "
   ]
  },
  {
   "cell_type": "code",
   "execution_count": 27,
   "id": "e7079be6",
   "metadata": {},
   "outputs": [
    {
     "data": {
      "text/html": [
       "<div>\n",
       "<style scoped>\n",
       "    .dataframe tbody tr th:only-of-type {\n",
       "        vertical-align: middle;\n",
       "    }\n",
       "\n",
       "    .dataframe tbody tr th {\n",
       "        vertical-align: top;\n",
       "    }\n",
       "\n",
       "    .dataframe thead th {\n",
       "        text-align: right;\n",
       "    }\n",
       "</style>\n",
       "<table border=\"1\" class=\"dataframe\">\n",
       "  <thead>\n",
       "    <tr style=\"text-align: right;\">\n",
       "      <th></th>\n",
       "      <th>family_status_id</th>\n",
       "      <th>family_status</th>\n",
       "    </tr>\n",
       "  </thead>\n",
       "  <tbody>\n",
       "    <tr>\n",
       "      <th>0</th>\n",
       "      <td>0</td>\n",
       "      <td>женат / замужем</td>\n",
       "    </tr>\n",
       "    <tr>\n",
       "      <th>1</th>\n",
       "      <td>1</td>\n",
       "      <td>гражданский брак</td>\n",
       "    </tr>\n",
       "    <tr>\n",
       "      <th>2</th>\n",
       "      <td>2</td>\n",
       "      <td>вдовец / вдова</td>\n",
       "    </tr>\n",
       "    <tr>\n",
       "      <th>3</th>\n",
       "      <td>3</td>\n",
       "      <td>в разводе</td>\n",
       "    </tr>\n",
       "    <tr>\n",
       "      <th>4</th>\n",
       "      <td>4</td>\n",
       "      <td>Не женат / не замужем</td>\n",
       "    </tr>\n",
       "  </tbody>\n",
       "</table>\n",
       "</div>"
      ],
      "text/plain": [
       "  family_status_id          family_status\n",
       "0                0        женат / замужем\n",
       "1                1       гражданский брак\n",
       "2                2         вдовец / вдова\n",
       "3                3              в разводе\n",
       "4                4  Не женат / не замужем"
      ]
     },
     "execution_count": 27,
     "metadata": {},
     "output_type": "execute_result"
    }
   ],
   "source": [
    "# Categorization of marital status\n",
    "family_dict = data[['family_status_id', 'family_status']]\n",
    "family_dict = family_dict.drop_duplicates().reset_index(drop=True)\n",
    "family_dict.head()"
   ]
  },
  {
   "cell_type": "markdown",
   "id": "59b1bc68",
   "metadata": {},
   "source": [
    "Let's create a more compact dataset with the categories needed to answer the questions and display the first 20 observations."
   ]
  },
  {
   "cell_type": "code",
   "execution_count": 28,
   "id": "dcaedee4",
   "metadata": {},
   "outputs": [
    {
     "data": {
      "text/html": [
       "<div>\n",
       "<style scoped>\n",
       "    .dataframe tbody tr th:only-of-type {\n",
       "        vertical-align: middle;\n",
       "    }\n",
       "\n",
       "    .dataframe tbody tr th {\n",
       "        vertical-align: top;\n",
       "    }\n",
       "\n",
       "    .dataframe thead th {\n",
       "        text-align: right;\n",
       "    }\n",
       "</style>\n",
       "<table border=\"1\" class=\"dataframe\">\n",
       "  <thead>\n",
       "    <tr style=\"text-align: right;\">\n",
       "      <th></th>\n",
       "      <th>children</th>\n",
       "      <th>family_status_id</th>\n",
       "      <th>total_income_category</th>\n",
       "      <th>purpose_category</th>\n",
       "      <th>debt</th>\n",
       "    </tr>\n",
       "  </thead>\n",
       "  <tbody>\n",
       "    <tr>\n",
       "      <th>0</th>\n",
       "      <td>1</td>\n",
       "      <td>0</td>\n",
       "      <td>B</td>\n",
       "      <td>операции с недвижимостью</td>\n",
       "      <td>0</td>\n",
       "    </tr>\n",
       "    <tr>\n",
       "      <th>1</th>\n",
       "      <td>1</td>\n",
       "      <td>0</td>\n",
       "      <td>C</td>\n",
       "      <td>операции с автомобилем</td>\n",
       "      <td>0</td>\n",
       "    </tr>\n",
       "    <tr>\n",
       "      <th>2</th>\n",
       "      <td>0</td>\n",
       "      <td>0</td>\n",
       "      <td>C</td>\n",
       "      <td>операции с недвижимостью</td>\n",
       "      <td>0</td>\n",
       "    </tr>\n",
       "    <tr>\n",
       "      <th>3</th>\n",
       "      <td>3</td>\n",
       "      <td>0</td>\n",
       "      <td>B</td>\n",
       "      <td>получение образования</td>\n",
       "      <td>0</td>\n",
       "    </tr>\n",
       "    <tr>\n",
       "      <th>4</th>\n",
       "      <td>0</td>\n",
       "      <td>1</td>\n",
       "      <td>C</td>\n",
       "      <td>проведение свадьбы</td>\n",
       "      <td>0</td>\n",
       "    </tr>\n",
       "    <tr>\n",
       "      <th>5</th>\n",
       "      <td>0</td>\n",
       "      <td>1</td>\n",
       "      <td>B</td>\n",
       "      <td>операции с недвижимостью</td>\n",
       "      <td>0</td>\n",
       "    </tr>\n",
       "    <tr>\n",
       "      <th>6</th>\n",
       "      <td>0</td>\n",
       "      <td>0</td>\n",
       "      <td>B</td>\n",
       "      <td>операции с недвижимостью</td>\n",
       "      <td>0</td>\n",
       "    </tr>\n",
       "    <tr>\n",
       "      <th>7</th>\n",
       "      <td>0</td>\n",
       "      <td>0</td>\n",
       "      <td>C</td>\n",
       "      <td>получение образования</td>\n",
       "      <td>0</td>\n",
       "    </tr>\n",
       "    <tr>\n",
       "      <th>8</th>\n",
       "      <td>2</td>\n",
       "      <td>1</td>\n",
       "      <td>C</td>\n",
       "      <td>проведение свадьбы</td>\n",
       "      <td>0</td>\n",
       "    </tr>\n",
       "    <tr>\n",
       "      <th>9</th>\n",
       "      <td>0</td>\n",
       "      <td>0</td>\n",
       "      <td>C</td>\n",
       "      <td>операции с недвижимостью</td>\n",
       "      <td>0</td>\n",
       "    </tr>\n",
       "    <tr>\n",
       "      <th>10</th>\n",
       "      <td>2</td>\n",
       "      <td>0</td>\n",
       "      <td>C</td>\n",
       "      <td>операции с недвижимостью</td>\n",
       "      <td>0</td>\n",
       "    </tr>\n",
       "    <tr>\n",
       "      <th>11</th>\n",
       "      <td>0</td>\n",
       "      <td>0</td>\n",
       "      <td>C</td>\n",
       "      <td>операции с недвижимостью</td>\n",
       "      <td>0</td>\n",
       "    </tr>\n",
       "    <tr>\n",
       "      <th>12</th>\n",
       "      <td>0</td>\n",
       "      <td>1</td>\n",
       "      <td>C</td>\n",
       "      <td>проведение свадьбы</td>\n",
       "      <td>0</td>\n",
       "    </tr>\n",
       "    <tr>\n",
       "      <th>13</th>\n",
       "      <td>0</td>\n",
       "      <td>0</td>\n",
       "      <td>C</td>\n",
       "      <td>операции с автомобилем</td>\n",
       "      <td>0</td>\n",
       "    </tr>\n",
       "    <tr>\n",
       "      <th>14</th>\n",
       "      <td>0</td>\n",
       "      <td>1</td>\n",
       "      <td>C</td>\n",
       "      <td>операции с недвижимостью</td>\n",
       "      <td>1</td>\n",
       "    </tr>\n",
       "    <tr>\n",
       "      <th>15</th>\n",
       "      <td>1</td>\n",
       "      <td>0</td>\n",
       "      <td>C</td>\n",
       "      <td>операции с недвижимостью</td>\n",
       "      <td>0</td>\n",
       "    </tr>\n",
       "    <tr>\n",
       "      <th>16</th>\n",
       "      <td>0</td>\n",
       "      <td>0</td>\n",
       "      <td>B</td>\n",
       "      <td>операции с недвижимостью</td>\n",
       "      <td>0</td>\n",
       "    </tr>\n",
       "    <tr>\n",
       "      <th>17</th>\n",
       "      <td>0</td>\n",
       "      <td>1</td>\n",
       "      <td>C</td>\n",
       "      <td>операции с недвижимостью</td>\n",
       "      <td>0</td>\n",
       "    </tr>\n",
       "    <tr>\n",
       "      <th>18</th>\n",
       "      <td>0</td>\n",
       "      <td>2</td>\n",
       "      <td>C</td>\n",
       "      <td>операции с автомобилем</td>\n",
       "      <td>0</td>\n",
       "    </tr>\n",
       "    <tr>\n",
       "      <th>19</th>\n",
       "      <td>0</td>\n",
       "      <td>3</td>\n",
       "      <td>B</td>\n",
       "      <td>операции с автомобилем</td>\n",
       "      <td>0</td>\n",
       "    </tr>\n",
       "  </tbody>\n",
       "</table>\n",
       "</div>"
      ],
      "text/plain": [
       "   children family_status_id total_income_category          purpose_category  \\\n",
       "0         1                0                     B  операции с недвижимостью   \n",
       "1         1                0                     C    операции с автомобилем   \n",
       "2         0                0                     C  операции с недвижимостью   \n",
       "3         3                0                     B     получение образования   \n",
       "4         0                1                     C        проведение свадьбы   \n",
       "5         0                1                     B  операции с недвижимостью   \n",
       "6         0                0                     B  операции с недвижимостью   \n",
       "7         0                0                     C     получение образования   \n",
       "8         2                1                     C        проведение свадьбы   \n",
       "9         0                0                     C  операции с недвижимостью   \n",
       "10        2                0                     C  операции с недвижимостью   \n",
       "11        0                0                     C  операции с недвижимостью   \n",
       "12        0                1                     C        проведение свадьбы   \n",
       "13        0                0                     C    операции с автомобилем   \n",
       "14        0                1                     C  операции с недвижимостью   \n",
       "15        1                0                     C  операции с недвижимостью   \n",
       "16        0                0                     B  операции с недвижимостью   \n",
       "17        0                1                     C  операции с недвижимостью   \n",
       "18        0                2                     C    операции с автомобилем   \n",
       "19        0                3                     B    операции с автомобилем   \n",
       "\n",
       "   debt  \n",
       "0     0  \n",
       "1     0  \n",
       "2     0  \n",
       "3     0  \n",
       "4     0  \n",
       "5     0  \n",
       "6     0  \n",
       "7     0  \n",
       "8     0  \n",
       "9     0  \n",
       "10    0  \n",
       "11    0  \n",
       "12    0  \n",
       "13    0  \n",
       "14    1  \n",
       "15    0  \n",
       "16    0  \n",
       "17    0  \n",
       "18    0  \n",
       "19    0  "
      ]
     },
     "execution_count": 28,
     "metadata": {},
     "output_type": "execute_result"
    }
   ],
   "source": [
    "data_short = data[['children', 'family_status_id', 'total_income_category', 'purpose_category', 'debt']]\n",
    "data_short.head(20)"
   ]
  },
  {
   "cell_type": "markdown",
   "id": "b159c04a",
   "metadata": {},
   "source": [
    "Further, for convenience, we will work with the `data_short` dataset."
   ]
  },
  {
   "cell_type": "markdown",
   "id": "7ffbdc8f",
   "metadata": {},
   "source": [
    "<a id=\"eda\"></a> \n",
    "\n",
    "## 3. EDA"
   ]
  },
  {
   "cell_type": "markdown",
   "id": "191a1456",
   "metadata": {},
   "source": [
    "<a id=\"children_and_debt\"></a> \n",
    "\n",
    "### 3.1 Relationship between the number of children and loan repayment on time\n",
    "\n",
    "Before we start answering the question, let's take a visual look at the distribution of the `debt` category."
   ]
  },
  {
   "cell_type": "code",
   "execution_count": 29,
   "id": "112fbc4b",
   "metadata": {},
   "outputs": [
    {
     "data": {
      "image/png": "[encoded data removed]",
      "text/plain": [
       "<Figure size 576x576 with 1 Axes>"
      ]
     },
     "metadata": {
      "needs_background": "light"
     },
     "output_type": "display_data"
    }
   ],
   "source": [
    "# Set chart sizes\n",
    "plt.rcParams['figure.figsize'] = (8, 8)\n",
    "\n",
    "# Distribution of the category debt\n",
    "data_short['debt'].value_counts().plot.bar(color='#9999cc', \n",
    "                                           title='Distribution of the category debt',\n",
    "                                           xlabel='Is Debt');"
   ]
  },
  {
   "cell_type": "markdown",
   "id": "32ea3541",
   "metadata": {},
   "source": [
    "Let's also look at the distribution using `groupby`."
   ]
  },
  {
   "cell_type": "code",
   "execution_count": 30,
   "id": "3b5deb3f",
   "metadata": {},
   "outputs": [
    {
     "data": {
      "text/plain": [
       "debt\n",
       "0    19599\n",
       "1     1732\n",
       "Name: debt, dtype: int64"
      ]
     },
     "execution_count": 30,
     "metadata": {},
     "output_type": "execute_result"
    }
   ],
   "source": [
    "data_short.groupby('debt')['debt'].count()"
   ]
  },
  {
   "cell_type": "markdown",
   "id": "aaf31bc9",
   "metadata": {},
   "source": [
    "Among the clients there are more of those who do not have a debt.\n",
    "\n",
    "In the same way, let's look at the distribution of the `children` category: on the graph and in numbers."
   ]
  },
  {
   "cell_type": "code",
   "execution_count": 31,
   "id": "ab5cc1d0",
   "metadata": {},
   "outputs": [
    {
     "data": {
      "image/png": "[encoded data removed]",
      "text/plain": [
       "<Figure size 576x576 with 1 Axes>"
      ]
     },
     "metadata": {
      "needs_background": "light"
     },
     "output_type": "display_data"
    }
   ],
   "source": [
    "# Distribution of the category children\n",
    "data_short['children'].value_counts().plot.bar(color='#9ac9cd', \n",
    "                                               title='Distribution of the category children',\n",
    "                                               xlabel='Number of children',\n",
    "                                               width=0.7);"
   ]
  },
  {
   "cell_type": "code",
   "execution_count": 32,
   "id": "4dc8be71",
   "metadata": {},
   "outputs": [
    {
     "data": {
      "text/plain": [
       "children\n",
       "0    14091\n",
       "1     4808\n",
       "2     2052\n",
       "3      330\n",
       "4       41\n",
       "5        9\n",
       "Name: children, dtype: int64"
      ]
     },
     "execution_count": 32,
     "metadata": {},
     "output_type": "execute_result"
    }
   ],
   "source": [
    "data_short.groupby('children')['children'].count()"
   ]
  },
  {
   "cell_type": "markdown",
   "id": "d767b76e",
   "metadata": {},
   "source": [
    "The `children` category is unevenly distributed (right-skewed). Among the clients there are more of those who do not have children.\n",
    "\n",
    "*****\n",
    "\n",
    "To check whether the number of children and the presence of loan debt are dependent, let's group the clients by the number of children, and for each of the groups obtained, calculate what proportion of clients have a loan debt.\n",
    "\n",
    "To do this, create and display the pivot table `children_pivot`:"
   ]
  },
  {
   "cell_type": "code",
   "execution_count": 33,
   "id": "1bcde041",
   "metadata": {},
   "outputs": [
    {
     "name": "stderr",
     "output_type": "stream",
     "text": [
      "C:\\Users\\marus\\AppData\\Local\\Temp\\ipykernel_20880\\4235415695.py:2: SettingWithCopyWarning: \n",
      "A value is trying to be set on a copy of a slice from a DataFrame.\n",
      "Try using .loc[row_indexer,col_indexer] = value instead\n",
      "\n",
      "See the caveats in the documentation: https://pandas.pydata.org/pandas-docs/stable/user_guide/indexing.html#returning-a-view-versus-a-copy\n",
      "  data_short['debt'] = data_short['debt'].astype('int')\n"
     ]
    }
   ],
   "source": [
    "# Change the data type in the debt column to integer to group data\n",
    "data_short['debt'] = data_short['debt'].astype('int')"
   ]
  },
  {
   "cell_type": "code",
   "execution_count": 34,
   "id": "1dd4e1b6",
   "metadata": {},
   "outputs": [
    {
     "data": {
      "text/html": [
       "<div>\n",
       "<style scoped>\n",
       "    .dataframe tbody tr th:only-of-type {\n",
       "        vertical-align: middle;\n",
       "    }\n",
       "\n",
       "    .dataframe tbody tr th {\n",
       "        vertical-align: top;\n",
       "    }\n",
       "\n",
       "    .dataframe thead tr th {\n",
       "        text-align: left;\n",
       "    }\n",
       "\n",
       "    .dataframe thead tr:last-of-type th {\n",
       "        text-align: right;\n",
       "    }\n",
       "</style>\n",
       "<table border=\"1\" class=\"dataframe\">\n",
       "  <thead>\n",
       "    <tr>\n",
       "      <th></th>\n",
       "      <th>count</th>\n",
       "      <th>sum</th>\n",
       "      <th>mean</th>\n",
       "    </tr>\n",
       "    <tr>\n",
       "      <th></th>\n",
       "      <th>debt</th>\n",
       "      <th>debt</th>\n",
       "      <th>debt</th>\n",
       "    </tr>\n",
       "    <tr>\n",
       "      <th>children</th>\n",
       "      <th></th>\n",
       "      <th></th>\n",
       "      <th></th>\n",
       "    </tr>\n",
       "  </thead>\n",
       "  <tbody>\n",
       "    <tr>\n",
       "      <th>0</th>\n",
       "      <td>14091</td>\n",
       "      <td>1063</td>\n",
       "      <td>0.075438</td>\n",
       "    </tr>\n",
       "    <tr>\n",
       "      <th>1</th>\n",
       "      <td>4808</td>\n",
       "      <td>444</td>\n",
       "      <td>0.092346</td>\n",
       "    </tr>\n",
       "    <tr>\n",
       "      <th>2</th>\n",
       "      <td>2052</td>\n",
       "      <td>194</td>\n",
       "      <td>0.094542</td>\n",
       "    </tr>\n",
       "    <tr>\n",
       "      <th>3</th>\n",
       "      <td>330</td>\n",
       "      <td>27</td>\n",
       "      <td>0.081818</td>\n",
       "    </tr>\n",
       "    <tr>\n",
       "      <th>4</th>\n",
       "      <td>41</td>\n",
       "      <td>4</td>\n",
       "      <td>0.097561</td>\n",
       "    </tr>\n",
       "    <tr>\n",
       "      <th>5</th>\n",
       "      <td>9</td>\n",
       "      <td>0</td>\n",
       "      <td>0.000000</td>\n",
       "    </tr>\n",
       "  </tbody>\n",
       "</table>\n",
       "</div>"
      ],
      "text/plain": [
       "          count   sum      mean\n",
       "           debt  debt      debt\n",
       "children                       \n",
       "0         14091  1063  0.075438\n",
       "1          4808   444  0.092346\n",
       "2          2052   194  0.094542\n",
       "3           330    27  0.081818\n",
       "4            41     4  0.097561\n",
       "5             9     0  0.000000"
      ]
     },
     "execution_count": 34,
     "metadata": {},
     "output_type": "execute_result"
    }
   ],
   "source": [
    "children_pivot = data_short.pivot_table(index='children',\n",
    "                                        values='debt',\n",
    "                                        aggfunc=['count', 'sum', 'mean'],\n",
    "                                        fill_value=0)\n",
    "children_pivot"
   ]
  },
  {
   "cell_type": "markdown",
   "id": "219b7bb6",
   "metadata": {},
   "source": [
    "**Findings:**\n",
    "\n",
    "There is a relationship between the number of children and the repayment of the loan on time: the absence of children is somewhat weaker associated with loan debt, that is, customers who do not have children are less likely to have loan debt:\n",
    "\n",
    "* clients who do not have children do not repay the debt with a \"probability\" of 7.5%\n",
    "* clients with 1-4 children do not return the debt with a \"probability\" of 8.1 - 9.8%\n",
    "\n",
    "However, for clients with five children, the value was not calculated correctly, since the sample of such clients is too small (only 9 people).\n",
    "\n",
    "A likely explanation for the result, other than adjusting for unequal distribution, may be in the interest of clients to support their children rather than pay the loan on time.\n",
    "\n",
    "*Recommendation for business:* other things being equal, check the solvency of customers with children in more detail, since the likelihood that they are in debt is higher."
   ]
  },
  {
   "cell_type": "markdown",
   "id": "e30c5f69",
   "metadata": {},
   "source": [
    "<a id=\"marriage_and_debt\"></a> \n",
    "\n",
    "### 3.2 Relationship between marital status and loan repayment on time\n",
    "\n",
    "Let's look at the distribution of the `family_status_id` category visually and on specific numbers.\n",
    "\n",
    "Categories are:\n",
    "* `0` - married\n",
    "* `1` - civil marriage\n",
    "* `2` - widow\n",
    "* `3` - divorced\n",
    "* `4` - Not married"
   ]
  },
  {
   "cell_type": "code",
   "execution_count": 35,
   "id": "9e0a2453",
   "metadata": {},
   "outputs": [
    {
     "data": {
      "image/png": "[encoded data removed]",
      "text/plain": [
       "<Figure size 576x576 with 1 Axes>"
      ]
     },
     "metadata": {
      "needs_background": "light"
     },
     "output_type": "display_data"
    }
   ],
   "source": [
    "# Distribution of the category family_status_id\n",
    "data_short['family_status_id'].value_counts().sort_index().plot.bar(color='#c49acd', \n",
    "                                                                    title='Distribution of the category family_status_id',\n",
    "                                                                    xlabel='Marital status',\n",
    "                                                                    width=0.7);"
   ]
  },
  {
   "cell_type": "code",
   "execution_count": 36,
   "id": "a7904f4a",
   "metadata": {},
   "outputs": [
    {
     "data": {
      "text/plain": [
       "family_status_id\n",
       "0    12261\n",
       "1     4134\n",
       "2      951\n",
       "3     1189\n",
       "4     2796\n",
       "Name: family_status_id, dtype: int64"
      ]
     },
     "execution_count": 36,
     "metadata": {},
     "output_type": "execute_result"
    }
   ],
   "source": [
    "data_short.groupby('family_status_id')['family_status_id'].count()"
   ]
  },
  {
   "cell_type": "markdown",
   "id": "c6910ca2",
   "metadata": {},
   "source": [
    "In absolute numbers the distribution of clients by groups is uneven, there is a strong imbalance of classes:\n",
    "\n",
    "* most clients are married (official or civil);\n",
    "* the least number of widows.\n",
    "\n",
    "*****\n",
    "\n",
    "To check whether marital status and the presence of loan debt are dependent, let's group customers by marital status. For each of the groups obtained, let's calculate what proportion in each group is made up of customers with loan debt.\n",
    "\n",
    "To do this, let's create and display the pivot table `family_pivot`:"
   ]
  },
  {
   "cell_type": "code",
   "execution_count": 37,
   "id": "c143001f",
   "metadata": {},
   "outputs": [
    {
     "data": {
      "text/html": [
       "<div>\n",
       "<style scoped>\n",
       "    .dataframe tbody tr th:only-of-type {\n",
       "        vertical-align: middle;\n",
       "    }\n",
       "\n",
       "    .dataframe tbody tr th {\n",
       "        vertical-align: top;\n",
       "    }\n",
       "\n",
       "    .dataframe thead tr th {\n",
       "        text-align: left;\n",
       "    }\n",
       "\n",
       "    .dataframe thead tr:last-of-type th {\n",
       "        text-align: right;\n",
       "    }\n",
       "</style>\n",
       "<table border=\"1\" class=\"dataframe\">\n",
       "  <thead>\n",
       "    <tr>\n",
       "      <th></th>\n",
       "      <th>count</th>\n",
       "      <th>sum</th>\n",
       "      <th>mean</th>\n",
       "    </tr>\n",
       "    <tr>\n",
       "      <th></th>\n",
       "      <th>debt</th>\n",
       "      <th>debt</th>\n",
       "      <th>debt</th>\n",
       "    </tr>\n",
       "    <tr>\n",
       "      <th>family_status_id</th>\n",
       "      <th></th>\n",
       "      <th></th>\n",
       "      <th></th>\n",
       "    </tr>\n",
       "  </thead>\n",
       "  <tbody>\n",
       "    <tr>\n",
       "      <th>0</th>\n",
       "      <td>12261</td>\n",
       "      <td>927</td>\n",
       "      <td>0.075606</td>\n",
       "    </tr>\n",
       "    <tr>\n",
       "      <th>1</th>\n",
       "      <td>4134</td>\n",
       "      <td>385</td>\n",
       "      <td>0.093130</td>\n",
       "    </tr>\n",
       "    <tr>\n",
       "      <th>2</th>\n",
       "      <td>951</td>\n",
       "      <td>63</td>\n",
       "      <td>0.066246</td>\n",
       "    </tr>\n",
       "    <tr>\n",
       "      <th>3</th>\n",
       "      <td>1189</td>\n",
       "      <td>84</td>\n",
       "      <td>0.070648</td>\n",
       "    </tr>\n",
       "    <tr>\n",
       "      <th>4</th>\n",
       "      <td>2796</td>\n",
       "      <td>273</td>\n",
       "      <td>0.097639</td>\n",
       "    </tr>\n",
       "  </tbody>\n",
       "</table>\n",
       "</div>"
      ],
      "text/plain": [
       "                  count  sum      mean\n",
       "                   debt debt      debt\n",
       "family_status_id                      \n",
       "0                 12261  927  0.075606\n",
       "1                  4134  385  0.093130\n",
       "2                   951   63  0.066246\n",
       "3                  1189   84  0.070648\n",
       "4                  2796  273  0.097639"
      ]
     },
     "execution_count": 37,
     "metadata": {},
     "output_type": "execute_result"
    }
   ],
   "source": [
    "family_pivot = data_short.pivot_table(index='family_status_id',\n",
    "                                      values='debt',\n",
    "                                      aggfunc=['count', 'sum', 'mean'],\n",
    "                                      fill_value=0)\n",
    "family_pivot"
   ]
  },
  {
   "cell_type": "markdown",
   "id": "62f61d2c",
   "metadata": {},
   "source": [
    "**Findings:**\n",
    "\n",
    "Marital status and repayment of the loan on time are really interconnected.\n",
    "\n",
    "* widowers/widows are the least likely to default on a loan (6.6%), then divorced (7%). Such a conclusion is possible not only because they are more responsible credit payers, but also because of the lack of data - this group of clients is the least represented in the sample;\n",
    "\n",
    "* the most frequently indebted clients are unmarried (9.8%);\n",
    "\n",
    "* in second place in terms of the frequency of non-repayment of debt - clients who are in a civil marriage (9.3%).\n",
    "\n",
    "*Recommendation for business:* all other things being equal, check the solvency of unmarried clients most carefully, since they have previously failed to repay their debt more often than others."
   ]
  },
  {
   "cell_type": "markdown",
   "id": "b1146dff",
   "metadata": {},
   "source": [
    "<a id=\"income_and_debt\"></a> \n",
    "\n",
    "### 3.3 Relationship between income level and loan repayment on time\n",
    "\n",
    "Let's look at the distribution of the `total_income_category` category visually.\n",
    "\n",
    "Categories are:\n",
    "- 0–30000 — `'E'`;\n",
    "- 30001–50000 — `'D'`;\n",
    "- 50001–200000 — `'C'`;\n",
    "- 200001–1000000 — `'B'`;\n",
    "- 1000001 и выше — `'A'`."
   ]
  },
  {
   "cell_type": "code",
   "execution_count": 38,
   "id": "580de8c0",
   "metadata": {},
   "outputs": [
    {
     "data": {
      "image/png": "[encoded data removed]",
      "text/plain": [
       "<Figure size 576x576 with 1 Axes>"
      ]
     },
     "metadata": {
      "needs_background": "light"
     },
     "output_type": "display_data"
    }
   ],
   "source": [
    "# Distribution of the category total_income_category\n",
    "(\n",
    "    data_short['total_income_category']\n",
    "    .value_counts()\n",
    "    .sort_index()\n",
    "    .plot.bar(color='#cbcd9a', \n",
    "              title='Distribution of the category total_income_category',\n",
    "              xlabel='Income category',\n",
    "              width=0.7)\n",
    ");"
   ]
  },
  {
   "cell_type": "code",
   "execution_count": 39,
   "id": "34541989",
   "metadata": {},
   "outputs": [
    {
     "data": {
      "text/plain": [
       "total_income_category\n",
       "A       25\n",
       "B     5014\n",
       "C    15921\n",
       "D      349\n",
       "E       22\n",
       "Name: total_income_category, dtype: int64"
      ]
     },
     "execution_count": 39,
     "metadata": {},
     "output_type": "execute_result"
    }
   ],
   "source": [
    "data_short.groupby('total_income_category')['total_income_category'].count()"
   ]
  },
  {
   "cell_type": "markdown",
   "id": "1be48715",
   "metadata": {},
   "source": [
    "Since earlier the data was grouped into the `total_income` category, the distribution of the `total_income_category` variable is close to normal: the average income level is received by the majority of clients.\n",
    "\n",
    "*****\n",
    "\n",
    "To determine whether marital status and the presence of debt on a loan are dependent, let's group clients by marital status and for each of the groups obtained, let's calculate what proportion in each group is made up of clients with debt on a loan.\n",
    "\n",
    "To do this, let's create and display the `income_pivot` pivot table:"
   ]
  },
  {
   "cell_type": "code",
   "execution_count": 40,
   "id": "e0ddde9e",
   "metadata": {},
   "outputs": [
    {
     "data": {
      "text/html": [
       "<div>\n",
       "<style scoped>\n",
       "    .dataframe tbody tr th:only-of-type {\n",
       "        vertical-align: middle;\n",
       "    }\n",
       "\n",
       "    .dataframe tbody tr th {\n",
       "        vertical-align: top;\n",
       "    }\n",
       "\n",
       "    .dataframe thead tr th {\n",
       "        text-align: left;\n",
       "    }\n",
       "\n",
       "    .dataframe thead tr:last-of-type th {\n",
       "        text-align: right;\n",
       "    }\n",
       "</style>\n",
       "<table border=\"1\" class=\"dataframe\">\n",
       "  <thead>\n",
       "    <tr>\n",
       "      <th></th>\n",
       "      <th>count</th>\n",
       "      <th>sum</th>\n",
       "      <th>mean</th>\n",
       "    </tr>\n",
       "    <tr>\n",
       "      <th></th>\n",
       "      <th>debt</th>\n",
       "      <th>debt</th>\n",
       "      <th>debt</th>\n",
       "    </tr>\n",
       "    <tr>\n",
       "      <th>total_income_category</th>\n",
       "      <th></th>\n",
       "      <th></th>\n",
       "      <th></th>\n",
       "    </tr>\n",
       "  </thead>\n",
       "  <tbody>\n",
       "    <tr>\n",
       "      <th>A</th>\n",
       "      <td>25</td>\n",
       "      <td>2</td>\n",
       "      <td>0.080000</td>\n",
       "    </tr>\n",
       "    <tr>\n",
       "      <th>B</th>\n",
       "      <td>5014</td>\n",
       "      <td>354</td>\n",
       "      <td>0.070602</td>\n",
       "    </tr>\n",
       "    <tr>\n",
       "      <th>C</th>\n",
       "      <td>15921</td>\n",
       "      <td>1353</td>\n",
       "      <td>0.084982</td>\n",
       "    </tr>\n",
       "    <tr>\n",
       "      <th>D</th>\n",
       "      <td>349</td>\n",
       "      <td>21</td>\n",
       "      <td>0.060172</td>\n",
       "    </tr>\n",
       "    <tr>\n",
       "      <th>E</th>\n",
       "      <td>22</td>\n",
       "      <td>2</td>\n",
       "      <td>0.090909</td>\n",
       "    </tr>\n",
       "  </tbody>\n",
       "</table>\n",
       "</div>"
      ],
      "text/plain": [
       "                       count   sum      mean\n",
       "                        debt  debt      debt\n",
       "total_income_category                       \n",
       "A                         25     2  0.080000\n",
       "B                       5014   354  0.070602\n",
       "C                      15921  1353  0.084982\n",
       "D                        349    21  0.060172\n",
       "E                         22     2  0.090909"
      ]
     },
     "execution_count": 40,
     "metadata": {},
     "output_type": "execute_result"
    }
   ],
   "source": [
    "income_pivot = data_short.pivot_table(index='total_income_category',\n",
    "                                      values='debt',\n",
    "                                      aggfunc=['count', 'sum', 'mean'],\n",
    "                                      fill_value=0)\n",
    "income_pivot"
   ]
  },
  {
   "cell_type": "markdown",
   "id": "5dc8f55d",
   "metadata": {},
   "source": [
    "**Findings:**\n",
    "\n",
    "There is an indirect relationship between the level of income and the repayment of the loan on time:\n",
    "\n",
    "* Clients with an income level of 30,001 - 50,000 rubles / month pay the loan most consistently - only 6% of them have debts;\n",
    "\n",
    "* Most often, clients with an income level below 30,000 rubles / month have a debt - more than 9%. A logical conclusion, since sometimes with a low income it is not possible to repay the loan on time;\n",
    "\n",
    "* Approximately at the same level (7 - 8.5%), customers with an income above 50,001 rubles / month have debts.\n",
    "\n",
    "*Recommendation for business:* Other things being equal, it is better to check the credit history of clients with a salary below 30,000, as they often do not repay the loan on time."
   ]
  },
  {
   "cell_type": "markdown",
   "id": "cd8800fd",
   "metadata": {},
   "source": [
    "<a id=\"purpose_and_debt\"></a> \n",
    "\n",
    "### 3.4 Relationship between purposes of a loan and loan repayment on time\n",
    "\n",
    "Let's build graphs for the distribution of customers based on the purpose of taking a loan, and also calculate how many customers are in each of the groups."
   ]
  },
  {
   "cell_type": "code",
   "execution_count": 41,
   "id": "29b09519",
   "metadata": {},
   "outputs": [
    {
     "data": {
      "image/png": "[encoded data removed]",
      "text/plain": [
       "<Figure size 576x576 with 1 Axes>"
      ]
     },
     "metadata": {
      "needs_background": "light"
     },
     "output_type": "display_data"
    }
   ],
   "source": [
    "# Distribution of the category purpose_category\n",
    "data_short['purpose_category'].value_counts().plot.bar(color='#cd9a9a', \n",
    "                                                       title='Distribution of the category purpose_category',\n",
    "                                                       xlabel='Loan purpose',\n",
    "                                                       width=0.7,\n",
    "                                                       rot=30);"
   ]
  },
  {
   "cell_type": "code",
   "execution_count": 42,
   "id": "33b2b985",
   "metadata": {},
   "outputs": [
    {
     "data": {
      "text/plain": [
       "purpose_category\n",
       "операции с автомобилем       4279\n",
       "операции с недвижимостью    10751\n",
       "получение образования        3988\n",
       "проведение свадьбы           2313\n",
       "Name: purpose_category, dtype: int64"
      ]
     },
     "execution_count": 42,
     "metadata": {},
     "output_type": "execute_result"
    }
   ],
   "source": [
    "data_short.groupby('purpose_category')['purpose_category'].count()"
   ]
  },
  {
   "cell_type": "markdown",
   "id": "6f3b011b",
   "metadata": {},
   "source": [
    "Most often, bank customers take a loan for real estate. Least of all - for a wedding.\n",
    "\n",
    "*****\n",
    "\n",
    "To determine whether there is a relationship between the purpose of taking a loan and the presence of debt on it, let's group clients according to the purpose of taking a loan and for each of the groups obtained, let's calculate what proportion in each group is made up of clients with debt.\n",
    "\n",
    "To do this, let's create and display a pivot table `purpose_pivot`:"
   ]
  },
  {
   "cell_type": "code",
   "execution_count": 43,
   "id": "abb74fe1",
   "metadata": {},
   "outputs": [
    {
     "data": {
      "text/html": [
       "<div>\n",
       "<style scoped>\n",
       "    .dataframe tbody tr th:only-of-type {\n",
       "        vertical-align: middle;\n",
       "    }\n",
       "\n",
       "    .dataframe tbody tr th {\n",
       "        vertical-align: top;\n",
       "    }\n",
       "\n",
       "    .dataframe thead tr th {\n",
       "        text-align: left;\n",
       "    }\n",
       "\n",
       "    .dataframe thead tr:last-of-type th {\n",
       "        text-align: right;\n",
       "    }\n",
       "</style>\n",
       "<table border=\"1\" class=\"dataframe\">\n",
       "  <thead>\n",
       "    <tr>\n",
       "      <th></th>\n",
       "      <th>count</th>\n",
       "      <th>sum</th>\n",
       "      <th>mean</th>\n",
       "    </tr>\n",
       "    <tr>\n",
       "      <th></th>\n",
       "      <th>debt</th>\n",
       "      <th>debt</th>\n",
       "      <th>debt</th>\n",
       "    </tr>\n",
       "    <tr>\n",
       "      <th>purpose_category</th>\n",
       "      <th></th>\n",
       "      <th></th>\n",
       "      <th></th>\n",
       "    </tr>\n",
       "  </thead>\n",
       "  <tbody>\n",
       "    <tr>\n",
       "      <th>операции с автомобилем</th>\n",
       "      <td>4279</td>\n",
       "      <td>400</td>\n",
       "      <td>0.093480</td>\n",
       "    </tr>\n",
       "    <tr>\n",
       "      <th>операции с недвижимостью</th>\n",
       "      <td>10751</td>\n",
       "      <td>780</td>\n",
       "      <td>0.072551</td>\n",
       "    </tr>\n",
       "    <tr>\n",
       "      <th>получение образования</th>\n",
       "      <td>3988</td>\n",
       "      <td>369</td>\n",
       "      <td>0.092528</td>\n",
       "    </tr>\n",
       "    <tr>\n",
       "      <th>проведение свадьбы</th>\n",
       "      <td>2313</td>\n",
       "      <td>183</td>\n",
       "      <td>0.079118</td>\n",
       "    </tr>\n",
       "  </tbody>\n",
       "</table>\n",
       "</div>"
      ],
      "text/plain": [
       "                          count  sum      mean\n",
       "                           debt debt      debt\n",
       "purpose_category                              \n",
       "операции с автомобилем     4279  400  0.093480\n",
       "операции с недвижимостью  10751  780  0.072551\n",
       "получение образования      3988  369  0.092528\n",
       "проведение свадьбы         2313  183  0.079118"
      ]
     },
     "execution_count": 43,
     "metadata": {},
     "output_type": "execute_result"
    }
   ],
   "source": [
    "purpose_pivot = data_short.pivot_table(index='purpose_category',\n",
    "                                       values='debt',\n",
    "                                       aggfunc=['count', 'sum', 'mean'],\n",
    "                                       fill_value=0)\n",
    "purpose_pivot"
   ]
  },
  {
   "cell_type": "markdown",
   "id": "9d79458a",
   "metadata": {},
   "source": [
    "**Findings:**\n",
    "\n",
    "Indeed, different purposes of the loan affect its repayment on time in slightly different ways:\n",
    "\n",
    "* According to the leader among the purposes of the loan - `'операции с недвижимостью'` (real estate transactions) the loan is returned most often.\n",
    "\n",
    "* Most often, funds are not returned on time for a loan for a car (9.3%) and for education (9.2%).\n",
    "\n",
    "This conclusion is non-intuitive (since real estate is clearly more expensive than a car, and it would be logical to see a higher frequency of debts on it).\n",
    "\n",
    "A possible explanation is that real estate is the most \"sensitive\" area for people (many people buy their only home that they would not like to lose and stay on the street), so the loan default rate for real estate is somewhat lower.\n",
    "And education and a car are not a necessity for most (perhaps this is a \"luxury\"), which is why they are more likely to delinquency.\n",
    "\n",
    "*Recommendations for business:* Other things being equal, the most carefully check the solvency and credit history of customers for the purpose of credit - `'операции с автомобилем'` (car transactions) and `'получение образования'` (education)."
   ]
  },
  {
   "cell_type": "markdown",
   "id": "b4e29246",
   "metadata": {},
   "source": [
    "<a id=\"conclusion\"></a> \n",
    "  \n",
    "## 4. General conclusion\n",
    "\n",
    "In the project the relationship between a number of factors and the repayment of a bank loan on time were investigated.\n",
    "\n",
    "*Input data:* statistics of solvency of bank customers.\n",
    "\n",
    "*Application of the results*: building a software check of the solvency of customers in order to determine the probability of non-payment of a future loan on time (credit scoring model).\n",
    "\n",
    "\n",
    "**Research hypotheses:**\n",
    "\n",
    "- Hypothesis 1. There is a relationship between the number of children and loan repayment on time.\n",
    "\n",
    "- Hypothesis 2. There is a relationship between marital status and loan repayment on time.\n",
    "\n",
    "- Hypothesis 3. There is a relationship between the level of income and repayment of the loan on time.\n",
    "\n",
    "- Hypothesis 4. There is a relationship between the objectives of the loan and its repayment on time.\n",
    "\n",
    "\n",
    "As a result of testing the hypotheses, the following results were obtained:\n",
    "\n",
    "\n",
    "\n",
    "**Hypothesis 1 was partially confirmed.**\n",
    "\n",
    "- The proportion of debtors without children is less: 7.5%\n",
    "- Share of debtors with 1 child more: 9.2%\n",
    "- The proportion of debtors with 2 children is greater: 9.5%\n",
    "\n",
    "Recommendation: When scoring, pay attention to the parameter of the presence of children in a client, since childless borrowers show themselves to be more responsible than clients with children.\n",
    "\n",
    "**BUT**: We need more data on clients with 3 or more children to draw a reliable conclusion about their ability to pay (there are too few such clients in our data, so it is impossible to draw a reliable conclusion).\n",
    "\n",
    "\n",
    "\n",
    "**Hypothesis 2 was fully confirmed.**\n",
    "\n",
    "- The proportion of debtors who have never been in an officially registered marriage is higher:\n",
    "    - 9.3% civil marriage\n",
    "    - 9.8% Single\n",
    "   \n",
    "- The proportion of debtors who have ever been officially married is less than:\n",
    "    - 6.6% widow/widower\n",
    "    - 7.6% married\n",
    "    - 7% divorced\n",
    "\n",
    "Recommendation: When scoring, pay attention to the parameter whether the client has ever been officially married, since unmarried clients are less likely to repay the loan on time.\n",
    "\n",
    "\n",
    "\n",
    "**Hypothesis 3 was partially confirmed.**\n",
    "\n",
    "- Share of debtors with income up to 30,000: 9%\n",
    "- Share of debtors with income of 30,001 - 50,000: 6%\n",
    "- Share of debtors with income above 50,001: 7-8.5%\n",
    "\n",
    "Recommendation: When scoring, pay attention to the income of clients, as borrowers with an income of up to 30,000 more often do not repay the loan on time.\n",
    "\n",
    "**BUT**: We need more data on high earning clients (200,000 and above) to draw a firm conclusion about their likelihood of indebtedness (there are too few such clients in our data, so a firm conclusion cannot be drawn).\n",
    "\n",
    "\n",
    "\n",
    "**Hypothesis 4 was fully confirmed.**\n",
    "\n",
    "- The proportion of debtors on a loan for real estate: 7.3%\n",
    "- Share of wedding loan debtors: 7.9%\n",
    "- Share of car loan debtors: 9.3%\n",
    "- Share of student loan debtors: 9.3%\n",
    "\n",
    "Recommendation: Pay attention when scoring the purpose of the loan, since loans for cars and education are the least likely to be repaid, and for real estate, borrowers show themselves most responsibly."
   ]
  }
 ],
 "metadata": {
  "kernelspec": {
   "display_name": "Python 3 (ipykernel)",
   "language": "python",
   "name": "python3"
  },
  "language_info": {
   "codemirror_mode": {
    "name": "ipython",
    "version": 3
   },
   "file_extension": ".py",
   "mimetype": "text/x-python",
   "name": "python",
   "nbconvert_exporter": "python",
   "pygments_lexer": "ipython3",
   "version": "3.9.12"
  }
 },
 "nbformat": 4,
 "nbformat_minor": 5
}
