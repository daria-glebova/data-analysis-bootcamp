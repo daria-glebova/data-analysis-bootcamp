{
 "cells": [
  {
   "cell_type": "markdown",
   "metadata": {},
   "source": [
    "**Contents**\n",
    "\n",
    "\n",
    "1. [Open files](#open_files)\n",
    "\n",
    "\n",
    "2. [Data preprocessing](#preprocessing)\n",
    "    \n",
    "      2.1 [Missing values](#missing_values)\n",
    "      \n",
    "      2.2 [Valuable types](#types)\n",
    "    \n",
    "      2.3 [Duplicates processing](#duplicates) \n",
    "    \n",
    "      2.4 [Outliers](#outliers)\n",
    "      \n",
    "\n",
    "3. [New variables](#new_variables)\n",
    "      \n",
    "      3.1 [Price per square meter](#meter_price)\n",
    "      \n",
    "      3.2 [Day of the week the ad was posted](#day_of_week)\n",
    "      \n",
    "      3.3 [Month the ad was posted](#month)\n",
    "      \n",
    "      3.4 [Year the ad was posted](#year)\n",
    "      \n",
    "      3.5 [Floor type](#floor_type)\n",
    "      \n",
    "      3.6 [Distance to city center in kilometers](#km_city_center)\n",
    "\n",
    "\n",
    "4. [EDA](#exploratory_analysis)\n",
    "\n",
    "      4.1 [Object parameters](#obj_params)\n",
    "      \n",
    "      4.2 [Selling speed](#speed)\n",
    "      \n",
    "      4.3 [Object cost factors](#cost_factors)\n",
    "      \n",
    "      4.4 [10 locations with the largest number of ads](#top10_locations)\n",
    "      \n",
    "      4.5 [Distance to city center and object price](#citycenter_price)\n",
    "\n",
    "\n",
    "6. [General conclusion](#conclusion)"
   ]
  },
  {
   "cell_type": "markdown",
   "metadata": {},
   "source": [
    "# Ads study for the sale of apartments\n",
    "\n",
    "**Input data**: The data of the Yandex.Realty service is available - an archive of ads for the sale of apartments in St. Petersburg and neighboring settlements for several years. Two types of data are available for each apartment for sale. The first ones are entered by the user, the second ones are obtained automatically on the basis of cartographic data. For example, the distance to the center, airport, nearest park and reservoir.\n",
    "\n",
    "**Purpose**: To learn how to determine the market value of real estate: to set the parameters that will allow to build an automated system, track anomalies, and fraudulent activity."
   ]
  },
  {
   "cell_type": "code",
   "execution_count": 1,
   "metadata": {},
   "outputs": [],
   "source": [
    "# Loading the required libraries\n",
    "import pandas as pd"
   ]
  },
  {
   "cell_type": "markdown",
   "metadata": {},
   "source": [
    "<a id=\"open_files\"></a> \n",
    "\n",
    "## Open files"
   ]
  },
  {
   "cell_type": "code",
   "execution_count": 2,
   "metadata": {},
   "outputs": [],
   "source": [
    "# Reading data\n",
    "data = pd.read_csv('https://code.s3.yandex.net/datasets/real_estate_data.csv', sep='\\t')"
   ]
  },
  {
   "cell_type": "code",
   "execution_count": 3,
   "metadata": {},
   "outputs": [
    {
     "data": {
      "text/html": [
       "<div>\n",
       "<style scoped>\n",
       "    .dataframe tbody tr th:only-of-type {\n",
       "        vertical-align: middle;\n",
       "    }\n",
       "\n",
       "    .dataframe tbody tr th {\n",
       "        vertical-align: top;\n",
       "    }\n",
       "\n",
       "    .dataframe thead th {\n",
       "        text-align: right;\n",
       "    }\n",
       "</style>\n",
       "<table border=\"1\" class=\"dataframe\">\n",
       "  <thead>\n",
       "    <tr style=\"text-align: right;\">\n",
       "      <th></th>\n",
       "      <th>total_images</th>\n",
       "      <th>last_price</th>\n",
       "      <th>total_area</th>\n",
       "      <th>first_day_exposition</th>\n",
       "      <th>rooms</th>\n",
       "      <th>ceiling_height</th>\n",
       "      <th>floors_total</th>\n",
       "      <th>living_area</th>\n",
       "      <th>floor</th>\n",
       "      <th>is_apartment</th>\n",
       "      <th>...</th>\n",
       "      <th>kitchen_area</th>\n",
       "      <th>balcony</th>\n",
       "      <th>locality_name</th>\n",
       "      <th>airports_nearest</th>\n",
       "      <th>cityCenters_nearest</th>\n",
       "      <th>parks_around3000</th>\n",
       "      <th>parks_nearest</th>\n",
       "      <th>ponds_around3000</th>\n",
       "      <th>ponds_nearest</th>\n",
       "      <th>days_exposition</th>\n",
       "    </tr>\n",
       "  </thead>\n",
       "  <tbody>\n",
       "    <tr>\n",
       "      <th>0</th>\n",
       "      <td>20</td>\n",
       "      <td>13000000.0</td>\n",
       "      <td>108.00</td>\n",
       "      <td>2019-03-07T00:00:00</td>\n",
       "      <td>3</td>\n",
       "      <td>2.70</td>\n",
       "      <td>16.0</td>\n",
       "      <td>51.00</td>\n",
       "      <td>8</td>\n",
       "      <td>NaN</td>\n",
       "      <td>...</td>\n",
       "      <td>25.00</td>\n",
       "      <td>NaN</td>\n",
       "      <td>Санкт-Петербург</td>\n",
       "      <td>18863.0</td>\n",
       "      <td>16028.0</td>\n",
       "      <td>1.0</td>\n",
       "      <td>482.0</td>\n",
       "      <td>2.0</td>\n",
       "      <td>755.0</td>\n",
       "      <td>NaN</td>\n",
       "    </tr>\n",
       "    <tr>\n",
       "      <th>1</th>\n",
       "      <td>7</td>\n",
       "      <td>3350000.0</td>\n",
       "      <td>40.40</td>\n",
       "      <td>2018-12-04T00:00:00</td>\n",
       "      <td>1</td>\n",
       "      <td>NaN</td>\n",
       "      <td>11.0</td>\n",
       "      <td>18.60</td>\n",
       "      <td>1</td>\n",
       "      <td>NaN</td>\n",
       "      <td>...</td>\n",
       "      <td>11.00</td>\n",
       "      <td>2.0</td>\n",
       "      <td>посёлок Шушары</td>\n",
       "      <td>12817.0</td>\n",
       "      <td>18603.0</td>\n",
       "      <td>0.0</td>\n",
       "      <td>NaN</td>\n",
       "      <td>0.0</td>\n",
       "      <td>NaN</td>\n",
       "      <td>81.0</td>\n",
       "    </tr>\n",
       "    <tr>\n",
       "      <th>2</th>\n",
       "      <td>10</td>\n",
       "      <td>5196000.0</td>\n",
       "      <td>56.00</td>\n",
       "      <td>2015-08-20T00:00:00</td>\n",
       "      <td>2</td>\n",
       "      <td>NaN</td>\n",
       "      <td>5.0</td>\n",
       "      <td>34.30</td>\n",
       "      <td>4</td>\n",
       "      <td>NaN</td>\n",
       "      <td>...</td>\n",
       "      <td>8.30</td>\n",
       "      <td>0.0</td>\n",
       "      <td>Санкт-Петербург</td>\n",
       "      <td>21741.0</td>\n",
       "      <td>13933.0</td>\n",
       "      <td>1.0</td>\n",
       "      <td>90.0</td>\n",
       "      <td>2.0</td>\n",
       "      <td>574.0</td>\n",
       "      <td>558.0</td>\n",
       "    </tr>\n",
       "    <tr>\n",
       "      <th>3</th>\n",
       "      <td>0</td>\n",
       "      <td>64900000.0</td>\n",
       "      <td>159.00</td>\n",
       "      <td>2015-07-24T00:00:00</td>\n",
       "      <td>3</td>\n",
       "      <td>NaN</td>\n",
       "      <td>14.0</td>\n",
       "      <td>NaN</td>\n",
       "      <td>9</td>\n",
       "      <td>NaN</td>\n",
       "      <td>...</td>\n",
       "      <td>NaN</td>\n",
       "      <td>0.0</td>\n",
       "      <td>Санкт-Петербург</td>\n",
       "      <td>28098.0</td>\n",
       "      <td>6800.0</td>\n",
       "      <td>2.0</td>\n",
       "      <td>84.0</td>\n",
       "      <td>3.0</td>\n",
       "      <td>234.0</td>\n",
       "      <td>424.0</td>\n",
       "    </tr>\n",
       "    <tr>\n",
       "      <th>4</th>\n",
       "      <td>2</td>\n",
       "      <td>10000000.0</td>\n",
       "      <td>100.00</td>\n",
       "      <td>2018-06-19T00:00:00</td>\n",
       "      <td>2</td>\n",
       "      <td>3.03</td>\n",
       "      <td>14.0</td>\n",
       "      <td>32.00</td>\n",
       "      <td>13</td>\n",
       "      <td>NaN</td>\n",
       "      <td>...</td>\n",
       "      <td>41.00</td>\n",
       "      <td>NaN</td>\n",
       "      <td>Санкт-Петербург</td>\n",
       "      <td>31856.0</td>\n",
       "      <td>8098.0</td>\n",
       "      <td>2.0</td>\n",
       "      <td>112.0</td>\n",
       "      <td>1.0</td>\n",
       "      <td>48.0</td>\n",
       "      <td>121.0</td>\n",
       "    </tr>\n",
       "    <tr>\n",
       "      <th>5</th>\n",
       "      <td>10</td>\n",
       "      <td>2890000.0</td>\n",
       "      <td>30.40</td>\n",
       "      <td>2018-09-10T00:00:00</td>\n",
       "      <td>1</td>\n",
       "      <td>NaN</td>\n",
       "      <td>12.0</td>\n",
       "      <td>14.40</td>\n",
       "      <td>5</td>\n",
       "      <td>NaN</td>\n",
       "      <td>...</td>\n",
       "      <td>9.10</td>\n",
       "      <td>NaN</td>\n",
       "      <td>городской посёлок Янино-1</td>\n",
       "      <td>NaN</td>\n",
       "      <td>NaN</td>\n",
       "      <td>NaN</td>\n",
       "      <td>NaN</td>\n",
       "      <td>NaN</td>\n",
       "      <td>NaN</td>\n",
       "      <td>55.0</td>\n",
       "    </tr>\n",
       "    <tr>\n",
       "      <th>6</th>\n",
       "      <td>6</td>\n",
       "      <td>3700000.0</td>\n",
       "      <td>37.30</td>\n",
       "      <td>2017-11-02T00:00:00</td>\n",
       "      <td>1</td>\n",
       "      <td>NaN</td>\n",
       "      <td>26.0</td>\n",
       "      <td>10.60</td>\n",
       "      <td>6</td>\n",
       "      <td>NaN</td>\n",
       "      <td>...</td>\n",
       "      <td>14.40</td>\n",
       "      <td>1.0</td>\n",
       "      <td>посёлок Парголово</td>\n",
       "      <td>52996.0</td>\n",
       "      <td>19143.0</td>\n",
       "      <td>0.0</td>\n",
       "      <td>NaN</td>\n",
       "      <td>0.0</td>\n",
       "      <td>NaN</td>\n",
       "      <td>155.0</td>\n",
       "    </tr>\n",
       "    <tr>\n",
       "      <th>7</th>\n",
       "      <td>5</td>\n",
       "      <td>7915000.0</td>\n",
       "      <td>71.60</td>\n",
       "      <td>2019-04-18T00:00:00</td>\n",
       "      <td>2</td>\n",
       "      <td>NaN</td>\n",
       "      <td>24.0</td>\n",
       "      <td>NaN</td>\n",
       "      <td>22</td>\n",
       "      <td>NaN</td>\n",
       "      <td>...</td>\n",
       "      <td>18.90</td>\n",
       "      <td>2.0</td>\n",
       "      <td>Санкт-Петербург</td>\n",
       "      <td>23982.0</td>\n",
       "      <td>11634.0</td>\n",
       "      <td>0.0</td>\n",
       "      <td>NaN</td>\n",
       "      <td>0.0</td>\n",
       "      <td>NaN</td>\n",
       "      <td>NaN</td>\n",
       "    </tr>\n",
       "    <tr>\n",
       "      <th>8</th>\n",
       "      <td>20</td>\n",
       "      <td>2900000.0</td>\n",
       "      <td>33.16</td>\n",
       "      <td>2018-05-23T00:00:00</td>\n",
       "      <td>1</td>\n",
       "      <td>NaN</td>\n",
       "      <td>27.0</td>\n",
       "      <td>15.43</td>\n",
       "      <td>26</td>\n",
       "      <td>NaN</td>\n",
       "      <td>...</td>\n",
       "      <td>8.81</td>\n",
       "      <td>NaN</td>\n",
       "      <td>посёлок Мурино</td>\n",
       "      <td>NaN</td>\n",
       "      <td>NaN</td>\n",
       "      <td>NaN</td>\n",
       "      <td>NaN</td>\n",
       "      <td>NaN</td>\n",
       "      <td>NaN</td>\n",
       "      <td>189.0</td>\n",
       "    </tr>\n",
       "    <tr>\n",
       "      <th>9</th>\n",
       "      <td>18</td>\n",
       "      <td>5400000.0</td>\n",
       "      <td>61.00</td>\n",
       "      <td>2017-02-26T00:00:00</td>\n",
       "      <td>3</td>\n",
       "      <td>2.50</td>\n",
       "      <td>9.0</td>\n",
       "      <td>43.60</td>\n",
       "      <td>7</td>\n",
       "      <td>NaN</td>\n",
       "      <td>...</td>\n",
       "      <td>6.50</td>\n",
       "      <td>2.0</td>\n",
       "      <td>Санкт-Петербург</td>\n",
       "      <td>50898.0</td>\n",
       "      <td>15008.0</td>\n",
       "      <td>0.0</td>\n",
       "      <td>NaN</td>\n",
       "      <td>0.0</td>\n",
       "      <td>NaN</td>\n",
       "      <td>289.0</td>\n",
       "    </tr>\n",
       "  </tbody>\n",
       "</table>\n",
       "<p>10 rows × 22 columns</p>\n",
       "</div>"
      ],
      "text/plain": [
       "   total_images  last_price  total_area first_day_exposition  rooms  \\\n",
       "0            20  13000000.0      108.00  2019-03-07T00:00:00      3   \n",
       "1             7   3350000.0       40.40  2018-12-04T00:00:00      1   \n",
       "2            10   5196000.0       56.00  2015-08-20T00:00:00      2   \n",
       "3             0  64900000.0      159.00  2015-07-24T00:00:00      3   \n",
       "4             2  10000000.0      100.00  2018-06-19T00:00:00      2   \n",
       "5            10   2890000.0       30.40  2018-09-10T00:00:00      1   \n",
       "6             6   3700000.0       37.30  2017-11-02T00:00:00      1   \n",
       "7             5   7915000.0       71.60  2019-04-18T00:00:00      2   \n",
       "8            20   2900000.0       33.16  2018-05-23T00:00:00      1   \n",
       "9            18   5400000.0       61.00  2017-02-26T00:00:00      3   \n",
       "\n",
       "   ceiling_height  floors_total  living_area  floor is_apartment  ...  \\\n",
       "0            2.70          16.0        51.00      8          NaN  ...   \n",
       "1             NaN          11.0        18.60      1          NaN  ...   \n",
       "2             NaN           5.0        34.30      4          NaN  ...   \n",
       "3             NaN          14.0          NaN      9          NaN  ...   \n",
       "4            3.03          14.0        32.00     13          NaN  ...   \n",
       "5             NaN          12.0        14.40      5          NaN  ...   \n",
       "6             NaN          26.0        10.60      6          NaN  ...   \n",
       "7             NaN          24.0          NaN     22          NaN  ...   \n",
       "8             NaN          27.0        15.43     26          NaN  ...   \n",
       "9            2.50           9.0        43.60      7          NaN  ...   \n",
       "\n",
       "   kitchen_area  balcony              locality_name  airports_nearest  \\\n",
       "0         25.00      NaN            Санкт-Петербург           18863.0   \n",
       "1         11.00      2.0             посёлок Шушары           12817.0   \n",
       "2          8.30      0.0            Санкт-Петербург           21741.0   \n",
       "3           NaN      0.0            Санкт-Петербург           28098.0   \n",
       "4         41.00      NaN            Санкт-Петербург           31856.0   \n",
       "5          9.10      NaN  городской посёлок Янино-1               NaN   \n",
       "6         14.40      1.0          посёлок Парголово           52996.0   \n",
       "7         18.90      2.0            Санкт-Петербург           23982.0   \n",
       "8          8.81      NaN             посёлок Мурино               NaN   \n",
       "9          6.50      2.0            Санкт-Петербург           50898.0   \n",
       "\n",
       "  cityCenters_nearest  parks_around3000  parks_nearest  ponds_around3000  \\\n",
       "0             16028.0               1.0          482.0               2.0   \n",
       "1             18603.0               0.0            NaN               0.0   \n",
       "2             13933.0               1.0           90.0               2.0   \n",
       "3              6800.0               2.0           84.0               3.0   \n",
       "4              8098.0               2.0          112.0               1.0   \n",
       "5                 NaN               NaN            NaN               NaN   \n",
       "6             19143.0               0.0            NaN               0.0   \n",
       "7             11634.0               0.0            NaN               0.0   \n",
       "8                 NaN               NaN            NaN               NaN   \n",
       "9             15008.0               0.0            NaN               0.0   \n",
       "\n",
       "   ponds_nearest  days_exposition  \n",
       "0          755.0              NaN  \n",
       "1            NaN             81.0  \n",
       "2          574.0            558.0  \n",
       "3          234.0            424.0  \n",
       "4           48.0            121.0  \n",
       "5            NaN             55.0  \n",
       "6            NaN            155.0  \n",
       "7            NaN              NaN  \n",
       "8            NaN            189.0  \n",
       "9            NaN            289.0  \n",
       "\n",
       "[10 rows x 22 columns]"
      ]
     },
     "execution_count": 3,
     "metadata": {},
     "output_type": "execute_result"
    }
   ],
   "source": [
    "# Displaying the first 10 rows of dataset\n",
    "data.head(10)"
   ]
  },
  {
   "cell_type": "markdown",
   "metadata": {},
   "source": [
    "The data was read correctly."
   ]
  },
  {
   "cell_type": "markdown",
   "metadata": {},
   "source": [
    "To better see the structure of the dataset, let's look at general information about the data."
   ]
  },
  {
   "cell_type": "code",
   "execution_count": 4,
   "metadata": {},
   "outputs": [
    {
     "name": "stdout",
     "output_type": "stream",
     "text": [
      "<class 'pandas.core.frame.DataFrame'>\n",
      "RangeIndex: 23699 entries, 0 to 23698\n",
      "Data columns (total 22 columns):\n",
      " #   Column                Non-Null Count  Dtype  \n",
      "---  ------                --------------  -----  \n",
      " 0   total_images          23699 non-null  int64  \n",
      " 1   last_price            23699 non-null  float64\n",
      " 2   total_area            23699 non-null  float64\n",
      " 3   first_day_exposition  23699 non-null  object \n",
      " 4   rooms                 23699 non-null  int64  \n",
      " 5   ceiling_height        14504 non-null  float64\n",
      " 6   floors_total          23613 non-null  float64\n",
      " 7   living_area           21796 non-null  float64\n",
      " 8   floor                 23699 non-null  int64  \n",
      " 9   is_apartment          2775 non-null   object \n",
      " 10  studio                23699 non-null  bool   \n",
      " 11  open_plan             23699 non-null  bool   \n",
      " 12  kitchen_area          21421 non-null  float64\n",
      " 13  balcony               12180 non-null  float64\n",
      " 14  locality_name         23650 non-null  object \n",
      " 15  airports_nearest      18157 non-null  float64\n",
      " 16  cityCenters_nearest   18180 non-null  float64\n",
      " 17  parks_around3000      18181 non-null  float64\n",
      " 18  parks_nearest         8079 non-null   float64\n",
      " 19  ponds_around3000      18181 non-null  float64\n",
      " 20  ponds_nearest         9110 non-null   float64\n",
      " 21  days_exposition       20518 non-null  float64\n",
      "dtypes: bool(2), float64(14), int64(3), object(3)\n",
      "memory usage: 3.7+ MB\n"
     ]
    }
   ],
   "source": [
    "# General information about dataset\n",
    "data.info()"
   ]
  },
  {
   "cell_type": "markdown",
   "metadata": {},
   "source": [
    "In total, the dataset has 22 columns and about 24 thousand rows. There are missing values in almost every column, and some data types are not stored correctly."
   ]
  },
  {
   "cell_type": "markdown",
   "metadata": {},
   "source": [
    "Let's also look at the distributions for all columns of the dataset."
   ]
  },
  {
   "cell_type": "code",
   "execution_count": 5,
   "metadata": {},
   "outputs": [
    {
     "data": {
      "image/png": "[encoded data removed]",
      "text/plain": [
       "<Figure size 1080x1440 with 20 Axes>"
      ]
     },
     "metadata": {
      "needs_background": "light"
     },
     "output_type": "display_data"
    }
   ],
   "source": [
    "# Histograms for all columns of the dataset\n",
    "data.hist(figsize=(15, 20));"
   ]
  },
  {
   "cell_type": "markdown",
   "metadata": {},
   "source": [
    "**Graph Conclusions:**\n",
    "\n",
    "- `total_images` - the distribution resembles the classical Normal distribution (it looks like a bell \"cut off\" along the zero line);\n",
    "- `last_price` - the graph is plotted on a logarithmic scale (\"discarded\" 8 zeros). Most of the apartments were sold for less than 100 million. Most likely the data has outliers - very expensive real estate;\n",
    "- `total_area` - most apartments have an area of up to 200 square meters;\n",
    "- `rooms` - most apartments have up to 5 rooms;\n",
    "- `ceiling_height` - the graph of ceiling height distribution is not indicative here. Most likely, the data has outliers that skewed the distribution of the variable (for example, someone indicated the height of the ceilings in centimeters);\n",
    "- `floors_total` - the distribution of the number of floors in the houses also resembles Poisson. Most apartments are located in buildings up to 20 floors;\n",
    "- `living_area` - most apartments have a living area of up to 100 square meters;\n",
    "- `floor` - an abnormally large number of apartments grouped at a value of 0 floors (strange), will need to be checked separately;\n",
    "- `kitchen_area` - most apartments have a kitchen area of up to 25 square meters;\n",
    "- `balcony` - an approximately equal number of apartments have 0, 1 or 2 balconies;\n",
    "- `airports_nearest` - the distribution is similar to right-skewed. Many apartments are located 10-40 kilometers from the airport;\n",
    "- `cityCenters_nearest` - the distribution has obvious outliers in the region of large values. Many apartments are located up to 20 kilometers from the city center;\n",
    "- `parks_around3000` - the distribution is skewed to the right - many apartments are located not near the park or have 1 park in the nearest district;\n",
    "- `parks_nearest` - in the distribution, growth is noticeable in the region of large values. Most of the apartments are located one kilometer from the nearest park. It would be worth checking how these data agree with the previous column, according to which almost half of the apartments are located more than 3 kilometers from the nearest park;\n",
    "- `ponds_around3000` - many apartments are located not near a water body or have 1 body of water in the nearest district;\n",
    "- `ponds_nearest` - Poisson-like distribution. A peak is noticeable in the region of a value of 500 meters to the nearest reservoir - typical for St. Petersburg;\n",
    "- `days_exposition` - a large number of values are grouped around a small number of days, you need to look at the data more carefully."
   ]
  },
  {
   "cell_type": "markdown",
   "metadata": {},
   "source": [
    "<a id=\"preprocessing\"></a> \n",
    "\n",
    "\n",
    "## Data preprocessing"
   ]
  },
  {
   "cell_type": "markdown",
   "metadata": {},
   "source": [
    "<a id=\"missing_values\"></a>\n",
    "\n",
    "### Missing values"
   ]
  },
  {
   "cell_type": "markdown",
   "metadata": {},
   "source": [
    "Let's find columns with missing values in the dataset and count their number."
   ]
  },
  {
   "cell_type": "code",
   "execution_count": 6,
   "metadata": {},
   "outputs": [
    {
     "data": {
      "text/plain": [
       "total_images                0\n",
       "last_price                  0\n",
       "total_area                  0\n",
       "first_day_exposition        0\n",
       "rooms                       0\n",
       "ceiling_height           9195\n",
       "floors_total               86\n",
       "living_area              1903\n",
       "floor                       0\n",
       "is_apartment            20924\n",
       "studio                      0\n",
       "open_plan                   0\n",
       "kitchen_area             2278\n",
       "balcony                 11519\n",
       "locality_name              49\n",
       "airports_nearest         5542\n",
       "cityCenters_nearest      5519\n",
       "parks_around3000         5518\n",
       "parks_nearest           15620\n",
       "ponds_around3000         5518\n",
       "ponds_nearest           14589\n",
       "days_exposition          3181\n",
       "dtype: int64"
      ]
     },
     "execution_count": 6,
     "metadata": {},
     "output_type": "execute_result"
    }
   ],
   "source": [
    "# Number of missing values\n",
    "data.isna().sum()"
   ]
  },
  {
   "cell_type": "markdown",
   "metadata": {},
   "source": [
    "In 14 out of 22 columns, missing gaps were found, their number is not uniform: there are variables (for example, `locality_name`) with an insignificant number of gaps, there are variables (`balcony`, `is_apartment`, `parks_nearest`, `ponds_nearest`), where the number of gaps makes up the majority.\n",
    "\n",
    "\n",
    "**Possible reasons for missing data:**\n",
    "\n",
    "1) *Human factor.* When data is entered manually, problems may arise - deliberate distortion and concealment of data, or accidental omissions.\n",
    "\n",
    "For example, the seller might not have information about the height of the ceilings or the area of \\u200b\\u200bthe kitchen, and he left this column empty. Some items could be optional (for example, about apartments);\n",
    "\n",
    "2) *Program error.* It is impossible to determine some indicators for the object.\n",
    "\n",
    "For example, Yandex.Navigator was unable to determine the distance from an object to the nearest airport, body of water, or park (due to an incompletely specified address by the user or other reasons).\n",
    "\n",
    "3) *Ad is not closed yet*. Values in the `days_exposition` column may be missing because the ad is still on the site.\n",
    "\n",
    "\n",
    "**Options for replacing missing values:**\n",
    "\n",
    "- `is_apartment` - replace gaps with the `False` value, since it is not possible to set the actual value. There is also a hypothesis that missing values can be interpreted as `False` - the object is not an apartment;\n",
    "- `balcony` - replace gaps with zeros. If the number of balconies is not indicated, most likely there are none;\n",
    "- `locality_name` - replace gaps with `Unknown`, since this parameter cannot be restored from the data;\n",
    "- `parks_around3000` - replace gaps with zeros;\n",
    "- `ponds_around3000` - replace gaps with zeros.\n",
    "\n",
    "\n",
    "For the variables `ceiling_height`, `floors_total`, `living_area`, `kitchen_area`, `airports_nearest`, `cityCenters_nearest`, `parks_nearest` and `ponds_nearest` it is impossible to offer adequate replacements, so we will leave them as they are."
   ]
  },
  {
   "cell_type": "code",
   "execution_count": 7,
   "metadata": {},
   "outputs": [],
   "source": [
    "# Fill in the missing values\n",
    "data['is_apartment'] = data['is_apartment'].fillna(False)\n",
    "data['balcony'] = data['balcony'].fillna(0)\n",
    "data['locality_name'] = data['locality_name'].fillna('Неизвестно')\n",
    "data['parks_around3000'] = data['parks_around3000'].fillna(0)\n",
    "data['ponds_around3000'] = data['ponds_around3000'].fillna(0)"
   ]
  },
  {
   "cell_type": "markdown",
   "metadata": {},
   "source": [
    "Let's check that the missing values in these columns have been filled in."
   ]
  },
  {
   "cell_type": "code",
   "execution_count": 8,
   "metadata": {},
   "outputs": [
    {
     "data": {
      "text/plain": [
       "total_images                0\n",
       "last_price                  0\n",
       "total_area                  0\n",
       "first_day_exposition        0\n",
       "rooms                       0\n",
       "ceiling_height           9195\n",
       "floors_total               86\n",
       "living_area              1903\n",
       "floor                       0\n",
       "is_apartment                0\n",
       "studio                      0\n",
       "open_plan                   0\n",
       "kitchen_area             2278\n",
       "balcony                     0\n",
       "locality_name               0\n",
       "airports_nearest         5542\n",
       "cityCenters_nearest      5519\n",
       "parks_around3000            0\n",
       "parks_nearest           15620\n",
       "ponds_around3000            0\n",
       "ponds_nearest           14589\n",
       "days_exposition          3181\n",
       "dtype: int64"
      ]
     },
     "execution_count": 8,
     "metadata": {},
     "output_type": "execute_result"
    }
   ],
   "source": [
    "# Number of missing values\n",
    "data.isna().sum()"
   ]
  },
  {
   "cell_type": "code",
   "execution_count": 9,
   "metadata": {},
   "outputs": [
    {
     "name": "stdout",
     "output_type": "stream",
     "text": [
      "Ratio of median total area to median living area: 0.577\n",
      "Ratio of median total area to median kitchen area: 0.175\n"
     ]
    }
   ],
   "source": [
    "# The ratio of median total area to median living area and kitchen area\n",
    "koef_la = round(data['living_area'].median() / data['total_area'].median(), 3)\n",
    "print('Ratio of median total area to median living area:', koef_la)\n",
    "\n",
    "koef_ka = data['kitchen_area'].median() / data['total_area'].median()\n",
    "print('Ratio of median total area to median kitchen area:', koef_ka)"
   ]
  },
  {
   "cell_type": "markdown",
   "metadata": {},
   "source": [
    "As a rule, the living area in real estate objects is 57.69% of the total area, and the kitchen area is 17.5% of the total area of the object. Let's replace the missing values in the `living_area` column by multiplying the readings of the total area by the coefficients 0.5769 and 0.175."
   ]
  },
  {
   "cell_type": "code",
   "execution_count": 10,
   "metadata": {},
   "outputs": [],
   "source": [
    "# Replacing gaps with median ratios\n",
    "data.loc[data['living_area'].isna(), 'living_area'] = data['total_area'] * koef_la\n",
    "data.loc[data['kitchen_area'].isna(), 'kitchen_area'] = data['total_area'] * koef_ka"
   ]
  },
  {
   "cell_type": "markdown",
   "metadata": {},
   "source": [
    "Let's check that all the missing values have been filled in with the correct values."
   ]
  },
  {
   "cell_type": "code",
   "execution_count": 11,
   "metadata": {},
   "outputs": [
    {
     "data": {
      "text/html": [
       "<div>\n",
       "<style scoped>\n",
       "    .dataframe tbody tr th:only-of-type {\n",
       "        vertical-align: middle;\n",
       "    }\n",
       "\n",
       "    .dataframe tbody tr th {\n",
       "        vertical-align: top;\n",
       "    }\n",
       "\n",
       "    .dataframe thead th {\n",
       "        text-align: right;\n",
       "    }\n",
       "</style>\n",
       "<table border=\"1\" class=\"dataframe\">\n",
       "  <thead>\n",
       "    <tr style=\"text-align: right;\">\n",
       "      <th></th>\n",
       "      <th>total_images</th>\n",
       "      <th>last_price</th>\n",
       "      <th>total_area</th>\n",
       "      <th>first_day_exposition</th>\n",
       "      <th>rooms</th>\n",
       "      <th>ceiling_height</th>\n",
       "      <th>floors_total</th>\n",
       "      <th>living_area</th>\n",
       "      <th>floor</th>\n",
       "      <th>is_apartment</th>\n",
       "      <th>...</th>\n",
       "      <th>kitchen_area</th>\n",
       "      <th>balcony</th>\n",
       "      <th>locality_name</th>\n",
       "      <th>airports_nearest</th>\n",
       "      <th>cityCenters_nearest</th>\n",
       "      <th>parks_around3000</th>\n",
       "      <th>parks_nearest</th>\n",
       "      <th>ponds_around3000</th>\n",
       "      <th>ponds_nearest</th>\n",
       "      <th>days_exposition</th>\n",
       "    </tr>\n",
       "  </thead>\n",
       "  <tbody>\n",
       "    <tr>\n",
       "      <th>0</th>\n",
       "      <td>20</td>\n",
       "      <td>13000000.0</td>\n",
       "      <td>108.00</td>\n",
       "      <td>2019-03-07T00:00:00</td>\n",
       "      <td>3</td>\n",
       "      <td>2.70</td>\n",
       "      <td>16.0</td>\n",
       "      <td>51.0000</td>\n",
       "      <td>8</td>\n",
       "      <td>False</td>\n",
       "      <td>...</td>\n",
       "      <td>25.000</td>\n",
       "      <td>0.0</td>\n",
       "      <td>Санкт-Петербург</td>\n",
       "      <td>18863.0</td>\n",
       "      <td>16028.0</td>\n",
       "      <td>1.0</td>\n",
       "      <td>482.0</td>\n",
       "      <td>2.0</td>\n",
       "      <td>755.0</td>\n",
       "      <td>NaN</td>\n",
       "    </tr>\n",
       "    <tr>\n",
       "      <th>1</th>\n",
       "      <td>7</td>\n",
       "      <td>3350000.0</td>\n",
       "      <td>40.40</td>\n",
       "      <td>2018-12-04T00:00:00</td>\n",
       "      <td>1</td>\n",
       "      <td>NaN</td>\n",
       "      <td>11.0</td>\n",
       "      <td>18.6000</td>\n",
       "      <td>1</td>\n",
       "      <td>False</td>\n",
       "      <td>...</td>\n",
       "      <td>11.000</td>\n",
       "      <td>2.0</td>\n",
       "      <td>посёлок Шушары</td>\n",
       "      <td>12817.0</td>\n",
       "      <td>18603.0</td>\n",
       "      <td>0.0</td>\n",
       "      <td>NaN</td>\n",
       "      <td>0.0</td>\n",
       "      <td>NaN</td>\n",
       "      <td>81.0</td>\n",
       "    </tr>\n",
       "    <tr>\n",
       "      <th>2</th>\n",
       "      <td>10</td>\n",
       "      <td>5196000.0</td>\n",
       "      <td>56.00</td>\n",
       "      <td>2015-08-20T00:00:00</td>\n",
       "      <td>2</td>\n",
       "      <td>NaN</td>\n",
       "      <td>5.0</td>\n",
       "      <td>34.3000</td>\n",
       "      <td>4</td>\n",
       "      <td>False</td>\n",
       "      <td>...</td>\n",
       "      <td>8.300</td>\n",
       "      <td>0.0</td>\n",
       "      <td>Санкт-Петербург</td>\n",
       "      <td>21741.0</td>\n",
       "      <td>13933.0</td>\n",
       "      <td>1.0</td>\n",
       "      <td>90.0</td>\n",
       "      <td>2.0</td>\n",
       "      <td>574.0</td>\n",
       "      <td>558.0</td>\n",
       "    </tr>\n",
       "    <tr>\n",
       "      <th>3</th>\n",
       "      <td>0</td>\n",
       "      <td>64900000.0</td>\n",
       "      <td>159.00</td>\n",
       "      <td>2015-07-24T00:00:00</td>\n",
       "      <td>3</td>\n",
       "      <td>NaN</td>\n",
       "      <td>14.0</td>\n",
       "      <td>91.7430</td>\n",
       "      <td>9</td>\n",
       "      <td>False</td>\n",
       "      <td>...</td>\n",
       "      <td>27.825</td>\n",
       "      <td>0.0</td>\n",
       "      <td>Санкт-Петербург</td>\n",
       "      <td>28098.0</td>\n",
       "      <td>6800.0</td>\n",
       "      <td>2.0</td>\n",
       "      <td>84.0</td>\n",
       "      <td>3.0</td>\n",
       "      <td>234.0</td>\n",
       "      <td>424.0</td>\n",
       "    </tr>\n",
       "    <tr>\n",
       "      <th>4</th>\n",
       "      <td>2</td>\n",
       "      <td>10000000.0</td>\n",
       "      <td>100.00</td>\n",
       "      <td>2018-06-19T00:00:00</td>\n",
       "      <td>2</td>\n",
       "      <td>3.03</td>\n",
       "      <td>14.0</td>\n",
       "      <td>32.0000</td>\n",
       "      <td>13</td>\n",
       "      <td>False</td>\n",
       "      <td>...</td>\n",
       "      <td>41.000</td>\n",
       "      <td>0.0</td>\n",
       "      <td>Санкт-Петербург</td>\n",
       "      <td>31856.0</td>\n",
       "      <td>8098.0</td>\n",
       "      <td>2.0</td>\n",
       "      <td>112.0</td>\n",
       "      <td>1.0</td>\n",
       "      <td>48.0</td>\n",
       "      <td>121.0</td>\n",
       "    </tr>\n",
       "    <tr>\n",
       "      <th>5</th>\n",
       "      <td>10</td>\n",
       "      <td>2890000.0</td>\n",
       "      <td>30.40</td>\n",
       "      <td>2018-09-10T00:00:00</td>\n",
       "      <td>1</td>\n",
       "      <td>NaN</td>\n",
       "      <td>12.0</td>\n",
       "      <td>14.4000</td>\n",
       "      <td>5</td>\n",
       "      <td>False</td>\n",
       "      <td>...</td>\n",
       "      <td>9.100</td>\n",
       "      <td>0.0</td>\n",
       "      <td>городской посёлок Янино-1</td>\n",
       "      <td>NaN</td>\n",
       "      <td>NaN</td>\n",
       "      <td>0.0</td>\n",
       "      <td>NaN</td>\n",
       "      <td>0.0</td>\n",
       "      <td>NaN</td>\n",
       "      <td>55.0</td>\n",
       "    </tr>\n",
       "    <tr>\n",
       "      <th>6</th>\n",
       "      <td>6</td>\n",
       "      <td>3700000.0</td>\n",
       "      <td>37.30</td>\n",
       "      <td>2017-11-02T00:00:00</td>\n",
       "      <td>1</td>\n",
       "      <td>NaN</td>\n",
       "      <td>26.0</td>\n",
       "      <td>10.6000</td>\n",
       "      <td>6</td>\n",
       "      <td>False</td>\n",
       "      <td>...</td>\n",
       "      <td>14.400</td>\n",
       "      <td>1.0</td>\n",
       "      <td>посёлок Парголово</td>\n",
       "      <td>52996.0</td>\n",
       "      <td>19143.0</td>\n",
       "      <td>0.0</td>\n",
       "      <td>NaN</td>\n",
       "      <td>0.0</td>\n",
       "      <td>NaN</td>\n",
       "      <td>155.0</td>\n",
       "    </tr>\n",
       "    <tr>\n",
       "      <th>7</th>\n",
       "      <td>5</td>\n",
       "      <td>7915000.0</td>\n",
       "      <td>71.60</td>\n",
       "      <td>2019-04-18T00:00:00</td>\n",
       "      <td>2</td>\n",
       "      <td>NaN</td>\n",
       "      <td>24.0</td>\n",
       "      <td>41.3132</td>\n",
       "      <td>22</td>\n",
       "      <td>False</td>\n",
       "      <td>...</td>\n",
       "      <td>18.900</td>\n",
       "      <td>2.0</td>\n",
       "      <td>Санкт-Петербург</td>\n",
       "      <td>23982.0</td>\n",
       "      <td>11634.0</td>\n",
       "      <td>0.0</td>\n",
       "      <td>NaN</td>\n",
       "      <td>0.0</td>\n",
       "      <td>NaN</td>\n",
       "      <td>NaN</td>\n",
       "    </tr>\n",
       "    <tr>\n",
       "      <th>8</th>\n",
       "      <td>20</td>\n",
       "      <td>2900000.0</td>\n",
       "      <td>33.16</td>\n",
       "      <td>2018-05-23T00:00:00</td>\n",
       "      <td>1</td>\n",
       "      <td>NaN</td>\n",
       "      <td>27.0</td>\n",
       "      <td>15.4300</td>\n",
       "      <td>26</td>\n",
       "      <td>False</td>\n",
       "      <td>...</td>\n",
       "      <td>8.810</td>\n",
       "      <td>0.0</td>\n",
       "      <td>посёлок Мурино</td>\n",
       "      <td>NaN</td>\n",
       "      <td>NaN</td>\n",
       "      <td>0.0</td>\n",
       "      <td>NaN</td>\n",
       "      <td>0.0</td>\n",
       "      <td>NaN</td>\n",
       "      <td>189.0</td>\n",
       "    </tr>\n",
       "    <tr>\n",
       "      <th>9</th>\n",
       "      <td>18</td>\n",
       "      <td>5400000.0</td>\n",
       "      <td>61.00</td>\n",
       "      <td>2017-02-26T00:00:00</td>\n",
       "      <td>3</td>\n",
       "      <td>2.50</td>\n",
       "      <td>9.0</td>\n",
       "      <td>43.6000</td>\n",
       "      <td>7</td>\n",
       "      <td>False</td>\n",
       "      <td>...</td>\n",
       "      <td>6.500</td>\n",
       "      <td>2.0</td>\n",
       "      <td>Санкт-Петербург</td>\n",
       "      <td>50898.0</td>\n",
       "      <td>15008.0</td>\n",
       "      <td>0.0</td>\n",
       "      <td>NaN</td>\n",
       "      <td>0.0</td>\n",
       "      <td>NaN</td>\n",
       "      <td>289.0</td>\n",
       "    </tr>\n",
       "  </tbody>\n",
       "</table>\n",
       "<p>10 rows × 22 columns</p>\n",
       "</div>"
      ],
      "text/plain": [
       "   total_images  last_price  total_area first_day_exposition  rooms  \\\n",
       "0            20  13000000.0      108.00  2019-03-07T00:00:00      3   \n",
       "1             7   3350000.0       40.40  2018-12-04T00:00:00      1   \n",
       "2            10   5196000.0       56.00  2015-08-20T00:00:00      2   \n",
       "3             0  64900000.0      159.00  2015-07-24T00:00:00      3   \n",
       "4             2  10000000.0      100.00  2018-06-19T00:00:00      2   \n",
       "5            10   2890000.0       30.40  2018-09-10T00:00:00      1   \n",
       "6             6   3700000.0       37.30  2017-11-02T00:00:00      1   \n",
       "7             5   7915000.0       71.60  2019-04-18T00:00:00      2   \n",
       "8            20   2900000.0       33.16  2018-05-23T00:00:00      1   \n",
       "9            18   5400000.0       61.00  2017-02-26T00:00:00      3   \n",
       "\n",
       "   ceiling_height  floors_total  living_area  floor  is_apartment  ...  \\\n",
       "0            2.70          16.0      51.0000      8         False  ...   \n",
       "1             NaN          11.0      18.6000      1         False  ...   \n",
       "2             NaN           5.0      34.3000      4         False  ...   \n",
       "3             NaN          14.0      91.7430      9         False  ...   \n",
       "4            3.03          14.0      32.0000     13         False  ...   \n",
       "5             NaN          12.0      14.4000      5         False  ...   \n",
       "6             NaN          26.0      10.6000      6         False  ...   \n",
       "7             NaN          24.0      41.3132     22         False  ...   \n",
       "8             NaN          27.0      15.4300     26         False  ...   \n",
       "9            2.50           9.0      43.6000      7         False  ...   \n",
       "\n",
       "   kitchen_area  balcony              locality_name  airports_nearest  \\\n",
       "0        25.000      0.0            Санкт-Петербург           18863.0   \n",
       "1        11.000      2.0             посёлок Шушары           12817.0   \n",
       "2         8.300      0.0            Санкт-Петербург           21741.0   \n",
       "3        27.825      0.0            Санкт-Петербург           28098.0   \n",
       "4        41.000      0.0            Санкт-Петербург           31856.0   \n",
       "5         9.100      0.0  городской посёлок Янино-1               NaN   \n",
       "6        14.400      1.0          посёлок Парголово           52996.0   \n",
       "7        18.900      2.0            Санкт-Петербург           23982.0   \n",
       "8         8.810      0.0             посёлок Мурино               NaN   \n",
       "9         6.500      2.0            Санкт-Петербург           50898.0   \n",
       "\n",
       "  cityCenters_nearest  parks_around3000  parks_nearest  ponds_around3000  \\\n",
       "0             16028.0               1.0          482.0               2.0   \n",
       "1             18603.0               0.0            NaN               0.0   \n",
       "2             13933.0               1.0           90.0               2.0   \n",
       "3              6800.0               2.0           84.0               3.0   \n",
       "4              8098.0               2.0          112.0               1.0   \n",
       "5                 NaN               0.0            NaN               0.0   \n",
       "6             19143.0               0.0            NaN               0.0   \n",
       "7             11634.0               0.0            NaN               0.0   \n",
       "8                 NaN               0.0            NaN               0.0   \n",
       "9             15008.0               0.0            NaN               0.0   \n",
       "\n",
       "   ponds_nearest  days_exposition  \n",
       "0          755.0              NaN  \n",
       "1            NaN             81.0  \n",
       "2          574.0            558.0  \n",
       "3          234.0            424.0  \n",
       "4           48.0            121.0  \n",
       "5            NaN             55.0  \n",
       "6            NaN            155.0  \n",
       "7            NaN              NaN  \n",
       "8            NaN            189.0  \n",
       "9            NaN            289.0  \n",
       "\n",
       "[10 rows x 22 columns]"
      ]
     },
     "execution_count": 11,
     "metadata": {},
     "output_type": "execute_result"
    }
   ],
   "source": [
    "data.head(10)"
   ]
  },
  {
   "cell_type": "code",
   "execution_count": 12,
   "metadata": {},
   "outputs": [
    {
     "name": "stdout",
     "output_type": "stream",
     "text": [
      "Missing values in living_area: 0\n",
      "Missing values in kitchen_area: 0\n"
     ]
    }
   ],
   "source": [
    "# Sum of all missing values for living_area column\n",
    "print('Missing values in living_area:', data['living_area'].isna().sum())\n",
    "\n",
    "# Sum of all missing values for kitchen_area column\n",
    "print('Missing values in kitchen_area:', data['kitchen_area'].isna().sum())"
   ]
  },
  {
   "cell_type": "markdown",
   "metadata": {},
   "source": [
    "The gaps in the `living_area` and `kitchen_area` columns have been filled in correctly."
   ]
  },
  {
   "cell_type": "markdown",
   "metadata": {},
   "source": [
    "<a id=\"types\"></a>\n",
    "\n",
    "### Valuable types"
   ]
  },
  {
   "cell_type": "markdown",
   "metadata": {},
   "source": [
    "Some variables are represented by the wrong data type:\n",
    "\n",
    "- `first_day_exposition` - it is necessary to change the type from object to datetime, so that it would be convenient to work with this parameter further;\n",
    "\n",
    "- `is_apartment` - change from object to bool;\n",
    "\n",
    "- `balcony` - change from float to int, since the number of balconies can only be an integer;\n",
    "\n",
    "- `parks_around3000` - change from float to int, the number of parks can only be an integer;\n",
    "\n",
    "- `ponds_around3000` - change from float to int, the number of ponds can only be an integer."
   ]
  },
  {
   "cell_type": "code",
   "execution_count": 13,
   "metadata": {},
   "outputs": [],
   "source": [
    "# Changing Variable Types\n",
    "data['first_day_exposition'] = pd.to_datetime(data['first_day_exposition'], \n",
    "                                              format='%Y-%m-%dT%H:%M:%S')\n",
    "\n",
    "data = data.astype({'is_apartment': 'bool', \n",
    "                    'balcony': 'int32', \n",
    "                    'parks_around3000': 'int32',\n",
    "                    'ponds_around3000': 'int32'})"
   ]
  },
  {
   "cell_type": "code",
   "execution_count": 14,
   "metadata": {},
   "outputs": [],
   "source": [
    "# Changing Variable Types\n",
    "data = data.astype({'total_area': 'float32', \n",
    "                    'living_area': 'float32', \n",
    "                    'kitchen_area': 'float32'})"
   ]
  },
  {
   "cell_type": "markdown",
   "metadata": {},
   "source": [
    "Let's check if we managed to change the data type."
   ]
  },
  {
   "cell_type": "code",
   "execution_count": 15,
   "metadata": {},
   "outputs": [
    {
     "name": "stdout",
     "output_type": "stream",
     "text": [
      "<class 'pandas.core.frame.DataFrame'>\n",
      "RangeIndex: 23699 entries, 0 to 23698\n",
      "Data columns (total 22 columns):\n",
      " #   Column                Non-Null Count  Dtype         \n",
      "---  ------                --------------  -----         \n",
      " 0   total_images          23699 non-null  int64         \n",
      " 1   last_price            23699 non-null  float64       \n",
      " 2   total_area            23699 non-null  float32       \n",
      " 3   first_day_exposition  23699 non-null  datetime64[ns]\n",
      " 4   rooms                 23699 non-null  int64         \n",
      " 5   ceiling_height        14504 non-null  float64       \n",
      " 6   floors_total          23613 non-null  float64       \n",
      " 7   living_area           23699 non-null  float32       \n",
      " 8   floor                 23699 non-null  int64         \n",
      " 9   is_apartment          23699 non-null  bool          \n",
      " 10  studio                23699 non-null  bool          \n",
      " 11  open_plan             23699 non-null  bool          \n",
      " 12  kitchen_area          23699 non-null  float32       \n",
      " 13  balcony               23699 non-null  int32         \n",
      " 14  locality_name         23699 non-null  object        \n",
      " 15  airports_nearest      18157 non-null  float64       \n",
      " 16  cityCenters_nearest   18180 non-null  float64       \n",
      " 17  parks_around3000      23699 non-null  int32         \n",
      " 18  parks_nearest         8079 non-null   float64       \n",
      " 19  ponds_around3000      23699 non-null  int32         \n",
      " 20  ponds_nearest         9110 non-null   float64       \n",
      " 21  days_exposition       20518 non-null  float64       \n",
      "dtypes: bool(3), datetime64[ns](1), float32(3), float64(8), int32(3), int64(3), object(1)\n",
      "memory usage: 3.0+ MB\n"
     ]
    }
   ],
   "source": [
    "# General information about dataset\n",
    "data.info()"
   ]
  },
  {
   "cell_type": "markdown",
   "metadata": {},
   "source": [
    "The data types have been changed to the correct ones."
   ]
  },
  {
   "cell_type": "markdown",
   "metadata": {},
   "source": [
    "<a id=\"duplicates\"></a>\n",
    "\n",
    "### Duplicates processing"
   ]
  },
  {
   "cell_type": "markdown",
   "metadata": {},
   "source": [
    "Let's check the data for obvious duplicates - completely identical rows."
   ]
  },
  {
   "cell_type": "code",
   "execution_count": 16,
   "metadata": {},
   "outputs": [
    {
     "data": {
      "text/plain": [
       "0"
      ]
     },
     "execution_count": 16,
     "metadata": {},
     "output_type": "execute_result"
    }
   ],
   "source": [
    "data.duplicated().sum()"
   ]
  },
  {
   "cell_type": "markdown",
   "metadata": {},
   "source": [
    "There are no obvious duplicates in the data.\n",
    "\n",
    "Let's examine the data for implicit duplicates. Let's display unique values in the `locality_name` column - the names of settlements."
   ]
  },
  {
   "cell_type": "code",
   "execution_count": 17,
   "metadata": {},
   "outputs": [
    {
     "data": {
      "text/plain": [
       "['Бокситогорск',\n",
       " 'Волосово',\n",
       " 'Волхов',\n",
       " 'Всеволожск',\n",
       " 'Выборг',\n",
       " 'Высоцк',\n",
       " 'Гатчина',\n",
       " 'Зеленогорск',\n",
       " 'Ивангород',\n",
       " 'Каменногорск',\n",
       " 'Кингисепп',\n",
       " 'Кириши',\n",
       " 'Кировск',\n",
       " 'Колпино',\n",
       " 'Коммунар',\n",
       " 'Красное Село',\n",
       " 'Кронштадт',\n",
       " 'Кудрово',\n",
       " 'Лодейное Поле',\n",
       " 'Ломоносов',\n",
       " 'Луга',\n",
       " 'Любань',\n",
       " 'Мурино',\n",
       " 'Неизвестно',\n",
       " 'Никольское',\n",
       " 'Новая Ладога',\n",
       " 'Отрадное',\n",
       " 'Павловск',\n",
       " 'Петергоф',\n",
       " 'Пикалёво',\n",
       " 'Подпорожье',\n",
       " 'Приморск',\n",
       " 'Приозерск',\n",
       " 'Пушкин',\n",
       " 'Санкт-Петербург',\n",
       " 'Светогорск',\n",
       " 'Сертолово',\n",
       " 'Сестрорецк',\n",
       " 'Сланцы',\n",
       " 'Сосновый Бор',\n",
       " 'Сясьстрой',\n",
       " 'Тихвин',\n",
       " 'Тосно',\n",
       " 'Шлиссельбург',\n",
       " 'городской поселок Большая Ижора',\n",
       " 'городской поселок Янино-1',\n",
       " 'городской посёлок Будогощь',\n",
       " 'городской посёлок Виллози',\n",
       " 'городской посёлок Лесогорский',\n",
       " 'городской посёлок Мга',\n",
       " 'городской посёлок Назия',\n",
       " 'городской посёлок Новоселье',\n",
       " 'городской посёлок Павлово',\n",
       " 'городской посёлок Рощино',\n",
       " 'городской посёлок Свирьстрой',\n",
       " 'городской посёлок Советский',\n",
       " 'городской посёлок Фёдоровское',\n",
       " 'городской посёлок Янино-1',\n",
       " 'деревня Агалатово',\n",
       " 'деревня Аро',\n",
       " 'деревня Батово',\n",
       " 'деревня Бегуницы',\n",
       " 'деревня Белогорка',\n",
       " 'деревня Большая Вруда',\n",
       " 'деревня Большая Пустомержа',\n",
       " 'деревня Большие Колпаны',\n",
       " 'деревня Большое Рейзино',\n",
       " 'деревня Большой Сабск',\n",
       " 'деревня Бор',\n",
       " 'деревня Борисова Грива',\n",
       " 'деревня Ваганово',\n",
       " 'деревня Вартемяги',\n",
       " 'деревня Вахнова Кара',\n",
       " 'деревня Выскатка',\n",
       " 'деревня Гарболово',\n",
       " 'деревня Глинка',\n",
       " 'деревня Горбунки',\n",
       " 'деревня Гостилицы',\n",
       " 'деревня Заклинье',\n",
       " 'деревня Заневка',\n",
       " 'деревня Зимитицы',\n",
       " 'деревня Извара',\n",
       " 'деревня Иссад',\n",
       " 'деревня Калитино',\n",
       " 'деревня Кальтино',\n",
       " 'деревня Камышовка',\n",
       " 'деревня Каськово',\n",
       " 'деревня Келози',\n",
       " 'деревня Кипень',\n",
       " 'деревня Кисельня',\n",
       " 'деревня Колтуши',\n",
       " 'деревня Коркино',\n",
       " 'деревня Котлы',\n",
       " 'деревня Кривко',\n",
       " 'деревня Кудрово',\n",
       " 'деревня Кузьмолово',\n",
       " 'деревня Курковицы',\n",
       " 'деревня Куровицы',\n",
       " 'деревня Куттузи',\n",
       " 'деревня Лаврики',\n",
       " 'деревня Лаголово',\n",
       " 'деревня Лампово',\n",
       " 'деревня Лесколово',\n",
       " 'деревня Лопухинка',\n",
       " 'деревня Лупполово',\n",
       " 'деревня Малая Романовка',\n",
       " 'деревня Малое Верево',\n",
       " 'деревня Малое Карлино',\n",
       " 'деревня Малые Колпаны',\n",
       " 'деревня Мануйлово',\n",
       " 'деревня Меньково',\n",
       " 'деревня Мины',\n",
       " 'деревня Мистолово',\n",
       " 'деревня Ненимяки',\n",
       " 'деревня Нижние Осельки',\n",
       " 'деревня Нижняя',\n",
       " 'деревня Низино',\n",
       " 'деревня Новое Девяткино',\n",
       " 'деревня Новолисино',\n",
       " 'деревня Нурма',\n",
       " 'деревня Оржицы',\n",
       " 'деревня Парицы',\n",
       " 'деревня Пельгора',\n",
       " 'деревня Пеники',\n",
       " 'деревня Пижма',\n",
       " 'деревня Пикколово',\n",
       " 'деревня Пудомяги',\n",
       " 'деревня Пустынка',\n",
       " 'деревня Пчева',\n",
       " 'деревня Рабитицы',\n",
       " 'деревня Разбегаево',\n",
       " 'деревня Раздолье',\n",
       " 'деревня Разметелево',\n",
       " 'деревня Рапполово',\n",
       " 'деревня Реброво',\n",
       " 'деревня Русско',\n",
       " 'деревня Сижно',\n",
       " 'деревня Снегирёвка',\n",
       " 'деревня Старая',\n",
       " 'деревня Старая Пустошь',\n",
       " 'деревня Старое Хинколово',\n",
       " 'деревня Старополье',\n",
       " 'деревня Старосиверская',\n",
       " 'деревня Старые Бегуницы',\n",
       " 'деревня Суоранда',\n",
       " 'деревня Сяськелево',\n",
       " 'деревня Тарасово',\n",
       " 'деревня Терпилицы',\n",
       " 'деревня Тихковицы',\n",
       " 'деревня Тойворово',\n",
       " 'деревня Торосово',\n",
       " 'деревня Торошковичи',\n",
       " 'деревня Трубников Бор',\n",
       " 'деревня Фалилеево',\n",
       " 'деревня Фёдоровское',\n",
       " 'деревня Хапо-Ое',\n",
       " 'деревня Хязельки',\n",
       " 'деревня Чудской Бор',\n",
       " 'деревня Шпаньково',\n",
       " 'деревня Щеглово',\n",
       " 'деревня Юкки',\n",
       " 'деревня Ялгино',\n",
       " 'деревня Яльгелево',\n",
       " 'деревня Ям-Тесово',\n",
       " 'коттеджный поселок Кивеннапа Север',\n",
       " 'коттеджный поселок Счастье',\n",
       " 'коттеджный посёлок Лесное',\n",
       " 'поселок Аннино',\n",
       " 'поселок Барышево',\n",
       " 'поселок Бугры',\n",
       " 'поселок Возрождение',\n",
       " 'поселок Войсковицы',\n",
       " 'поселок Володарское',\n",
       " 'поселок Гаврилово',\n",
       " 'поселок Гарболово',\n",
       " 'поселок Гладкое',\n",
       " 'поселок Глажево',\n",
       " 'поселок Глебычево',\n",
       " 'поселок Гончарово',\n",
       " 'поселок Громово',\n",
       " 'поселок Дружноселье',\n",
       " 'поселок Елизаветино',\n",
       " 'поселок Жилгородок',\n",
       " 'поселок Жилпосёлок',\n",
       " 'поселок Житково',\n",
       " 'поселок Заводской',\n",
       " 'поселок Запорожское',\n",
       " 'поселок Зимитицы',\n",
       " 'поселок Ильичёво',\n",
       " 'поселок Калитино',\n",
       " 'поселок Каложицы',\n",
       " 'поселок Кингисеппский',\n",
       " 'поселок Кирпичное',\n",
       " 'поселок Кобралово',\n",
       " 'поселок Кобринское',\n",
       " 'поселок Коммунары',\n",
       " 'поселок Коробицыно',\n",
       " 'поселок Котельский',\n",
       " 'поселок Красная Долина',\n",
       " 'поселок Красносельское',\n",
       " 'поселок Лесное',\n",
       " 'поселок Лисий Нос',\n",
       " 'поселок Лукаши',\n",
       " 'поселок Любань',\n",
       " 'поселок Мельниково',\n",
       " 'поселок Мичуринское',\n",
       " 'поселок Молодцово',\n",
       " 'поселок Мурино',\n",
       " 'поселок Новый Свет',\n",
       " 'поселок Новый Учхоз',\n",
       " 'поселок Оредеж',\n",
       " 'поселок Пансионат Зелёный Бор',\n",
       " 'поселок Первомайское',\n",
       " 'поселок Перово',\n",
       " 'поселок Петровское',\n",
       " 'поселок Победа',\n",
       " 'поселок Поляны',\n",
       " 'поселок Почап',\n",
       " 'поселок Починок',\n",
       " 'поселок Пушное',\n",
       " 'поселок Пчевжа',\n",
       " 'поселок Рабитицы',\n",
       " 'поселок Романовка',\n",
       " 'поселок Ромашки',\n",
       " 'поселок Рябово',\n",
       " 'поселок Севастьяново',\n",
       " 'поселок Селезнёво',\n",
       " 'поселок Сельцо',\n",
       " 'поселок Семиозерье',\n",
       " 'поселок Семрино',\n",
       " 'поселок Серебрянский',\n",
       " 'поселок Совхозный',\n",
       " 'поселок Старая Малукса',\n",
       " 'поселок Стеклянный',\n",
       " 'поселок Сумино',\n",
       " 'поселок Суходолье',\n",
       " 'поселок Тельмана',\n",
       " 'поселок Терволово',\n",
       " 'поселок Торковичи',\n",
       " 'поселок Тёсово-4',\n",
       " 'поселок Углово',\n",
       " 'поселок Усть-Луга',\n",
       " 'поселок Ушаки',\n",
       " 'поселок Цвелодубово',\n",
       " 'поселок Цвылёво',\n",
       " 'поселок городского типа Большая Ижора',\n",
       " 'поселок городского типа Вырица',\n",
       " 'поселок городского типа Дружная Горка',\n",
       " 'поселок городского типа Дубровка',\n",
       " 'поселок городского типа Ефимовский',\n",
       " 'поселок городского типа Кондратьево',\n",
       " 'поселок городского типа Красный Бор',\n",
       " 'поселок городского типа Кузьмоловский',\n",
       " 'поселок городского типа Лебяжье',\n",
       " 'поселок городского типа Лесогорский',\n",
       " 'поселок городского типа Назия',\n",
       " 'поселок городского типа Никольский',\n",
       " 'поселок городского типа Приладожский',\n",
       " 'поселок городского типа Рахья',\n",
       " 'поселок городского типа Рощино',\n",
       " 'поселок городского типа Рябово',\n",
       " 'поселок городского типа Синявино',\n",
       " 'поселок городского типа Советский',\n",
       " 'поселок городского типа Токсово',\n",
       " 'поселок городского типа Форносово',\n",
       " 'поселок городского типа имени Свердлова',\n",
       " 'поселок станции Вещево',\n",
       " 'поселок станции Корнево',\n",
       " 'поселок станции Лужайка',\n",
       " 'поселок станции Приветнинское',\n",
       " 'посёлок Александровская',\n",
       " 'посёлок Алексеевка',\n",
       " 'посёлок Аннино',\n",
       " 'посёлок Белоостров',\n",
       " 'посёлок Бугры',\n",
       " 'посёлок Возрождение',\n",
       " 'посёлок Войскорово',\n",
       " 'посёлок Высокоключевой',\n",
       " 'посёлок Гаврилово',\n",
       " 'посёлок Дзержинского',\n",
       " 'посёлок Жилгородок',\n",
       " 'посёлок Ильичёво',\n",
       " 'посёлок Кикерино',\n",
       " 'посёлок Кобралово',\n",
       " 'посёлок Коробицыно',\n",
       " 'посёлок Левашово',\n",
       " 'посёлок Ленинское',\n",
       " 'посёлок Лисий Нос',\n",
       " 'посёлок Мельниково',\n",
       " 'посёлок Металлострой',\n",
       " 'посёлок Мичуринское',\n",
       " 'посёлок Молодёжное',\n",
       " 'посёлок Мурино',\n",
       " 'посёлок Мыза-Ивановка',\n",
       " 'посёлок Новогорелово',\n",
       " 'посёлок Новый Свет',\n",
       " 'посёлок Пансионат Зелёный Бор',\n",
       " 'посёлок Парголово',\n",
       " 'посёлок Перово',\n",
       " 'посёлок Песочный',\n",
       " 'посёлок Петро-Славянка',\n",
       " 'посёлок Петровское',\n",
       " 'посёлок Платформа 69-й километр',\n",
       " 'посёлок Плодовое',\n",
       " 'посёлок Плоское',\n",
       " 'посёлок Победа',\n",
       " 'посёлок Поляны',\n",
       " 'посёлок Понтонный',\n",
       " 'посёлок Пригородный',\n",
       " 'посёлок Пудость',\n",
       " 'посёлок Репино',\n",
       " 'посёлок Ропша',\n",
       " 'посёлок Сапёрное',\n",
       " 'посёлок Сапёрный',\n",
       " 'посёлок Сосново',\n",
       " 'посёлок Старая Малукса',\n",
       " 'посёлок Стеклянный',\n",
       " 'посёлок Стрельна',\n",
       " 'посёлок Суйда',\n",
       " 'посёлок Сумино',\n",
       " 'посёлок Тельмана',\n",
       " 'посёлок Терволово',\n",
       " 'посёлок Торфяное',\n",
       " 'посёлок Усть-Ижора',\n",
       " 'посёлок Усть-Луга',\n",
       " 'посёлок Форт Красная Горка',\n",
       " 'посёлок Шугозеро',\n",
       " 'посёлок Шушары',\n",
       " 'посёлок Щеглово',\n",
       " 'посёлок городского типа Важины',\n",
       " 'посёлок городского типа Вознесенье',\n",
       " 'посёлок городского типа Вырица',\n",
       " 'посёлок городского типа Красный Бор',\n",
       " 'посёлок городского типа Кузнечное',\n",
       " 'посёлок городского типа Кузьмоловский',\n",
       " 'посёлок городского типа Лебяжье',\n",
       " 'посёлок городского типа Мга',\n",
       " 'посёлок городского типа Павлово',\n",
       " 'посёлок городского типа Рощино',\n",
       " 'посёлок городского типа Рябово',\n",
       " 'посёлок городского типа Сиверский',\n",
       " 'посёлок городского типа Тайцы',\n",
       " 'посёлок городского типа Токсово',\n",
       " 'посёлок городского типа Ульяновка',\n",
       " 'посёлок городского типа Форносово',\n",
       " 'посёлок городского типа имени Морозова',\n",
       " 'посёлок городского типа имени Свердлова',\n",
       " 'посёлок при железнодорожной станции Вещево',\n",
       " 'посёлок при железнодорожной станции Приветнинское',\n",
       " 'посёлок станции Громово',\n",
       " 'посёлок станции Свирь',\n",
       " 'садоводческое некоммерческое товарищество Лесная Поляна',\n",
       " 'садовое товарищество Новая Ропша',\n",
       " 'садовое товарищество Приладожский',\n",
       " 'садовое товарищество Рахья',\n",
       " 'садовое товарищество Садко',\n",
       " 'село Копорье',\n",
       " 'село Никольское',\n",
       " 'село Павлово',\n",
       " 'село Паша',\n",
       " 'село Путилово',\n",
       " 'село Рождествено',\n",
       " 'село Русско-Высоцкое',\n",
       " 'село Старая Ладога',\n",
       " 'село Шум']"
      ]
     },
     "execution_count": 17,
     "metadata": {},
     "output_type": "execute_result"
    }
   ],
   "source": [
    "# Sorted list of unique values in locality_name column\n",
    "sorted(data['locality_name'].unique())"
   ]
  },
  {
   "cell_type": "markdown",
   "metadata": {},
   "source": [
    "There are duplicates in the column. Let's write a function that will select from the names of settlements only the words necessary for analysis and use this function to replace the names of settlements."
   ]
  },
  {
   "cell_type": "code",
   "execution_count": 18,
   "metadata": {},
   "outputs": [],
   "source": [
    "# Function to remove keywords from the names of settlements\n",
    "def del_duplicates(locality_name):\n",
    "    \n",
    "    try:\n",
    "        # The list_del sheet contains the keywords that we will remove from the titles\n",
    "        list_del = ['городской ', 'поселок ', 'посёлок ', 'деревня ','коттеджный ', 'городского', \n",
    "                    'типа ', 'имени ', 'при ', 'железнодорожной ', 'станции ', 'село ',\n",
    "                    'садоводческое ', 'садовое ', 'некоммерческое ', 'товарищество ']\n",
    "        \n",
    "        # For each del_name keyword from the list_del list:\n",
    "        for del_name in list_del:\n",
    "            # If the keyword is in the title:\n",
    "            if del_name in locality_name:\n",
    "                # overwrite title without keyword\n",
    "                locality_name = locality_name.replace(del_name, '')\n",
    "        # The function returns the name without spaces on both sides     \n",
    "        return locality_name.strip()\n",
    "        \n",
    "    except:\n",
    "        pass"
   ]
  },
  {
   "cell_type": "code",
   "execution_count": 19,
   "metadata": {},
   "outputs": [],
   "source": [
    "# Overwriting the locality_name column using the del_duplicates function\n",
    "data['locality_name'] = data['locality_name'].apply(del_duplicates)"
   ]
  },
  {
   "cell_type": "markdown",
   "metadata": {},
   "source": [
    "Let's check that the function worked correctly: all words, except for proper names, should have been removed from the names of settlements."
   ]
  },
  {
   "cell_type": "code",
   "execution_count": 20,
   "metadata": {
    "scrolled": true
   },
   "outputs": [
    {
     "data": {
      "text/plain": [
       "['Агалатово',\n",
       " 'Александровская',\n",
       " 'Алексеевка',\n",
       " 'Аннино',\n",
       " 'Аро',\n",
       " 'Барышево',\n",
       " 'Батово',\n",
       " 'Бегуницы',\n",
       " 'Белогорка',\n",
       " 'Белоостров',\n",
       " 'Бокситогорск',\n",
       " 'Большая Вруда',\n",
       " 'Большая Ижора',\n",
       " 'Большая Пустомержа',\n",
       " 'Большие Колпаны',\n",
       " 'Большое Рейзино',\n",
       " 'Большой Сабск',\n",
       " 'Бор',\n",
       " 'Борисова Грива',\n",
       " 'Бугры',\n",
       " 'Будогощь',\n",
       " 'Ваганово',\n",
       " 'Важины',\n",
       " 'Вартемяги',\n",
       " 'Вахнова Кара',\n",
       " 'Вещево',\n",
       " 'Виллози',\n",
       " 'Вознесенье',\n",
       " 'Возрождение',\n",
       " 'Войсковицы',\n",
       " 'Войскорово',\n",
       " 'Володарское',\n",
       " 'Волосово',\n",
       " 'Волхов',\n",
       " 'Всеволожск',\n",
       " 'Выборг',\n",
       " 'Вырица',\n",
       " 'Выскатка',\n",
       " 'Высокоключевой',\n",
       " 'Высоцк',\n",
       " 'Гаврилово',\n",
       " 'Гарболово',\n",
       " 'Гатчина',\n",
       " 'Гладкое',\n",
       " 'Глажево',\n",
       " 'Глебычево',\n",
       " 'Глинка',\n",
       " 'Гончарово',\n",
       " 'Горбунки',\n",
       " 'Гостилицы',\n",
       " 'Громово',\n",
       " 'Дзержинского',\n",
       " 'Дружная Горка',\n",
       " 'Дружноселье',\n",
       " 'Дубровка',\n",
       " 'Елизаветино',\n",
       " 'Ефимовский',\n",
       " 'Жилгородок',\n",
       " 'Жилпосёлок',\n",
       " 'Житково',\n",
       " 'Заводской',\n",
       " 'Заклинье',\n",
       " 'Заневка',\n",
       " 'Запорожское',\n",
       " 'Зеленогорск',\n",
       " 'Зимитицы',\n",
       " 'Ивангород',\n",
       " 'Извара',\n",
       " 'Ильичёво',\n",
       " 'Иссад',\n",
       " 'Калитино',\n",
       " 'Каложицы',\n",
       " 'Кальтино',\n",
       " 'Каменногорск',\n",
       " 'Камышовка',\n",
       " 'Каськово',\n",
       " 'Келози',\n",
       " 'Кивеннапа Север',\n",
       " 'Кикерино',\n",
       " 'Кингисепп',\n",
       " 'Кингисеппский',\n",
       " 'Кипень',\n",
       " 'Кириши',\n",
       " 'Кировск',\n",
       " 'Кирпичное',\n",
       " 'Кисельня',\n",
       " 'Кобралово',\n",
       " 'Кобринское',\n",
       " 'Колпино',\n",
       " 'Колтуши',\n",
       " 'Коммунар',\n",
       " 'Коммунары',\n",
       " 'Кондратьево',\n",
       " 'Копорье',\n",
       " 'Коркино',\n",
       " 'Корнево',\n",
       " 'Коробицыно',\n",
       " 'Котельский',\n",
       " 'Котлы',\n",
       " 'Красная Долина',\n",
       " 'Красное Село',\n",
       " 'Красносельское',\n",
       " 'Красный Бор',\n",
       " 'Кривко',\n",
       " 'Кронштадт',\n",
       " 'Кудрово',\n",
       " 'Кузнечное',\n",
       " 'Кузьмолово',\n",
       " 'Кузьмоловский',\n",
       " 'Курковицы',\n",
       " 'Куровицы',\n",
       " 'Куттузи',\n",
       " 'Лаврики',\n",
       " 'Лаголово',\n",
       " 'Лампово',\n",
       " 'Лебяжье',\n",
       " 'Левашово',\n",
       " 'Ленинское',\n",
       " 'Лесколово',\n",
       " 'Лесная Поляна',\n",
       " 'Лесное',\n",
       " 'Лесогорский',\n",
       " 'Лисий Нос',\n",
       " 'Лодейное Поле',\n",
       " 'Ломоносов',\n",
       " 'Лопухинка',\n",
       " 'Луга',\n",
       " 'Лужайка',\n",
       " 'Лукаши',\n",
       " 'Лупполово',\n",
       " 'Любань',\n",
       " 'Малая Романовка',\n",
       " 'Малое Верево',\n",
       " 'Малое Карлино',\n",
       " 'Малые Колпаны',\n",
       " 'Мануйлово',\n",
       " 'Мга',\n",
       " 'Мельниково',\n",
       " 'Меньково',\n",
       " 'Металлострой',\n",
       " 'Мины',\n",
       " 'Мистолово',\n",
       " 'Мичуринское',\n",
       " 'Молодцово',\n",
       " 'Молодёжное',\n",
       " 'Морозова',\n",
       " 'Мурино',\n",
       " 'Мыза-Ивановка',\n",
       " 'Назия',\n",
       " 'Неизвестно',\n",
       " 'Ненимяки',\n",
       " 'Нижние Осельки',\n",
       " 'Нижняя',\n",
       " 'Низино',\n",
       " 'Никольский',\n",
       " 'Никольское',\n",
       " 'Новая Ладога',\n",
       " 'Новая Ропша',\n",
       " 'Новогорелово',\n",
       " 'Новое Девяткино',\n",
       " 'Новолисино',\n",
       " 'Новоселье',\n",
       " 'Новый Свет',\n",
       " 'Новый Учхоз',\n",
       " 'Нурма',\n",
       " 'Оредеж',\n",
       " 'Оржицы',\n",
       " 'Отрадное',\n",
       " 'Павлово',\n",
       " 'Павловск',\n",
       " 'Пансионат Зелёный Бор',\n",
       " 'Парголово',\n",
       " 'Парицы',\n",
       " 'Паша',\n",
       " 'Пельгора',\n",
       " 'Пеники',\n",
       " 'Первомайское',\n",
       " 'Перово',\n",
       " 'Песочный',\n",
       " 'Петергоф',\n",
       " 'Петро-Славянка',\n",
       " 'Петровское',\n",
       " 'Пижма',\n",
       " 'Пикалёво',\n",
       " 'Пикколово',\n",
       " 'Платформа 69-й километр',\n",
       " 'Плодовое',\n",
       " 'Плоское',\n",
       " 'Победа',\n",
       " 'Подпорожье',\n",
       " 'Поляны',\n",
       " 'Понтонный',\n",
       " 'Почап',\n",
       " 'Починок',\n",
       " 'Приветнинское',\n",
       " 'Пригородный',\n",
       " 'Приладожский',\n",
       " 'Приморск',\n",
       " 'Приозерск',\n",
       " 'Пудомяги',\n",
       " 'Пудость',\n",
       " 'Пустынка',\n",
       " 'Путилово',\n",
       " 'Пушкин',\n",
       " 'Пушное',\n",
       " 'Пчева',\n",
       " 'Пчевжа',\n",
       " 'Рабитицы',\n",
       " 'Разбегаево',\n",
       " 'Раздолье',\n",
       " 'Разметелево',\n",
       " 'Рапполово',\n",
       " 'Рахья',\n",
       " 'Реброво',\n",
       " 'Репино',\n",
       " 'Рождествено',\n",
       " 'Романовка',\n",
       " 'Ромашки',\n",
       " 'Ропша',\n",
       " 'Рощино',\n",
       " 'Русско',\n",
       " 'Русско-Высоцкое',\n",
       " 'Рябово',\n",
       " 'Садко',\n",
       " 'Санкт-Петербург',\n",
       " 'Сапёрное',\n",
       " 'Сапёрный',\n",
       " 'Свердлова',\n",
       " 'Светогорск',\n",
       " 'Свирь',\n",
       " 'Свирьстрой',\n",
       " 'Севастьяново',\n",
       " 'Селезнёво',\n",
       " 'Сельцо',\n",
       " 'Семиозерье',\n",
       " 'Семрино',\n",
       " 'Серебрянский',\n",
       " 'Сертолово',\n",
       " 'Сестрорецк',\n",
       " 'Сиверский',\n",
       " 'Сижно',\n",
       " 'Синявино',\n",
       " 'Сланцы',\n",
       " 'Снегирёвка',\n",
       " 'Советский',\n",
       " 'Совхозный',\n",
       " 'Сосново',\n",
       " 'Сосновый Бор',\n",
       " 'Старая',\n",
       " 'Старая Ладога',\n",
       " 'Старая Малукса',\n",
       " 'Старая Пустошь',\n",
       " 'Старое Хинколово',\n",
       " 'Старополье',\n",
       " 'Старосиверская',\n",
       " 'Старые Бегуницы',\n",
       " 'Стеклянный',\n",
       " 'Стрельна',\n",
       " 'Суйда',\n",
       " 'Сумино',\n",
       " 'Суоранда',\n",
       " 'Суходолье',\n",
       " 'Счастье',\n",
       " 'Сяськелево',\n",
       " 'Сясьстрой',\n",
       " 'Тайцы',\n",
       " 'Тарасово',\n",
       " 'Тельмана',\n",
       " 'Терволово',\n",
       " 'Терпилицы',\n",
       " 'Тихвин',\n",
       " 'Тихковицы',\n",
       " 'Тойворово',\n",
       " 'Токсово',\n",
       " 'Торковичи',\n",
       " 'Торосово',\n",
       " 'Торошковичи',\n",
       " 'Торфяное',\n",
       " 'Тосно',\n",
       " 'Трубников Бор',\n",
       " 'Тёсово-4',\n",
       " 'Углово',\n",
       " 'Ульяновка',\n",
       " 'Усть-Ижора',\n",
       " 'Усть-Луга',\n",
       " 'Ушаки',\n",
       " 'Фалилеево',\n",
       " 'Форносово',\n",
       " 'Форт Красная Горка',\n",
       " 'Фёдоровское',\n",
       " 'Хапо-Ое',\n",
       " 'Хязельки',\n",
       " 'Цвелодубово',\n",
       " 'Цвылёво',\n",
       " 'Чудской Бор',\n",
       " 'Шлиссельбург',\n",
       " 'Шпаньково',\n",
       " 'Шугозеро',\n",
       " 'Шум',\n",
       " 'Шушары',\n",
       " 'Щеглово',\n",
       " 'Юкки',\n",
       " 'Ялгино',\n",
       " 'Яльгелево',\n",
       " 'Ям-Тесово',\n",
       " 'Янино-1']"
      ]
     },
     "execution_count": 20,
     "metadata": {},
     "output_type": "execute_result"
    }
   ],
   "source": [
    "# Sorted list of unique values in locality_name column\n",
    "sorted(data['locality_name'].unique())"
   ]
  },
  {
   "cell_type": "markdown",
   "metadata": {},
   "source": [
    "Dealing with implicit duplicates in the `locality_name` column was successful."
   ]
  },
  {
   "cell_type": "markdown",
   "metadata": {},
   "source": [
    "<a id=\"outliers\"></a>\n",
    "\n",
    "\n",
    "### Outliers"
   ]
  },
  {
   "cell_type": "markdown",
   "metadata": {},
   "source": [
    "Let's look at the descriptive statistics for the slabs with quantitative data, which showed outliers in the graphs in the item [Open files](#open_files) in order to identify anomalies in the data."
   ]
  },
  {
   "cell_type": "code",
   "execution_count": 21,
   "metadata": {},
   "outputs": [],
   "source": [
    "# Function for displaying Descriptive statistics and Boxplots for selected column\n",
    "def info_and_boxplot(column):\n",
    "    \n",
    "    # Descriptive statistics for column\n",
    "    print(data[column].describe())\n",
    "    \n",
    "    print()\n",
    "    \n",
    "    # Boxplot for column\n",
    "    print(data.boxplot(column=[column]))"
   ]
  },
  {
   "cell_type": "markdown",
   "metadata": {},
   "source": [
    "**last_price**"
   ]
  },
  {
   "cell_type": "code",
   "execution_count": 22,
   "metadata": {},
   "outputs": [
    {
     "name": "stdout",
     "output_type": "stream",
     "text": [
      "count    2.369900e+04\n",
      "mean     6.541549e+06\n",
      "std      1.088701e+07\n",
      "min      1.219000e+04\n",
      "25%      3.400000e+06\n",
      "50%      4.650000e+06\n",
      "75%      6.800000e+06\n",
      "max      7.630000e+08\n",
      "Name: last_price, dtype: float64\n",
      "\n",
      "AxesSubplot(0.125,0.125;0.775x0.755)\n"
     ]
    },
    {
     "data": {
      "image/png": "[encoded data removed]",
      "text/plain": [
       "<Figure size 432x288 with 1 Axes>"
      ]
     },
     "metadata": {
      "needs_background": "light"
     },
     "output_type": "display_data"
    }
   ],
   "source": [
    "info_and_boxplot('last_price')"
   ]
  },
  {
   "cell_type": "markdown",
   "metadata": {},
   "source": [
    "The distribution looks realistic: the interquartile range of apartment prices is from 3,400,000 to 6,800,000, which sounds plausible. However, there are ultra-low (12,190) and super-high (763,000,000) prices. Perhaps some sellers indicated the price per square meter, mistyped in the number of zeros, or these are real market prices for real estate (cheap apartments - far from the city center, without repair, etc.; super-expensive - with a large area, excellent repair, in expensive LCD, etc.).\n",
    "\n",
    "\n",
    "Let's build a boxplots with a mustache for this column - outliers are seen better on it."
   ]
  },
  {
   "cell_type": "markdown",
   "metadata": {},
   "source": [
    "There are a lot of observations with ultra-high price values. The most \"knocked out\" object worth more than 700 million. Let's delete this line."
   ]
  },
  {
   "cell_type": "code",
   "execution_count": 23,
   "metadata": {},
   "outputs": [],
   "source": [
    "# Removing outliers\n",
    "data = data[data['last_price'] < 700000000]"
   ]
  },
  {
   "cell_type": "markdown",
   "metadata": {},
   "source": [
    "**total_area**"
   ]
  },
  {
   "cell_type": "code",
   "execution_count": 24,
   "metadata": {},
   "outputs": [
    {
     "name": "stdout",
     "output_type": "stream",
     "text": [
      "count    23698.000000\n",
      "mean        60.334442\n",
      "std         35.586437\n",
      "min         12.000000\n",
      "25%         40.000000\n",
      "50%         52.000000\n",
      "75%         69.875002\n",
      "max        900.000000\n",
      "Name: total_area, dtype: float64\n",
      "\n",
      "AxesSubplot(0.125,0.125;0.775x0.755)\n"
     ]
    },
    {
     "data": {
      "image/png": "[encoded data removed]",
      "text/plain": [
       "<Figure size 432x288 with 1 Axes>"
      ]
     },
     "metadata": {
      "needs_background": "light"
     },
     "output_type": "display_data"
    }
   ],
   "source": [
    "info_and_boxplot('total_area')"
   ]
  },
  {
   "cell_type": "markdown",
   "metadata": {},
   "source": [
    "Again, there are too large apartments (an area of 900 square meters is a lot ...) and tiny apartments (12 square meters). Perhaps this is real data, but errors are also likely when entering data manually. Otherwise, the distribution seems to be plausible - the median value is 52 square meters. meters, and the interquartile range is 40 - 70 square meters. meters.\n",
    "\n",
    "Let's look at the boxplot."
   ]
  },
  {
   "cell_type": "markdown",
   "metadata": {},
   "source": [
    "The most outstanding values are with a total area of more than 580 square meters. meters. Let's try to \"cut off\" these apartments from the sample."
   ]
  },
  {
   "cell_type": "code",
   "execution_count": 25,
   "metadata": {},
   "outputs": [],
   "source": [
    "# Removing outliers\n",
    "data = data[data['total_area'] < 580]"
   ]
  },
  {
   "cell_type": "markdown",
   "metadata": {},
   "source": [
    "**rooms**"
   ]
  },
  {
   "cell_type": "code",
   "execution_count": 26,
   "metadata": {},
   "outputs": [
    {
     "name": "stdout",
     "output_type": "stream",
     "text": [
      "count    23693.000000\n",
      "mean         2.068839\n",
      "std          1.071414\n",
      "min          0.000000\n",
      "25%          1.000000\n",
      "50%          2.000000\n",
      "75%          3.000000\n",
      "max         19.000000\n",
      "Name: rooms, dtype: float64\n",
      "\n",
      "AxesSubplot(0.125,0.125;0.775x0.755)\n"
     ]
    },
    {
     "data": {
      "image/png": "[encoded data removed]",
      "text/plain": [
       "<Figure size 432x288 with 1 Axes>"
      ]
     },
     "metadata": {
      "needs_background": "light"
     },
     "output_type": "display_data"
    }
   ],
   "source": [
    "info_and_boxplot('rooms')"
   ]
  },
  {
   "cell_type": "markdown",
   "metadata": {},
   "source": [
    "It turns out that there are apartments with 11-19 rooms (apparently they are so expensive), so we will not delete lines with such values."
   ]
  },
  {
   "cell_type": "markdown",
   "metadata": {},
   "source": [
    "**ceiling_height**"
   ]
  },
  {
   "cell_type": "code",
   "execution_count": 27,
   "metadata": {},
   "outputs": [
    {
     "name": "stdout",
     "output_type": "stream",
     "text": [
      "count    14500.000000\n",
      "mean         2.771326\n",
      "std          1.261170\n",
      "min          1.000000\n",
      "25%          2.520000\n",
      "50%          2.650000\n",
      "75%          2.800000\n",
      "max        100.000000\n",
      "Name: ceiling_height, dtype: float64\n",
      "\n",
      "AxesSubplot(0.125,0.125;0.775x0.755)\n"
     ]
    },
    {
     "data": {
      "image/png": "[encoded data removed]",
      "text/plain": [
       "<Figure size 432x288 with 1 Axes>"
      ]
     },
     "metadata": {
      "needs_background": "light"
     },
     "output_type": "display_data"
    }
   ],
   "source": [
    "info_and_boxplot('ceiling_height')"
   ]
  },
  {
   "cell_type": "markdown",
   "metadata": {},
   "source": [
    "Here we observe explicit outliers. It is logical to assume that, in fact, large ceiling heights could appear due to a different measurement scale or a missing comma. Since the nature of the outliers is obvious here, let's try to restore the original values.\n",
    "\n",
    "\n",
    "Let's write a function that will convert the height of the ceilings to meters if it is more than the conditionally \"adequate\" value of 10 meters."
   ]
  },
  {
   "cell_type": "code",
   "execution_count": 28,
   "metadata": {},
   "outputs": [],
   "source": [
    "# Function to convert ceiling height to meters\n",
    "def ceiling_to_m(ceiling_height):\n",
    "    try:\n",
    "        # If the ceiling height is more than 10 meters:\n",
    "        if ceiling_height > 10:\n",
    "            # Divide ceiling height by 10\n",
    "            ceiling_height /= 10\n",
    "        # The function returns the height of the ceilings\n",
    "        return ceiling_height\n",
    "    \n",
    "    except:\n",
    "        pass"
   ]
  },
  {
   "cell_type": "code",
   "execution_count": 29,
   "metadata": {},
   "outputs": [],
   "source": [
    "# Overwriting the ceiling_height column using the ceiling_to_m function\n",
    "data['ceiling_height'] = data['ceiling_height'].apply(ceiling_to_m)"
   ]
  },
  {
   "cell_type": "markdown",
   "metadata": {},
   "source": [
    "Let's check the descriptive statistics for the ceiling_height variable again."
   ]
  },
  {
   "cell_type": "code",
   "execution_count": 30,
   "metadata": {},
   "outputs": [
    {
     "name": "stdout",
     "output_type": "stream",
     "text": [
      "count    14500.000000\n",
      "mean         2.727914\n",
      "std          0.299617\n",
      "min          1.000000\n",
      "25%          2.510000\n",
      "50%          2.650000\n",
      "75%          2.800000\n",
      "max         10.000000\n",
      "Name: ceiling_height, dtype: float64\n",
      "\n",
      "AxesSubplot(0.125,0.125;0.775x0.755)\n"
     ]
    },
    {
     "data": {
      "image/png": "[encoded data removed]",
      "text/plain": [
       "<Figure size 432x288 with 1 Axes>"
      ]
     },
     "metadata": {
      "needs_background": "light"
     },
     "output_type": "display_data"
    }
   ],
   "source": [
    "info_and_boxplot('ceiling_height')"
   ]
  },
  {
   "cell_type": "markdown",
   "metadata": {},
   "source": [
    "We eliminated the most obvious outliers. It seems that we can remove the most deviant values - more than 6 meters.\n",
    "Since ceilings up to 2 meters high also seem unrealistic (and are shown as \"circles\" on the graph), we will also throw them away."
   ]
  },
  {
   "cell_type": "code",
   "execution_count": 31,
   "metadata": {},
   "outputs": [],
   "source": [
    "# Removing outliers\n",
    "data = data[(data['ceiling_height'] > 2) & (data['ceiling_height'] < 6)]"
   ]
  },
  {
   "cell_type": "code",
   "execution_count": 32,
   "metadata": {},
   "outputs": [],
   "source": [
    "# Replacing gaps with the median value\n",
    "data.loc[data['ceiling_height'].isna(), 'ceiling_height'] = data['ceiling_height'].median()"
   ]
  },
  {
   "cell_type": "code",
   "execution_count": 33,
   "metadata": {},
   "outputs": [
    {
     "data": {
      "text/plain": [
       "0"
      ]
     },
     "execution_count": 33,
     "metadata": {},
     "output_type": "execute_result"
    }
   ],
   "source": [
    "# Sum of all missing values for ceiling_height column\n",
    "data['ceiling_height'].isna().sum()"
   ]
  },
  {
   "cell_type": "markdown",
   "metadata": {},
   "source": [
    "Great, all the gaps in the `ceiling_height` column have been filled in."
   ]
  },
  {
   "cell_type": "markdown",
   "metadata": {},
   "source": [
    "**living_area**"
   ]
  },
  {
   "cell_type": "code",
   "execution_count": 34,
   "metadata": {},
   "outputs": [
    {
     "name": "stdout",
     "output_type": "stream",
     "text": [
      "count    14477.000000\n",
      "mean        35.735737\n",
      "std         22.639196\n",
      "min          2.000000\n",
      "25%         19.700001\n",
      "50%         30.799999\n",
      "75%         43.150002\n",
      "max        347.500000\n",
      "Name: living_area, dtype: float64\n",
      "\n",
      "AxesSubplot(0.125,0.125;0.775x0.755)\n"
     ]
    },
    {
     "data": {
      "image/png": "[encoded data removed]",
      "text/plain": [
       "<Figure size 432x288 with 1 Axes>"
      ]
     },
     "metadata": {
      "needs_background": "light"
     },
     "output_type": "display_data"
    }
   ],
   "source": [
    "info_and_boxplot('living_area')"
   ]
  },
  {
   "cell_type": "markdown",
   "metadata": {},
   "source": [
    "**kitchen_area**"
   ]
  },
  {
   "cell_type": "code",
   "execution_count": 35,
   "metadata": {},
   "outputs": [
    {
     "name": "stdout",
     "output_type": "stream",
     "text": [
      "count    14477.000000\n",
      "mean        10.548039\n",
      "std          6.140984\n",
      "min          1.300000\n",
      "25%          7.000000\n",
      "50%          9.000000\n",
      "75%         12.000000\n",
      "max         93.199997\n",
      "Name: kitchen_area, dtype: float64\n",
      "\n",
      "AxesSubplot(0.125,0.125;0.775x0.755)\n"
     ]
    },
    {
     "data": {
      "image/png": "[encoded data removed]",
      "text/plain": [
       "<Figure size 432x288 with 1 Axes>"
      ]
     },
     "metadata": {
      "needs_background": "light"
     },
     "output_type": "display_data"
    }
   ],
   "source": [
    "info_and_boxplot('kitchen_area')"
   ]
  },
  {
   "cell_type": "markdown",
   "metadata": {},
   "source": [
    "In the `living_area` and `kitchen_area` variables, as with other types of area, the distribution generally resembles a realistic one, but there are unexplained outliers - very large and very small area values. Suppose there are apartments with such areas."
   ]
  },
  {
   "cell_type": "markdown",
   "metadata": {},
   "source": [
    "**balcony**"
   ]
  },
  {
   "cell_type": "code",
   "execution_count": 36,
   "metadata": {},
   "outputs": [
    {
     "name": "stdout",
     "output_type": "stream",
     "text": [
      "count    14477.000000\n",
      "mean         0.679975\n",
      "std          1.015707\n",
      "min          0.000000\n",
      "25%          0.000000\n",
      "50%          0.000000\n",
      "75%          1.000000\n",
      "max          5.000000\n",
      "Name: balcony, dtype: float64\n",
      "\n",
      "AxesSubplot(0.125,0.125;0.775x0.755)\n"
     ]
    },
    {
     "data": {
      "image/png": "[encoded data removed]",
      "text/plain": [
       "<Figure size 432x288 with 1 Axes>"
      ]
     },
     "metadata": {
      "needs_background": "light"
     },
     "output_type": "display_data"
    }
   ],
   "source": [
    "info_and_boxplot('balcony')"
   ]
  },
  {
   "cell_type": "markdown",
   "metadata": {},
   "source": [
    "There are probably apartments with five balconies (most likely those with a large area and cost), although this is rare, since three-quarters of the apartments have only one balcony."
   ]
  },
  {
   "cell_type": "markdown",
   "metadata": {},
   "source": [
    "**cityCenters_nearest**"
   ]
  },
  {
   "cell_type": "code",
   "execution_count": 37,
   "metadata": {},
   "outputs": [
    {
     "name": "stdout",
     "output_type": "stream",
     "text": [
      "count    11543.000000\n",
      "mean     14068.179849\n",
      "std       8760.530119\n",
      "min        181.000000\n",
      "25%       9051.000000\n",
      "50%      12964.000000\n",
      "75%      16034.000000\n",
      "max      65968.000000\n",
      "Name: cityCenters_nearest, dtype: float64\n",
      "\n",
      "AxesSubplot(0.125,0.125;0.775x0.755)\n"
     ]
    },
    {
     "data": {
      "image/png": "[encoded data removed]",
      "text/plain": [
       "<Figure size 432x288 with 1 Axes>"
      ]
     },
     "metadata": {
      "needs_background": "light"
     },
     "output_type": "display_data"
    }
   ],
   "source": [
    "info_and_boxplot('cityCenters_nearest')"
   ]
  },
  {
   "cell_type": "markdown",
   "metadata": {},
   "source": [
    "**parks_nearest**"
   ]
  },
  {
   "cell_type": "code",
   "execution_count": 38,
   "metadata": {},
   "outputs": [
    {
     "name": "stdout",
     "output_type": "stream",
     "text": [
      "count    5285.000000\n",
      "mean      476.628761\n",
      "std       320.056250\n",
      "min         3.000000\n",
      "25%       285.000000\n",
      "50%       448.000000\n",
      "75%       602.000000\n",
      "max      3190.000000\n",
      "Name: parks_nearest, dtype: float64\n",
      "\n",
      "AxesSubplot(0.125,0.125;0.775x0.755)\n"
     ]
    },
    {
     "data": {
      "image/png": "[encoded data removed]",
      "text/plain": [
       "<Figure size 432x288 with 1 Axes>"
      ]
     },
     "metadata": {
      "needs_background": "light"
     },
     "output_type": "display_data"
    }
   ],
   "source": [
    "info_and_boxplot('parks_nearest')"
   ]
  },
  {
   "cell_type": "markdown",
   "metadata": {},
   "source": [
    "In the `cityCenters_nearest` and `parks_nearest` variables, upon closer inspection, you can see the logic: some apartments are located far from the city center and parks, some are right in the center and close to the park."
   ]
  },
  {
   "cell_type": "markdown",
   "metadata": {},
   "source": [
    "**days_exposition**"
   ]
  },
  {
   "cell_type": "code",
   "execution_count": 39,
   "metadata": {},
   "outputs": [
    {
     "name": "stdout",
     "output_type": "stream",
     "text": [
      "count    12029.000000\n",
      "mean       190.507357\n",
      "std        228.818256\n",
      "min          1.000000\n",
      "25%         45.000000\n",
      "50%        103.000000\n",
      "75%        248.000000\n",
      "max       1580.000000\n",
      "Name: days_exposition, dtype: float64\n",
      "\n",
      "AxesSubplot(0.125,0.125;0.775x0.755)\n"
     ]
    },
    {
     "data": {
      "image/png": "[encoded data removed]",
      "text/plain": [
       "<Figure size 432x288 with 1 Axes>"
      ]
     },
     "metadata": {
      "needs_background": "light"
     },
     "output_type": "display_data"
    }
   ],
   "source": [
    "info_and_boxplot('days_exposition')"
   ]
  },
  {
   "cell_type": "markdown",
   "metadata": {},
   "source": [
    "Half of all apartments were sold within three months. The minimum period for which the ad was closed is one day. And some objects have not been sold for 4 years. Strange. However, we will not remove all outliers, since they are distributed almost evenly."
   ]
  },
  {
   "cell_type": "markdown",
   "metadata": {},
   "source": [
    "**Findings on data preprocessing:**\n",
    "\n",
    "- Some columns in the dataset were stored in the wrong type, which has been fixed;\n",
    "\n",
    "- Gaps were observed in 14 out of 22 columns, the nature of which can be divided into two conditional groups: \"human factor\" (for data that was entered manually) and \"software error\" (for automatic calculations);\n",
    "\n",
    "- Emissions were encountered in a number of factors, the nature of some could not be established. It turned out to work with the rest of the outliers and reduce their number (remove implausible values and transfer the data to another scale)."
   ]
  },
  {
   "cell_type": "markdown",
   "metadata": {},
   "source": [
    "<a id=\"new_variables\"></a>\n",
    "\n",
    "## New variables\n",
    "\n",
    "Let's add new important columns in the dataset."
   ]
  },
  {
   "cell_type": "markdown",
   "metadata": {},
   "source": [
    "<a id=\"meter_price\"></a>\n",
    "\n",
    "### Price per square meter"
   ]
  },
  {
   "cell_type": "code",
   "execution_count": 40,
   "metadata": {},
   "outputs": [],
   "source": [
    "# Price per square meter = price for the whole apartment / area of the apartment\n",
    "data['price_per_m'] = data['last_price'] / data['total_area']"
   ]
  },
  {
   "cell_type": "markdown",
   "metadata": {},
   "source": [
    "<a id=\"day_of_week\"></a>\n",
    "\n",
    "### Day of the week the ad was posted"
   ]
  },
  {
   "cell_type": "code",
   "execution_count": 41,
   "metadata": {},
   "outputs": [],
   "source": [
    "# Adding a day of the week\n",
    "data['week_day'] = data['first_day_exposition'].dt.weekday"
   ]
  },
  {
   "cell_type": "markdown",
   "metadata": {},
   "source": [
    "<a id=\"month\"></a>\n",
    "\n",
    "### Month the ad was posted"
   ]
  },
  {
   "cell_type": "code",
   "execution_count": 42,
   "metadata": {},
   "outputs": [],
   "source": [
    "# Adding a publication month\n",
    "data['month'] = data['first_day_exposition'].dt.month"
   ]
  },
  {
   "cell_type": "markdown",
   "metadata": {},
   "source": [
    "<a id=\"year\"></a>\n",
    "\n",
    "### Year the ad was posted"
   ]
  },
  {
   "cell_type": "code",
   "execution_count": 43,
   "metadata": {},
   "outputs": [],
   "source": [
    "# Adding a publication year\n",
    "data['year'] = data['first_day_exposition'].dt.year"
   ]
  },
  {
   "cell_type": "markdown",
   "metadata": {},
   "source": [
    "<a id=\"floor_type\"></a>\n",
    "\n",
    "### Floor type"
   ]
  },
  {
   "cell_type": "code",
   "execution_count": 44,
   "metadata": {},
   "outputs": [],
   "source": [
    "# Function to determine floor type\n",
    "def floor_type(floor_nums):\n",
    "    \n",
    "    try:\n",
    "        floor = floor_nums['floor']\n",
    "        floors_total = floor_nums['floors_total']\n",
    "        \n",
    "        # The floor type is calculated as the difference between \n",
    "        # the number of floors in the whole house \n",
    "        # and the floor of the apartment\n",
    "        floor_position = floors_total - floor\n",
    "        \n",
    "        # If the difference is zero\n",
    "        if floor_position == 0:\n",
    "            # the apartment is located on the top floor\n",
    "            return 'Top'\n",
    "        \n",
    "        # If the difference is only 1 less than the number of floors in the house\n",
    "        elif floor_position == floors_total - 1:\n",
    "            # the apartment is located on the ground floor\n",
    "            return 'Ground'\n",
    "        \n",
    "        # In other cases\n",
    "        else:\n",
    "            # Other floor\n",
    "            return 'Other'\n",
    "        \n",
    "    except:\n",
    "        return 'Not defined'"
   ]
  },
  {
   "cell_type": "code",
   "execution_count": 45,
   "metadata": {},
   "outputs": [],
   "source": [
    "# Apply the floor_type function, creating a column with the same name\n",
    "data['floor_type'] = data.apply(floor_type, axis=1)"
   ]
  },
  {
   "cell_type": "markdown",
   "metadata": {},
   "source": [
    "<a id=\"km_city_center\"></a>\n",
    "\n",
    "### Distance to city center in kilometers"
   ]
  },
  {
   "cell_type": "code",
   "execution_count": 46,
   "metadata": {},
   "outputs": [],
   "source": [
    "# Convert meters to kilometers: 1 km = 1000 m\n",
    "data['cityCenters_nearest_km'] = round(data['cityCenters_nearest'] / 1000)"
   ]
  },
  {
   "cell_type": "markdown",
   "metadata": {},
   "source": [
    "Let's check the transformations - we will display the first 20 lines of the updated dataset."
   ]
  },
  {
   "cell_type": "code",
   "execution_count": 47,
   "metadata": {},
   "outputs": [
    {
     "data": {
      "text/html": [
       "<div>\n",
       "<style scoped>\n",
       "    .dataframe tbody tr th:only-of-type {\n",
       "        vertical-align: middle;\n",
       "    }\n",
       "\n",
       "    .dataframe tbody tr th {\n",
       "        vertical-align: top;\n",
       "    }\n",
       "\n",
       "    .dataframe thead th {\n",
       "        text-align: right;\n",
       "    }\n",
       "</style>\n",
       "<table border=\"1\" class=\"dataframe\">\n",
       "  <thead>\n",
       "    <tr style=\"text-align: right;\">\n",
       "      <th></th>\n",
       "      <th>total_images</th>\n",
       "      <th>last_price</th>\n",
       "      <th>total_area</th>\n",
       "      <th>first_day_exposition</th>\n",
       "      <th>rooms</th>\n",
       "      <th>ceiling_height</th>\n",
       "      <th>floors_total</th>\n",
       "      <th>living_area</th>\n",
       "      <th>floor</th>\n",
       "      <th>is_apartment</th>\n",
       "      <th>...</th>\n",
       "      <th>parks_nearest</th>\n",
       "      <th>ponds_around3000</th>\n",
       "      <th>ponds_nearest</th>\n",
       "      <th>days_exposition</th>\n",
       "      <th>price_per_m</th>\n",
       "      <th>week_day</th>\n",
       "      <th>month</th>\n",
       "      <th>year</th>\n",
       "      <th>floor_type</th>\n",
       "      <th>cityCenters_nearest_km</th>\n",
       "    </tr>\n",
       "  </thead>\n",
       "  <tbody>\n",
       "    <tr>\n",
       "      <th>0</th>\n",
       "      <td>20</td>\n",
       "      <td>13000000.0</td>\n",
       "      <td>108.000000</td>\n",
       "      <td>2019-03-07</td>\n",
       "      <td>3</td>\n",
       "      <td>2.70</td>\n",
       "      <td>16.0</td>\n",
       "      <td>51.000000</td>\n",
       "      <td>8</td>\n",
       "      <td>False</td>\n",
       "      <td>...</td>\n",
       "      <td>482.0</td>\n",
       "      <td>2</td>\n",
       "      <td>755.0</td>\n",
       "      <td>NaN</td>\n",
       "      <td>120370.370370</td>\n",
       "      <td>3</td>\n",
       "      <td>3</td>\n",
       "      <td>2019</td>\n",
       "      <td>Other</td>\n",
       "      <td>16.0</td>\n",
       "    </tr>\n",
       "    <tr>\n",
       "      <th>4</th>\n",
       "      <td>2</td>\n",
       "      <td>10000000.0</td>\n",
       "      <td>100.000000</td>\n",
       "      <td>2018-06-19</td>\n",
       "      <td>2</td>\n",
       "      <td>3.03</td>\n",
       "      <td>14.0</td>\n",
       "      <td>32.000000</td>\n",
       "      <td>13</td>\n",
       "      <td>False</td>\n",
       "      <td>...</td>\n",
       "      <td>112.0</td>\n",
       "      <td>1</td>\n",
       "      <td>48.0</td>\n",
       "      <td>121.0</td>\n",
       "      <td>100000.000000</td>\n",
       "      <td>1</td>\n",
       "      <td>6</td>\n",
       "      <td>2018</td>\n",
       "      <td>Other</td>\n",
       "      <td>8.0</td>\n",
       "    </tr>\n",
       "    <tr>\n",
       "      <th>9</th>\n",
       "      <td>18</td>\n",
       "      <td>5400000.0</td>\n",
       "      <td>61.000000</td>\n",
       "      <td>2017-02-26</td>\n",
       "      <td>3</td>\n",
       "      <td>2.50</td>\n",
       "      <td>9.0</td>\n",
       "      <td>43.599998</td>\n",
       "      <td>7</td>\n",
       "      <td>False</td>\n",
       "      <td>...</td>\n",
       "      <td>NaN</td>\n",
       "      <td>0</td>\n",
       "      <td>NaN</td>\n",
       "      <td>289.0</td>\n",
       "      <td>88524.590164</td>\n",
       "      <td>6</td>\n",
       "      <td>2</td>\n",
       "      <td>2017</td>\n",
       "      <td>Other</td>\n",
       "      <td>15.0</td>\n",
       "    </tr>\n",
       "    <tr>\n",
       "      <th>10</th>\n",
       "      <td>5</td>\n",
       "      <td>5050000.0</td>\n",
       "      <td>39.599998</td>\n",
       "      <td>2017-11-16</td>\n",
       "      <td>1</td>\n",
       "      <td>2.67</td>\n",
       "      <td>12.0</td>\n",
       "      <td>20.299999</td>\n",
       "      <td>3</td>\n",
       "      <td>False</td>\n",
       "      <td>...</td>\n",
       "      <td>310.0</td>\n",
       "      <td>2</td>\n",
       "      <td>553.0</td>\n",
       "      <td>137.0</td>\n",
       "      <td>127525.257439</td>\n",
       "      <td>3</td>\n",
       "      <td>11</td>\n",
       "      <td>2017</td>\n",
       "      <td>Other</td>\n",
       "      <td>14.0</td>\n",
       "    </tr>\n",
       "    <tr>\n",
       "      <th>13</th>\n",
       "      <td>20</td>\n",
       "      <td>3550000.0</td>\n",
       "      <td>42.799999</td>\n",
       "      <td>2017-07-01</td>\n",
       "      <td>2</td>\n",
       "      <td>2.56</td>\n",
       "      <td>5.0</td>\n",
       "      <td>27.000000</td>\n",
       "      <td>5</td>\n",
       "      <td>False</td>\n",
       "      <td>...</td>\n",
       "      <td>294.0</td>\n",
       "      <td>3</td>\n",
       "      <td>298.0</td>\n",
       "      <td>366.0</td>\n",
       "      <td>82943.926712</td>\n",
       "      <td>5</td>\n",
       "      <td>7</td>\n",
       "      <td>2017</td>\n",
       "      <td>Top</td>\n",
       "      <td>33.0</td>\n",
       "    </tr>\n",
       "    <tr>\n",
       "      <th>16</th>\n",
       "      <td>11</td>\n",
       "      <td>6700000.0</td>\n",
       "      <td>82.000000</td>\n",
       "      <td>2017-11-23</td>\n",
       "      <td>3</td>\n",
       "      <td>3.05</td>\n",
       "      <td>5.0</td>\n",
       "      <td>55.599998</td>\n",
       "      <td>1</td>\n",
       "      <td>False</td>\n",
       "      <td>...</td>\n",
       "      <td>420.0</td>\n",
       "      <td>0</td>\n",
       "      <td>NaN</td>\n",
       "      <td>397.0</td>\n",
       "      <td>81707.317073</td>\n",
       "      <td>3</td>\n",
       "      <td>11</td>\n",
       "      <td>2017</td>\n",
       "      <td>Ground</td>\n",
       "      <td>11.0</td>\n",
       "    </tr>\n",
       "    <tr>\n",
       "      <th>18</th>\n",
       "      <td>8</td>\n",
       "      <td>3250000.0</td>\n",
       "      <td>31.000000</td>\n",
       "      <td>2017-01-27</td>\n",
       "      <td>1</td>\n",
       "      <td>2.50</td>\n",
       "      <td>5.0</td>\n",
       "      <td>19.400000</td>\n",
       "      <td>2</td>\n",
       "      <td>False</td>\n",
       "      <td>...</td>\n",
       "      <td>759.0</td>\n",
       "      <td>0</td>\n",
       "      <td>NaN</td>\n",
       "      <td>168.0</td>\n",
       "      <td>104838.709677</td>\n",
       "      <td>4</td>\n",
       "      <td>1</td>\n",
       "      <td>2017</td>\n",
       "      <td>Other</td>\n",
       "      <td>11.0</td>\n",
       "    </tr>\n",
       "    <tr>\n",
       "      <th>19</th>\n",
       "      <td>16</td>\n",
       "      <td>14200000.0</td>\n",
       "      <td>121.000000</td>\n",
       "      <td>2019-01-09</td>\n",
       "      <td>3</td>\n",
       "      <td>2.75</td>\n",
       "      <td>16.0</td>\n",
       "      <td>76.000000</td>\n",
       "      <td>8</td>\n",
       "      <td>False</td>\n",
       "      <td>...</td>\n",
       "      <td>NaN</td>\n",
       "      <td>0</td>\n",
       "      <td>NaN</td>\n",
       "      <td>97.0</td>\n",
       "      <td>117355.371901</td>\n",
       "      <td>2</td>\n",
       "      <td>1</td>\n",
       "      <td>2019</td>\n",
       "      <td>Other</td>\n",
       "      <td>13.0</td>\n",
       "    </tr>\n",
       "    <tr>\n",
       "      <th>20</th>\n",
       "      <td>12</td>\n",
       "      <td>6120000.0</td>\n",
       "      <td>80.000000</td>\n",
       "      <td>2017-09-28</td>\n",
       "      <td>3</td>\n",
       "      <td>2.70</td>\n",
       "      <td>27.0</td>\n",
       "      <td>48.000000</td>\n",
       "      <td>11</td>\n",
       "      <td>False</td>\n",
       "      <td>...</td>\n",
       "      <td>NaN</td>\n",
       "      <td>0</td>\n",
       "      <td>NaN</td>\n",
       "      <td>74.0</td>\n",
       "      <td>76500.000000</td>\n",
       "      <td>3</td>\n",
       "      <td>9</td>\n",
       "      <td>2017</td>\n",
       "      <td>Other</td>\n",
       "      <td>19.0</td>\n",
       "    </tr>\n",
       "    <tr>\n",
       "      <th>22</th>\n",
       "      <td>20</td>\n",
       "      <td>5000000.0</td>\n",
       "      <td>58.000000</td>\n",
       "      <td>2017-04-24</td>\n",
       "      <td>2</td>\n",
       "      <td>2.75</td>\n",
       "      <td>25.0</td>\n",
       "      <td>30.000000</td>\n",
       "      <td>15</td>\n",
       "      <td>False</td>\n",
       "      <td>...</td>\n",
       "      <td>NaN</td>\n",
       "      <td>0</td>\n",
       "      <td>NaN</td>\n",
       "      <td>60.0</td>\n",
       "      <td>86206.896552</td>\n",
       "      <td>0</td>\n",
       "      <td>4</td>\n",
       "      <td>2017</td>\n",
       "      <td>Other</td>\n",
       "      <td>NaN</td>\n",
       "    </tr>\n",
       "    <tr>\n",
       "      <th>23</th>\n",
       "      <td>11</td>\n",
       "      <td>2950000.0</td>\n",
       "      <td>32.000000</td>\n",
       "      <td>2016-10-29</td>\n",
       "      <td>1</td>\n",
       "      <td>2.60</td>\n",
       "      <td>9.0</td>\n",
       "      <td>17.700001</td>\n",
       "      <td>9</td>\n",
       "      <td>False</td>\n",
       "      <td>...</td>\n",
       "      <td>517.0</td>\n",
       "      <td>1</td>\n",
       "      <td>190.0</td>\n",
       "      <td>615.0</td>\n",
       "      <td>92187.500000</td>\n",
       "      <td>5</td>\n",
       "      <td>10</td>\n",
       "      <td>2016</td>\n",
       "      <td>Top</td>\n",
       "      <td>14.0</td>\n",
       "    </tr>\n",
       "    <tr>\n",
       "      <th>25</th>\n",
       "      <td>3</td>\n",
       "      <td>6800000.0</td>\n",
       "      <td>76.000000</td>\n",
       "      <td>2015-10-01</td>\n",
       "      <td>2</td>\n",
       "      <td>2.75</td>\n",
       "      <td>23.0</td>\n",
       "      <td>39.000000</td>\n",
       "      <td>18</td>\n",
       "      <td>False</td>\n",
       "      <td>...</td>\n",
       "      <td>NaN</td>\n",
       "      <td>1</td>\n",
       "      <td>564.0</td>\n",
       "      <td>300.0</td>\n",
       "      <td>89473.684211</td>\n",
       "      <td>3</td>\n",
       "      <td>10</td>\n",
       "      <td>2015</td>\n",
       "      <td>Other</td>\n",
       "      <td>15.0</td>\n",
       "    </tr>\n",
       "    <tr>\n",
       "      <th>27</th>\n",
       "      <td>20</td>\n",
       "      <td>7100000.0</td>\n",
       "      <td>70.000000</td>\n",
       "      <td>2017-05-12</td>\n",
       "      <td>3</td>\n",
       "      <td>2.60</td>\n",
       "      <td>17.0</td>\n",
       "      <td>49.000000</td>\n",
       "      <td>11</td>\n",
       "      <td>False</td>\n",
       "      <td>...</td>\n",
       "      <td>452.0</td>\n",
       "      <td>1</td>\n",
       "      <td>779.0</td>\n",
       "      <td>151.0</td>\n",
       "      <td>101428.571429</td>\n",
       "      <td>4</td>\n",
       "      <td>5</td>\n",
       "      <td>2017</td>\n",
       "      <td>Other</td>\n",
       "      <td>11.0</td>\n",
       "    </tr>\n",
       "    <tr>\n",
       "      <th>28</th>\n",
       "      <td>8</td>\n",
       "      <td>4170000.0</td>\n",
       "      <td>44.000000</td>\n",
       "      <td>2017-12-13</td>\n",
       "      <td>1</td>\n",
       "      <td>2.90</td>\n",
       "      <td>6.0</td>\n",
       "      <td>20.799999</td>\n",
       "      <td>1</td>\n",
       "      <td>False</td>\n",
       "      <td>...</td>\n",
       "      <td>NaN</td>\n",
       "      <td>1</td>\n",
       "      <td>118.0</td>\n",
       "      <td>74.0</td>\n",
       "      <td>94772.727273</td>\n",
       "      <td>2</td>\n",
       "      <td>12</td>\n",
       "      <td>2017</td>\n",
       "      <td>Ground</td>\n",
       "      <td>31.0</td>\n",
       "    </tr>\n",
       "    <tr>\n",
       "      <th>31</th>\n",
       "      <td>8</td>\n",
       "      <td>7200000.0</td>\n",
       "      <td>67.900002</td>\n",
       "      <td>2017-10-26</td>\n",
       "      <td>2</td>\n",
       "      <td>2.80</td>\n",
       "      <td>16.0</td>\n",
       "      <td>38.099998</td>\n",
       "      <td>4</td>\n",
       "      <td>False</td>\n",
       "      <td>...</td>\n",
       "      <td>NaN</td>\n",
       "      <td>0</td>\n",
       "      <td>NaN</td>\n",
       "      <td>112.0</td>\n",
       "      <td>106038.289222</td>\n",
       "      <td>3</td>\n",
       "      <td>10</td>\n",
       "      <td>2017</td>\n",
       "      <td>Other</td>\n",
       "      <td>13.0</td>\n",
       "    </tr>\n",
       "    <tr>\n",
       "      <th>34</th>\n",
       "      <td>3</td>\n",
       "      <td>3290000.0</td>\n",
       "      <td>33.000000</td>\n",
       "      <td>2018-02-04</td>\n",
       "      <td>1</td>\n",
       "      <td>2.55</td>\n",
       "      <td>16.0</td>\n",
       "      <td>14.000000</td>\n",
       "      <td>3</td>\n",
       "      <td>False</td>\n",
       "      <td>...</td>\n",
       "      <td>NaN</td>\n",
       "      <td>0</td>\n",
       "      <td>NaN</td>\n",
       "      <td>15.0</td>\n",
       "      <td>99696.969697</td>\n",
       "      <td>6</td>\n",
       "      <td>2</td>\n",
       "      <td>2018</td>\n",
       "      <td>Other</td>\n",
       "      <td>13.0</td>\n",
       "    </tr>\n",
       "    <tr>\n",
       "      <th>37</th>\n",
       "      <td>10</td>\n",
       "      <td>1990000.0</td>\n",
       "      <td>45.799999</td>\n",
       "      <td>2017-10-28</td>\n",
       "      <td>2</td>\n",
       "      <td>2.50</td>\n",
       "      <td>5.0</td>\n",
       "      <td>26.426600</td>\n",
       "      <td>1</td>\n",
       "      <td>False</td>\n",
       "      <td>...</td>\n",
       "      <td>NaN</td>\n",
       "      <td>0</td>\n",
       "      <td>NaN</td>\n",
       "      <td>196.0</td>\n",
       "      <td>43449.782383</td>\n",
       "      <td>5</td>\n",
       "      <td>10</td>\n",
       "      <td>2017</td>\n",
       "      <td>Ground</td>\n",
       "      <td>NaN</td>\n",
       "    </tr>\n",
       "    <tr>\n",
       "      <th>38</th>\n",
       "      <td>10</td>\n",
       "      <td>3150000.0</td>\n",
       "      <td>40.000000</td>\n",
       "      <td>2018-03-29</td>\n",
       "      <td>1</td>\n",
       "      <td>2.75</td>\n",
       "      <td>18.0</td>\n",
       "      <td>16.299999</td>\n",
       "      <td>9</td>\n",
       "      <td>False</td>\n",
       "      <td>...</td>\n",
       "      <td>NaN</td>\n",
       "      <td>0</td>\n",
       "      <td>NaN</td>\n",
       "      <td>103.0</td>\n",
       "      <td>78750.000000</td>\n",
       "      <td>3</td>\n",
       "      <td>3</td>\n",
       "      <td>2018</td>\n",
       "      <td>Other</td>\n",
       "      <td>NaN</td>\n",
       "    </tr>\n",
       "    <tr>\n",
       "      <th>39</th>\n",
       "      <td>15</td>\n",
       "      <td>5200000.0</td>\n",
       "      <td>54.400002</td>\n",
       "      <td>2018-11-29</td>\n",
       "      <td>2</td>\n",
       "      <td>2.75</td>\n",
       "      <td>9.0</td>\n",
       "      <td>29.700001</td>\n",
       "      <td>2</td>\n",
       "      <td>False</td>\n",
       "      <td>...</td>\n",
       "      <td>NaN</td>\n",
       "      <td>1</td>\n",
       "      <td>1175.0</td>\n",
       "      <td>29.0</td>\n",
       "      <td>95588.232613</td>\n",
       "      <td>3</td>\n",
       "      <td>11</td>\n",
       "      <td>2018</td>\n",
       "      <td>Other</td>\n",
       "      <td>12.0</td>\n",
       "    </tr>\n",
       "    <tr>\n",
       "      <th>40</th>\n",
       "      <td>9</td>\n",
       "      <td>3590000.0</td>\n",
       "      <td>36.000000</td>\n",
       "      <td>2017-03-15</td>\n",
       "      <td>1</td>\n",
       "      <td>2.60</td>\n",
       "      <td>26.0</td>\n",
       "      <td>15.000000</td>\n",
       "      <td>22</td>\n",
       "      <td>False</td>\n",
       "      <td>...</td>\n",
       "      <td>NaN</td>\n",
       "      <td>0</td>\n",
       "      <td>NaN</td>\n",
       "      <td>430.0</td>\n",
       "      <td>99722.222222</td>\n",
       "      <td>2</td>\n",
       "      <td>3</td>\n",
       "      <td>2017</td>\n",
       "      <td>Other</td>\n",
       "      <td>19.0</td>\n",
       "    </tr>\n",
       "  </tbody>\n",
       "</table>\n",
       "<p>20 rows × 28 columns</p>\n",
       "</div>"
      ],
      "text/plain": [
       "    total_images  last_price  total_area first_day_exposition  rooms  \\\n",
       "0             20  13000000.0  108.000000           2019-03-07      3   \n",
       "4              2  10000000.0  100.000000           2018-06-19      2   \n",
       "9             18   5400000.0   61.000000           2017-02-26      3   \n",
       "10             5   5050000.0   39.599998           2017-11-16      1   \n",
       "13            20   3550000.0   42.799999           2017-07-01      2   \n",
       "16            11   6700000.0   82.000000           2017-11-23      3   \n",
       "18             8   3250000.0   31.000000           2017-01-27      1   \n",
       "19            16  14200000.0  121.000000           2019-01-09      3   \n",
       "20            12   6120000.0   80.000000           2017-09-28      3   \n",
       "22            20   5000000.0   58.000000           2017-04-24      2   \n",
       "23            11   2950000.0   32.000000           2016-10-29      1   \n",
       "25             3   6800000.0   76.000000           2015-10-01      2   \n",
       "27            20   7100000.0   70.000000           2017-05-12      3   \n",
       "28             8   4170000.0   44.000000           2017-12-13      1   \n",
       "31             8   7200000.0   67.900002           2017-10-26      2   \n",
       "34             3   3290000.0   33.000000           2018-02-04      1   \n",
       "37            10   1990000.0   45.799999           2017-10-28      2   \n",
       "38            10   3150000.0   40.000000           2018-03-29      1   \n",
       "39            15   5200000.0   54.400002           2018-11-29      2   \n",
       "40             9   3590000.0   36.000000           2017-03-15      1   \n",
       "\n",
       "    ceiling_height  floors_total  living_area  floor  is_apartment  ...  \\\n",
       "0             2.70          16.0    51.000000      8         False  ...   \n",
       "4             3.03          14.0    32.000000     13         False  ...   \n",
       "9             2.50           9.0    43.599998      7         False  ...   \n",
       "10            2.67          12.0    20.299999      3         False  ...   \n",
       "13            2.56           5.0    27.000000      5         False  ...   \n",
       "16            3.05           5.0    55.599998      1         False  ...   \n",
       "18            2.50           5.0    19.400000      2         False  ...   \n",
       "19            2.75          16.0    76.000000      8         False  ...   \n",
       "20            2.70          27.0    48.000000     11         False  ...   \n",
       "22            2.75          25.0    30.000000     15         False  ...   \n",
       "23            2.60           9.0    17.700001      9         False  ...   \n",
       "25            2.75          23.0    39.000000     18         False  ...   \n",
       "27            2.60          17.0    49.000000     11         False  ...   \n",
       "28            2.90           6.0    20.799999      1         False  ...   \n",
       "31            2.80          16.0    38.099998      4         False  ...   \n",
       "34            2.55          16.0    14.000000      3         False  ...   \n",
       "37            2.50           5.0    26.426600      1         False  ...   \n",
       "38            2.75          18.0    16.299999      9         False  ...   \n",
       "39            2.75           9.0    29.700001      2         False  ...   \n",
       "40            2.60          26.0    15.000000     22         False  ...   \n",
       "\n",
       "    parks_nearest  ponds_around3000  ponds_nearest  days_exposition  \\\n",
       "0           482.0                 2          755.0              NaN   \n",
       "4           112.0                 1           48.0            121.0   \n",
       "9             NaN                 0            NaN            289.0   \n",
       "10          310.0                 2          553.0            137.0   \n",
       "13          294.0                 3          298.0            366.0   \n",
       "16          420.0                 0            NaN            397.0   \n",
       "18          759.0                 0            NaN            168.0   \n",
       "19            NaN                 0            NaN             97.0   \n",
       "20            NaN                 0            NaN             74.0   \n",
       "22            NaN                 0            NaN             60.0   \n",
       "23          517.0                 1          190.0            615.0   \n",
       "25            NaN                 1          564.0            300.0   \n",
       "27          452.0                 1          779.0            151.0   \n",
       "28            NaN                 1          118.0             74.0   \n",
       "31            NaN                 0            NaN            112.0   \n",
       "34            NaN                 0            NaN             15.0   \n",
       "37            NaN                 0            NaN            196.0   \n",
       "38            NaN                 0            NaN            103.0   \n",
       "39            NaN                 1         1175.0             29.0   \n",
       "40            NaN                 0            NaN            430.0   \n",
       "\n",
       "      price_per_m  week_day  month  year  floor_type  cityCenters_nearest_km  \n",
       "0   120370.370370         3      3  2019       Other                    16.0  \n",
       "4   100000.000000         1      6  2018       Other                     8.0  \n",
       "9    88524.590164         6      2  2017       Other                    15.0  \n",
       "10  127525.257439         3     11  2017       Other                    14.0  \n",
       "13   82943.926712         5      7  2017         Top                    33.0  \n",
       "16   81707.317073         3     11  2017      Ground                    11.0  \n",
       "18  104838.709677         4      1  2017       Other                    11.0  \n",
       "19  117355.371901         2      1  2019       Other                    13.0  \n",
       "20   76500.000000         3      9  2017       Other                    19.0  \n",
       "22   86206.896552         0      4  2017       Other                     NaN  \n",
       "23   92187.500000         5     10  2016         Top                    14.0  \n",
       "25   89473.684211         3     10  2015       Other                    15.0  \n",
       "27  101428.571429         4      5  2017       Other                    11.0  \n",
       "28   94772.727273         2     12  2017      Ground                    31.0  \n",
       "31  106038.289222         3     10  2017       Other                    13.0  \n",
       "34   99696.969697         6      2  2018       Other                    13.0  \n",
       "37   43449.782383         5     10  2017      Ground                     NaN  \n",
       "38   78750.000000         3      3  2018       Other                     NaN  \n",
       "39   95588.232613         3     11  2018       Other                    12.0  \n",
       "40   99722.222222         2      3  2017       Other                    19.0  \n",
       "\n",
       "[20 rows x 28 columns]"
      ]
     },
     "execution_count": 47,
     "metadata": {},
     "output_type": "execute_result"
    }
   ],
   "source": [
    "data.head(20)"
   ]
  },
  {
   "cell_type": "markdown",
   "metadata": {},
   "source": [
    "All new columns are added correctly."
   ]
  },
  {
   "cell_type": "markdown",
   "metadata": {},
   "source": [
    "<a id=\"exploratory_analysis\"></a>\n",
    "\n",
    "## EDA"
   ]
  },
  {
   "cell_type": "markdown",
   "metadata": {},
   "source": [
    "<a id=\"obj_params\"></a> \n",
    "\n",
    "### Object parameters\n",
    "\n",
    "Let's look at descriptive statistics for clean data and plot density distributions."
   ]
  },
  {
   "cell_type": "code",
   "execution_count": 48,
   "metadata": {},
   "outputs": [],
   "source": [
    "# Function for displaying Descriptive statistics and Histogram for selected column\n",
    "def info_and_hist(column, bins):\n",
    "    \n",
    "    # Descriptive statistics for column\n",
    "    print(data[column].describe())\n",
    "    print()\n",
    "    # Hist for column\n",
    "    print(data[column].hist(bins=bins, figsize=(8, 6)))"
   ]
  },
  {
   "cell_type": "code",
   "execution_count": 49,
   "metadata": {},
   "outputs": [
    {
     "name": "stdout",
     "output_type": "stream",
     "text": [
      "count    14477.000000\n",
      "mean        61.730667\n",
      "std         35.458160\n",
      "min         12.000000\n",
      "25%         41.000000\n",
      "50%         53.400002\n",
      "75%         71.300003\n",
      "max        507.000000\n",
      "Name: total_area, dtype: float64\n",
      "\n",
      "AxesSubplot(0.125,0.125;0.775x0.755)\n"
     ]
    },
    {
     "data": {
      "image/png": "[encoded data removed]",
      "text/plain": [
       "<Figure size 576x432 with 1 Axes>"
      ]
     },
     "metadata": {
      "needs_background": "light"
     },
     "output_type": "display_data"
    }
   ],
   "source": [
    "info_and_hist('total_area', 20)"
   ]
  },
  {
   "cell_type": "markdown",
   "metadata": {},
   "source": [
    "From the descriptive statistics and the histogram, the following conclusions can be drawn:\n",
    "\n",
    "- Most of the objects have a total area of up to 100 square meters;\n",
    "\n",
    "- There is a noticeable peak on the graph, corresponding to the total area of objects of 45-55 square meters;\n",
    "\n",
    "- In addition to plausible and frequent values, there are objects with a very large area - more than 250 square meters, but there are very few such observations."
   ]
  },
  {
   "cell_type": "code",
   "execution_count": 50,
   "metadata": {},
   "outputs": [
    {
     "name": "stdout",
     "output_type": "stream",
     "text": [
      "count    14477.000000\n",
      "mean        35.735737\n",
      "std         22.639196\n",
      "min          2.000000\n",
      "25%         19.700001\n",
      "50%         30.799999\n",
      "75%         43.150002\n",
      "max        347.500000\n",
      "Name: living_area, dtype: float64\n",
      "\n",
      "AxesSubplot(0.125,0.125;0.775x0.755)\n"
     ]
    },
    {
     "data": {
      "image/png": "[encoded data removed]",
      "text/plain": [
       "<Figure size 576x432 with 1 Axes>"
      ]
     },
     "metadata": {
      "needs_background": "light"
     },
     "output_type": "display_data"
    }
   ],
   "source": [
    "info_and_hist('living_area', 20)"
   ]
  },
  {
   "cell_type": "markdown",
   "metadata": {},
   "source": [
    "- Most of the objects have a living area up to 50 square meters;\n",
    "\n",
    "- The graph shows a peak in the area of the value of the living area of 25 square meters;\n",
    "\n",
    "- There are objects with very large living area - more than 150 square meters (most likely these are the same objects with a large total area)."
   ]
  },
  {
   "cell_type": "code",
   "execution_count": 51,
   "metadata": {},
   "outputs": [
    {
     "name": "stdout",
     "output_type": "stream",
     "text": [
      "count    14477.000000\n",
      "mean        10.548039\n",
      "std          6.140984\n",
      "min          1.300000\n",
      "25%          7.000000\n",
      "50%          9.000000\n",
      "75%         12.000000\n",
      "max         93.199997\n",
      "Name: kitchen_area, dtype: float64\n",
      "\n",
      "AxesSubplot(0.125,0.125;0.775x0.755)\n"
     ]
    },
    {
     "data": {
      "image/png": "[encoded data removed]",
      "text/plain": [
       "<Figure size 576x432 with 1 Axes>"
      ]
     },
     "metadata": {
      "needs_background": "light"
     },
     "output_type": "display_data"
    }
   ],
   "source": [
    "info_and_hist('kitchen_area', 40)"
   ]
  },
  {
   "cell_type": "markdown",
   "metadata": {},
   "source": [
    "- Most of the objects have a kitchen area of 5-15 square meters;\n",
    "\n",
    "- There are objects with very small kitchens (for example, the smallest kitchen - 1.3 square meters) and very large ones (more than 35-40 square meters);\n",
    "\n",
    "- The most typical kitchen area is 9 square meters."
   ]
  },
  {
   "cell_type": "code",
   "execution_count": 52,
   "metadata": {},
   "outputs": [
    {
     "name": "stdout",
     "output_type": "stream",
     "text": [
      "count    1.447700e+04\n",
      "mean     6.769509e+06\n",
      "std      9.153063e+06\n",
      "min      1.219000e+04\n",
      "25%      3.570000e+06\n",
      "50%      4.850000e+06\n",
      "75%      7.000000e+06\n",
      "max      3.300000e+08\n",
      "Name: last_price, dtype: float64\n",
      "\n",
      "AxesSubplot(0.125,0.125;0.775x0.755)\n"
     ]
    },
    {
     "data": {
      "image/png": "[encoded data removed]",
      "text/plain": [
       "<Figure size 576x432 with 1 Axes>"
      ]
     },
     "metadata": {
      "needs_background": "light"
     },
     "output_type": "display_data"
    }
   ],
   "source": [
    "info_and_hist('last_price', 30)"
   ]
  },
  {
   "cell_type": "code",
   "execution_count": 53,
   "metadata": {},
   "outputs": [
    {
     "data": {
      "image/png": "[encoded data removed]",
      "text/plain": [
       "<Figure size 576x432 with 1 Axes>"
      ]
     },
     "metadata": {
      "needs_background": "light"
     },
     "output_type": "display_data"
    }
   ],
   "source": [
    "# Histogram for object price without outliers\n",
    "data.query('last_price < 50000000')['last_price'].hist(bins=50, figsize=(8, 6));"
   ]
  },
  {
   "cell_type": "markdown",
   "metadata": {},
   "source": [
    "Apartment prices look plausible - half of all apartments cost 3.6 - 7 million. The picture is somewhat distorted by the super-high prices that are in the fourth quartile of the distribution (apartments worth more than 50 million).\n",
    "\n",
    "\n",
    "Probably objects with a large area and have a super-high price. If so, the data can be considered plausible. After all, the real estate market also has a lot of \"average\" options, but there are very \"bad\" ones (with a small area, far from the city center, cheap) and very \"good\" ones (and therefore very expensive).\n",
    "\n",
    "As for very small objects, it is possible that a room, a share of an apartment, an apartment converted from office space was put up for sale."
   ]
  },
  {
   "cell_type": "code",
   "execution_count": 54,
   "metadata": {},
   "outputs": [
    {
     "name": "stdout",
     "output_type": "stream",
     "text": [
      "count    14477.000000\n",
      "mean         2.135594\n",
      "std          1.089553\n",
      "min          0.000000\n",
      "25%          1.000000\n",
      "50%          2.000000\n",
      "75%          3.000000\n",
      "max         16.000000\n",
      "Name: rooms, dtype: float64\n",
      "\n",
      "AxesSubplot(0.125,0.125;0.775x0.755)\n"
     ]
    },
    {
     "data": {
      "image/png": "[encoded data removed]",
      "text/plain": [
       "<Figure size 576x432 with 1 Axes>"
      ]
     },
     "metadata": {
      "needs_background": "light"
     },
     "output_type": "display_data"
    }
   ],
   "source": [
    "info_and_hist('rooms', 16)"
   ]
  },
  {
   "cell_type": "markdown",
   "metadata": {},
   "source": [
    "- Most objects have 1-3 rooms;\n",
    "- There are \"strange\" objects with 0 rooms (maybe that's how they designated a studio apartment);\n",
    "- Objects with 10 or more rooms can be considered rare."
   ]
  },
  {
   "cell_type": "code",
   "execution_count": 55,
   "metadata": {},
   "outputs": [
    {
     "name": "stdout",
     "output_type": "stream",
     "text": [
      "count    14477.000000\n",
      "mean         2.726814\n",
      "std          0.276442\n",
      "min          2.200000\n",
      "25%          2.520000\n",
      "50%          2.650000\n",
      "75%          2.800000\n",
      "max          5.800000\n",
      "Name: ceiling_height, dtype: float64\n",
      "\n",
      "AxesSubplot(0.125,0.125;0.775x0.755)\n"
     ]
    },
    {
     "data": {
      "image/png": "[encoded data removed]",
      "text/plain": [
       "<Figure size 576x432 with 1 Axes>"
      ]
     },
     "metadata": {
      "needs_background": "light"
     },
     "output_type": "display_data"
    }
   ],
   "source": [
    "info_and_hist('ceiling_height', 20)"
   ]
  },
  {
   "cell_type": "markdown",
   "metadata": {},
   "source": [
    "- The graph shows a peak near the ceiling height of 2.5 meters;\n",
    "- Most of the objects have a ceiling height of 2.2-2.8 meters;\n",
    "- There are unusual objects with very high ceilings - more than 4 meters\n",
    "\n",
    "In St. Petersburg, it is possible to imagine an apartment with five-meter ceilings (in the old fund)."
   ]
  },
  {
   "cell_type": "code",
   "execution_count": 56,
   "metadata": {},
   "outputs": [
    {
     "name": "stdout",
     "output_type": "stream",
     "text": [
      "count    14468.000000\n",
      "mean        10.171827\n",
      "std          6.198580\n",
      "min          1.000000\n",
      "25%          5.000000\n",
      "50%          9.000000\n",
      "75%         14.000000\n",
      "max         60.000000\n",
      "Name: floors_total, dtype: float64\n",
      "\n",
      "AxesSubplot(0.125,0.125;0.775x0.755)\n"
     ]
    },
    {
     "data": {
      "image/png": "[encoded data removed]",
      "text/plain": [
       "<Figure size 576x432 with 1 Axes>"
      ]
     },
     "metadata": {
      "needs_background": "light"
     },
     "output_type": "display_data"
    }
   ],
   "source": [
    "info_and_hist('floors_total', 30)"
   ]
  },
  {
   "cell_type": "markdown",
   "metadata": {},
   "source": [
    "- Two clear peaks - in the dataset, many apartments are for sale in 5- and 9-storey buildings;\n",
    "- Most of the apartments are grouped around the values of 1-27 floors;\n",
    "- Three quarters of objects are located in buildings up to 14 floors;\n",
    "- There are also objects in high-rise buildings up to 60 floors, but there are very few such objects."
   ]
  },
  {
   "cell_type": "code",
   "execution_count": 57,
   "metadata": {},
   "outputs": [
    {
     "name": "stdout",
     "output_type": "stream",
     "text": [
      "count    14477.000000\n",
      "mean         5.623057\n",
      "std          4.616593\n",
      "min          1.000000\n",
      "25%          2.000000\n",
      "50%          4.000000\n",
      "75%          7.000000\n",
      "max         30.000000\n",
      "Name: floor, dtype: float64\n",
      "\n",
      "AxesSubplot(0.125,0.125;0.775x0.755)\n"
     ]
    },
    {
     "data": {
      "image/png": "[encoded data removed]",
      "text/plain": [
       "<Figure size 576x432 with 1 Axes>"
      ]
     },
     "metadata": {
      "needs_background": "light"
     },
     "output_type": "display_data"
    }
   ],
   "source": [
    "info_and_hist('floor', 30)"
   ]
  },
  {
   "cell_type": "markdown",
   "metadata": {},
   "source": [
    "- Most of the apartments are located on the 1st-5th floor (you can understand, since there is a lot of old low-rise building stock in St. Petersburg);\n",
    "- Three quarters of the objects are located up to the 7th floor;\n",
    "- We can say that apartments on the 17th and higher floors are a rarity."
   ]
  },
  {
   "cell_type": "code",
   "execution_count": 58,
   "metadata": {},
   "outputs": [
    {
     "data": {
      "image/png": "[encoded data removed]",
      "text/plain": [
       "<Figure size 576x432 with 1 Axes>"
      ]
     },
     "metadata": {
      "needs_background": "light"
     },
     "output_type": "display_data"
    }
   ],
   "source": [
    "# Histogram for floor types\n",
    "data['floor_type'].hist(figsize=(8, 6));"
   ]
  },
  {
   "cell_type": "markdown",
   "metadata": {},
   "source": [
    "- Most of objects are not on top or ground floors;\n",
    "- Approximately 30% of apartments are sold on the first and last floors."
   ]
  },
  {
   "cell_type": "code",
   "execution_count": 59,
   "metadata": {},
   "outputs": [
    {
     "name": "stdout",
     "output_type": "stream",
     "text": [
      "count    11543.000000\n",
      "mean     14068.179849\n",
      "std       8760.530119\n",
      "min        181.000000\n",
      "25%       9051.000000\n",
      "50%      12964.000000\n",
      "75%      16034.000000\n",
      "max      65968.000000\n",
      "Name: cityCenters_nearest, dtype: float64\n",
      "\n",
      "AxesSubplot(0.125,0.125;0.775x0.755)\n"
     ]
    },
    {
     "data": {
      "image/png": "[encoded data removed]",
      "text/plain": [
       "<Figure size 576x432 with 1 Axes>"
      ]
     },
     "metadata": {
      "needs_background": "light"
     },
     "output_type": "display_data"
    }
   ],
   "source": [
    "info_and_hist('cityCenters_nearest', 20)"
   ]
  },
  {
   "cell_type": "markdown",
   "metadata": {},
   "source": [
    "- A peak is visible in the area of 10 km from the city center;\n",
    "- Most of the objects are grouped at a distance of up to 20 km from the center;\n",
    "- There are facilities located in the very center of the city;\n",
    "- About a quarter of the apartments are located 16-66 km from the city center."
   ]
  },
  {
   "cell_type": "code",
   "execution_count": 60,
   "metadata": {},
   "outputs": [
    {
     "name": "stdout",
     "output_type": "stream",
     "text": [
      "count    11523.000000\n",
      "mean     28821.778703\n",
      "std      12631.158095\n",
      "min          0.000000\n",
      "25%      18551.000000\n",
      "50%      26750.000000\n",
      "75%      37091.000000\n",
      "max      84869.000000\n",
      "Name: airports_nearest, dtype: float64\n",
      "\n",
      "AxesSubplot(0.125,0.125;0.775x0.755)\n"
     ]
    },
    {
     "data": {
      "image/png": "[encoded data removed]",
      "text/plain": [
       "<Figure size 576x432 with 1 Axes>"
      ]
     },
     "metadata": {
      "needs_background": "light"
     },
     "output_type": "display_data"
    }
   ],
   "source": [
    "info_and_hist('airports_nearest', 20)"
   ]
  },
  {
   "cell_type": "markdown",
   "metadata": {},
   "source": [
    "- Half of the objects are located at a distance of 18.5 - 37 km from the airport;\n",
    "- The fact that there are objects located right at the airport looks strange;\n",
    "- The distance to the airport is measured by much larger figures than to the city center and other indicators (most likely because many apartments are sold near the city, and there is only one airport in St. Petersburg and is located outside the city)."
   ]
  },
  {
   "cell_type": "code",
   "execution_count": 61,
   "metadata": {},
   "outputs": [
    {
     "name": "stdout",
     "output_type": "stream",
     "text": [
      "count    5285.000000\n",
      "mean      476.628761\n",
      "std       320.056250\n",
      "min         3.000000\n",
      "25%       285.000000\n",
      "50%       448.000000\n",
      "75%       602.000000\n",
      "max      3190.000000\n",
      "Name: parks_nearest, dtype: float64\n",
      "\n",
      "AxesSubplot(0.125,0.125;0.775x0.755)\n"
     ]
    },
    {
     "data": {
      "image/png": "[encoded data removed]",
      "text/plain": [
       "<Figure size 576x432 with 1 Axes>"
      ]
     },
     "metadata": {
      "needs_background": "light"
     },
     "output_type": "display_data"
    }
   ],
   "source": [
    "info_and_hist('parks_nearest', 20)"
   ]
  },
  {
   "cell_type": "markdown",
   "metadata": {},
   "source": [
    "- Three-quarters of properties are located within 600 meters of the nearest park;\n",
    "- There are objects located far from the parks - more than 1.5 km;\n",
    "\n",
    "Most likely, these data are plausible, for sure most of the apartments will be located within a radius of 3 km from the nearest park."
   ]
  },
  {
   "cell_type": "code",
   "execution_count": 62,
   "metadata": {},
   "outputs": [
    {
     "data": {
      "image/png": "[encoded data removed]",
      "text/plain": [
       "<Figure size 576x432 with 1 Axes>"
      ]
     },
     "metadata": {
      "needs_background": "light"
     },
     "output_type": "display_data"
    }
   ],
   "source": [
    "# Histogram for days of the week\n",
    "data['week_day'].hist(bins=7, figsize=(8, 6));"
   ]
  },
  {
   "cell_type": "markdown",
   "metadata": {},
   "source": [
    "Less often, ads are published on weekends. Most often - on Tuesdays and Thursdays."
   ]
  },
  {
   "cell_type": "code",
   "execution_count": 63,
   "metadata": {},
   "outputs": [
    {
     "data": {
      "image/png": "[encoded data removed]",
      "text/plain": [
       "<Figure size 576x432 with 1 Axes>"
      ]
     },
     "metadata": {
      "needs_background": "light"
     },
     "output_type": "display_data"
    }
   ],
   "source": [
    "# Histogram for the month\n",
    "data['month'].hist(bins=12, figsize=(8, 6));"
   ]
  },
  {
   "cell_type": "markdown",
   "metadata": {},
   "source": [
    "- The most active months of publications are March and February (after the New Year holidays);\n",
    "\n",
    "- The months in which the least number of ads are published are May (probably due to the May holidays, when everyone is at the barbecue), January (due to the New Year holidays), and the summer months (we can assume that because of the holidays);\n",
    "\n",
    "- In June, the number of posted ads falls, and then every month until December, the number of ads gradually increases until December and January, in which there is again a drawdown."
   ]
  },
  {
   "cell_type": "markdown",
   "metadata": {},
   "source": [
    "<a id=\"speed\"></a> \n",
    "\n",
    "### Selling speed"
   ]
  },
  {
   "cell_type": "code",
   "execution_count": 64,
   "metadata": {},
   "outputs": [
    {
     "data": {
      "image/png": "[encoded data removed]",
      "text/plain": [
       "<Figure size 576x432 with 1 Axes>"
      ]
     },
     "metadata": {
      "needs_background": "light"
     },
     "output_type": "display_data"
    }
   ],
   "source": [
    "# Selling speed histogram\n",
    "data['days_exposition'].hist(bins=30, figsize=(8, 6));"
   ]
  },
  {
   "cell_type": "code",
   "execution_count": 65,
   "metadata": {},
   "outputs": [
    {
     "name": "stdout",
     "output_type": "stream",
     "text": [
      "Median property sale rate: 103.0 days.\n"
     ]
    }
   ],
   "source": [
    "# Median property sale rate\n",
    "print('Median property sale rate:', data['days_exposition'].median(), 'days.')"
   ]
  },
  {
   "cell_type": "code",
   "execution_count": 66,
   "metadata": {},
   "outputs": [
    {
     "name": "stdout",
     "output_type": "stream",
     "text": [
      "Mean property sale rate: 191 days.\n"
     ]
    }
   ],
   "source": [
    "# Mean property sale rate\n",
    "print('Mean property sale rate:', round(data['days_exposition'].mean()), 'days.')"
   ]
  },
  {
   "cell_type": "code",
   "execution_count": 67,
   "metadata": {},
   "outputs": [
    {
     "data": {
      "text/plain": [
       "486"
      ]
     },
     "execution_count": 67,
     "metadata": {},
     "output_type": "execute_result"
    }
   ],
   "source": [
    "# 90th percentile\n",
    "round(data['days_exposition'].quantile(0.90))"
   ]
  },
  {
   "cell_type": "markdown",
   "metadata": {},
   "source": [
    "- Half of all apartments are sold in a little more than three months;\n",
    "\n",
    "- The average number of days before the sale of an object is almost twice as long (that is, the sale lasted more slowly) than the median - large values \"pull\" the readings too much;\n",
    "\n",
    "- A quick sale can be called one that happened in less than three months;\n",
    "\n",
    "- An unusually long sale is a sale lasting more than 486 days (16 months), since 90% of all apartments have already been sold during this time."
   ]
  },
  {
   "cell_type": "markdown",
   "metadata": {},
   "source": [
    "<a id=\"cost_factors\"></a> \n",
    "\n",
    "### Object cost factors"
   ]
  },
  {
   "cell_type": "code",
   "execution_count": 68,
   "metadata": {},
   "outputs": [
    {
     "data": {
      "image/png": "[encoded data removed]",
      "text/plain": [
       "<Figure size 576x576 with 1 Axes>"
      ]
     },
     "metadata": {
      "needs_background": "light"
     },
     "output_type": "display_data"
    }
   ],
   "source": [
    "# Scatterplot for price and total area\n",
    "data.plot(x='total_area', \n",
    "          y='last_price', \n",
    "          kind='scatter', \n",
    "          grid=True, \n",
    "          figsize=(8, 8));"
   ]
  },
  {
   "cell_type": "markdown",
   "metadata": {},
   "source": [
    "Let's look at the correlation coefficient of the price of an object and its total area."
   ]
  },
  {
   "cell_type": "code",
   "execution_count": 69,
   "metadata": {},
   "outputs": [
    {
     "data": {
      "text/plain": [
       "0.695"
      ]
     },
     "execution_count": 69,
     "metadata": {},
     "output_type": "execute_result"
    }
   ],
   "source": [
    "round(data['last_price'].corr(data['total_area']), 3)"
   ]
  },
  {
   "cell_type": "markdown",
   "metadata": {},
   "source": [
    "- At small (up to 150 sq. m.) values of the total area, a linear trend is observed: with an increase in the area, the cost of the object increases;\n",
    "\n",
    "- For large values of the area of the object, a fuzzy positive trend is observed;\n",
    "\n",
    "- The spread of costs for large values of the area is very large. It can be assumed that apartments and houses with a total area of more than 200 square meters are a kind of \"premium segment\" of real estate, where not only the area will affect the final cost. In addition, there are not so many objects with a large area in the sample - an additional factor affecting the data noise;\n",
    "\n",
    "- Correlation parameters show a noticeable positive relationship."
   ]
  },
  {
   "cell_type": "code",
   "execution_count": 70,
   "metadata": {},
   "outputs": [
    {
     "data": {
      "image/png": "[encoded data removed]",
      "text/plain": [
       "<Figure size 576x576 with 1 Axes>"
      ]
     },
     "metadata": {
      "needs_background": "light"
     },
     "output_type": "display_data"
    }
   ],
   "source": [
    "# Scatterplot for Price and Living Area\n",
    "data.plot(x='living_area', \n",
    "          y='last_price', \n",
    "          kind='scatter', \n",
    "          grid=True, \n",
    "          figsize=(8, 8));"
   ]
  },
  {
   "cell_type": "code",
   "execution_count": 71,
   "metadata": {},
   "outputs": [
    {
     "data": {
      "text/plain": [
       "0.622"
      ]
     },
     "execution_count": 71,
     "metadata": {},
     "output_type": "execute_result"
    }
   ],
   "source": [
    "# Parameter correlation\n",
    "round(data['last_price'].corr(data['living_area']), 3)"
   ]
  },
  {
   "cell_type": "code",
   "execution_count": 72,
   "metadata": {},
   "outputs": [
    {
     "data": {
      "image/png": "[encoded data removed]",
      "text/plain": [
       "<Figure size 576x576 with 1 Axes>"
      ]
     },
     "metadata": {
      "needs_background": "light"
     },
     "output_type": "display_data"
    }
   ],
   "source": [
    "# Scatterplot for price and kitchen area\n",
    "data.plot(x='kitchen_area', \n",
    "          y='last_price', \n",
    "          kind='scatter', \n",
    "          grid=True, \n",
    "          figsize=(8, 8));"
   ]
  },
  {
   "cell_type": "code",
   "execution_count": 73,
   "metadata": {},
   "outputs": [
    {
     "data": {
      "text/plain": [
       "0.554"
      ]
     },
     "execution_count": 73,
     "metadata": {},
     "output_type": "execute_result"
    }
   ],
   "source": [
    "# Parameter correlation\n",
    "round(data['last_price'].corr(data['kitchen_area']), 3)"
   ]
  },
  {
   "cell_type": "markdown",
   "metadata": {},
   "source": [
    "- For graphs of the dependence of the price of the object and the living area and the area of the kitchen, the trend is similar to the dependence of the price on the total area: in small areas (up to 100 sq. m of living space and up to 30 sq. m of the kitchen), there is a linear trend towards an increase in the cost of the object with increasing area ;\n",
    "\n",
    "- However, on large areas, the trend is blurred (the spread in values increases) - not only the area factor affects the final cost of the object;\n",
    "\n",
    "- Correlation between living space and cost shows a moderate degree of relationship;\n",
    "\n",
    "- The correlation of kitchen area and cost also shows a moderate, but lesser degree of relationship."
   ]
  },
  {
   "cell_type": "code",
   "execution_count": 74,
   "metadata": {},
   "outputs": [],
   "source": [
    "# Function for displaying line chart for selected columns\n",
    "def line_chart(x, y):\n",
    "    \n",
    "    # Line chart on the pivot table\n",
    "    print(\n",
    "        data\n",
    "        .pivot_table(index=x, values=y)\n",
    "        .reset_index()\n",
    "        .plot(x=x, \n",
    "              y=y, \n",
    "              kind='line', \n",
    "              grid=True, \n",
    "              figsize=(8, 8))\n",
    "    )"
   ]
  },
  {
   "cell_type": "code",
   "execution_count": 75,
   "metadata": {},
   "outputs": [
    {
     "name": "stdout",
     "output_type": "stream",
     "text": [
      "AxesSubplot(0.125,0.125;0.775x0.755)\n"
     ]
    },
    {
     "data": {
      "image/png": "[encoded data removed]",
      "text/plain": [
       "<Figure size 576x576 with 1 Axes>"
      ]
     },
     "metadata": {
      "needs_background": "light"
     },
     "output_type": "display_data"
    }
   ],
   "source": [
    "# Line chart on the pivot table for price and number of rooms\n",
    "line_chart('rooms', 'last_price')"
   ]
  },
  {
   "cell_type": "markdown",
   "metadata": {},
   "source": [
    "- For objects up to 8 rooms, there is a steady trend towards an increase in cost with an increase in the number of rooms;\n",
    "\n",
    "- For objects with 9 or more rooms, the trend is lost - there are not so many objects with a large number of rooms in the sample, which affects the data noise. In addition, it is likely that more rooms are associated with country houses (far from the city center, etc.), which is associated with lower cost."
   ]
  },
  {
   "cell_type": "code",
   "execution_count": 76,
   "metadata": {},
   "outputs": [
    {
     "data": {
      "image/png": "[encoded data removed]",
      "text/plain": [
       "<Figure size 576x576 with 1 Axes>"
      ]
     },
     "metadata": {
      "needs_background": "light"
     },
     "output_type": "display_data"
    }
   ],
   "source": [
    "# Pivot table bar chart for price and floor type\n",
    "(\n",
    "    data\n",
    "    .pivot_table(index='floor_type', values='last_price')\n",
    "    .reset_index()\n",
    "    .plot(x='floor_type', \n",
    "          y='last_price', \n",
    "          kind='bar', \n",
    "          grid=True, \n",
    "          figsize=(8, 8),\n",
    "          rot=0)\n",
    ");"
   ]
  },
  {
   "cell_type": "markdown",
   "metadata": {},
   "source": [
    "- Objects on the ground floor are on average cheaper than others. It is logical that the first floors are often noisier, there may be problems with sewerage, etc. However, the factor of the number of observations also interferes here: the apartments on the ground floor are the least represented in the dataset, which could distort the result.\n",
    "\n",
    "- Objects on the last and other floors cost about the same."
   ]
  },
  {
   "cell_type": "code",
   "execution_count": 77,
   "metadata": {},
   "outputs": [
    {
     "name": "stdout",
     "output_type": "stream",
     "text": [
      "AxesSubplot(0.125,0.125;0.775x0.755)\n"
     ]
    },
    {
     "data": {
      "image/png": "[encoded data removed]",
      "text/plain": [
       "<Figure size 576x576 with 1 Axes>"
      ]
     },
     "metadata": {
      "needs_background": "light"
     },
     "output_type": "display_data"
    }
   ],
   "source": [
    "# Line chart on the pivot table for the price and day of the week the ad was published\n",
    "line_chart('week_day', 'last_price')"
   ]
  },
  {
   "cell_type": "markdown",
   "metadata": {},
   "source": [
    "- On weekends, properties with the lowest prices are published on average;\n",
    "- The most expensive objects are published in the middle of the week (Thursday);\n",
    "- on Monday-Wednesday and Friday objects are published at approximately the same prices;\n",
    "- The difference in price between days of the week for objects is 1 million euros on Wednesday."
   ]
  },
  {
   "cell_type": "code",
   "execution_count": 78,
   "metadata": {},
   "outputs": [
    {
     "name": "stdout",
     "output_type": "stream",
     "text": [
      "AxesSubplot(0.125,0.125;0.775x0.755)\n"
     ]
    },
    {
     "data": {
      "image/png": "[encoded data removed]",
      "text/plain": [
       "<Figure size 576x576 with 1 Axes>"
      ]
     },
     "metadata": {
      "needs_background": "light"
     },
     "output_type": "display_data"
    }
   ],
   "source": [
    "# Line chart on the pivot table for the price and month of ad publication\n",
    "line_chart('month', 'last_price')"
   ]
  },
  {
   "cell_type": "markdown",
   "metadata": {},
   "source": [
    "- There is no clear trend of dependence on months or seasons and the price of the object;\n",
    "- The most expensive objects were published in July and January;\n",
    "- The cheapest properties were published in February and June."
   ]
  },
  {
   "cell_type": "code",
   "execution_count": 79,
   "metadata": {},
   "outputs": [
    {
     "name": "stdout",
     "output_type": "stream",
     "text": [
      "AxesSubplot(0.125,0.125;0.775x0.755)\n"
     ]
    },
    {
     "data": {
      "image/png": "[encoded data removed]",
      "text/plain": [
       "<Figure size 576x576 with 1 Axes>"
      ]
     },
     "metadata": {
      "needs_background": "light"
     },
     "output_type": "display_data"
    }
   ],
   "source": [
    "# Line chart on the pivot table for the price and year of ad publication\n",
    "line_chart('year', 'last_price')"
   ]
  },
  {
   "cell_type": "markdown",
   "metadata": {},
   "source": [
    "- There is a trend towards a decrease in the average value of real estate from 2014 to 2018;\n",
    "- In 2015-2016, there was a dramatic decline in prices in the real estate market (a likely consequence of the crisis);\n",
    "- In 2019, the average property value rose to the level of 2017."
   ]
  },
  {
   "cell_type": "markdown",
   "metadata": {},
   "source": [
    "<a id=\"top10_locations\"></a>\n",
    "\n",
    "### 10 locations with the largest number of ads"
   ]
  },
  {
   "cell_type": "markdown",
   "metadata": {},
   "source": [
    "Let's find the TOP-10 localities with the largest number of ads and the most expensive and cheapest square meters."
   ]
  },
  {
   "cell_type": "code",
   "execution_count": 80,
   "metadata": {},
   "outputs": [
    {
     "data": {
      "text/html": [
       "<div>\n",
       "<style scoped>\n",
       "    .dataframe tbody tr th:only-of-type {\n",
       "        vertical-align: middle;\n",
       "    }\n",
       "\n",
       "    .dataframe tbody tr th {\n",
       "        vertical-align: top;\n",
       "    }\n",
       "\n",
       "    .dataframe thead th {\n",
       "        text-align: right;\n",
       "    }\n",
       "</style>\n",
       "<table border=\"1\" class=\"dataframe\">\n",
       "  <thead>\n",
       "    <tr style=\"text-align: right;\">\n",
       "      <th></th>\n",
       "      <th>count</th>\n",
       "      <th>mean</th>\n",
       "    </tr>\n",
       "    <tr>\n",
       "      <th>locality_name</th>\n",
       "      <th></th>\n",
       "      <th></th>\n",
       "    </tr>\n",
       "  </thead>\n",
       "  <tbody>\n",
       "    <tr>\n",
       "      <th>Санкт-Петербург</th>\n",
       "      <td>10089</td>\n",
       "      <td>115552.200990</td>\n",
       "    </tr>\n",
       "    <tr>\n",
       "      <th>Пушкин</th>\n",
       "      <td>234</td>\n",
       "      <td>103920.487935</td>\n",
       "    </tr>\n",
       "    <tr>\n",
       "      <th>Кудрово</th>\n",
       "      <td>194</td>\n",
       "      <td>96105.431621</td>\n",
       "    </tr>\n",
       "    <tr>\n",
       "      <th>Парголово</th>\n",
       "      <td>137</td>\n",
       "      <td>90901.351054</td>\n",
       "    </tr>\n",
       "    <tr>\n",
       "      <th>Мурино</th>\n",
       "      <td>228</td>\n",
       "      <td>87816.925267</td>\n",
       "    </tr>\n",
       "    <tr>\n",
       "      <th>Петергоф</th>\n",
       "      <td>145</td>\n",
       "      <td>85554.145008</td>\n",
       "    </tr>\n",
       "    <tr>\n",
       "      <th>Шушары</th>\n",
       "      <td>217</td>\n",
       "      <td>79538.627637</td>\n",
       "    </tr>\n",
       "    <tr>\n",
       "      <th>Колпино</th>\n",
       "      <td>203</td>\n",
       "      <td>75938.525449</td>\n",
       "    </tr>\n",
       "    <tr>\n",
       "      <th>Гатчина</th>\n",
       "      <td>149</td>\n",
       "      <td>69992.693669</td>\n",
       "    </tr>\n",
       "    <tr>\n",
       "      <th>Всеволожск</th>\n",
       "      <td>271</td>\n",
       "      <td>67434.630067</td>\n",
       "    </tr>\n",
       "  </tbody>\n",
       "</table>\n",
       "</div>"
      ],
      "text/plain": [
       "                 count           mean\n",
       "locality_name                        \n",
       "Санкт-Петербург  10089  115552.200990\n",
       "Пушкин             234  103920.487935\n",
       "Кудрово            194   96105.431621\n",
       "Парголово          137   90901.351054\n",
       "Мурино             228   87816.925267\n",
       "Петергоф           145   85554.145008\n",
       "Шушары             217   79538.627637\n",
       "Колпино            203   75938.525449\n",
       "Гатчина            149   69992.693669\n",
       "Всеволожск         271   67434.630067"
      ]
     },
     "execution_count": 80,
     "metadata": {},
     "output_type": "execute_result"
    }
   ],
   "source": [
    "# Number of ads and average price per square meter for each location\n",
    "locality_price_per_m = data.pivot_table(index='locality_name', \n",
    "                                     values='price_per_m', \n",
    "                                     aggfunc=['count', 'mean'])\n",
    "\n",
    "# Rename colunms\n",
    "locality_price_per_m.columns = ['count', 'mean']\n",
    "\n",
    "# Sort by number of ads and keep top 10 the largest number of ads\n",
    "top10_locality_price_per_m = locality_price_per_m.sort_values(by='count', ascending=False).head(10)\n",
    "\n",
    "# Sort by cost per square meter\n",
    "top10_locality_price_per_m.sort_values(by='mean', ascending=False)"
   ]
  },
  {
   "cell_type": "markdown",
   "metadata": {},
   "source": [
    "- Settlements with the **highest** cost per square meter: St. Petersburg, Pushkin, Kudrovo, Pargolovo;\n",
    "- Settlements with the **lowest** cost per square meter: Vsevolozhsk, Gatchina, Kolpino, Shushary;\n",
    "- The most expensive square meters and the largest number of ads are expected in St. Petersburg - 115,130;\n",
    "- The cheapest square meters among the settlements with the largest number of ads in Vsevolozhsk - 67,435;\n",
    "- Among the 10 locations with the most ads, the \"gap\" between the highest and lowest price per square meter is nearly 60% (or 47,000)."
   ]
  },
  {
   "cell_type": "markdown",
   "metadata": {},
   "source": [
    "<a id=\"citycenter_price\"></a>\n",
    "\n",
    "### Distance to city center and object price"
   ]
  },
  {
   "cell_type": "markdown",
   "metadata": {},
   "source": [
    "We select apartments in St. Petersburg and calculate the average price for each kilometer."
   ]
  },
  {
   "cell_type": "code",
   "execution_count": 81,
   "metadata": {},
   "outputs": [
    {
     "data": {
      "image/png": "[encoded data removed]",
      "text/plain": [
       "<Figure size 576x576 with 1 Axes>"
      ]
     },
     "metadata": {
      "needs_background": "light"
     },
     "output_type": "display_data"
    }
   ],
   "source": [
    "(\n",
    "    data.\n",
    "    # select only objects from St. Petersburg\n",
    "    query('locality_name == \"Санкт-Петербург\"')\n",
    "    # average price for each kilometer inside St. Petersburg\n",
    "    .pivot_table(index='cityCenters_nearest_km', \n",
    "                 values='last_price')\n",
    "    .reset_index()\n",
    "    # Line chart of price versus distance\n",
    "    .plot(x='cityCenters_nearest_km', \n",
    "          y='last_price', \n",
    "          kind='line', \n",
    "          grid=True, \n",
    "          figsize=(8, 8))\n",
    ");"
   ]
  },
  {
   "cell_type": "code",
   "execution_count": 82,
   "metadata": {},
   "outputs": [
    {
     "name": "stdout",
     "output_type": "stream",
     "text": [
      "Average price per 1 km in St. Petersburg: 8885414\n"
     ]
    }
   ],
   "source": [
    "print('Average price per 1 km in St. Petersburg:',\n",
    "    round(data.\n",
    "    query('locality_name == \"Санкт-Петербург\"')\n",
    "    .pivot_table(index='cityCenters_nearest_km', values='last_price')\n",
    "    .reset_index()['last_price']\n",
    "    .mean())\n",
    ")"
   ]
  },
  {
   "cell_type": "markdown",
   "metadata": {},
   "source": [
    "- The most expensive objects are located in the city center;\n",
    "\n",
    "- The cheapest objects are located far from the center (further 12 km);\n",
    "\n",
    "- A trend towards a decrease in the cost of an object with the removal of its location from the city center is generally visible;\n",
    "\n",
    "- Local peaks in the cost of objects are located at a distance of 6-7 km and 27 km from the center of St. Petersburg. Perhaps there are premium residential complexes or prosperous areas (Pushkin, with its high cost per square meter, is located just in the region of 25 km from St. Petersburg)."
   ]
  },
  {
   "cell_type": "markdown",
   "metadata": {},
   "source": [
    "<a id=\"conclusion\"></a>\n",
    "\n",
    "## General conclusion"
   ]
  },
  {
   "cell_type": "markdown",
   "metadata": {},
   "source": [
    "In this project, the relationship between a number of factors and the cost of an apartment was investigated.\n",
    "\n",
    "**Input data:** archive of advertisements for the sale of apartments in St. Petersburg and neighboring settlements for several years.\n",
    "\n",
    "**Application of the results:** development of a tool for automated verification of the value of real estate objects.\n",
    "\n",
    "**Research hypotheses:**\n",
    "\n",
    "- Hypothesis 1. The price of the object depends on the total area.\n",
    "- Hypothesis 2. The price of the object depends on the living area.\n",
    "- Hypothesis 3. The price of the object depends on the area of the kitchen.\n",
    "- Hypothesis 4. The price of an object depends on the number of rooms.\n",
    "- Hypothesis 5. The price of the object depends on the floor on which the apartment is located.\n",
    "- Hypothesis 6. The price of an object depends on the date of placement (day of the week, month, year).\n",
    "- Hypothesis 7. The price of an object depends on the distance from the city center.\n",
    "- Hypothesis 8. St. Petersburg has the most expensive real estate.\n",
    "\n",
    "\n",
    "**Hypothesis 1 was partially confirmed.**\n",
    "\n",
    "- At small (up to 150 sq. m.) values of the total area, a linear trend is observed: with an increase in the area, the cost of the object increases;\n",
    "\n",
    "- For large (more than 100 sq. m.) values of the area of the object, the trend is \"blurred\" - there are both very expensive objects with a relatively small area, and vice versa - huge objects with a low cost. Probably a third factor intervenes here (for example, the \"status\" of housing is rising). Also, there is not as much data on very large objects as on \"ordinary\" ones, so the result needs to be double-checked;\n",
    "\n",
    "- Total area and price are indeed related (cor=0.69).\n",
    "\n",
    "\n",
    "**Hypothesis 2 was partially confirmed.**\n",
    "\n",
    "- On small (up to 100 sq. m.) living areas, there is a linear trend towards an increase in the cost of an object with an increase in area;\n",
    "\n",
    "- On large (more than 100 sq. m.) living areas, the trend is blurred (the spread in values increases) - not only this factor affects the final cost of the object. Also, there are not enough observations for \"large\" objects - the result needs to be doublechecked;\n",
    "\n",
    "- Living area and the cost of the object are moderately interconnected (cor=0.62);\n",
    "\n",
    "\n",
    "**Hypothesis 3 was partially confirmed.**\n",
    "\n",
    "- On small (up to 20 sq. m.) kitchen areas of the, there is a linear trend towards an increase in the cost of the object with an increase in the area;\n",
    "\n",
    "- On large areas of kitchens (more than 25 sq. m), the trend is \"blurred\" (the spread in values increases). This means that not only this factor affects the final cost of the object. Also, there are not enough observations for \"large\" objects;\n",
    "\n",
    "- The area of the kitchen and the cost of the object are moderately interconnected (cor=0.55);\n",
    "\n",
    "\n",
    "**Hypothesis 4 was partially confirmed.**\n",
    "\n",
    "- For objects up to 8 rooms, there is a steady trend towards an increase in value with an increase in the number of rooms: on average, each room adds 1.5 million RUB;\n",
    "\n",
    "- For objects with 9 or more rooms, this trend is not observed: probably for such large objects the number of rooms is not a significant indicator (location may play a role - objects with a large number of rooms are most likely country houses). Also, there are not enough observations for \"large\" objects.\n",
    "\n",
    "\n",
    "**Hypothesis 5 was fully confirmed.**\n",
    "\n",
    "- Apartments on the ground floor are on average almost 2 million cheaper than apartments on any other floors (their average cost is 7 million RUB).\n",
    "\n",
    "\n",
    "**Hypothesis 6 was partially confirmed.**\n",
    "\n",
    "- The distribution in the price between the days of the week for objects is on avarage 1 million: on weekends the cheapest objects are published, and on Thursdays - the most expensive ones.\n",
    "\n",
    "- There is no clear trend in the dependence of the price of the object and the date of its publication by months or seasons;\n",
    "\n",
    "- In 2015-2016, there was a dramatic decline in prices in the real estate market (by an average of 2.5 million per year);\n",
    "\n",
    "- There is a general trend towards a decrease in the average value of real estate from 2014 to 2018 by half (from 12 to 6 million);\n",
    "\n",
    "- The average cost of objects began to increase in 2019.\n",
    "\n",
    "\n",
    "**Hypothesis 7 was partially confirmed.**\n",
    "\n",
    "- There is a trend towards a decrease in the cost of the object along with its removal from the center of St. Petersburg;\n",
    "- In the area of 6-7 km and 27 km from the center of St. Petersburg, the cost is slightly higher than the general trend (perhaps the most prestigious areas are located there or another third variable influences).\n",
    "\n",
    "\n",
    "**Hypothesis 8 was fully confirmed.**\n",
    "\n",
    "- St. Petersburg really has the most expensive real estate: the average cost per square meter: 115,130.\n",
    "\n",
    "\n",
    "**Other findings:**\n",
    "- Localities (for which there is a lot of data) with the highest cost per square meter:\n",
    "    - St. Petersburg (115 130),\n",
    "    - Pushkin (103 920),\n",
    "    - Kudrovo (96 105),\n",
    "    - Pargolovo (90 901);\n",
    "\n",
    "- Localities (for which there is a lot of data) with the lowest cost per square meter:\n",
    "    - Vsevolozhsk (67 434),\n",
    "    - Gatchina (69 993),\n",
    "    - Kolpino (75 939),\n",
    "    - Shushary (79 539);\n",
    "\n",
    "- The average price of one kilometer from the center of St. Petersburg is 8,885,414;\n",
    "\n",
    "- Half of all ads close after 103 days;\n",
    "\n",
    "\n",
    "**Recommendations:**\n",
    "\n",
    "- Leave as a factor influencing the final cost of the object, only one of the three area indicators: the total area of the object, since it most strongly correlates with the cost; this will eliminate multicollinearity (multiple relationships) between factors;\n",
    "\n",
    "- For objects with up to 8 rooms, you can enable the number of rooms parameter as a factor that determines the price. For objects with more rooms, this indicator will not be decisive;\n",
    "\n",
    "- Pay attention to objects that hang on the site for more than 486 days (16 months) - this time is unusually long, 90% of ads are closed during this time;\n",
    "\n",
    "- Leave as a factor influencing the final cost of the object, the floor parameter in the format \"groung - non-ground\";\n",
    "\n",
    "- Leave as a factor the day of the week the ad was published (on weekdays, prices are about 1 million higher);\n",
    "\n",
    "- Leave as a factor the year of publication of the announcement (the later the object was exhibited in the period from 2014 to 2018, the lower its cost);\n",
    "\n",
    "- Leave as a factor the locality in which the object is located;\n",
    "\n",
    "- Leave as a factor the remoteness of the object from the city center."
   ]
  }
 ],
 "metadata": {
  "ExecuteTimeLog": [
   {
    "duration": 49,
    "start_time": "2022-12-06T14:55:17.161Z"
   },
   {
    "duration": 417,
    "start_time": "2022-12-06T14:55:20.777Z"
   },
   {
    "duration": 28,
    "start_time": "2022-12-06T14:55:22.033Z"
   },
   {
    "duration": 155,
    "start_time": "2022-12-06T14:55:29.009Z"
   },
   {
    "duration": 138,
    "start_time": "2022-12-06T14:56:34.869Z"
   },
   {
    "duration": 84,
    "start_time": "2022-12-06T14:56:45.479Z"
   },
   {
    "duration": 73,
    "start_time": "2022-12-06T14:56:48.025Z"
   },
   {
    "duration": 84,
    "start_time": "2022-12-06T14:56:54.103Z"
   },
   {
    "duration": 116,
    "start_time": "2022-12-06T14:57:07.020Z"
   },
   {
    "duration": 87,
    "start_time": "2022-12-06T14:58:56.877Z"
   },
   {
    "duration": 38,
    "start_time": "2022-12-06T14:58:58.497Z"
   },
   {
    "duration": 33,
    "start_time": "2022-12-06T14:59:04.439Z"
   },
   {
    "duration": 2257,
    "start_time": "2022-12-06T15:00:08.899Z"
   },
   {
    "duration": 2224,
    "start_time": "2022-12-06T15:00:18.738Z"
   },
   {
    "duration": 16,
    "start_time": "2022-12-06T15:04:27.860Z"
   },
   {
    "duration": 18,
    "start_time": "2022-12-06T15:25:34.645Z"
   },
   {
    "duration": 2,
    "start_time": "2022-12-06T15:25:54.456Z"
   },
   {
    "duration": 2124,
    "start_time": "2022-12-06T15:25:59.581Z"
   },
   {
    "duration": 2065,
    "start_time": "2022-12-06T15:26:13.682Z"
   },
   {
    "duration": 463,
    "start_time": "2022-12-06T16:00:45.886Z"
   },
   {
    "duration": 591,
    "start_time": "2022-12-06T16:01:19.919Z"
   },
   {
    "duration": 486,
    "start_time": "2022-12-06T16:01:31.854Z"
   },
   {
    "duration": 478,
    "start_time": "2022-12-06T16:01:51.001Z"
   },
   {
    "duration": 435,
    "start_time": "2022-12-06T16:04:38.753Z"
   },
   {
    "duration": 446,
    "start_time": "2022-12-06T16:04:43.837Z"
   },
   {
    "duration": 313,
    "start_time": "2022-12-06T16:04:52.237Z"
   },
   {
    "duration": 8,
    "start_time": "2022-12-06T16:05:17.750Z"
   },
   {
    "duration": 417,
    "start_time": "2022-12-06T16:05:28.617Z"
   },
   {
    "duration": 275,
    "start_time": "2022-12-06T16:05:37.666Z"
   },
   {
    "duration": 289,
    "start_time": "2022-12-06T16:06:54.685Z"
   },
   {
    "duration": 230,
    "start_time": "2022-12-06T16:07:37.941Z"
   },
   {
    "duration": 654,
    "start_time": "2022-12-06T16:08:28.932Z"
   },
   {
    "duration": 216,
    "start_time": "2022-12-06T16:09:14.715Z"
   },
   {
    "duration": 231,
    "start_time": "2022-12-06T16:09:39.731Z"
   },
   {
    "duration": 120,
    "start_time": "2022-12-06T16:09:46.431Z"
   },
   {
    "duration": 142,
    "start_time": "2022-12-06T16:11:12.847Z"
   },
   {
    "duration": 244,
    "start_time": "2022-12-06T16:11:16.703Z"
   },
   {
    "duration": 12,
    "start_time": "2022-12-06T16:23:12.979Z"
   },
   {
    "duration": 20,
    "start_time": "2022-12-06T16:23:42.576Z"
   },
   {
    "duration": 9,
    "start_time": "2022-12-06T16:24:50.259Z"
   },
   {
    "duration": 9,
    "start_time": "2022-12-06T16:25:04.700Z"
   },
   {
    "duration": 6,
    "start_time": "2022-12-06T16:35:00.267Z"
   },
   {
    "duration": 6,
    "start_time": "2022-12-06T16:41:50.746Z"
   },
   {
    "duration": 5,
    "start_time": "2022-12-06T16:42:53.373Z"
   },
   {
    "duration": 8,
    "start_time": "2022-12-06T16:51:53.319Z"
   },
   {
    "duration": 9,
    "start_time": "2022-12-06T16:51:54.820Z"
   },
   {
    "duration": 8,
    "start_time": "2022-12-06T16:52:34.336Z"
   },
   {
    "duration": 12,
    "start_time": "2022-12-06T16:52:35.736Z"
   },
   {
    "duration": 7,
    "start_time": "2022-12-06T16:52:45.618Z"
   },
   {
    "duration": 87,
    "start_time": "2022-12-06T16:52:52.250Z"
   },
   {
    "duration": 38,
    "start_time": "2022-12-06T16:52:54.002Z"
   },
   {
    "duration": 16,
    "start_time": "2022-12-06T16:52:56.152Z"
   },
   {
    "duration": 2087,
    "start_time": "2022-12-06T16:52:58.235Z"
   },
   {
    "duration": 9,
    "start_time": "2022-12-06T16:53:04.793Z"
   },
   {
    "duration": 11,
    "start_time": "2022-12-06T16:53:06.870Z"
   },
   {
    "duration": 9,
    "start_time": "2022-12-06T16:53:08.614Z"
   },
   {
    "duration": 19,
    "start_time": "2022-12-06T16:53:39.672Z"
   },
   {
    "duration": 23,
    "start_time": "2022-12-06T16:54:58.736Z"
   },
   {
    "duration": 17,
    "start_time": "2022-12-06T16:55:36.095Z"
   },
   {
    "duration": 13,
    "start_time": "2022-12-06T16:56:13.515Z"
   },
   {
    "duration": 13,
    "start_time": "2022-12-06T16:57:44.577Z"
   },
   {
    "duration": 15,
    "start_time": "2022-12-06T16:57:46.670Z"
   },
   {
    "duration": 810,
    "start_time": "2022-12-07T10:51:10.171Z"
   },
   {
    "duration": 193,
    "start_time": "2022-12-07T10:51:11.957Z"
   },
   {
    "duration": 43,
    "start_time": "2022-12-07T10:51:13.691Z"
   },
   {
    "duration": 15,
    "start_time": "2022-12-07T10:51:16.588Z"
   },
   {
    "duration": 2201,
    "start_time": "2022-12-07T10:51:23.387Z"
   },
   {
    "duration": 11,
    "start_time": "2022-12-07T10:51:32.037Z"
   },
   {
    "duration": 41,
    "start_time": "2022-12-07T11:04:02.137Z"
   },
   {
    "duration": 47,
    "start_time": "2022-12-07T11:04:12.349Z"
   },
   {
    "duration": 70,
    "start_time": "2022-12-07T11:04:24.261Z"
   },
   {
    "duration": 67,
    "start_time": "2022-12-07T11:04:36.336Z"
   },
   {
    "duration": 23,
    "start_time": "2022-12-07T11:05:46.566Z"
   },
   {
    "duration": 37,
    "start_time": "2022-12-07T11:05:49.276Z"
   },
   {
    "duration": 11,
    "start_time": "2022-12-07T11:05:54.580Z"
   },
   {
    "duration": 10,
    "start_time": "2022-12-07T11:05:56.169Z"
   },
   {
    "duration": 17,
    "start_time": "2022-12-07T11:06:15.183Z"
   },
   {
    "duration": 15,
    "start_time": "2022-12-07T11:06:17.232Z"
   },
   {
    "duration": 15,
    "start_time": "2022-12-07T11:07:37.363Z"
   },
   {
    "duration": 14,
    "start_time": "2022-12-07T11:09:46.963Z"
   },
   {
    "duration": 82,
    "start_time": "2022-12-07T11:11:33.568Z"
   },
   {
    "duration": 6,
    "start_time": "2022-12-07T11:11:51.084Z"
   },
   {
    "duration": 10,
    "start_time": "2022-12-07T11:12:05.580Z"
   },
   {
    "duration": 5,
    "start_time": "2022-12-07T11:12:13.766Z"
   },
   {
    "duration": 4,
    "start_time": "2022-12-07T11:12:40.195Z"
   },
   {
    "duration": 13,
    "start_time": "2022-12-07T11:12:42.852Z"
   },
   {
    "duration": 14,
    "start_time": "2022-12-07T11:12:54.735Z"
   },
   {
    "duration": 4,
    "start_time": "2022-12-07T11:13:58.173Z"
   },
   {
    "duration": 13,
    "start_time": "2022-12-07T11:13:59.581Z"
   },
   {
    "duration": 33,
    "start_time": "2022-12-07T11:16:17.985Z"
   },
   {
    "duration": 8,
    "start_time": "2022-12-07T11:35:40.290Z"
   },
   {
    "duration": 11,
    "start_time": "2022-12-07T11:36:33.124Z"
   },
   {
    "duration": 116,
    "start_time": "2022-12-07T11:52:15.944Z"
   },
   {
    "duration": 89,
    "start_time": "2022-12-07T11:53:31.864Z"
   },
   {
    "duration": 290,
    "start_time": "2022-12-07T11:53:50.949Z"
   },
   {
    "duration": 289,
    "start_time": "2022-12-07T11:55:06.865Z"
   },
   {
    "duration": 6,
    "start_time": "2022-12-07T11:55:20.551Z"
   },
   {
    "duration": 8,
    "start_time": "2022-12-07T11:55:35.192Z"
   },
   {
    "duration": 846,
    "start_time": "2022-12-07T11:57:12.702Z"
   },
   {
    "duration": 155,
    "start_time": "2022-12-07T11:57:14.049Z"
   },
   {
    "duration": 50,
    "start_time": "2022-12-07T11:57:15.311Z"
   },
   {
    "duration": 25,
    "start_time": "2022-12-07T11:57:17.512Z"
   },
   {
    "duration": 2467,
    "start_time": "2022-12-07T11:57:19.677Z"
   },
   {
    "duration": 17,
    "start_time": "2022-12-07T11:57:25.560Z"
   },
   {
    "duration": 14,
    "start_time": "2022-12-07T11:57:27.971Z"
   },
   {
    "duration": 12,
    "start_time": "2022-12-07T11:57:29.914Z"
   },
   {
    "duration": 41,
    "start_time": "2022-12-07T11:57:33.169Z"
   },
   {
    "duration": 26,
    "start_time": "2022-12-07T11:57:35.414Z"
   },
   {
    "duration": 18,
    "start_time": "2022-12-07T11:57:37.923Z"
   },
   {
    "duration": 6,
    "start_time": "2022-12-07T12:01:22.889Z"
   },
   {
    "duration": 426,
    "start_time": "2022-12-07T12:01:26.004Z"
   },
   {
    "duration": 9,
    "start_time": "2022-12-07T12:01:33.867Z"
   },
   {
    "duration": 5,
    "start_time": "2022-12-07T12:03:23.084Z"
   },
   {
    "duration": 6,
    "start_time": "2022-12-07T12:03:32.405Z"
   },
   {
    "duration": 4,
    "start_time": "2022-12-07T12:05:32.553Z"
   },
   {
    "duration": 3,
    "start_time": "2022-12-07T12:05:33.716Z"
   },
   {
    "duration": 4,
    "start_time": "2022-12-07T12:05:58.196Z"
   },
   {
    "duration": 4,
    "start_time": "2022-12-07T12:06:07.544Z"
   },
   {
    "duration": 3,
    "start_time": "2022-12-07T12:06:18.756Z"
   },
   {
    "duration": 6,
    "start_time": "2022-12-07T12:06:21.978Z"
   },
   {
    "duration": 77,
    "start_time": "2022-12-07T12:06:23.032Z"
   },
   {
    "duration": 4,
    "start_time": "2022-12-07T12:08:11.972Z"
   },
   {
    "duration": 13,
    "start_time": "2022-12-07T12:08:13.538Z"
   },
   {
    "duration": 6,
    "start_time": "2022-12-07T12:08:18.201Z"
   },
   {
    "duration": 11,
    "start_time": "2022-12-07T12:08:19.388Z"
   },
   {
    "duration": 6,
    "start_time": "2022-12-07T12:08:58.489Z"
   },
   {
    "duration": 5,
    "start_time": "2022-12-07T12:08:59.797Z"
   },
   {
    "duration": 6,
    "start_time": "2022-12-07T12:09:18.342Z"
   },
   {
    "duration": 7,
    "start_time": "2022-12-07T12:09:19.735Z"
   },
   {
    "duration": 4,
    "start_time": "2022-12-07T12:15:21.003Z"
   },
   {
    "duration": 16,
    "start_time": "2022-12-07T12:15:23.061Z"
   },
   {
    "duration": 5,
    "start_time": "2022-12-07T12:16:18.646Z"
   },
   {
    "duration": 5,
    "start_time": "2022-12-07T12:16:19.763Z"
   },
   {
    "duration": 6,
    "start_time": "2022-12-07T12:17:24.009Z"
   },
   {
    "duration": 4,
    "start_time": "2022-12-07T12:17:27.640Z"
   },
   {
    "duration": 6,
    "start_time": "2022-12-07T12:17:29.369Z"
   },
   {
    "duration": 4,
    "start_time": "2022-12-07T12:17:30.847Z"
   },
   {
    "duration": 5,
    "start_time": "2022-12-07T12:18:04.594Z"
   },
   {
    "duration": 5,
    "start_time": "2022-12-07T12:18:05.936Z"
   },
   {
    "duration": 5,
    "start_time": "2022-12-07T12:22:49.835Z"
   },
   {
    "duration": 3,
    "start_time": "2022-12-07T12:22:51.369Z"
   },
   {
    "duration": 5,
    "start_time": "2022-12-07T12:22:57.785Z"
   },
   {
    "duration": 15,
    "start_time": "2022-12-07T12:22:59.374Z"
   },
   {
    "duration": 4,
    "start_time": "2022-12-07T12:23:14.680Z"
   },
   {
    "duration": 5,
    "start_time": "2022-12-07T12:23:16.104Z"
   },
   {
    "duration": 4,
    "start_time": "2022-12-07T12:23:30.471Z"
   },
   {
    "duration": 5,
    "start_time": "2022-12-07T12:23:31.926Z"
   },
   {
    "duration": 4,
    "start_time": "2022-12-07T12:23:38.180Z"
   },
   {
    "duration": 5,
    "start_time": "2022-12-07T12:23:39.569Z"
   },
   {
    "duration": 530,
    "start_time": "2022-12-07T12:23:52.198Z"
   },
   {
    "duration": 7,
    "start_time": "2022-12-07T12:23:54.598Z"
   },
   {
    "duration": 644,
    "start_time": "2022-12-07T12:23:56.549Z"
   },
   {
    "duration": 6,
    "start_time": "2022-12-07T12:23:58.280Z"
   },
   {
    "duration": 42,
    "start_time": "2022-12-07T12:24:15.544Z"
   },
   {
    "duration": 5,
    "start_time": "2022-12-07T12:25:31.349Z"
   },
   {
    "duration": 5,
    "start_time": "2022-12-07T12:25:54.492Z"
   },
   {
    "duration": 611,
    "start_time": "2022-12-07T12:25:59.653Z"
   },
   {
    "duration": 29,
    "start_time": "2022-12-07T12:26:01.680Z"
   },
   {
    "duration": 10,
    "start_time": "2022-12-07T12:26:07.395Z"
   },
   {
    "duration": 28,
    "start_time": "2022-12-07T12:26:09.374Z"
   },
   {
    "duration": 4,
    "start_time": "2022-12-07T12:30:26.714Z"
   },
   {
    "duration": 7,
    "start_time": "2022-12-07T12:30:28.159Z"
   },
   {
    "duration": 632,
    "start_time": "2022-12-07T12:30:29.893Z"
   },
   {
    "duration": 57,
    "start_time": "2022-12-07T12:30:32.003Z"
   },
   {
    "duration": 322,
    "start_time": "2022-12-07T12:32:35.138Z"
   },
   {
    "duration": 36,
    "start_time": "2022-12-07T12:32:54.938Z"
   },
   {
    "duration": 39,
    "start_time": "2022-12-07T12:32:57.231Z"
   },
   {
    "duration": 15,
    "start_time": "2022-12-07T12:33:13.826Z"
   },
   {
    "duration": 4,
    "start_time": "2022-12-07T12:33:27.384Z"
   },
   {
    "duration": 6,
    "start_time": "2022-12-07T12:33:30.076Z"
   },
   {
    "duration": 37,
    "start_time": "2022-12-07T12:33:32.704Z"
   },
   {
    "duration": 13,
    "start_time": "2022-12-07T12:33:34.397Z"
   },
   {
    "duration": 5,
    "start_time": "2022-12-07T12:35:07.786Z"
   },
   {
    "duration": 36,
    "start_time": "2022-12-07T12:35:09.830Z"
   },
   {
    "duration": 12,
    "start_time": "2022-12-07T12:35:11.360Z"
   },
   {
    "duration": 7,
    "start_time": "2022-12-07T12:37:13.951Z"
   },
   {
    "duration": 57,
    "start_time": "2022-12-07T12:37:15.204Z"
   },
   {
    "duration": 855,
    "start_time": "2022-12-07T12:37:29.897Z"
   },
   {
    "duration": 123,
    "start_time": "2022-12-07T12:37:30.754Z"
   },
   {
    "duration": 63,
    "start_time": "2022-12-07T12:37:30.879Z"
   },
   {
    "duration": 24,
    "start_time": "2022-12-07T12:37:30.948Z"
   },
   {
    "duration": 2846,
    "start_time": "2022-12-07T12:37:30.975Z"
   },
   {
    "duration": 19,
    "start_time": "2022-12-07T12:37:33.823Z"
   },
   {
    "duration": 45,
    "start_time": "2022-12-07T12:37:33.849Z"
   },
   {
    "duration": 21,
    "start_time": "2022-12-07T12:37:33.897Z"
   },
   {
    "duration": 22,
    "start_time": "2022-12-07T12:37:33.921Z"
   },
   {
    "duration": 45,
    "start_time": "2022-12-07T12:37:33.946Z"
   },
   {
    "duration": 35,
    "start_time": "2022-12-07T12:37:33.993Z"
   },
   {
    "duration": 17,
    "start_time": "2022-12-07T12:37:34.034Z"
   },
   {
    "duration": 93,
    "start_time": "2022-12-07T12:37:34.054Z"
   },
   {
    "duration": 52,
    "start_time": "2022-12-07T12:37:34.151Z"
   },
   {
    "duration": 37,
    "start_time": "2022-12-07T13:51:33.395Z"
   },
   {
    "duration": 741,
    "start_time": "2022-12-07T13:51:55.360Z"
   },
   {
    "duration": 138,
    "start_time": "2022-12-07T13:51:58.210Z"
   },
   {
    "duration": 64,
    "start_time": "2022-12-07T13:51:59.417Z"
   },
   {
    "duration": 22,
    "start_time": "2022-12-07T13:52:01.791Z"
   },
   {
    "duration": 2680,
    "start_time": "2022-12-07T13:52:03.288Z"
   },
   {
    "duration": 12,
    "start_time": "2022-12-07T13:52:08.590Z"
   },
   {
    "duration": 15,
    "start_time": "2022-12-07T13:52:10.804Z"
   },
   {
    "duration": 13,
    "start_time": "2022-12-07T13:52:12.283Z"
   },
   {
    "duration": 17,
    "start_time": "2022-12-07T13:52:15.298Z"
   },
   {
    "duration": 22,
    "start_time": "2022-12-07T13:52:17.043Z"
   },
   {
    "duration": 33,
    "start_time": "2022-12-07T13:52:20.053Z"
   },
   {
    "duration": 14,
    "start_time": "2022-12-07T13:53:35.992Z"
   },
   {
    "duration": 5,
    "start_time": "2022-12-07T13:53:37.991Z"
   },
   {
    "duration": 5,
    "start_time": "2022-12-07T13:56:59.892Z"
   },
   {
    "duration": 14,
    "start_time": "2022-12-07T14:00:03.078Z"
   },
   {
    "duration": 24,
    "start_time": "2022-12-07T14:22:46.732Z"
   },
   {
    "duration": 11,
    "start_time": "2022-12-07T14:23:01.349Z"
   },
   {
    "duration": 12,
    "start_time": "2022-12-07T14:42:30.191Z"
   },
   {
    "duration": 17,
    "start_time": "2022-12-07T14:42:59.718Z"
   },
   {
    "duration": 13,
    "start_time": "2022-12-07T14:43:05.018Z"
   },
   {
    "duration": 13,
    "start_time": "2022-12-07T14:43:46.070Z"
   },
   {
    "duration": 329,
    "start_time": "2022-12-07T14:45:39.791Z"
   },
   {
    "duration": 197,
    "start_time": "2022-12-07T14:46:48.785Z"
   },
   {
    "duration": 244,
    "start_time": "2022-12-07T14:46:52.861Z"
   },
   {
    "duration": 182,
    "start_time": "2022-12-07T14:47:17.666Z"
   },
   {
    "duration": 15,
    "start_time": "2022-12-07T14:49:01.817Z"
   },
   {
    "duration": 6,
    "start_time": "2022-12-07T14:53:17.887Z"
   },
   {
    "duration": 9,
    "start_time": "2022-12-07T14:53:27.383Z"
   },
   {
    "duration": 18,
    "start_time": "2022-12-07T15:01:46.655Z"
   },
   {
    "duration": 32,
    "start_time": "2022-12-07T15:03:44.447Z"
   },
   {
    "duration": 12,
    "start_time": "2022-12-07T15:04:23.617Z"
   },
   {
    "duration": 6,
    "start_time": "2022-12-07T15:04:46.574Z"
   },
   {
    "duration": 13,
    "start_time": "2022-12-07T15:10:54.158Z"
   },
   {
    "duration": 18,
    "start_time": "2022-12-07T15:13:13.446Z"
   },
   {
    "duration": 9,
    "start_time": "2022-12-07T15:22:12.303Z"
   },
   {
    "duration": 12,
    "start_time": "2022-12-07T15:23:30.741Z"
   },
   {
    "duration": 4,
    "start_time": "2022-12-07T15:24:35.500Z"
   },
   {
    "duration": 4,
    "start_time": "2022-12-07T15:25:53.625Z"
   },
   {
    "duration": 13,
    "start_time": "2022-12-07T15:26:09.908Z"
   },
   {
    "duration": 13,
    "start_time": "2022-12-07T15:27:01.608Z"
   },
   {
    "duration": 14,
    "start_time": "2022-12-07T15:28:43.575Z"
   },
   {
    "duration": 14,
    "start_time": "2022-12-07T15:29:57.594Z"
   },
   {
    "duration": 12,
    "start_time": "2022-12-07T15:30:34.753Z"
   },
   {
    "duration": 1779,
    "start_time": "2022-12-07T15:32:08.993Z"
   },
   {
    "duration": 15,
    "start_time": "2022-12-07T15:32:25.516Z"
   },
   {
    "duration": 23,
    "start_time": "2022-12-07T15:32:54.092Z"
   },
   {
    "duration": 12,
    "start_time": "2022-12-07T15:35:50.187Z"
   },
   {
    "duration": 150,
    "start_time": "2022-12-07T15:37:58.264Z"
   },
   {
    "duration": 164,
    "start_time": "2022-12-07T15:44:24.208Z"
   },
   {
    "duration": 159,
    "start_time": "2022-12-07T15:44:36.509Z"
   },
   {
    "duration": 24,
    "start_time": "2022-12-07T15:48:41.656Z"
   },
   {
    "duration": 14,
    "start_time": "2022-12-07T15:48:51.484Z"
   },
   {
    "duration": 502,
    "start_time": "2022-12-07T15:48:55.334Z"
   },
   {
    "duration": 13,
    "start_time": "2022-12-07T15:49:01.840Z"
   },
   {
    "duration": 213,
    "start_time": "2022-12-07T15:49:03.935Z"
   },
   {
    "duration": 190,
    "start_time": "2022-12-07T15:49:31.165Z"
   },
   {
    "duration": 16,
    "start_time": "2022-12-07T15:52:53.145Z"
   },
   {
    "duration": 23,
    "start_time": "2022-12-07T15:52:55.940Z"
   },
   {
    "duration": 180,
    "start_time": "2022-12-07T15:53:33.352Z"
   },
   {
    "duration": 136,
    "start_time": "2022-12-07T15:54:32.556Z"
   },
   {
    "duration": 7,
    "start_time": "2022-12-07T15:55:42.454Z"
   },
   {
    "duration": 33,
    "start_time": "2022-12-07T15:55:44.220Z"
   },
   {
    "duration": 18,
    "start_time": "2022-12-07T15:56:22.751Z"
   },
   {
    "duration": 14,
    "start_time": "2022-12-07T15:56:24.792Z"
   },
   {
    "duration": 186,
    "start_time": "2022-12-07T15:58:05.389Z"
   },
   {
    "duration": 11,
    "start_time": "2022-12-07T15:58:22.172Z"
   },
   {
    "duration": 192,
    "start_time": "2022-12-07T15:58:49.219Z"
   },
   {
    "duration": 131,
    "start_time": "2022-12-07T15:59:10.306Z"
   },
   {
    "duration": 167,
    "start_time": "2022-12-07T15:59:18.764Z"
   },
   {
    "duration": 167,
    "start_time": "2022-12-07T15:59:53.716Z"
   },
   {
    "duration": 161,
    "start_time": "2022-12-07T16:00:06.945Z"
   },
   {
    "duration": 799,
    "start_time": "2022-12-07T16:07:48.667Z"
   },
   {
    "duration": 105,
    "start_time": "2022-12-07T16:07:49.468Z"
   },
   {
    "duration": 38,
    "start_time": "2022-12-07T16:07:49.576Z"
   },
   {
    "duration": 22,
    "start_time": "2022-12-07T16:07:49.623Z"
   },
   {
    "duration": 2349,
    "start_time": "2022-12-07T16:07:49.647Z"
   },
   {
    "duration": 14,
    "start_time": "2022-12-07T16:07:51.999Z"
   },
   {
    "duration": 13,
    "start_time": "2022-12-07T16:07:52.016Z"
   },
   {
    "duration": 23,
    "start_time": "2022-12-07T16:07:52.032Z"
   },
   {
    "duration": 29,
    "start_time": "2022-12-07T16:07:52.058Z"
   },
   {
    "duration": 17,
    "start_time": "2022-12-07T16:07:52.091Z"
   },
   {
    "duration": 35,
    "start_time": "2022-12-07T16:07:52.110Z"
   },
   {
    "duration": 11,
    "start_time": "2022-12-07T16:07:52.147Z"
   },
   {
    "duration": 10,
    "start_time": "2022-12-07T16:07:52.159Z"
   },
   {
    "duration": 61,
    "start_time": "2022-12-07T16:07:52.171Z"
   },
   {
    "duration": 15,
    "start_time": "2022-12-07T16:07:52.235Z"
   },
   {
    "duration": 34,
    "start_time": "2022-12-07T16:07:52.252Z"
   },
   {
    "duration": 224,
    "start_time": "2022-12-07T16:07:52.288Z"
   },
   {
    "duration": 12,
    "start_time": "2022-12-07T16:07:52.521Z"
   },
   {
    "duration": 16,
    "start_time": "2022-12-07T16:07:52.536Z"
   },
   {
    "duration": 231,
    "start_time": "2022-12-07T16:07:52.555Z"
   },
   {
    "duration": 11,
    "start_time": "2022-12-07T16:07:52.788Z"
   },
   {
    "duration": 27,
    "start_time": "2022-12-07T16:07:52.801Z"
   },
   {
    "duration": 16,
    "start_time": "2022-12-07T16:07:52.830Z"
   },
   {
    "duration": 22,
    "start_time": "2022-12-07T16:07:52.849Z"
   },
   {
    "duration": 5,
    "start_time": "2022-12-07T16:07:52.873Z"
   },
   {
    "duration": 20,
    "start_time": "2022-12-07T16:07:52.881Z"
   },
   {
    "duration": 47,
    "start_time": "2022-12-07T16:07:52.904Z"
   },
   {
    "duration": 159,
    "start_time": "2022-12-07T16:07:52.954Z"
   },
   {
    "duration": 15,
    "start_time": "2022-12-07T16:07:53.116Z"
   },
   {
    "duration": 35,
    "start_time": "2022-12-07T16:07:53.134Z"
   },
   {
    "duration": 26,
    "start_time": "2022-12-07T16:07:53.173Z"
   },
   {
    "duration": 33,
    "start_time": "2022-12-07T16:07:53.201Z"
   },
   {
    "duration": 35,
    "start_time": "2022-12-07T16:07:53.236Z"
   },
   {
    "duration": 15,
    "start_time": "2022-12-07T16:07:53.273Z"
   },
   {
    "duration": 17,
    "start_time": "2022-12-07T16:07:53.290Z"
   },
   {
    "duration": 138,
    "start_time": "2022-12-07T16:07:53.309Z"
   },
   {
    "duration": 18,
    "start_time": "2022-12-07T16:07:56.980Z"
   },
   {
    "duration": 6,
    "start_time": "2022-12-07T16:09:24.728Z"
   },
   {
    "duration": 48,
    "start_time": "2022-12-07T16:09:35.192Z"
   },
   {
    "duration": 97,
    "start_time": "2022-12-07T16:13:34.986Z"
   },
   {
    "duration": 14,
    "start_time": "2022-12-07T16:14:11.581Z"
   },
   {
    "duration": 6,
    "start_time": "2022-12-07T16:14:35.752Z"
   },
   {
    "duration": 41,
    "start_time": "2022-12-07T16:14:46.510Z"
   },
   {
    "duration": 63,
    "start_time": "2022-12-07T16:14:52.974Z"
   },
   {
    "duration": 5,
    "start_time": "2022-12-07T16:17:18.456Z"
   },
   {
    "duration": 6,
    "start_time": "2022-12-07T16:17:32.212Z"
   },
   {
    "duration": 37,
    "start_time": "2022-12-07T16:17:42.564Z"
   },
   {
    "duration": 6,
    "start_time": "2022-12-07T16:18:20.555Z"
   },
   {
    "duration": 235,
    "start_time": "2022-12-07T16:21:13.972Z"
   },
   {
    "duration": 5,
    "start_time": "2022-12-07T16:21:30.792Z"
   },
   {
    "duration": 7165,
    "start_time": "2022-12-07T16:22:13.383Z"
   },
   {
    "duration": 53,
    "start_time": "2022-12-07T16:22:25.407Z"
   },
   {
    "duration": 23,
    "start_time": "2022-12-07T16:23:38.268Z"
   },
   {
    "duration": 40,
    "start_time": "2022-12-07T16:23:40.092Z"
   },
   {
    "duration": 8,
    "start_time": "2022-12-07T16:24:19.891Z"
   },
   {
    "duration": 27,
    "start_time": "2022-12-07T16:24:21.203Z"
   },
   {
    "duration": 53,
    "start_time": "2022-12-07T16:24:22.604Z"
   },
   {
    "duration": 6094,
    "start_time": "2022-12-07T16:25:33.566Z"
   },
   {
    "duration": 46,
    "start_time": "2022-12-07T16:25:41.007Z"
   },
   {
    "duration": 8,
    "start_time": "2022-12-07T16:27:03.620Z"
   },
   {
    "duration": 139,
    "start_time": "2022-12-07T16:30:33.756Z"
   },
   {
    "duration": 5,
    "start_time": "2022-12-07T16:30:43.431Z"
   },
   {
    "duration": 558,
    "start_time": "2022-12-07T16:30:45.160Z"
   },
   {
    "duration": 26,
    "start_time": "2022-12-07T16:31:01.426Z"
   },
   {
    "duration": 5,
    "start_time": "2022-12-07T16:32:26.957Z"
   },
   {
    "duration": 14,
    "start_time": "2022-12-07T16:32:28.712Z"
   },
   {
    "duration": 46,
    "start_time": "2022-12-07T16:32:30.380Z"
   },
   {
    "duration": 6,
    "start_time": "2022-12-07T16:32:42.883Z"
   },
   {
    "duration": 9,
    "start_time": "2022-12-07T16:32:45.208Z"
   },
   {
    "duration": 49,
    "start_time": "2022-12-07T16:33:03.452Z"
   },
   {
    "duration": 326,
    "start_time": "2022-12-07T16:35:50.983Z"
   },
   {
    "duration": 42,
    "start_time": "2022-12-07T16:35:52.427Z"
   },
   {
    "duration": 6,
    "start_time": "2022-12-07T16:41:58.913Z"
   },
   {
    "duration": 301,
    "start_time": "2022-12-07T16:42:01.089Z"
   },
   {
    "duration": 12,
    "start_time": "2022-12-07T16:43:49.077Z"
   },
   {
    "duration": 27,
    "start_time": "2022-12-07T16:44:21.731Z"
   },
   {
    "duration": 31,
    "start_time": "2022-12-07T16:44:40.471Z"
   },
   {
    "duration": 30,
    "start_time": "2022-12-07T16:48:31.978Z"
   },
   {
    "duration": 31,
    "start_time": "2022-12-07T16:48:50.373Z"
   },
   {
    "duration": 10,
    "start_time": "2022-12-07T16:49:03.159Z"
   },
   {
    "duration": 6,
    "start_time": "2022-12-07T16:49:23.079Z"
   },
   {
    "duration": 33,
    "start_time": "2022-12-07T16:49:36.286Z"
   },
   {
    "duration": 5,
    "start_time": "2022-12-07T16:53:58.249Z"
   },
   {
    "duration": 26,
    "start_time": "2022-12-07T16:54:05.965Z"
   },
   {
    "duration": 13,
    "start_time": "2022-12-07T16:55:14.018Z"
   },
   {
    "duration": 41,
    "start_time": "2022-12-07T16:55:16.763Z"
   },
   {
    "duration": 18,
    "start_time": "2022-12-07T16:55:30.399Z"
   },
   {
    "duration": 33,
    "start_time": "2022-12-07T16:57:11.403Z"
   },
   {
    "duration": 29,
    "start_time": "2022-12-07T16:57:25.389Z"
   },
   {
    "duration": 6,
    "start_time": "2022-12-07T16:57:47.711Z"
   },
   {
    "duration": 66,
    "start_time": "2022-12-07T16:57:51.796Z"
   },
   {
    "duration": 55,
    "start_time": "2022-12-07T16:59:00.252Z"
   },
   {
    "duration": 17,
    "start_time": "2022-12-07T17:00:20.863Z"
   },
   {
    "duration": 82,
    "start_time": "2022-12-07T17:02:25.374Z"
   },
   {
    "duration": 13,
    "start_time": "2022-12-07T17:04:11.336Z"
   },
   {
    "duration": 25,
    "start_time": "2022-12-07T17:05:29.818Z"
   },
   {
    "duration": 26,
    "start_time": "2022-12-07T17:16:03.205Z"
   },
   {
    "duration": 180,
    "start_time": "2022-12-07T17:16:22.891Z"
   },
   {
    "duration": 121,
    "start_time": "2022-12-07T17:16:26.939Z"
   },
   {
    "duration": 154,
    "start_time": "2022-12-07T17:16:51.554Z"
   },
   {
    "duration": 151,
    "start_time": "2022-12-07T17:16:57.544Z"
   },
   {
    "duration": 147,
    "start_time": "2022-12-07T17:20:27.428Z"
   },
   {
    "duration": 149,
    "start_time": "2022-12-07T17:21:05.438Z"
   },
   {
    "duration": 148,
    "start_time": "2022-12-07T17:21:26.112Z"
   },
   {
    "duration": 26,
    "start_time": "2022-12-07T17:22:19.206Z"
   },
   {
    "duration": 169,
    "start_time": "2022-12-07T17:22:53.723Z"
   },
   {
    "duration": 213,
    "start_time": "2022-12-07T17:23:08.939Z"
   },
   {
    "duration": 150,
    "start_time": "2022-12-07T17:23:26.237Z"
   },
   {
    "duration": 132,
    "start_time": "2022-12-07T17:23:32.166Z"
   },
   {
    "duration": 140,
    "start_time": "2022-12-07T17:23:40.598Z"
   },
   {
    "duration": 16,
    "start_time": "2022-12-07T17:31:22.138Z"
   },
   {
    "duration": 131,
    "start_time": "2022-12-07T17:31:54.386Z"
   },
   {
    "duration": 16,
    "start_time": "2022-12-07T17:35:26.071Z"
   },
   {
    "duration": 407,
    "start_time": "2022-12-07T17:35:58.977Z"
   },
   {
    "duration": 211,
    "start_time": "2022-12-07T17:36:16.972Z"
   },
   {
    "duration": 166,
    "start_time": "2022-12-07T17:38:00.317Z"
   },
   {
    "duration": 160,
    "start_time": "2022-12-07T17:38:11.917Z"
   },
   {
    "duration": 192,
    "start_time": "2022-12-07T17:38:19.684Z"
   },
   {
    "duration": 245,
    "start_time": "2022-12-07T17:38:30.660Z"
   },
   {
    "duration": 183,
    "start_time": "2022-12-07T17:38:42.178Z"
   },
   {
    "duration": 225,
    "start_time": "2022-12-07T17:40:02.775Z"
   },
   {
    "duration": 198,
    "start_time": "2022-12-07T17:40:09.942Z"
   },
   {
    "duration": 236,
    "start_time": "2022-12-07T17:40:36.120Z"
   },
   {
    "duration": 120,
    "start_time": "2022-12-07T17:41:04.720Z"
   },
   {
    "duration": 234,
    "start_time": "2022-12-07T17:43:07.854Z"
   },
   {
    "duration": 184,
    "start_time": "2022-12-07T17:44:15.765Z"
   },
   {
    "duration": 158,
    "start_time": "2022-12-07T17:45:01.290Z"
   },
   {
    "duration": 773,
    "start_time": "2022-12-08T10:08:12.300Z"
   },
   {
    "duration": 154,
    "start_time": "2022-12-08T10:08:14.153Z"
   },
   {
    "duration": 31,
    "start_time": "2022-12-08T10:08:16.005Z"
   },
   {
    "duration": 13,
    "start_time": "2022-12-08T10:08:19.709Z"
   },
   {
    "duration": 1716,
    "start_time": "2022-12-08T10:08:23.430Z"
   },
   {
    "duration": 9,
    "start_time": "2022-12-08T10:08:30.762Z"
   },
   {
    "duration": 9,
    "start_time": "2022-12-08T10:08:33.218Z"
   },
   {
    "duration": 8,
    "start_time": "2022-12-08T10:08:38.003Z"
   },
   {
    "duration": 17,
    "start_time": "2022-12-08T10:08:42.913Z"
   },
   {
    "duration": 12,
    "start_time": "2022-12-08T10:08:46.333Z"
   },
   {
    "duration": 20,
    "start_time": "2022-12-08T10:09:11.501Z"
   },
   {
    "duration": 8,
    "start_time": "2022-12-08T10:09:14.529Z"
   },
   {
    "duration": 3,
    "start_time": "2022-12-08T10:09:20.501Z"
   },
   {
    "duration": 26,
    "start_time": "2022-12-08T10:09:21.834Z"
   },
   {
    "duration": 8,
    "start_time": "2022-12-08T10:09:24.157Z"
   },
   {
    "duration": 9,
    "start_time": "2022-12-08T10:09:34.347Z"
   },
   {
    "duration": 120,
    "start_time": "2022-12-08T10:09:47.467Z"
   },
   {
    "duration": 7,
    "start_time": "2022-12-08T10:09:52.205Z"
   },
   {
    "duration": 8,
    "start_time": "2022-12-08T10:10:27.513Z"
   },
   {
    "duration": 101,
    "start_time": "2022-12-08T10:10:34.781Z"
   },
   {
    "duration": 5,
    "start_time": "2022-12-08T10:10:50.758Z"
   },
   {
    "duration": 7,
    "start_time": "2022-12-08T10:10:53.278Z"
   },
   {
    "duration": 4,
    "start_time": "2022-12-08T10:11:04.544Z"
   },
   {
    "duration": 10,
    "start_time": "2022-12-08T10:11:07.870Z"
   },
   {
    "duration": 3,
    "start_time": "2022-12-08T10:11:16.411Z"
   },
   {
    "duration": 8,
    "start_time": "2022-12-08T10:11:18.448Z"
   },
   {
    "duration": 9,
    "start_time": "2022-12-08T10:11:30.468Z"
   },
   {
    "duration": 85,
    "start_time": "2022-12-08T10:11:34.807Z"
   },
   {
    "duration": 5,
    "start_time": "2022-12-08T10:11:44.538Z"
   },
   {
    "duration": 9,
    "start_time": "2022-12-08T10:11:49.807Z"
   },
   {
    "duration": 8,
    "start_time": "2022-12-08T10:11:58.373Z"
   },
   {
    "duration": 8,
    "start_time": "2022-12-08T10:13:06.267Z"
   },
   {
    "duration": 8,
    "start_time": "2022-12-08T10:13:14.326Z"
   },
   {
    "duration": 8,
    "start_time": "2022-12-08T10:13:29.316Z"
   },
   {
    "duration": 9,
    "start_time": "2022-12-08T10:13:41.979Z"
   },
   {
    "duration": 5,
    "start_time": "2022-12-08T10:15:26.234Z"
   },
   {
    "duration": 6,
    "start_time": "2022-12-08T10:15:29.443Z"
   },
   {
    "duration": 4,
    "start_time": "2022-12-08T10:15:31.774Z"
   },
   {
    "duration": 5,
    "start_time": "2022-12-08T10:15:34.129Z"
   },
   {
    "duration": 4,
    "start_time": "2022-12-08T10:15:37.264Z"
   },
   {
    "duration": 163,
    "start_time": "2022-12-08T10:15:42.015Z"
   },
   {
    "duration": 4,
    "start_time": "2022-12-08T10:16:09.311Z"
   },
   {
    "duration": 30,
    "start_time": "2022-12-08T10:16:22.212Z"
   },
   {
    "duration": 15,
    "start_time": "2022-12-08T10:16:30.408Z"
   },
   {
    "duration": 29,
    "start_time": "2022-12-08T10:16:35.356Z"
   },
   {
    "duration": 13,
    "start_time": "2022-12-08T10:16:37.609Z"
   },
   {
    "duration": 8,
    "start_time": "2022-12-08T10:17:15.274Z"
   },
   {
    "duration": 122,
    "start_time": "2022-12-08T10:17:20.121Z"
   },
   {
    "duration": 171,
    "start_time": "2022-12-08T10:18:01.375Z"
   },
   {
    "duration": 8,
    "start_time": "2022-12-08T10:19:42.511Z"
   },
   {
    "duration": 144,
    "start_time": "2022-12-08T10:20:22.118Z"
   },
   {
    "duration": 9,
    "start_time": "2022-12-08T10:21:15.731Z"
   },
   {
    "duration": 111,
    "start_time": "2022-12-08T10:21:17.632Z"
   },
   {
    "duration": 104,
    "start_time": "2022-12-08T10:21:59.575Z"
   },
   {
    "duration": 94,
    "start_time": "2022-12-08T10:22:16.136Z"
   },
   {
    "duration": 8,
    "start_time": "2022-12-08T10:24:30.300Z"
   },
   {
    "duration": 143,
    "start_time": "2022-12-08T10:24:44.624Z"
   },
   {
    "duration": 137,
    "start_time": "2022-12-08T10:28:48.370Z"
   },
   {
    "duration": 133,
    "start_time": "2022-12-08T10:29:00.110Z"
   },
   {
    "duration": 137,
    "start_time": "2022-12-08T10:29:22.634Z"
   },
   {
    "duration": 138,
    "start_time": "2022-12-08T10:35:38.263Z"
   },
   {
    "duration": 154,
    "start_time": "2022-12-08T10:35:55.807Z"
   },
   {
    "duration": 178,
    "start_time": "2022-12-08T10:36:44.093Z"
   },
   {
    "duration": 141,
    "start_time": "2022-12-08T10:36:47.404Z"
   },
   {
    "duration": 138,
    "start_time": "2022-12-08T10:39:22.015Z"
   },
   {
    "duration": 8,
    "start_time": "2022-12-08T10:46:37.410Z"
   },
   {
    "duration": 148,
    "start_time": "2022-12-08T10:46:39.565Z"
   },
   {
    "duration": 9,
    "start_time": "2022-12-08T10:47:28.215Z"
   },
   {
    "duration": 113,
    "start_time": "2022-12-08T10:47:56.642Z"
   },
   {
    "duration": 144,
    "start_time": "2022-12-08T10:48:02.512Z"
   },
   {
    "duration": 133,
    "start_time": "2022-12-08T10:48:09.752Z"
   },
   {
    "duration": 10,
    "start_time": "2022-12-08T10:51:34.236Z"
   },
   {
    "duration": 133,
    "start_time": "2022-12-08T10:52:02.212Z"
   },
   {
    "duration": 144,
    "start_time": "2022-12-08T10:52:10.741Z"
   },
   {
    "duration": 172,
    "start_time": "2022-12-08T10:52:22.847Z"
   },
   {
    "duration": 141,
    "start_time": "2022-12-08T10:52:30.250Z"
   },
   {
    "duration": 9,
    "start_time": "2022-12-08T11:00:33.115Z"
   },
   {
    "duration": 267,
    "start_time": "2022-12-08T11:01:30.745Z"
   },
   {
    "duration": 9,
    "start_time": "2022-12-08T11:02:53.192Z"
   },
   {
    "duration": 10,
    "start_time": "2022-12-08T11:02:57.976Z"
   },
   {
    "duration": 124,
    "start_time": "2022-12-08T11:03:11.962Z"
   },
   {
    "duration": 7,
    "start_time": "2022-12-08T11:05:14.817Z"
   },
   {
    "duration": 123,
    "start_time": "2022-12-08T11:05:17.524Z"
   },
   {
    "duration": 143,
    "start_time": "2022-12-08T11:05:27.124Z"
   },
   {
    "duration": 8,
    "start_time": "2022-12-08T11:11:21.193Z"
   },
   {
    "duration": 137,
    "start_time": "2022-12-08T11:11:58.886Z"
   },
   {
    "duration": 138,
    "start_time": "2022-12-08T11:12:06.320Z"
   },
   {
    "duration": 9,
    "start_time": "2022-12-08T11:18:40.890Z"
   },
   {
    "duration": 161,
    "start_time": "2022-12-08T11:18:43.863Z"
   },
   {
    "duration": 11,
    "start_time": "2022-12-08T11:20:00.971Z"
   },
   {
    "duration": 142,
    "start_time": "2022-12-08T11:20:25.871Z"
   },
   {
    "duration": 8,
    "start_time": "2022-12-08T11:25:12.466Z"
   },
   {
    "duration": 130,
    "start_time": "2022-12-08T11:25:56.063Z"
   },
   {
    "duration": 144,
    "start_time": "2022-12-08T11:25:57.622Z"
   },
   {
    "duration": 218,
    "start_time": "2022-12-08T11:31:39.635Z"
   },
   {
    "duration": 155,
    "start_time": "2022-12-08T11:32:57.373Z"
   },
   {
    "duration": 163,
    "start_time": "2022-12-08T11:33:06.265Z"
   },
   {
    "duration": 76,
    "start_time": "2022-12-08T11:36:13.317Z"
   },
   {
    "duration": 155,
    "start_time": "2022-12-08T11:36:22.201Z"
   },
   {
    "duration": 192,
    "start_time": "2022-12-08T11:39:43.859Z"
   },
   {
    "duration": 184,
    "start_time": "2022-12-08T11:39:48.851Z"
   },
   {
    "duration": 5,
    "start_time": "2022-12-08T11:40:21.631Z"
   },
   {
    "duration": 4,
    "start_time": "2022-12-08T11:40:48.575Z"
   },
   {
    "duration": 4,
    "start_time": "2022-12-08T11:44:53.749Z"
   },
   {
    "duration": 4,
    "start_time": "2022-12-08T11:44:55.850Z"
   },
   {
    "duration": 4,
    "start_time": "2022-12-08T11:45:15.061Z"
   },
   {
    "duration": 8,
    "start_time": "2022-12-08T11:45:28.100Z"
   },
   {
    "duration": 4,
    "start_time": "2022-12-08T11:45:29.733Z"
   },
   {
    "duration": 15,
    "start_time": "2022-12-08T12:37:05.662Z"
   },
   {
    "duration": 10,
    "start_time": "2022-12-08T12:37:21.666Z"
   },
   {
    "duration": 12,
    "start_time": "2022-12-08T12:40:36.853Z"
   },
   {
    "duration": 1816,
    "start_time": "2022-12-08T12:45:40.148Z"
   },
   {
    "duration": 9,
    "start_time": "2022-12-08T12:46:13.900Z"
   },
   {
    "duration": 15,
    "start_time": "2022-12-08T12:46:20.462Z"
   },
   {
    "duration": 17,
    "start_time": "2022-12-08T12:47:18.789Z"
   },
   {
    "duration": 235,
    "start_time": "2022-12-08T12:47:23.810Z"
   },
   {
    "duration": 129,
    "start_time": "2022-12-08T12:47:29.456Z"
   },
   {
    "duration": 169,
    "start_time": "2022-12-08T12:47:42.590Z"
   },
   {
    "duration": 10,
    "start_time": "2022-12-08T12:50:25.159Z"
   },
   {
    "duration": 11,
    "start_time": "2022-12-08T12:50:33.556Z"
   },
   {
    "duration": 10,
    "start_time": "2022-12-08T12:50:57.391Z"
   },
   {
    "duration": 11,
    "start_time": "2022-12-08T12:51:15.886Z"
   },
   {
    "duration": 10,
    "start_time": "2022-12-08T12:52:28.266Z"
   },
   {
    "duration": 10,
    "start_time": "2022-12-08T12:52:29.526Z"
   },
   {
    "duration": 11,
    "start_time": "2022-12-08T12:52:30.629Z"
   },
   {
    "duration": 24,
    "start_time": "2022-12-08T13:01:23.107Z"
   },
   {
    "duration": 20,
    "start_time": "2022-12-08T13:01:43.995Z"
   },
   {
    "duration": 17,
    "start_time": "2022-12-08T13:01:51.753Z"
   },
   {
    "duration": 9,
    "start_time": "2022-12-08T13:07:01.416Z"
   },
   {
    "duration": 9,
    "start_time": "2022-12-08T13:07:29.000Z"
   },
   {
    "duration": 17,
    "start_time": "2022-12-08T13:08:31.753Z"
   },
   {
    "duration": 1922,
    "start_time": "2022-12-08T13:08:44.435Z"
   },
   {
    "duration": 145,
    "start_time": "2022-12-08T13:09:09.652Z"
   },
   {
    "duration": 106,
    "start_time": "2022-12-08T13:10:11.796Z"
   },
   {
    "duration": 16,
    "start_time": "2022-12-08T13:10:17.981Z"
   },
   {
    "duration": 7,
    "start_time": "2022-12-08T13:10:54.671Z"
   },
   {
    "duration": 10,
    "start_time": "2022-12-08T13:11:07.707Z"
   },
   {
    "duration": 14,
    "start_time": "2022-12-08T13:11:19.794Z"
   },
   {
    "duration": 12,
    "start_time": "2022-12-08T13:11:48.343Z"
   },
   {
    "duration": 11,
    "start_time": "2022-12-08T13:13:49.765Z"
   },
   {
    "duration": 150,
    "start_time": "2022-12-08T13:14:11.688Z"
   },
   {
    "duration": 15,
    "start_time": "2022-12-08T13:17:28.418Z"
   },
   {
    "duration": 13,
    "start_time": "2022-12-08T13:17:37.080Z"
   },
   {
    "duration": 17,
    "start_time": "2022-12-08T13:18:02.880Z"
   },
   {
    "duration": 17,
    "start_time": "2022-12-08T13:18:30.345Z"
   },
   {
    "duration": 21,
    "start_time": "2022-12-08T13:19:08.544Z"
   },
   {
    "duration": 582,
    "start_time": "2022-12-08T13:24:41.865Z"
   },
   {
    "duration": 23,
    "start_time": "2022-12-08T13:26:25.801Z"
   },
   {
    "duration": 22,
    "start_time": "2022-12-08T13:26:31.374Z"
   },
   {
    "duration": 24,
    "start_time": "2022-12-08T13:26:52.329Z"
   },
   {
    "duration": 21,
    "start_time": "2022-12-08T13:27:17.657Z"
   },
   {
    "duration": 626,
    "start_time": "2022-12-08T13:27:23.147Z"
   },
   {
    "duration": 19,
    "start_time": "2022-12-08T13:28:34.840Z"
   },
   {
    "duration": 24,
    "start_time": "2022-12-08T13:28:52.723Z"
   },
   {
    "duration": 14,
    "start_time": "2022-12-08T13:29:05.534Z"
   },
   {
    "duration": 27,
    "start_time": "2022-12-08T13:29:34.154Z"
   },
   {
    "duration": 14,
    "start_time": "2022-12-08T13:30:20.080Z"
   },
   {
    "duration": 10,
    "start_time": "2022-12-08T13:31:17.399Z"
   },
   {
    "duration": 13,
    "start_time": "2022-12-08T13:32:11.815Z"
   },
   {
    "duration": 1126,
    "start_time": "2022-12-08T13:32:31.241Z"
   },
   {
    "duration": 1239,
    "start_time": "2022-12-08T13:32:35.439Z"
   },
   {
    "duration": 21,
    "start_time": "2022-12-08T13:33:57.477Z"
   },
   {
    "duration": 8,
    "start_time": "2022-12-08T13:34:05.267Z"
   },
   {
    "duration": 11,
    "start_time": "2022-12-08T13:34:19.676Z"
   },
   {
    "duration": 8,
    "start_time": "2022-12-08T13:34:33.053Z"
   },
   {
    "duration": 9,
    "start_time": "2022-12-08T13:34:50.867Z"
   },
   {
    "duration": 9,
    "start_time": "2022-12-08T13:35:02.941Z"
   },
   {
    "duration": 10,
    "start_time": "2022-12-08T13:35:22.424Z"
   },
   {
    "duration": 11,
    "start_time": "2022-12-08T13:35:33.246Z"
   },
   {
    "duration": 13,
    "start_time": "2022-12-08T13:35:42.522Z"
   },
   {
    "duration": 162,
    "start_time": "2022-12-08T13:38:04.083Z"
   },
   {
    "duration": 130,
    "start_time": "2022-12-08T13:38:27.835Z"
   },
   {
    "duration": 90,
    "start_time": "2022-12-08T13:38:58.796Z"
   },
   {
    "duration": 178,
    "start_time": "2022-12-08T13:39:02.745Z"
   },
   {
    "duration": 282,
    "start_time": "2022-12-08T13:39:11.957Z"
   },
   {
    "duration": 159,
    "start_time": "2022-12-08T13:40:10.549Z"
   },
   {
    "duration": 148,
    "start_time": "2022-12-08T13:41:39.050Z"
   },
   {
    "duration": 138,
    "start_time": "2022-12-08T13:41:41.594Z"
   },
   {
    "duration": 168,
    "start_time": "2022-12-08T13:42:03.968Z"
   },
   {
    "duration": 129,
    "start_time": "2022-12-08T13:42:24.487Z"
   },
   {
    "duration": 156,
    "start_time": "2022-12-08T13:42:31.611Z"
   },
   {
    "duration": 4,
    "start_time": "2022-12-08T13:43:20.592Z"
   },
   {
    "duration": 6,
    "start_time": "2022-12-08T13:43:21.762Z"
   },
   {
    "duration": 5,
    "start_time": "2022-12-08T13:43:22.723Z"
   },
   {
    "duration": 5,
    "start_time": "2022-12-08T13:43:23.776Z"
   },
   {
    "duration": 4,
    "start_time": "2022-12-08T13:43:25.511Z"
   },
   {
    "duration": 163,
    "start_time": "2022-12-08T13:43:27.649Z"
   },
   {
    "duration": 5,
    "start_time": "2022-12-08T13:43:29.992Z"
   },
   {
    "duration": 31,
    "start_time": "2022-12-08T13:43:32.241Z"
   },
   {
    "duration": 140,
    "start_time": "2022-12-08T13:43:46.127Z"
   },
   {
    "duration": 157,
    "start_time": "2022-12-08T13:43:49.170Z"
   },
   {
    "duration": 138,
    "start_time": "2022-12-08T13:43:51.950Z"
   },
   {
    "duration": 128,
    "start_time": "2022-12-08T13:43:54.664Z"
   },
   {
    "duration": 141,
    "start_time": "2022-12-08T13:44:05.921Z"
   },
   {
    "duration": 140,
    "start_time": "2022-12-08T13:51:12.664Z"
   },
   {
    "duration": 100,
    "start_time": "2022-12-08T13:59:30.774Z"
   },
   {
    "duration": 144,
    "start_time": "2022-12-08T13:59:33.548Z"
   },
   {
    "duration": 140,
    "start_time": "2022-12-08T13:59:38.321Z"
   },
   {
    "duration": 145,
    "start_time": "2022-12-08T14:01:36.954Z"
   },
   {
    "duration": 269,
    "start_time": "2022-12-08T14:02:25.975Z"
   },
   {
    "duration": 146,
    "start_time": "2022-12-08T14:03:06.305Z"
   },
   {
    "duration": 159,
    "start_time": "2022-12-08T14:04:14.032Z"
   },
   {
    "duration": 165,
    "start_time": "2022-12-08T14:04:33.822Z"
   },
   {
    "duration": 147,
    "start_time": "2022-12-08T14:04:56.475Z"
   },
   {
    "duration": 172,
    "start_time": "2022-12-08T14:05:47.301Z"
   },
   {
    "duration": 11,
    "start_time": "2022-12-08T14:07:54.281Z"
   },
   {
    "duration": 10,
    "start_time": "2022-12-08T14:08:04.648Z"
   },
   {
    "duration": 15,
    "start_time": "2022-12-08T14:08:19.885Z"
   },
   {
    "duration": 14,
    "start_time": "2022-12-08T14:08:34.322Z"
   },
   {
    "duration": 14,
    "start_time": "2022-12-08T14:10:17.356Z"
   },
   {
    "duration": 14,
    "start_time": "2022-12-08T14:10:39.637Z"
   },
   {
    "duration": 14,
    "start_time": "2022-12-08T14:10:46.495Z"
   },
   {
    "duration": 22,
    "start_time": "2022-12-08T14:14:36.151Z"
   },
   {
    "duration": 24,
    "start_time": "2022-12-08T14:14:55.568Z"
   },
   {
    "duration": 21,
    "start_time": "2022-12-08T14:14:56.960Z"
   },
   {
    "duration": 14,
    "start_time": "2022-12-08T14:16:16.779Z"
   },
   {
    "duration": 22,
    "start_time": "2022-12-08T14:16:31.550Z"
   },
   {
    "duration": 23,
    "start_time": "2022-12-08T14:16:58.352Z"
   },
   {
    "duration": 20,
    "start_time": "2022-12-08T14:20:37.302Z"
   },
   {
    "duration": 21,
    "start_time": "2022-12-08T14:20:56.613Z"
   },
   {
    "duration": 21,
    "start_time": "2022-12-08T14:21:33.975Z"
   },
   {
    "duration": 24,
    "start_time": "2022-12-08T14:22:19.970Z"
   },
   {
    "duration": 21,
    "start_time": "2022-12-08T14:22:30.374Z"
   },
   {
    "duration": 23,
    "start_time": "2022-12-08T14:23:39.269Z"
   },
   {
    "duration": 27,
    "start_time": "2022-12-08T14:23:49.025Z"
   },
   {
    "duration": 23,
    "start_time": "2022-12-08T14:24:20.256Z"
   },
   {
    "duration": 29,
    "start_time": "2022-12-08T14:24:38.172Z"
   },
   {
    "duration": 166,
    "start_time": "2022-12-08T14:43:09.698Z"
   },
   {
    "duration": 153,
    "start_time": "2022-12-08T14:43:27.411Z"
   },
   {
    "duration": 147,
    "start_time": "2022-12-08T14:43:53.388Z"
   },
   {
    "duration": 169,
    "start_time": "2022-12-08T14:44:46.596Z"
   },
   {
    "duration": 170,
    "start_time": "2022-12-08T14:50:39.170Z"
   },
   {
    "duration": 13,
    "start_time": "2022-12-08T14:55:17.878Z"
   },
   {
    "duration": 20,
    "start_time": "2022-12-08T14:55:20.410Z"
   },
   {
    "duration": 165,
    "start_time": "2022-12-08T14:55:27.762Z"
   },
   {
    "duration": 168,
    "start_time": "2022-12-08T14:55:30.582Z"
   },
   {
    "duration": 152,
    "start_time": "2022-12-08T15:00:37.829Z"
   },
   {
    "duration": 175,
    "start_time": "2022-12-08T15:01:00.602Z"
   },
   {
    "duration": 145,
    "start_time": "2022-12-08T15:01:41.242Z"
   },
   {
    "duration": 154,
    "start_time": "2022-12-08T15:02:36.716Z"
   },
   {
    "duration": 154,
    "start_time": "2022-12-08T15:02:45.548Z"
   },
   {
    "duration": 269,
    "start_time": "2022-12-08T15:02:53.070Z"
   },
   {
    "duration": 146,
    "start_time": "2022-12-08T15:03:28.872Z"
   },
   {
    "duration": 185,
    "start_time": "2022-12-08T15:12:29.022Z"
   },
   {
    "duration": 190,
    "start_time": "2022-12-08T15:13:19.810Z"
   },
   {
    "duration": 165,
    "start_time": "2022-12-08T15:13:47.458Z"
   },
   {
    "duration": 168,
    "start_time": "2022-12-08T15:15:57.835Z"
   },
   {
    "duration": 203,
    "start_time": "2022-12-08T15:30:19.308Z"
   },
   {
    "duration": 190,
    "start_time": "2022-12-08T15:30:35.539Z"
   },
   {
    "duration": 183,
    "start_time": "2022-12-08T15:31:32.684Z"
   },
   {
    "duration": 5,
    "start_time": "2022-12-08T15:52:02.279Z"
   },
   {
    "duration": 5,
    "start_time": "2022-12-08T15:56:46.870Z"
   },
   {
    "duration": 5,
    "start_time": "2022-12-08T15:57:36.544Z"
   },
   {
    "duration": 14,
    "start_time": "2022-12-08T16:42:12.958Z"
   },
   {
    "duration": 13,
    "start_time": "2022-12-08T16:47:35.516Z"
   },
   {
    "duration": 19,
    "start_time": "2022-12-08T17:16:42.681Z"
   },
   {
    "duration": 14,
    "start_time": "2022-12-08T17:17:10.638Z"
   },
   {
    "duration": 13,
    "start_time": "2022-12-08T17:17:43.071Z"
   },
   {
    "duration": 14,
    "start_time": "2022-12-08T17:17:49.801Z"
   },
   {
    "duration": 241,
    "start_time": "2022-12-08T17:21:36.965Z"
   },
   {
    "duration": 9,
    "start_time": "2022-12-08T17:22:43.763Z"
   },
   {
    "duration": 10,
    "start_time": "2022-12-08T17:25:35.772Z"
   },
   {
    "duration": 6,
    "start_time": "2022-12-08T17:25:44.457Z"
   },
   {
    "duration": 5,
    "start_time": "2022-12-08T17:25:49.536Z"
   },
   {
    "duration": 136,
    "start_time": "2022-12-08T17:33:11.443Z"
   },
   {
    "duration": 623,
    "start_time": "2022-12-08T17:43:27.491Z"
   },
   {
    "duration": 93,
    "start_time": "2022-12-08T17:43:28.115Z"
   },
   {
    "duration": 31,
    "start_time": "2022-12-08T17:43:28.209Z"
   },
   {
    "duration": 24,
    "start_time": "2022-12-08T17:43:28.242Z"
   },
   {
    "duration": 1829,
    "start_time": "2022-12-08T17:43:28.268Z"
   },
   {
    "duration": 10,
    "start_time": "2022-12-08T17:43:30.099Z"
   },
   {
    "duration": 44,
    "start_time": "2022-12-08T17:43:30.111Z"
   },
   {
    "duration": 35,
    "start_time": "2022-12-08T17:43:30.157Z"
   },
   {
    "duration": 45,
    "start_time": "2022-12-08T17:43:30.194Z"
   },
   {
    "duration": 45,
    "start_time": "2022-12-08T17:43:30.242Z"
   },
   {
    "duration": 44,
    "start_time": "2022-12-08T17:43:30.288Z"
   },
   {
    "duration": 20,
    "start_time": "2022-12-08T17:43:30.333Z"
   },
   {
    "duration": 23,
    "start_time": "2022-12-08T17:43:30.354Z"
   },
   {
    "duration": 72,
    "start_time": "2022-12-08T17:43:30.380Z"
   },
   {
    "duration": 32,
    "start_time": "2022-12-08T17:43:30.454Z"
   },
   {
    "duration": 61,
    "start_time": "2022-12-08T17:43:30.491Z"
   },
   {
    "duration": 145,
    "start_time": "2022-12-08T17:43:30.554Z"
   },
   {
    "duration": 7,
    "start_time": "2022-12-08T17:43:30.701Z"
   },
   {
    "duration": 21,
    "start_time": "2022-12-08T17:43:30.709Z"
   },
   {
    "duration": 134,
    "start_time": "2022-12-08T17:43:30.732Z"
   },
   {
    "duration": 5,
    "start_time": "2022-12-08T17:43:30.867Z"
   },
   {
    "duration": 42,
    "start_time": "2022-12-08T17:43:30.873Z"
   },
   {
    "duration": 43,
    "start_time": "2022-12-08T17:43:30.917Z"
   },
   {
    "duration": 35,
    "start_time": "2022-12-08T17:43:30.961Z"
   },
   {
    "duration": 32,
    "start_time": "2022-12-08T17:43:30.997Z"
   },
   {
    "duration": 46,
    "start_time": "2022-12-08T17:43:31.031Z"
   },
   {
    "duration": 65,
    "start_time": "2022-12-08T17:43:31.079Z"
   },
   {
    "duration": 128,
    "start_time": "2022-12-08T17:43:31.149Z"
   },
   {
    "duration": 8,
    "start_time": "2022-12-08T17:43:31.278Z"
   },
   {
    "duration": 40,
    "start_time": "2022-12-08T17:43:31.288Z"
   },
   {
    "duration": 25,
    "start_time": "2022-12-08T17:43:31.330Z"
   },
   {
    "duration": 25,
    "start_time": "2022-12-08T17:43:31.357Z"
   },
   {
    "duration": 32,
    "start_time": "2022-12-08T17:43:31.384Z"
   },
   {
    "duration": 14,
    "start_time": "2022-12-08T17:43:31.418Z"
   },
   {
    "duration": 30,
    "start_time": "2022-12-08T17:43:31.433Z"
   },
   {
    "duration": 140,
    "start_time": "2022-12-08T17:43:31.464Z"
   },
   {
    "duration": 4,
    "start_time": "2022-12-08T17:43:31.606Z"
   },
   {
    "duration": 20,
    "start_time": "2022-12-08T17:43:31.611Z"
   },
   {
    "duration": 35,
    "start_time": "2022-12-08T17:43:31.633Z"
   },
   {
    "duration": 28,
    "start_time": "2022-12-08T17:43:31.670Z"
   },
   {
    "duration": 23,
    "start_time": "2022-12-08T17:43:31.700Z"
   },
   {
    "duration": 205,
    "start_time": "2022-12-08T17:43:31.725Z"
   },
   {
    "duration": 4,
    "start_time": "2022-12-08T17:43:31.932Z"
   },
   {
    "duration": 65,
    "start_time": "2022-12-08T17:43:31.938Z"
   },
   {
    "duration": 22,
    "start_time": "2022-12-08T17:43:32.004Z"
   },
   {
    "duration": 265,
    "start_time": "2022-12-08T17:43:32.028Z"
   },
   {
    "duration": 9,
    "start_time": "2022-12-08T17:43:32.295Z"
   },
   {
    "duration": 223,
    "start_time": "2022-12-08T17:43:32.305Z"
   },
   {
    "duration": 10,
    "start_time": "2022-12-08T17:43:32.530Z"
   },
   {
    "duration": 184,
    "start_time": "2022-12-08T17:43:32.542Z"
   },
   {
    "duration": 9,
    "start_time": "2022-12-08T17:43:32.728Z"
   },
   {
    "duration": 193,
    "start_time": "2022-12-08T17:43:32.739Z"
   },
   {
    "duration": 8,
    "start_time": "2022-12-08T17:43:32.934Z"
   },
   {
    "duration": 172,
    "start_time": "2022-12-08T17:43:32.944Z"
   },
   {
    "duration": 10,
    "start_time": "2022-12-08T17:43:33.118Z"
   },
   {
    "duration": 168,
    "start_time": "2022-12-08T17:43:33.129Z"
   },
   {
    "duration": 9,
    "start_time": "2022-12-08T17:43:33.299Z"
   },
   {
    "duration": 191,
    "start_time": "2022-12-08T17:43:33.310Z"
   },
   {
    "duration": 16,
    "start_time": "2022-12-08T17:43:33.504Z"
   },
   {
    "duration": 175,
    "start_time": "2022-12-08T17:43:33.522Z"
   },
   {
    "duration": 113,
    "start_time": "2022-12-08T17:43:33.698Z"
   },
   {
    "duration": 9,
    "start_time": "2022-12-08T17:43:33.812Z"
   },
   {
    "duration": 163,
    "start_time": "2022-12-08T17:43:33.822Z"
   },
   {
    "duration": 11,
    "start_time": "2022-12-08T17:43:33.986Z"
   },
   {
    "duration": 260,
    "start_time": "2022-12-08T17:43:33.999Z"
   },
   {
    "duration": 18,
    "start_time": "2022-12-08T17:43:34.261Z"
   },
   {
    "duration": 145,
    "start_time": "2022-12-08T17:43:34.281Z"
   },
   {
    "duration": 124,
    "start_time": "2022-12-08T17:43:34.427Z"
   },
   {
    "duration": 136,
    "start_time": "2022-12-08T17:43:34.553Z"
   },
   {
    "duration": 246,
    "start_time": "2022-12-08T17:43:34.690Z"
   },
   {
    "duration": 4,
    "start_time": "2022-12-08T17:43:34.938Z"
   },
   {
    "duration": 24,
    "start_time": "2022-12-08T17:43:34.943Z"
   },
   {
    "duration": 16,
    "start_time": "2022-12-08T17:43:34.968Z"
   },
   {
    "duration": 200,
    "start_time": "2022-12-08T17:43:34.985Z"
   },
   {
    "duration": 4,
    "start_time": "2022-12-08T17:43:35.187Z"
   },
   {
    "duration": 180,
    "start_time": "2022-12-08T17:43:35.193Z"
   },
   {
    "duration": 6,
    "start_time": "2022-12-08T17:43:35.375Z"
   },
   {
    "duration": 172,
    "start_time": "2022-12-08T17:43:35.382Z"
   },
   {
    "duration": 6,
    "start_time": "2022-12-08T17:43:35.556Z"
   },
   {
    "duration": 171,
    "start_time": "2022-12-08T17:43:35.563Z"
   },
   {
    "duration": 145,
    "start_time": "2022-12-08T17:43:35.736Z"
   },
   {
    "duration": 226,
    "start_time": "2022-12-08T17:43:35.886Z"
   },
   {
    "duration": 156,
    "start_time": "2022-12-08T17:43:36.113Z"
   },
   {
    "duration": 160,
    "start_time": "2022-12-08T17:43:36.270Z"
   },
   {
    "duration": 22,
    "start_time": "2022-12-08T17:43:36.431Z"
   },
   {
    "duration": 177,
    "start_time": "2022-12-08T17:43:36.455Z"
   },
   {
    "duration": 14,
    "start_time": "2022-12-08T17:43:36.633Z"
   },
   {
    "duration": 412,
    "start_time": "2022-12-08T17:48:54.995Z"
   },
   {
    "duration": 98,
    "start_time": "2022-12-08T17:48:55.409Z"
   },
   {
    "duration": 32,
    "start_time": "2022-12-08T17:48:55.508Z"
   },
   {
    "duration": 15,
    "start_time": "2022-12-08T17:48:55.541Z"
   },
   {
    "duration": 2220,
    "start_time": "2022-12-08T17:48:55.558Z"
   },
   {
    "duration": 16,
    "start_time": "2022-12-08T17:48:57.779Z"
   },
   {
    "duration": 14,
    "start_time": "2022-12-08T17:48:57.798Z"
   },
   {
    "duration": 12,
    "start_time": "2022-12-08T17:48:57.814Z"
   },
   {
    "duration": 17,
    "start_time": "2022-12-08T17:48:57.828Z"
   },
   {
    "duration": 45,
    "start_time": "2022-12-08T17:48:57.847Z"
   },
   {
    "duration": 19,
    "start_time": "2022-12-08T17:48:57.894Z"
   },
   {
    "duration": 8,
    "start_time": "2022-12-08T17:48:57.915Z"
   },
   {
    "duration": 4,
    "start_time": "2022-12-08T17:48:57.924Z"
   },
   {
    "duration": 27,
    "start_time": "2022-12-08T17:48:57.931Z"
   },
   {
    "duration": 23,
    "start_time": "2022-12-08T17:48:57.960Z"
   },
   {
    "duration": 21,
    "start_time": "2022-12-08T17:48:57.985Z"
   },
   {
    "duration": 132,
    "start_time": "2022-12-08T17:48:58.008Z"
   },
   {
    "duration": 6,
    "start_time": "2022-12-08T17:48:58.142Z"
   },
   {
    "duration": 9,
    "start_time": "2022-12-08T17:48:58.149Z"
   },
   {
    "duration": 141,
    "start_time": "2022-12-08T17:48:58.159Z"
   },
   {
    "duration": 7,
    "start_time": "2022-12-08T17:48:58.302Z"
   },
   {
    "duration": 12,
    "start_time": "2022-12-08T17:48:58.310Z"
   },
   {
    "duration": 4,
    "start_time": "2022-12-08T17:48:58.324Z"
   },
   {
    "duration": 12,
    "start_time": "2022-12-08T17:48:58.330Z"
   },
   {
    "duration": 3,
    "start_time": "2022-12-08T17:48:58.344Z"
   },
   {
    "duration": 33,
    "start_time": "2022-12-08T17:48:58.348Z"
   },
   {
    "duration": 24,
    "start_time": "2022-12-08T17:48:58.383Z"
   },
   {
    "duration": 106,
    "start_time": "2022-12-08T17:48:58.408Z"
   },
   {
    "duration": 6,
    "start_time": "2022-12-08T17:48:58.515Z"
   },
   {
    "duration": 11,
    "start_time": "2022-12-08T17:48:58.523Z"
   },
   {
    "duration": 9,
    "start_time": "2022-12-08T17:48:58.535Z"
   },
   {
    "duration": 7,
    "start_time": "2022-12-08T17:48:58.546Z"
   },
   {
    "duration": 41,
    "start_time": "2022-12-08T17:48:58.554Z"
   },
   {
    "duration": 11,
    "start_time": "2022-12-08T17:48:58.597Z"
   },
   {
    "duration": 9,
    "start_time": "2022-12-08T17:48:58.609Z"
   },
   {
    "duration": 126,
    "start_time": "2022-12-08T17:48:58.620Z"
   },
   {
    "duration": 4,
    "start_time": "2022-12-08T17:48:58.748Z"
   },
   {
    "duration": 9,
    "start_time": "2022-12-08T17:48:58.754Z"
   },
   {
    "duration": 6,
    "start_time": "2022-12-08T17:48:58.777Z"
   },
   {
    "duration": 16,
    "start_time": "2022-12-08T17:48:58.785Z"
   },
   {
    "duration": 4,
    "start_time": "2022-12-08T17:48:58.805Z"
   },
   {
    "duration": 178,
    "start_time": "2022-12-08T17:48:58.811Z"
   },
   {
    "duration": 5,
    "start_time": "2022-12-08T17:48:58.993Z"
   },
   {
    "duration": 40,
    "start_time": "2022-12-08T17:48:58.999Z"
   },
   {
    "duration": 7,
    "start_time": "2022-12-08T17:48:59.041Z"
   },
   {
    "duration": 254,
    "start_time": "2022-12-08T17:48:59.050Z"
   },
   {
    "duration": 8,
    "start_time": "2022-12-08T17:48:59.306Z"
   },
   {
    "duration": 156,
    "start_time": "2022-12-08T17:48:59.316Z"
   },
   {
    "duration": 13,
    "start_time": "2022-12-08T17:48:59.474Z"
   },
   {
    "duration": 177,
    "start_time": "2022-12-08T17:48:59.489Z"
   },
   {
    "duration": 17,
    "start_time": "2022-12-08T17:48:59.668Z"
   },
   {
    "duration": 177,
    "start_time": "2022-12-08T17:48:59.687Z"
   },
   {
    "duration": 15,
    "start_time": "2022-12-08T17:48:59.865Z"
   },
   {
    "duration": 168,
    "start_time": "2022-12-08T17:48:59.882Z"
   },
   {
    "duration": 10,
    "start_time": "2022-12-08T17:49:00.051Z"
   },
   {
    "duration": 183,
    "start_time": "2022-12-08T17:49:00.062Z"
   },
   {
    "duration": 12,
    "start_time": "2022-12-08T17:49:00.247Z"
   },
   {
    "duration": 250,
    "start_time": "2022-12-08T17:49:00.261Z"
   },
   {
    "duration": 9,
    "start_time": "2022-12-08T17:49:00.513Z"
   },
   {
    "duration": 206,
    "start_time": "2022-12-08T17:49:00.524Z"
   },
   {
    "duration": 143,
    "start_time": "2022-12-08T17:49:00.732Z"
   },
   {
    "duration": 12,
    "start_time": "2022-12-08T17:49:00.877Z"
   },
   {
    "duration": 191,
    "start_time": "2022-12-08T17:49:00.892Z"
   },
   {
    "duration": 11,
    "start_time": "2022-12-08T17:49:01.086Z"
   },
   {
    "duration": 276,
    "start_time": "2022-12-08T17:49:01.099Z"
   },
   {
    "duration": 12,
    "start_time": "2022-12-08T17:49:01.377Z"
   },
   {
    "duration": 167,
    "start_time": "2022-12-08T17:49:01.391Z"
   },
   {
    "duration": 145,
    "start_time": "2022-12-08T17:49:01.559Z"
   },
   {
    "duration": 165,
    "start_time": "2022-12-08T17:49:01.706Z"
   },
   {
    "duration": 269,
    "start_time": "2022-12-08T17:49:01.877Z"
   },
   {
    "duration": 5,
    "start_time": "2022-12-08T17:49:02.149Z"
   },
   {
    "duration": 22,
    "start_time": "2022-12-08T17:49:02.156Z"
   },
   {
    "duration": 44,
    "start_time": "2022-12-08T17:49:02.180Z"
   },
   {
    "duration": 250,
    "start_time": "2022-12-08T17:49:02.226Z"
   },
   {
    "duration": 6,
    "start_time": "2022-12-08T17:49:02.478Z"
   },
   {
    "duration": 241,
    "start_time": "2022-12-08T17:49:02.486Z"
   },
   {
    "duration": 5,
    "start_time": "2022-12-08T17:49:02.729Z"
   },
   {
    "duration": 217,
    "start_time": "2022-12-08T17:49:02.735Z"
   },
   {
    "duration": 8,
    "start_time": "2022-12-08T17:49:02.954Z"
   },
   {
    "duration": 192,
    "start_time": "2022-12-08T17:49:02.977Z"
   },
   {
    "duration": 155,
    "start_time": "2022-12-08T17:49:03.170Z"
   },
   {
    "duration": 237,
    "start_time": "2022-12-08T17:49:03.327Z"
   },
   {
    "duration": 168,
    "start_time": "2022-12-08T17:49:03.566Z"
   },
   {
    "duration": 176,
    "start_time": "2022-12-08T17:49:03.736Z"
   },
   {
    "duration": 22,
    "start_time": "2022-12-08T17:49:03.914Z"
   },
   {
    "duration": 251,
    "start_time": "2022-12-08T17:49:03.937Z"
   },
   {
    "duration": 19,
    "start_time": "2022-12-08T17:49:04.191Z"
   },
   {
    "duration": 420,
    "start_time": "2022-12-08T18:12:36.158Z"
   },
   {
    "duration": 102,
    "start_time": "2022-12-08T18:12:36.580Z"
   },
   {
    "duration": 37,
    "start_time": "2022-12-08T18:12:36.683Z"
   },
   {
    "duration": 15,
    "start_time": "2022-12-08T18:12:36.723Z"
   },
   {
    "duration": 2222,
    "start_time": "2022-12-08T18:12:36.739Z"
   },
   {
    "duration": 11,
    "start_time": "2022-12-08T18:12:38.963Z"
   },
   {
    "duration": 9,
    "start_time": "2022-12-08T18:12:38.976Z"
   },
   {
    "duration": 9,
    "start_time": "2022-12-08T18:12:38.986Z"
   },
   {
    "duration": 110,
    "start_time": "2022-12-08T18:12:38.996Z"
   },
   {
    "duration": 0,
    "start_time": "2022-12-08T18:12:39.110Z"
   },
   {
    "duration": 0,
    "start_time": "2022-12-08T18:12:39.111Z"
   },
   {
    "duration": 0,
    "start_time": "2022-12-08T18:12:39.113Z"
   },
   {
    "duration": 0,
    "start_time": "2022-12-08T18:12:39.114Z"
   },
   {
    "duration": 0,
    "start_time": "2022-12-08T18:12:39.115Z"
   },
   {
    "duration": 0,
    "start_time": "2022-12-08T18:12:39.116Z"
   },
   {
    "duration": 0,
    "start_time": "2022-12-08T18:12:39.117Z"
   },
   {
    "duration": 0,
    "start_time": "2022-12-08T18:12:39.118Z"
   },
   {
    "duration": 0,
    "start_time": "2022-12-08T18:12:39.120Z"
   },
   {
    "duration": 0,
    "start_time": "2022-12-08T18:12:39.120Z"
   },
   {
    "duration": 0,
    "start_time": "2022-12-08T18:12:39.121Z"
   },
   {
    "duration": 0,
    "start_time": "2022-12-08T18:12:39.122Z"
   },
   {
    "duration": 0,
    "start_time": "2022-12-08T18:12:39.123Z"
   },
   {
    "duration": 0,
    "start_time": "2022-12-08T18:12:39.124Z"
   },
   {
    "duration": 0,
    "start_time": "2022-12-08T18:12:39.125Z"
   },
   {
    "duration": 0,
    "start_time": "2022-12-08T18:12:39.126Z"
   },
   {
    "duration": 0,
    "start_time": "2022-12-08T18:12:39.127Z"
   },
   {
    "duration": 0,
    "start_time": "2022-12-08T18:12:39.128Z"
   },
   {
    "duration": 0,
    "start_time": "2022-12-08T18:12:39.129Z"
   },
   {
    "duration": 0,
    "start_time": "2022-12-08T18:12:39.130Z"
   },
   {
    "duration": 0,
    "start_time": "2022-12-08T18:12:39.131Z"
   },
   {
    "duration": 0,
    "start_time": "2022-12-08T18:12:39.131Z"
   },
   {
    "duration": 0,
    "start_time": "2022-12-08T18:12:39.132Z"
   },
   {
    "duration": 0,
    "start_time": "2022-12-08T18:12:39.133Z"
   },
   {
    "duration": 0,
    "start_time": "2022-12-08T18:12:39.134Z"
   },
   {
    "duration": 0,
    "start_time": "2022-12-08T18:12:39.135Z"
   },
   {
    "duration": 0,
    "start_time": "2022-12-08T18:12:39.136Z"
   },
   {
    "duration": 0,
    "start_time": "2022-12-08T18:12:39.178Z"
   },
   {
    "duration": 0,
    "start_time": "2022-12-08T18:12:39.180Z"
   },
   {
    "duration": 0,
    "start_time": "2022-12-08T18:12:39.181Z"
   },
   {
    "duration": 0,
    "start_time": "2022-12-08T18:12:39.183Z"
   },
   {
    "duration": 0,
    "start_time": "2022-12-08T18:12:39.184Z"
   },
   {
    "duration": 0,
    "start_time": "2022-12-08T18:12:39.185Z"
   },
   {
    "duration": 0,
    "start_time": "2022-12-08T18:12:39.187Z"
   },
   {
    "duration": 0,
    "start_time": "2022-12-08T18:12:39.188Z"
   },
   {
    "duration": 0,
    "start_time": "2022-12-08T18:12:39.189Z"
   },
   {
    "duration": 0,
    "start_time": "2022-12-08T18:12:39.190Z"
   },
   {
    "duration": 0,
    "start_time": "2022-12-08T18:12:39.191Z"
   },
   {
    "duration": 0,
    "start_time": "2022-12-08T18:12:39.193Z"
   },
   {
    "duration": 0,
    "start_time": "2022-12-08T18:12:39.194Z"
   },
   {
    "duration": 0,
    "start_time": "2022-12-08T18:12:39.195Z"
   },
   {
    "duration": 0,
    "start_time": "2022-12-08T18:12:39.196Z"
   },
   {
    "duration": 0,
    "start_time": "2022-12-08T18:12:39.198Z"
   },
   {
    "duration": 0,
    "start_time": "2022-12-08T18:12:39.199Z"
   },
   {
    "duration": 0,
    "start_time": "2022-12-08T18:12:39.200Z"
   },
   {
    "duration": 0,
    "start_time": "2022-12-08T18:12:39.201Z"
   },
   {
    "duration": 0,
    "start_time": "2022-12-08T18:12:39.202Z"
   },
   {
    "duration": 0,
    "start_time": "2022-12-08T18:12:39.203Z"
   },
   {
    "duration": 0,
    "start_time": "2022-12-08T18:12:39.204Z"
   },
   {
    "duration": 0,
    "start_time": "2022-12-08T18:12:39.205Z"
   },
   {
    "duration": 0,
    "start_time": "2022-12-08T18:12:39.206Z"
   },
   {
    "duration": 0,
    "start_time": "2022-12-08T18:12:39.207Z"
   },
   {
    "duration": 0,
    "start_time": "2022-12-08T18:12:39.208Z"
   },
   {
    "duration": 0,
    "start_time": "2022-12-08T18:12:39.209Z"
   },
   {
    "duration": 0,
    "start_time": "2022-12-08T18:12:39.210Z"
   },
   {
    "duration": 0,
    "start_time": "2022-12-08T18:12:39.211Z"
   },
   {
    "duration": 0,
    "start_time": "2022-12-08T18:12:39.212Z"
   },
   {
    "duration": 0,
    "start_time": "2022-12-08T18:12:39.213Z"
   },
   {
    "duration": 0,
    "start_time": "2022-12-08T18:12:39.214Z"
   },
   {
    "duration": 0,
    "start_time": "2022-12-08T18:12:39.215Z"
   },
   {
    "duration": 0,
    "start_time": "2022-12-08T18:12:39.216Z"
   },
   {
    "duration": 0,
    "start_time": "2022-12-08T18:12:39.279Z"
   },
   {
    "duration": 0,
    "start_time": "2022-12-08T18:12:39.280Z"
   },
   {
    "duration": 0,
    "start_time": "2022-12-08T18:12:39.281Z"
   },
   {
    "duration": 0,
    "start_time": "2022-12-08T18:12:39.281Z"
   },
   {
    "duration": 0,
    "start_time": "2022-12-08T18:12:39.282Z"
   },
   {
    "duration": 0,
    "start_time": "2022-12-08T18:12:39.283Z"
   },
   {
    "duration": 0,
    "start_time": "2022-12-08T18:12:39.284Z"
   },
   {
    "duration": 0,
    "start_time": "2022-12-08T18:12:39.285Z"
   },
   {
    "duration": 0,
    "start_time": "2022-12-08T18:12:39.286Z"
   },
   {
    "duration": 0,
    "start_time": "2022-12-08T18:12:39.286Z"
   },
   {
    "duration": 0,
    "start_time": "2022-12-08T18:12:39.287Z"
   },
   {
    "duration": 0,
    "start_time": "2022-12-08T18:12:39.295Z"
   },
   {
    "duration": 0,
    "start_time": "2022-12-08T18:12:39.297Z"
   },
   {
    "duration": 0,
    "start_time": "2022-12-08T18:12:39.298Z"
   },
   {
    "duration": 0,
    "start_time": "2022-12-08T18:12:39.299Z"
   },
   {
    "duration": 0,
    "start_time": "2022-12-08T18:12:39.300Z"
   },
   {
    "duration": 0,
    "start_time": "2022-12-08T18:12:39.301Z"
   },
   {
    "duration": 435,
    "start_time": "2022-12-08T18:14:29.194Z"
   },
   {
    "duration": 103,
    "start_time": "2022-12-08T18:14:29.631Z"
   },
   {
    "duration": 33,
    "start_time": "2022-12-08T18:14:29.736Z"
   },
   {
    "duration": 28,
    "start_time": "2022-12-08T18:14:29.771Z"
   },
   {
    "duration": 2541,
    "start_time": "2022-12-08T18:14:29.800Z"
   },
   {
    "duration": 12,
    "start_time": "2022-12-08T18:14:32.343Z"
   },
   {
    "duration": 23,
    "start_time": "2022-12-08T18:14:32.357Z"
   },
   {
    "duration": 26,
    "start_time": "2022-12-08T18:14:32.382Z"
   },
   {
    "duration": 17,
    "start_time": "2022-12-08T18:14:32.409Z"
   },
   {
    "duration": 12,
    "start_time": "2022-12-08T18:14:32.428Z"
   },
   {
    "duration": 20,
    "start_time": "2022-12-08T18:14:32.443Z"
   },
   {
    "duration": 14,
    "start_time": "2022-12-08T18:14:32.465Z"
   },
   {
    "duration": 6,
    "start_time": "2022-12-08T18:14:32.480Z"
   },
   {
    "duration": 48,
    "start_time": "2022-12-08T18:14:32.487Z"
   },
   {
    "duration": 8,
    "start_time": "2022-12-08T18:14:32.537Z"
   },
   {
    "duration": 11,
    "start_time": "2022-12-08T18:14:32.547Z"
   },
   {
    "duration": 142,
    "start_time": "2022-12-08T18:14:32.560Z"
   },
   {
    "duration": 8,
    "start_time": "2022-12-08T18:14:32.704Z"
   },
   {
    "duration": 28,
    "start_time": "2022-12-08T18:14:32.714Z"
   },
   {
    "duration": 145,
    "start_time": "2022-12-08T18:14:32.744Z"
   },
   {
    "duration": 12,
    "start_time": "2022-12-08T18:14:32.897Z"
   },
   {
    "duration": 17,
    "start_time": "2022-12-08T18:14:32.914Z"
   },
   {
    "duration": 11,
    "start_time": "2022-12-08T18:14:32.933Z"
   },
   {
    "duration": 12,
    "start_time": "2022-12-08T18:14:32.946Z"
   },
   {
    "duration": 3,
    "start_time": "2022-12-08T18:14:32.961Z"
   },
   {
    "duration": 13,
    "start_time": "2022-12-08T18:14:32.966Z"
   },
   {
    "duration": 26,
    "start_time": "2022-12-08T18:14:32.981Z"
   },
   {
    "duration": 120,
    "start_time": "2022-12-08T18:14:33.011Z"
   },
   {
    "duration": 6,
    "start_time": "2022-12-08T18:14:33.133Z"
   },
   {
    "duration": 16,
    "start_time": "2022-12-08T18:14:33.141Z"
   },
   {
    "duration": 18,
    "start_time": "2022-12-08T18:14:33.158Z"
   },
   {
    "duration": 18,
    "start_time": "2022-12-08T18:14:33.179Z"
   },
   {
    "duration": 11,
    "start_time": "2022-12-08T18:14:33.199Z"
   },
   {
    "duration": 8,
    "start_time": "2022-12-08T18:14:33.212Z"
   },
   {
    "duration": 12,
    "start_time": "2022-12-08T18:14:33.222Z"
   },
   {
    "duration": 139,
    "start_time": "2022-12-08T18:14:33.236Z"
   },
   {
    "duration": 5,
    "start_time": "2022-12-08T18:14:33.377Z"
   },
   {
    "duration": 25,
    "start_time": "2022-12-08T18:14:33.385Z"
   },
   {
    "duration": 5,
    "start_time": "2022-12-08T18:14:33.412Z"
   },
   {
    "duration": 4,
    "start_time": "2022-12-08T18:14:33.419Z"
   },
   {
    "duration": 5,
    "start_time": "2022-12-08T18:14:33.425Z"
   },
   {
    "duration": 195,
    "start_time": "2022-12-08T18:14:33.432Z"
   },
   {
    "duration": 6,
    "start_time": "2022-12-08T18:14:33.629Z"
   },
   {
    "duration": 41,
    "start_time": "2022-12-08T18:14:33.637Z"
   },
   {
    "duration": 10,
    "start_time": "2022-12-08T18:14:33.680Z"
   },
   {
    "duration": 257,
    "start_time": "2022-12-08T18:14:33.692Z"
   },
   {
    "duration": 11,
    "start_time": "2022-12-08T18:14:33.952Z"
   },
   {
    "duration": 234,
    "start_time": "2022-12-08T18:14:33.970Z"
   },
   {
    "duration": 11,
    "start_time": "2022-12-08T18:14:34.206Z"
   },
   {
    "duration": 286,
    "start_time": "2022-12-08T18:14:34.220Z"
   },
   {
    "duration": 9,
    "start_time": "2022-12-08T18:14:34.507Z"
   },
   {
    "duration": 179,
    "start_time": "2022-12-08T18:14:34.518Z"
   },
   {
    "duration": 10,
    "start_time": "2022-12-08T18:14:34.700Z"
   },
   {
    "duration": 176,
    "start_time": "2022-12-08T18:14:34.712Z"
   },
   {
    "duration": 13,
    "start_time": "2022-12-08T18:14:34.890Z"
   },
   {
    "duration": 204,
    "start_time": "2022-12-08T18:14:34.905Z"
   },
   {
    "duration": 11,
    "start_time": "2022-12-08T18:14:35.111Z"
   },
   {
    "duration": 249,
    "start_time": "2022-12-08T18:14:35.128Z"
   },
   {
    "duration": 12,
    "start_time": "2022-12-08T18:14:35.379Z"
   },
   {
    "duration": 206,
    "start_time": "2022-12-08T18:14:35.393Z"
   },
   {
    "duration": 127,
    "start_time": "2022-12-08T18:14:35.602Z"
   },
   {
    "duration": 10,
    "start_time": "2022-12-08T18:14:35.731Z"
   },
   {
    "duration": 172,
    "start_time": "2022-12-08T18:14:35.743Z"
   },
   {
    "duration": 9,
    "start_time": "2022-12-08T18:14:35.917Z"
   },
   {
    "duration": 243,
    "start_time": "2022-12-08T18:14:35.928Z"
   },
   {
    "duration": 14,
    "start_time": "2022-12-08T18:14:36.173Z"
   },
   {
    "duration": 171,
    "start_time": "2022-12-08T18:14:36.189Z"
   },
   {
    "duration": 136,
    "start_time": "2022-12-08T18:14:36.362Z"
   },
   {
    "duration": 156,
    "start_time": "2022-12-08T18:14:36.499Z"
   },
   {
    "duration": 283,
    "start_time": "2022-12-08T18:14:36.657Z"
   },
   {
    "duration": 5,
    "start_time": "2022-12-08T18:14:36.943Z"
   },
   {
    "duration": 6,
    "start_time": "2022-12-08T18:14:36.949Z"
   },
   {
    "duration": 22,
    "start_time": "2022-12-08T18:14:36.957Z"
   },
   {
    "duration": 244,
    "start_time": "2022-12-08T18:14:36.981Z"
   },
   {
    "duration": 7,
    "start_time": "2022-12-08T18:14:37.227Z"
   },
   {
    "duration": 266,
    "start_time": "2022-12-08T18:14:37.236Z"
   },
   {
    "duration": 6,
    "start_time": "2022-12-08T18:14:37.504Z"
   },
   {
    "duration": 201,
    "start_time": "2022-12-08T18:14:37.511Z"
   },
   {
    "duration": 7,
    "start_time": "2022-12-08T18:14:37.714Z"
   },
   {
    "duration": 234,
    "start_time": "2022-12-08T18:14:37.723Z"
   },
   {
    "duration": 171,
    "start_time": "2022-12-08T18:14:37.960Z"
   },
   {
    "duration": 235,
    "start_time": "2022-12-08T18:14:38.136Z"
   },
   {
    "duration": 158,
    "start_time": "2022-12-08T18:14:38.378Z"
   },
   {
    "duration": 192,
    "start_time": "2022-12-08T18:14:38.538Z"
   },
   {
    "duration": 22,
    "start_time": "2022-12-08T18:14:38.732Z"
   },
   {
    "duration": 194,
    "start_time": "2022-12-08T18:14:38.756Z"
   },
   {
    "duration": 15,
    "start_time": "2022-12-08T18:14:38.951Z"
   },
   {
    "duration": 5,
    "start_time": "2022-12-08T18:17:16.653Z"
   },
   {
    "duration": 469,
    "start_time": "2022-12-08T18:19:26.383Z"
   },
   {
    "duration": 101,
    "start_time": "2022-12-08T18:19:26.854Z"
   },
   {
    "duration": 41,
    "start_time": "2022-12-08T18:19:26.958Z"
   },
   {
    "duration": 14,
    "start_time": "2022-12-08T18:19:27.001Z"
   },
   {
    "duration": 2233,
    "start_time": "2022-12-08T18:19:27.017Z"
   },
   {
    "duration": 9,
    "start_time": "2022-12-08T18:19:29.252Z"
   },
   {
    "duration": 9,
    "start_time": "2022-12-08T18:19:29.263Z"
   },
   {
    "duration": 8,
    "start_time": "2022-12-08T18:19:29.274Z"
   },
   {
    "duration": 18,
    "start_time": "2022-12-08T18:19:29.284Z"
   },
   {
    "duration": 13,
    "start_time": "2022-12-08T18:19:29.304Z"
   },
   {
    "duration": 21,
    "start_time": "2022-12-08T18:19:29.319Z"
   },
   {
    "duration": 9,
    "start_time": "2022-12-08T18:19:29.342Z"
   },
   {
    "duration": 8,
    "start_time": "2022-12-08T18:19:29.385Z"
   },
   {
    "duration": 30,
    "start_time": "2022-12-08T18:19:29.395Z"
   },
   {
    "duration": 8,
    "start_time": "2022-12-08T18:19:29.426Z"
   },
   {
    "duration": 7,
    "start_time": "2022-12-08T18:19:29.436Z"
   },
   {
    "duration": 147,
    "start_time": "2022-12-08T18:19:29.445Z"
   },
   {
    "duration": 6,
    "start_time": "2022-12-08T18:19:29.594Z"
   },
   {
    "duration": 11,
    "start_time": "2022-12-08T18:19:29.602Z"
   },
   {
    "duration": 128,
    "start_time": "2022-12-08T18:19:29.615Z"
   },
   {
    "duration": 6,
    "start_time": "2022-12-08T18:19:29.745Z"
   },
   {
    "duration": 25,
    "start_time": "2022-12-08T18:19:29.754Z"
   },
   {
    "duration": 5,
    "start_time": "2022-12-08T18:19:29.782Z"
   },
   {
    "duration": 18,
    "start_time": "2022-12-08T18:19:29.789Z"
   },
   {
    "duration": 3,
    "start_time": "2022-12-08T18:19:29.809Z"
   },
   {
    "duration": 10,
    "start_time": "2022-12-08T18:19:29.813Z"
   },
   {
    "duration": 9,
    "start_time": "2022-12-08T18:19:29.824Z"
   },
   {
    "duration": 116,
    "start_time": "2022-12-08T18:19:29.837Z"
   },
   {
    "duration": 5,
    "start_time": "2022-12-08T18:19:29.955Z"
   },
   {
    "duration": 9,
    "start_time": "2022-12-08T18:19:29.961Z"
   },
   {
    "duration": 12,
    "start_time": "2022-12-08T18:19:29.977Z"
   },
   {
    "duration": 10,
    "start_time": "2022-12-08T18:19:29.991Z"
   },
   {
    "duration": 11,
    "start_time": "2022-12-08T18:19:30.003Z"
   },
   {
    "duration": 19,
    "start_time": "2022-12-08T18:19:30.016Z"
   },
   {
    "duration": 16,
    "start_time": "2022-12-08T18:19:30.036Z"
   },
   {
    "duration": 129,
    "start_time": "2022-12-08T18:19:30.079Z"
   },
   {
    "duration": 5,
    "start_time": "2022-12-08T18:19:30.210Z"
   },
   {
    "duration": 33,
    "start_time": "2022-12-08T18:19:30.216Z"
   },
   {
    "duration": 32,
    "start_time": "2022-12-08T18:19:30.251Z"
   },
   {
    "duration": 35,
    "start_time": "2022-12-08T18:19:30.285Z"
   },
   {
    "duration": 24,
    "start_time": "2022-12-08T18:19:30.322Z"
   },
   {
    "duration": 213,
    "start_time": "2022-12-08T18:19:30.347Z"
   },
   {
    "duration": 4,
    "start_time": "2022-12-08T18:19:30.562Z"
   },
   {
    "duration": 84,
    "start_time": "2022-12-08T18:19:30.568Z"
   },
   {
    "duration": 21,
    "start_time": "2022-12-08T18:19:30.653Z"
   },
   {
    "duration": 278,
    "start_time": "2022-12-08T18:19:30.675Z"
   },
   {
    "duration": 9,
    "start_time": "2022-12-08T18:19:30.954Z"
   },
   {
    "duration": 177,
    "start_time": "2022-12-08T18:19:30.964Z"
   },
   {
    "duration": 9,
    "start_time": "2022-12-08T18:19:31.143Z"
   },
   {
    "duration": 197,
    "start_time": "2022-12-08T18:19:31.154Z"
   },
   {
    "duration": 12,
    "start_time": "2022-12-08T18:19:31.353Z"
   },
   {
    "duration": 201,
    "start_time": "2022-12-08T18:19:31.366Z"
   },
   {
    "duration": 16,
    "start_time": "2022-12-08T18:19:31.569Z"
   },
   {
    "duration": 153,
    "start_time": "2022-12-08T18:19:31.587Z"
   },
   {
    "duration": 9,
    "start_time": "2022-12-08T18:19:31.742Z"
   },
   {
    "duration": 199,
    "start_time": "2022-12-08T18:19:31.753Z"
   },
   {
    "duration": 11,
    "start_time": "2022-12-08T18:19:31.954Z"
   },
   {
    "duration": 227,
    "start_time": "2022-12-08T18:19:31.967Z"
   },
   {
    "duration": 12,
    "start_time": "2022-12-08T18:19:32.196Z"
   },
   {
    "duration": 186,
    "start_time": "2022-12-08T18:19:32.210Z"
   },
   {
    "duration": 115,
    "start_time": "2022-12-08T18:19:32.399Z"
   },
   {
    "duration": 11,
    "start_time": "2022-12-08T18:19:32.519Z"
   },
   {
    "duration": 200,
    "start_time": "2022-12-08T18:19:32.532Z"
   },
   {
    "duration": 9,
    "start_time": "2022-12-08T18:19:32.733Z"
   },
   {
    "duration": 292,
    "start_time": "2022-12-08T18:19:32.744Z"
   },
   {
    "duration": 12,
    "start_time": "2022-12-08T18:19:33.038Z"
   },
   {
    "duration": 178,
    "start_time": "2022-12-08T18:19:33.052Z"
   },
   {
    "duration": 216,
    "start_time": "2022-12-08T18:19:33.232Z"
   },
   {
    "duration": 196,
    "start_time": "2022-12-08T18:19:33.450Z"
   },
   {
    "duration": 361,
    "start_time": "2022-12-08T18:19:33.648Z"
   },
   {
    "duration": 13,
    "start_time": "2022-12-08T18:19:34.011Z"
   },
   {
    "duration": 27,
    "start_time": "2022-12-08T18:19:34.026Z"
   },
   {
    "duration": 14,
    "start_time": "2022-12-08T18:19:34.055Z"
   },
   {
    "duration": 261,
    "start_time": "2022-12-08T18:19:34.071Z"
   },
   {
    "duration": 7,
    "start_time": "2022-12-08T18:19:34.334Z"
   },
   {
    "duration": 215,
    "start_time": "2022-12-08T18:19:34.343Z"
   },
   {
    "duration": 8,
    "start_time": "2022-12-08T18:19:34.561Z"
   },
   {
    "duration": 240,
    "start_time": "2022-12-08T18:19:34.580Z"
   },
   {
    "duration": 5,
    "start_time": "2022-12-08T18:19:34.823Z"
   },
   {
    "duration": 200,
    "start_time": "2022-12-08T18:19:34.831Z"
   },
   {
    "duration": 190,
    "start_time": "2022-12-08T18:19:35.033Z"
   },
   {
    "duration": 262,
    "start_time": "2022-12-08T18:19:35.229Z"
   },
   {
    "duration": 166,
    "start_time": "2022-12-08T18:19:35.493Z"
   },
   {
    "duration": 195,
    "start_time": "2022-12-08T18:19:35.662Z"
   },
   {
    "duration": 39,
    "start_time": "2022-12-08T18:19:35.859Z"
   },
   {
    "duration": 191,
    "start_time": "2022-12-08T18:19:35.900Z"
   },
   {
    "duration": 20,
    "start_time": "2022-12-08T18:19:36.095Z"
   },
   {
    "duration": 449,
    "start_time": "2022-12-08T18:21:27.551Z"
   },
   {
    "duration": 90,
    "start_time": "2022-12-08T18:21:28.002Z"
   },
   {
    "duration": 33,
    "start_time": "2022-12-08T18:21:28.094Z"
   },
   {
    "duration": 18,
    "start_time": "2022-12-08T18:21:28.130Z"
   },
   {
    "duration": 2141,
    "start_time": "2022-12-08T18:21:28.149Z"
   },
   {
    "duration": 12,
    "start_time": "2022-12-08T18:21:30.292Z"
   },
   {
    "duration": 22,
    "start_time": "2022-12-08T18:21:30.305Z"
   },
   {
    "duration": 26,
    "start_time": "2022-12-08T18:21:30.328Z"
   },
   {
    "duration": 44,
    "start_time": "2022-12-08T18:21:30.355Z"
   },
   {
    "duration": 25,
    "start_time": "2022-12-08T18:21:30.402Z"
   },
   {
    "duration": 27,
    "start_time": "2022-12-08T18:21:30.429Z"
   },
   {
    "duration": 8,
    "start_time": "2022-12-08T18:21:30.458Z"
   },
   {
    "duration": 11,
    "start_time": "2022-12-08T18:21:30.467Z"
   },
   {
    "duration": 69,
    "start_time": "2022-12-08T18:21:30.480Z"
   },
   {
    "duration": 23,
    "start_time": "2022-12-08T18:21:30.551Z"
   },
   {
    "duration": 19,
    "start_time": "2022-12-08T18:21:30.576Z"
   },
   {
    "duration": 173,
    "start_time": "2022-12-08T18:21:30.598Z"
   },
   {
    "duration": 7,
    "start_time": "2022-12-08T18:21:30.773Z"
   },
   {
    "duration": 32,
    "start_time": "2022-12-08T18:21:30.782Z"
   },
   {
    "duration": 165,
    "start_time": "2022-12-08T18:21:30.817Z"
   },
   {
    "duration": 8,
    "start_time": "2022-12-08T18:21:30.985Z"
   },
   {
    "duration": 26,
    "start_time": "2022-12-08T18:21:30.995Z"
   },
   {
    "duration": 10,
    "start_time": "2022-12-08T18:21:31.023Z"
   },
   {
    "duration": 35,
    "start_time": "2022-12-08T18:21:31.035Z"
   },
   {
    "duration": 26,
    "start_time": "2022-12-08T18:21:31.072Z"
   },
   {
    "duration": 15,
    "start_time": "2022-12-08T18:21:31.100Z"
   },
   {
    "duration": 16,
    "start_time": "2022-12-08T18:21:31.117Z"
   },
   {
    "duration": 149,
    "start_time": "2022-12-08T18:21:31.139Z"
   },
   {
    "duration": 7,
    "start_time": "2022-12-08T18:21:31.289Z"
   },
   {
    "duration": 47,
    "start_time": "2022-12-08T18:21:31.298Z"
   },
   {
    "duration": 27,
    "start_time": "2022-12-08T18:21:31.377Z"
   },
   {
    "duration": 11,
    "start_time": "2022-12-08T18:21:31.406Z"
   },
   {
    "duration": 12,
    "start_time": "2022-12-08T18:21:31.419Z"
   },
   {
    "duration": 65,
    "start_time": "2022-12-08T18:21:31.432Z"
   },
   {
    "duration": 7,
    "start_time": "2022-12-08T18:21:31.499Z"
   },
   {
    "duration": 285,
    "start_time": "2022-12-08T18:21:31.508Z"
   },
   {
    "duration": 6,
    "start_time": "2022-12-08T18:21:31.796Z"
   },
   {
    "duration": 17,
    "start_time": "2022-12-08T18:21:31.804Z"
   },
   {
    "duration": 6,
    "start_time": "2022-12-08T18:21:31.822Z"
   },
   {
    "duration": 10,
    "start_time": "2022-12-08T18:21:31.879Z"
   },
   {
    "duration": 27,
    "start_time": "2022-12-08T18:21:31.890Z"
   },
   {
    "duration": 370,
    "start_time": "2022-12-08T18:21:31.919Z"
   },
   {
    "duration": 4,
    "start_time": "2022-12-08T18:21:32.291Z"
   },
   {
    "duration": 111,
    "start_time": "2022-12-08T18:21:32.297Z"
   },
   {
    "duration": 8,
    "start_time": "2022-12-08T18:21:32.409Z"
   },
   {
    "duration": 666,
    "start_time": "2022-12-08T18:21:32.418Z"
   },
   {
    "duration": 13,
    "start_time": "2022-12-08T18:21:33.087Z"
   },
   {
    "duration": 500,
    "start_time": "2022-12-08T18:21:33.102Z"
   },
   {
    "duration": 11,
    "start_time": "2022-12-08T18:21:33.605Z"
   },
   {
    "duration": 374,
    "start_time": "2022-12-08T18:21:33.618Z"
   },
   {
    "duration": 12,
    "start_time": "2022-12-08T18:21:33.994Z"
   },
   {
    "duration": 484,
    "start_time": "2022-12-08T18:21:34.008Z"
   },
   {
    "duration": 9,
    "start_time": "2022-12-08T18:21:34.494Z"
   },
   {
    "duration": 294,
    "start_time": "2022-12-08T18:21:34.504Z"
   },
   {
    "duration": 10,
    "start_time": "2022-12-08T18:21:34.799Z"
   },
   {
    "duration": 416,
    "start_time": "2022-12-08T18:21:34.811Z"
   },
   {
    "duration": 13,
    "start_time": "2022-12-08T18:21:35.278Z"
   },
   {
    "duration": 449,
    "start_time": "2022-12-08T18:21:35.293Z"
   },
   {
    "duration": 9,
    "start_time": "2022-12-08T18:21:35.744Z"
   },
   {
    "duration": 203,
    "start_time": "2022-12-08T18:21:35.755Z"
   },
   {
    "duration": 136,
    "start_time": "2022-12-08T18:21:35.960Z"
   },
   {
    "duration": 9,
    "start_time": "2022-12-08T18:21:36.098Z"
   },
   {
    "duration": 154,
    "start_time": "2022-12-08T18:21:36.108Z"
   },
   {
    "duration": 18,
    "start_time": "2022-12-08T18:21:36.264Z"
   },
   {
    "duration": 244,
    "start_time": "2022-12-08T18:21:36.284Z"
   },
   {
    "duration": 9,
    "start_time": "2022-12-08T18:21:36.530Z"
   },
   {
    "duration": 168,
    "start_time": "2022-12-08T18:21:36.540Z"
   },
   {
    "duration": 135,
    "start_time": "2022-12-08T18:21:36.710Z"
   },
   {
    "duration": 136,
    "start_time": "2022-12-08T18:21:36.847Z"
   },
   {
    "duration": 274,
    "start_time": "2022-12-08T18:21:36.985Z"
   },
   {
    "duration": 4,
    "start_time": "2022-12-08T18:21:37.260Z"
   },
   {
    "duration": 39,
    "start_time": "2022-12-08T18:21:37.266Z"
   },
   {
    "duration": 19,
    "start_time": "2022-12-08T18:21:37.307Z"
   },
   {
    "duration": 195,
    "start_time": "2022-12-08T18:21:37.328Z"
   },
   {
    "duration": 5,
    "start_time": "2022-12-08T18:21:37.525Z"
   },
   {
    "duration": 192,
    "start_time": "2022-12-08T18:21:37.531Z"
   },
   {
    "duration": 6,
    "start_time": "2022-12-08T18:21:37.724Z"
   },
   {
    "duration": 195,
    "start_time": "2022-12-08T18:21:37.731Z"
   },
   {
    "duration": 5,
    "start_time": "2022-12-08T18:21:37.928Z"
   },
   {
    "duration": 172,
    "start_time": "2022-12-08T18:21:37.934Z"
   },
   {
    "duration": 148,
    "start_time": "2022-12-08T18:21:38.107Z"
   },
   {
    "duration": 257,
    "start_time": "2022-12-08T18:21:38.260Z"
   },
   {
    "duration": 151,
    "start_time": "2022-12-08T18:21:38.519Z"
   },
   {
    "duration": 171,
    "start_time": "2022-12-08T18:21:38.671Z"
   },
   {
    "duration": 38,
    "start_time": "2022-12-08T18:21:38.844Z"
   },
   {
    "duration": 175,
    "start_time": "2022-12-08T18:21:38.885Z"
   },
   {
    "duration": 21,
    "start_time": "2022-12-08T18:21:39.062Z"
   },
   {
    "duration": 166,
    "start_time": "2022-12-08T18:29:28.655Z"
   },
   {
    "duration": 79,
    "start_time": "2022-12-08T18:31:20.855Z"
   },
   {
    "duration": 166,
    "start_time": "2022-12-08T18:31:33.003Z"
   },
   {
    "duration": 168,
    "start_time": "2022-12-08T18:31:39.839Z"
   },
   {
    "duration": 156,
    "start_time": "2022-12-08T18:31:51.376Z"
   },
   {
    "duration": 160,
    "start_time": "2022-12-08T18:33:25.252Z"
   },
   {
    "duration": 164,
    "start_time": "2022-12-08T18:37:28.595Z"
   },
   {
    "duration": 157,
    "start_time": "2022-12-08T18:49:04.393Z"
   },
   {
    "duration": 380,
    "start_time": "2022-12-08T19:11:56.729Z"
   },
   {
    "duration": 93,
    "start_time": "2022-12-08T19:11:57.111Z"
   },
   {
    "duration": 35,
    "start_time": "2022-12-08T19:11:57.205Z"
   },
   {
    "duration": 14,
    "start_time": "2022-12-08T19:11:57.242Z"
   },
   {
    "duration": 1984,
    "start_time": "2022-12-08T19:11:57.257Z"
   },
   {
    "duration": 8,
    "start_time": "2022-12-08T19:11:59.243Z"
   },
   {
    "duration": 10,
    "start_time": "2022-12-08T19:11:59.253Z"
   },
   {
    "duration": 10,
    "start_time": "2022-12-08T19:11:59.264Z"
   },
   {
    "duration": 16,
    "start_time": "2022-12-08T19:11:59.278Z"
   },
   {
    "duration": 11,
    "start_time": "2022-12-08T19:11:59.296Z"
   },
   {
    "duration": 19,
    "start_time": "2022-12-08T19:11:59.309Z"
   },
   {
    "duration": 8,
    "start_time": "2022-12-08T19:11:59.329Z"
   },
   {
    "duration": 4,
    "start_time": "2022-12-08T19:11:59.339Z"
   },
   {
    "duration": 53,
    "start_time": "2022-12-08T19:11:59.344Z"
   },
   {
    "duration": 7,
    "start_time": "2022-12-08T19:11:59.399Z"
   },
   {
    "duration": 8,
    "start_time": "2022-12-08T19:11:59.408Z"
   },
   {
    "duration": 135,
    "start_time": "2022-12-08T19:11:59.418Z"
   },
   {
    "duration": 6,
    "start_time": "2022-12-08T19:11:59.555Z"
   },
   {
    "duration": 21,
    "start_time": "2022-12-08T19:11:59.562Z"
   },
   {
    "duration": 97,
    "start_time": "2022-12-08T19:11:59.584Z"
   },
   {
    "duration": 5,
    "start_time": "2022-12-08T19:11:59.682Z"
   },
   {
    "duration": 9,
    "start_time": "2022-12-08T19:11:59.688Z"
   },
   {
    "duration": 4,
    "start_time": "2022-12-08T19:11:59.698Z"
   },
   {
    "duration": 11,
    "start_time": "2022-12-08T19:11:59.704Z"
   },
   {
    "duration": 3,
    "start_time": "2022-12-08T19:11:59.716Z"
   },
   {
    "duration": 11,
    "start_time": "2022-12-08T19:11:59.720Z"
   },
   {
    "duration": 12,
    "start_time": "2022-12-08T19:11:59.732Z"
   },
   {
    "duration": 92,
    "start_time": "2022-12-08T19:11:59.777Z"
   },
   {
    "duration": 10,
    "start_time": "2022-12-08T19:11:59.871Z"
   },
   {
    "duration": 9,
    "start_time": "2022-12-08T19:11:59.882Z"
   },
   {
    "duration": 7,
    "start_time": "2022-12-08T19:11:59.893Z"
   },
   {
    "duration": 7,
    "start_time": "2022-12-08T19:11:59.901Z"
   },
   {
    "duration": 10,
    "start_time": "2022-12-08T19:11:59.909Z"
   },
   {
    "duration": 15,
    "start_time": "2022-12-08T19:11:59.921Z"
   },
   {
    "duration": 12,
    "start_time": "2022-12-08T19:11:59.938Z"
   },
   {
    "duration": 116,
    "start_time": "2022-12-08T19:11:59.978Z"
   },
   {
    "duration": 4,
    "start_time": "2022-12-08T19:12:00.095Z"
   },
   {
    "duration": 16,
    "start_time": "2022-12-08T19:12:00.101Z"
   },
   {
    "duration": 18,
    "start_time": "2022-12-08T19:12:00.119Z"
   },
   {
    "duration": 46,
    "start_time": "2022-12-08T19:12:00.139Z"
   },
   {
    "duration": 25,
    "start_time": "2022-12-08T19:12:00.186Z"
   },
   {
    "duration": 185,
    "start_time": "2022-12-08T19:12:00.213Z"
   },
   {
    "duration": 5,
    "start_time": "2022-12-08T19:12:00.400Z"
   },
   {
    "duration": 61,
    "start_time": "2022-12-08T19:12:00.407Z"
   },
   {
    "duration": 21,
    "start_time": "2022-12-08T19:12:00.469Z"
   },
   {
    "duration": 275,
    "start_time": "2022-12-08T19:12:00.492Z"
   },
   {
    "duration": 13,
    "start_time": "2022-12-08T19:12:00.769Z"
   },
   {
    "duration": 148,
    "start_time": "2022-12-08T19:12:00.784Z"
   },
   {
    "duration": 8,
    "start_time": "2022-12-08T19:12:00.933Z"
   },
   {
    "duration": 186,
    "start_time": "2022-12-08T19:12:00.943Z"
   },
   {
    "duration": 8,
    "start_time": "2022-12-08T19:12:01.130Z"
   },
   {
    "duration": 160,
    "start_time": "2022-12-08T19:12:01.140Z"
   },
   {
    "duration": 177,
    "start_time": "2022-12-08T19:12:01.302Z"
   },
   {
    "duration": 7,
    "start_time": "2022-12-08T19:12:01.480Z"
   },
   {
    "duration": 141,
    "start_time": "2022-12-08T19:12:01.489Z"
   },
   {
    "duration": 7,
    "start_time": "2022-12-08T19:12:01.632Z"
   },
   {
    "duration": 153,
    "start_time": "2022-12-08T19:12:01.641Z"
   },
   {
    "duration": 8,
    "start_time": "2022-12-08T19:12:01.796Z"
   },
   {
    "duration": 163,
    "start_time": "2022-12-08T19:12:01.806Z"
   },
   {
    "duration": 13,
    "start_time": "2022-12-08T19:12:01.970Z"
   },
   {
    "duration": 164,
    "start_time": "2022-12-08T19:12:01.984Z"
   },
   {
    "duration": 105,
    "start_time": "2022-12-08T19:12:02.150Z"
   },
   {
    "duration": 21,
    "start_time": "2022-12-08T19:12:02.257Z"
   },
   {
    "duration": 231,
    "start_time": "2022-12-08T19:12:02.279Z"
   },
   {
    "duration": 9,
    "start_time": "2022-12-08T19:12:02.512Z"
   },
   {
    "duration": 148,
    "start_time": "2022-12-08T19:12:02.522Z"
   },
   {
    "duration": 13,
    "start_time": "2022-12-08T19:12:02.671Z"
   },
   {
    "duration": 150,
    "start_time": "2022-12-08T19:12:02.685Z"
   },
   {
    "duration": 133,
    "start_time": "2022-12-08T19:12:02.836Z"
   },
   {
    "duration": 147,
    "start_time": "2022-12-08T19:12:02.970Z"
   },
   {
    "duration": 163,
    "start_time": "2022-12-08T19:12:03.119Z"
   },
   {
    "duration": 4,
    "start_time": "2022-12-08T19:12:03.284Z"
   },
   {
    "duration": 5,
    "start_time": "2022-12-08T19:12:03.290Z"
   },
   {
    "duration": 11,
    "start_time": "2022-12-08T19:12:03.296Z"
   },
   {
    "duration": 175,
    "start_time": "2022-12-08T19:12:03.309Z"
   },
   {
    "duration": 5,
    "start_time": "2022-12-08T19:12:03.486Z"
   },
   {
    "duration": 181,
    "start_time": "2022-12-08T19:12:03.493Z"
   },
   {
    "duration": 5,
    "start_time": "2022-12-08T19:12:03.677Z"
   },
   {
    "duration": 160,
    "start_time": "2022-12-08T19:12:03.683Z"
   },
   {
    "duration": 5,
    "start_time": "2022-12-08T19:12:03.845Z"
   },
   {
    "duration": 182,
    "start_time": "2022-12-08T19:12:03.851Z"
   },
   {
    "duration": 166,
    "start_time": "2022-12-08T19:12:04.041Z"
   },
   {
    "duration": 226,
    "start_time": "2022-12-08T19:12:04.209Z"
   },
   {
    "duration": 145,
    "start_time": "2022-12-08T19:12:04.437Z"
   },
   {
    "duration": 169,
    "start_time": "2022-12-08T19:12:04.584Z"
   },
   {
    "duration": 30,
    "start_time": "2022-12-08T19:12:04.754Z"
   },
   {
    "duration": 156,
    "start_time": "2022-12-08T19:12:04.785Z"
   },
   {
    "duration": 13,
    "start_time": "2022-12-08T19:12:04.942Z"
   },
   {
    "duration": 431,
    "start_time": "2022-12-09T10:15:42.021Z"
   },
   {
    "duration": 170,
    "start_time": "2022-12-09T10:15:42.454Z"
   },
   {
    "duration": 42,
    "start_time": "2022-12-09T10:15:42.626Z"
   },
   {
    "duration": 17,
    "start_time": "2022-12-09T10:15:42.670Z"
   },
   {
    "duration": 2631,
    "start_time": "2022-12-09T10:15:42.689Z"
   },
   {
    "duration": 13,
    "start_time": "2022-12-09T10:15:45.322Z"
   },
   {
    "duration": 46,
    "start_time": "2022-12-09T10:15:45.336Z"
   },
   {
    "duration": 18,
    "start_time": "2022-12-09T10:15:45.383Z"
   },
   {
    "duration": 41,
    "start_time": "2022-12-09T10:15:45.403Z"
   },
   {
    "duration": 36,
    "start_time": "2022-12-09T10:15:45.446Z"
   },
   {
    "duration": 19,
    "start_time": "2022-12-09T10:15:45.483Z"
   },
   {
    "duration": 42,
    "start_time": "2022-12-09T10:15:45.504Z"
   },
   {
    "duration": 31,
    "start_time": "2022-12-09T10:15:45.548Z"
   },
   {
    "duration": 52,
    "start_time": "2022-12-09T10:15:45.581Z"
   },
   {
    "duration": 50,
    "start_time": "2022-12-09T10:15:45.634Z"
   },
   {
    "duration": 21,
    "start_time": "2022-12-09T10:15:45.686Z"
   },
   {
    "duration": 158,
    "start_time": "2022-12-09T10:15:45.708Z"
   },
   {
    "duration": 10,
    "start_time": "2022-12-09T10:15:45.868Z"
   },
   {
    "duration": 34,
    "start_time": "2022-12-09T10:15:45.880Z"
   },
   {
    "duration": 150,
    "start_time": "2022-12-09T10:15:45.915Z"
   },
   {
    "duration": 12,
    "start_time": "2022-12-09T10:15:46.067Z"
   },
   {
    "duration": 18,
    "start_time": "2022-12-09T10:15:46.081Z"
   },
   {
    "duration": 45,
    "start_time": "2022-12-09T10:15:46.101Z"
   },
   {
    "duration": 46,
    "start_time": "2022-12-09T10:15:46.148Z"
   },
   {
    "duration": 34,
    "start_time": "2022-12-09T10:15:46.196Z"
   },
   {
    "duration": 37,
    "start_time": "2022-12-09T10:15:46.232Z"
   },
   {
    "duration": 24,
    "start_time": "2022-12-09T10:15:46.271Z"
   },
   {
    "duration": 123,
    "start_time": "2022-12-09T10:15:46.300Z"
   },
   {
    "duration": 7,
    "start_time": "2022-12-09T10:15:46.425Z"
   },
   {
    "duration": 53,
    "start_time": "2022-12-09T10:15:46.433Z"
   },
   {
    "duration": 17,
    "start_time": "2022-12-09T10:15:46.488Z"
   },
   {
    "duration": 52,
    "start_time": "2022-12-09T10:15:46.507Z"
   },
   {
    "duration": 52,
    "start_time": "2022-12-09T10:15:46.561Z"
   },
   {
    "duration": 19,
    "start_time": "2022-12-09T10:15:46.615Z"
   },
   {
    "duration": 31,
    "start_time": "2022-12-09T10:15:46.636Z"
   },
   {
    "duration": 113,
    "start_time": "2022-12-09T10:15:46.668Z"
   },
   {
    "duration": 4,
    "start_time": "2022-12-09T10:15:46.783Z"
   },
   {
    "duration": 11,
    "start_time": "2022-12-09T10:15:46.788Z"
   },
   {
    "duration": 6,
    "start_time": "2022-12-09T10:15:46.800Z"
   },
   {
    "duration": 7,
    "start_time": "2022-12-09T10:15:46.808Z"
   },
   {
    "duration": 4,
    "start_time": "2022-12-09T10:15:46.817Z"
   },
   {
    "duration": 288,
    "start_time": "2022-12-09T10:15:46.823Z"
   },
   {
    "duration": 5,
    "start_time": "2022-12-09T10:15:47.113Z"
   },
   {
    "duration": 39,
    "start_time": "2022-12-09T10:15:47.119Z"
   },
   {
    "duration": 25,
    "start_time": "2022-12-09T10:15:47.159Z"
   },
   {
    "duration": 153,
    "start_time": "2022-12-09T10:15:47.186Z"
   },
   {
    "duration": 10,
    "start_time": "2022-12-09T10:15:47.341Z"
   },
   {
    "duration": 391,
    "start_time": "2022-12-09T10:16:03.186Z"
   },
   {
    "duration": 98,
    "start_time": "2022-12-09T10:16:04.378Z"
   },
   {
    "duration": 40,
    "start_time": "2022-12-09T10:16:05.304Z"
   },
   {
    "duration": 15,
    "start_time": "2022-12-09T10:16:07.460Z"
   },
   {
    "duration": 2144,
    "start_time": "2022-12-09T10:16:08.860Z"
   },
   {
    "duration": 8,
    "start_time": "2022-12-09T10:16:15.398Z"
   },
   {
    "duration": 10,
    "start_time": "2022-12-09T10:16:21.254Z"
   },
   {
    "duration": 8,
    "start_time": "2022-12-09T10:16:26.694Z"
   },
   {
    "duration": 9,
    "start_time": "2022-12-09T10:20:17.690Z"
   },
   {
    "duration": 74,
    "start_time": "2022-12-09T10:20:30.204Z"
   },
   {
    "duration": 6,
    "start_time": "2022-12-09T10:20:37.444Z"
   },
   {
    "duration": 7,
    "start_time": "2022-12-09T10:24:52.732Z"
   },
   {
    "duration": 4,
    "start_time": "2022-12-09T10:25:04.973Z"
   },
   {
    "duration": 45,
    "start_time": "2022-12-09T10:25:14.156Z"
   },
   {
    "duration": 93,
    "start_time": "2022-12-09T10:27:47.936Z"
   },
   {
    "duration": 34,
    "start_time": "2022-12-09T10:27:48.958Z"
   },
   {
    "duration": 8,
    "start_time": "2022-12-09T10:28:00.086Z"
   },
   {
    "duration": 14,
    "start_time": "2022-12-09T10:28:02.481Z"
   },
   {
    "duration": 11,
    "start_time": "2022-12-09T10:28:04.096Z"
   },
   {
    "duration": 6,
    "start_time": "2022-12-09T10:28:06.441Z"
   },
   {
    "duration": 19,
    "start_time": "2022-12-09T10:28:08.522Z"
   },
   {
    "duration": 5,
    "start_time": "2022-12-09T10:39:20.757Z"
   },
   {
    "duration": 54,
    "start_time": "2022-12-09T10:39:22.950Z"
   },
   {
    "duration": 87,
    "start_time": "2022-12-09T10:40:46.917Z"
   },
   {
    "duration": 46,
    "start_time": "2022-12-09T10:40:48.245Z"
   },
   {
    "duration": 42,
    "start_time": "2022-12-09T10:41:00.950Z"
   },
   {
    "duration": 9,
    "start_time": "2022-12-09T10:41:06.983Z"
   },
   {
    "duration": 9,
    "start_time": "2022-12-09T10:41:08.944Z"
   },
   {
    "duration": 6,
    "start_time": "2022-12-09T10:41:12.551Z"
   },
   {
    "duration": 5,
    "start_time": "2022-12-09T10:41:14.839Z"
   },
   {
    "duration": 28,
    "start_time": "2022-12-09T10:41:20.106Z"
   },
   {
    "duration": 6,
    "start_time": "2022-12-09T10:43:03.401Z"
   },
   {
    "duration": 7,
    "start_time": "2022-12-09T10:51:25.290Z"
   },
   {
    "duration": 47,
    "start_time": "2022-12-09T10:51:32.153Z"
   },
   {
    "duration": 6,
    "start_time": "2022-12-09T10:51:44.572Z"
   },
   {
    "duration": 50,
    "start_time": "2022-12-09T10:51:57.911Z"
   },
   {
    "duration": 6,
    "start_time": "2022-12-09T10:52:43.917Z"
   },
   {
    "duration": 9,
    "start_time": "2022-12-09T10:53:24.993Z"
   },
   {
    "duration": 7,
    "start_time": "2022-12-09T10:55:57.955Z"
   },
   {
    "duration": 7,
    "start_time": "2022-12-09T10:57:23.118Z"
   },
   {
    "duration": 28,
    "start_time": "2022-12-09T10:57:32.654Z"
   },
   {
    "duration": 7,
    "start_time": "2022-12-09T10:59:47.007Z"
   },
   {
    "duration": 4,
    "start_time": "2022-12-09T11:00:58.900Z"
   },
   {
    "duration": 407,
    "start_time": "2022-12-09T11:01:31.558Z"
   },
   {
    "duration": 90,
    "start_time": "2022-12-09T11:01:33.573Z"
   },
   {
    "duration": 38,
    "start_time": "2022-12-09T11:01:35.334Z"
   },
   {
    "duration": 19,
    "start_time": "2022-12-09T11:01:43.030Z"
   },
   {
    "duration": 2182,
    "start_time": "2022-12-09T11:01:45.810Z"
   },
   {
    "duration": 9,
    "start_time": "2022-12-09T11:01:54.985Z"
   },
   {
    "duration": 10,
    "start_time": "2022-12-09T11:02:02.800Z"
   },
   {
    "duration": 9,
    "start_time": "2022-12-09T11:02:04.700Z"
   },
   {
    "duration": 8,
    "start_time": "2022-12-09T11:04:40.100Z"
   },
   {
    "duration": 8,
    "start_time": "2022-12-09T11:04:44.452Z"
   },
   {
    "duration": 28,
    "start_time": "2022-12-09T11:04:47.463Z"
   },
   {
    "duration": 6,
    "start_time": "2022-12-09T11:04:58.948Z"
   },
   {
    "duration": 27,
    "start_time": "2022-12-09T11:05:15.058Z"
   },
   {
    "duration": 17,
    "start_time": "2022-12-09T11:05:18.087Z"
   },
   {
    "duration": 24,
    "start_time": "2022-12-09T11:05:24.404Z"
   },
   {
    "duration": 9,
    "start_time": "2022-12-09T11:05:26.716Z"
   },
   {
    "duration": 4,
    "start_time": "2022-12-09T11:05:29.489Z"
   },
   {
    "duration": 24,
    "start_time": "2022-12-09T11:05:31.380Z"
   },
   {
    "duration": 8,
    "start_time": "2022-12-09T11:05:33.210Z"
   },
   {
    "duration": 8,
    "start_time": "2022-12-09T11:05:48.714Z"
   },
   {
    "duration": 121,
    "start_time": "2022-12-09T11:05:50.808Z"
   },
   {
    "duration": 7,
    "start_time": "2022-12-09T11:05:53.973Z"
   },
   {
    "duration": 11,
    "start_time": "2022-12-09T11:05:55.707Z"
   },
   {
    "duration": 96,
    "start_time": "2022-12-09T11:05:57.999Z"
   },
   {
    "duration": 5,
    "start_time": "2022-12-09T11:05:59.895Z"
   },
   {
    "duration": 8,
    "start_time": "2022-12-09T11:06:06.092Z"
   },
   {
    "duration": 4,
    "start_time": "2022-12-09T11:06:08.446Z"
   },
   {
    "duration": 9,
    "start_time": "2022-12-09T11:06:10.200Z"
   },
   {
    "duration": 4,
    "start_time": "2022-12-09T11:06:12.944Z"
   },
   {
    "duration": 9,
    "start_time": "2022-12-09T11:06:15.058Z"
   },
   {
    "duration": 9,
    "start_time": "2022-12-09T11:06:17.255Z"
   },
   {
    "duration": 91,
    "start_time": "2022-12-09T11:06:20.147Z"
   },
   {
    "duration": 6,
    "start_time": "2022-12-09T11:06:22.224Z"
   },
   {
    "duration": 5,
    "start_time": "2022-12-09T11:06:25.557Z"
   },
   {
    "duration": 5,
    "start_time": "2022-12-09T11:06:27.786Z"
   },
   {
    "duration": 8,
    "start_time": "2022-12-09T11:06:29.866Z"
   },
   {
    "duration": 7,
    "start_time": "2022-12-09T11:06:32.068Z"
   },
   {
    "duration": 11,
    "start_time": "2022-12-09T11:06:34.054Z"
   },
   {
    "duration": 10,
    "start_time": "2022-12-09T11:06:36.016Z"
   },
   {
    "duration": 8,
    "start_time": "2022-12-09T11:06:38.664Z"
   },
   {
    "duration": 9,
    "start_time": "2022-12-09T11:06:42.650Z"
   },
   {
    "duration": 111,
    "start_time": "2022-12-09T11:06:45.241Z"
   },
   {
    "duration": 71,
    "start_time": "2022-12-09T11:07:36.894Z"
   },
   {
    "duration": 17,
    "start_time": "2022-12-09T11:09:11.802Z"
   },
   {
    "duration": 11,
    "start_time": "2022-12-09T11:13:14.090Z"
   },
   {
    "duration": 14,
    "start_time": "2022-12-09T11:13:16.150Z"
   },
   {
    "duration": 3,
    "start_time": "2022-12-09T11:14:39.742Z"
   },
   {
    "duration": 94,
    "start_time": "2022-12-09T11:14:40.696Z"
   },
   {
    "duration": 31,
    "start_time": "2022-12-09T11:14:41.562Z"
   },
   {
    "duration": 16,
    "start_time": "2022-12-09T11:14:43.284Z"
   },
   {
    "duration": 1843,
    "start_time": "2022-12-09T11:14:45.120Z"
   },
   {
    "duration": 10,
    "start_time": "2022-12-09T11:14:50.862Z"
   },
   {
    "duration": 10,
    "start_time": "2022-12-09T11:14:53.118Z"
   },
   {
    "duration": 9,
    "start_time": "2022-12-09T11:14:55.165Z"
   },
   {
    "duration": 7,
    "start_time": "2022-12-09T11:14:57.612Z"
   },
   {
    "duration": 17,
    "start_time": "2022-12-09T11:14:59.874Z"
   },
   {
    "duration": 29,
    "start_time": "2022-12-09T11:15:01.723Z"
   },
   {
    "duration": 6,
    "start_time": "2022-12-09T11:15:04.069Z"
   },
   {
    "duration": 4,
    "start_time": "2022-12-09T11:15:08.409Z"
   },
   {
    "duration": 14,
    "start_time": "2022-12-09T11:15:13.056Z"
   },
   {
    "duration": 10,
    "start_time": "2022-12-09T11:15:18.767Z"
   },
   {
    "duration": 15,
    "start_time": "2022-12-09T11:15:23.590Z"
   },
   {
    "duration": 19,
    "start_time": "2022-12-09T11:15:31.664Z"
   },
   {
    "duration": 8,
    "start_time": "2022-12-09T11:15:33.540Z"
   },
   {
    "duration": 4,
    "start_time": "2022-12-09T11:15:37.914Z"
   },
   {
    "duration": 22,
    "start_time": "2022-12-09T11:15:39.440Z"
   },
   {
    "duration": 9,
    "start_time": "2022-12-09T11:15:40.936Z"
   },
   {
    "duration": 10,
    "start_time": "2022-12-09T11:15:46.688Z"
   },
   {
    "duration": 123,
    "start_time": "2022-12-09T11:15:49.049Z"
   },
   {
    "duration": 6,
    "start_time": "2022-12-09T11:15:50.744Z"
   },
   {
    "duration": 9,
    "start_time": "2022-12-09T11:15:53.749Z"
   },
   {
    "duration": 142,
    "start_time": "2022-12-09T11:15:55.669Z"
   },
   {
    "duration": 5,
    "start_time": "2022-12-09T11:15:57.713Z"
   },
   {
    "duration": 10,
    "start_time": "2022-12-09T11:15:59.054Z"
   },
   {
    "duration": 5,
    "start_time": "2022-12-09T11:16:00.833Z"
   },
   {
    "duration": 9,
    "start_time": "2022-12-09T11:16:02.621Z"
   },
   {
    "duration": 3,
    "start_time": "2022-12-09T11:16:04.440Z"
   },
   {
    "duration": 8,
    "start_time": "2022-12-09T11:16:06.170Z"
   },
   {
    "duration": 11,
    "start_time": "2022-12-09T11:16:07.808Z"
   },
   {
    "duration": 92,
    "start_time": "2022-12-09T11:16:09.326Z"
   },
   {
    "duration": 6,
    "start_time": "2022-12-09T11:16:18.598Z"
   },
   {
    "duration": 6,
    "start_time": "2022-12-09T11:16:21.493Z"
   },
   {
    "duration": 5,
    "start_time": "2022-12-09T11:16:22.845Z"
   },
   {
    "duration": 11,
    "start_time": "2022-12-09T11:16:24.612Z"
   },
   {
    "duration": 8,
    "start_time": "2022-12-09T11:16:28.779Z"
   },
   {
    "duration": 8,
    "start_time": "2022-12-09T11:16:37.272Z"
   },
   {
    "duration": 11,
    "start_time": "2022-12-09T11:16:41.694Z"
   },
   {
    "duration": 9,
    "start_time": "2022-12-09T11:16:43.493Z"
   },
   {
    "duration": 8,
    "start_time": "2022-12-09T11:16:45.452Z"
   },
   {
    "duration": 207,
    "start_time": "2022-12-09T11:16:46.888Z"
   },
   {
    "duration": 4,
    "start_time": "2022-12-09T11:16:51.044Z"
   },
   {
    "duration": 4,
    "start_time": "2022-12-09T11:16:53.040Z"
   },
   {
    "duration": 5,
    "start_time": "2022-12-09T11:16:54.420Z"
   },
   {
    "duration": 5,
    "start_time": "2022-12-09T11:16:55.882Z"
   },
   {
    "duration": 4,
    "start_time": "2022-12-09T11:16:57.950Z"
   },
   {
    "duration": 156,
    "start_time": "2022-12-09T11:16:59.531Z"
   },
   {
    "duration": 4,
    "start_time": "2022-12-09T11:17:01.691Z"
   },
   {
    "duration": 34,
    "start_time": "2022-12-09T11:17:03.422Z"
   },
   {
    "duration": 8,
    "start_time": "2022-12-09T11:17:14.780Z"
   },
   {
    "duration": 158,
    "start_time": "2022-12-09T11:17:21.610Z"
   },
   {
    "duration": 10,
    "start_time": "2022-12-09T11:17:44.152Z"
   },
   {
    "duration": 155,
    "start_time": "2022-12-09T11:17:55.150Z"
   },
   {
    "duration": 8,
    "start_time": "2022-12-09T11:18:18.566Z"
   },
   {
    "duration": 147,
    "start_time": "2022-12-09T11:18:20.180Z"
   },
   {
    "duration": 10,
    "start_time": "2022-12-09T11:19:23.843Z"
   },
   {
    "duration": 161,
    "start_time": "2022-12-09T11:19:25.370Z"
   },
   {
    "duration": 170,
    "start_time": "2022-12-09T11:19:29.539Z"
   },
   {
    "duration": 8,
    "start_time": "2022-12-09T11:20:18.536Z"
   },
   {
    "duration": 143,
    "start_time": "2022-12-09T11:20:20.425Z"
   },
   {
    "duration": 8,
    "start_time": "2022-12-09T11:20:34.558Z"
   },
   {
    "duration": 138,
    "start_time": "2022-12-09T11:20:36.750Z"
   },
   {
    "duration": 8,
    "start_time": "2022-12-09T11:21:08.628Z"
   },
   {
    "duration": 230,
    "start_time": "2022-12-09T11:21:11.132Z"
   },
   {
    "duration": 10,
    "start_time": "2022-12-09T11:21:34.006Z"
   },
   {
    "duration": 158,
    "start_time": "2022-12-09T11:21:36.602Z"
   },
   {
    "duration": 116,
    "start_time": "2022-12-09T11:22:19.952Z"
   },
   {
    "duration": 10,
    "start_time": "2022-12-09T11:22:22.496Z"
   },
   {
    "duration": 159,
    "start_time": "2022-12-09T11:22:26.893Z"
   },
   {
    "duration": 9,
    "start_time": "2022-12-09T11:22:48.008Z"
   },
   {
    "duration": 148,
    "start_time": "2022-12-09T11:22:49.910Z"
   },
   {
    "duration": 11,
    "start_time": "2022-12-09T11:22:56.928Z"
   },
   {
    "duration": 169,
    "start_time": "2022-12-09T11:22:58.738Z"
   },
   {
    "duration": 128,
    "start_time": "2022-12-09T11:23:09.021Z"
   },
   {
    "duration": 151,
    "start_time": "2022-12-09T11:23:11.175Z"
   },
   {
    "duration": 191,
    "start_time": "2022-12-09T11:23:18.730Z"
   },
   {
    "duration": 4,
    "start_time": "2022-12-09T11:23:20.565Z"
   },
   {
    "duration": 9,
    "start_time": "2022-12-09T11:23:22.478Z"
   },
   {
    "duration": 7,
    "start_time": "2022-12-09T11:23:24.453Z"
   },
   {
    "duration": 180,
    "start_time": "2022-12-09T11:23:30.892Z"
   },
   {
    "duration": 6,
    "start_time": "2022-12-09T11:23:33.943Z"
   },
   {
    "duration": 192,
    "start_time": "2022-12-09T11:23:41.122Z"
   },
   {
    "duration": 9,
    "start_time": "2022-12-09T11:23:43.990Z"
   },
   {
    "duration": 277,
    "start_time": "2022-12-09T11:23:45.524Z"
   },
   {
    "duration": 6,
    "start_time": "2022-12-09T11:23:51.689Z"
   },
   {
    "duration": 153,
    "start_time": "2022-12-09T11:23:54.348Z"
   },
   {
    "duration": 168,
    "start_time": "2022-12-09T11:23:58.255Z"
   },
   {
    "duration": 172,
    "start_time": "2022-12-09T11:24:01.056Z"
   },
   {
    "duration": 190,
    "start_time": "2022-12-09T11:24:03.862Z"
   },
   {
    "duration": 183,
    "start_time": "2022-12-09T11:24:06.488Z"
   },
   {
    "duration": 29,
    "start_time": "2022-12-09T11:24:17.659Z"
   },
   {
    "duration": 170,
    "start_time": "2022-12-09T11:24:28.174Z"
   },
   {
    "duration": 14,
    "start_time": "2022-12-09T11:24:33.424Z"
   },
   {
    "duration": 464,
    "start_time": "2022-12-09T11:27:44.099Z"
   },
   {
    "duration": 110,
    "start_time": "2022-12-09T11:27:44.566Z"
   },
   {
    "duration": 40,
    "start_time": "2022-12-09T11:27:44.681Z"
   },
   {
    "duration": 15,
    "start_time": "2022-12-09T11:27:44.722Z"
   },
   {
    "duration": 2252,
    "start_time": "2022-12-09T11:27:44.739Z"
   },
   {
    "duration": 9,
    "start_time": "2022-12-09T11:27:46.993Z"
   },
   {
    "duration": 12,
    "start_time": "2022-12-09T11:27:47.004Z"
   },
   {
    "duration": 10,
    "start_time": "2022-12-09T11:27:47.017Z"
   },
   {
    "duration": 8,
    "start_time": "2022-12-09T11:27:47.029Z"
   },
   {
    "duration": 7,
    "start_time": "2022-12-09T11:27:47.039Z"
   },
   {
    "duration": 57,
    "start_time": "2022-12-09T11:27:47.047Z"
   },
   {
    "duration": 5,
    "start_time": "2022-12-09T11:27:47.106Z"
   },
   {
    "duration": 23,
    "start_time": "2022-12-09T11:27:47.113Z"
   },
   {
    "duration": 13,
    "start_time": "2022-12-09T11:27:47.138Z"
   },
   {
    "duration": 40,
    "start_time": "2022-12-09T11:27:47.153Z"
   },
   {
    "duration": 26,
    "start_time": "2022-12-09T11:27:47.194Z"
   },
   {
    "duration": 18,
    "start_time": "2022-12-09T11:27:47.221Z"
   },
   {
    "duration": 9,
    "start_time": "2022-12-09T11:27:47.240Z"
   },
   {
    "duration": 53,
    "start_time": "2022-12-09T11:27:47.251Z"
   },
   {
    "duration": 21,
    "start_time": "2022-12-09T11:27:47.306Z"
   },
   {
    "duration": 14,
    "start_time": "2022-12-09T11:27:47.328Z"
   },
   {
    "duration": 138,
    "start_time": "2022-12-09T11:27:47.344Z"
   },
   {
    "duration": 5,
    "start_time": "2022-12-09T11:27:47.492Z"
   },
   {
    "duration": 23,
    "start_time": "2022-12-09T11:27:47.499Z"
   },
   {
    "duration": 124,
    "start_time": "2022-12-09T11:27:47.523Z"
   },
   {
    "duration": 6,
    "start_time": "2022-12-09T11:27:47.648Z"
   },
   {
    "duration": 25,
    "start_time": "2022-12-09T11:27:47.655Z"
   },
   {
    "duration": 49,
    "start_time": "2022-12-09T11:27:47.681Z"
   },
   {
    "duration": 42,
    "start_time": "2022-12-09T11:27:47.732Z"
   },
   {
    "duration": 19,
    "start_time": "2022-12-09T11:27:47.775Z"
   },
   {
    "duration": 34,
    "start_time": "2022-12-09T11:27:47.796Z"
   },
   {
    "duration": 24,
    "start_time": "2022-12-09T11:27:47.832Z"
   },
   {
    "duration": 142,
    "start_time": "2022-12-09T11:27:47.857Z"
   },
   {
    "duration": 6,
    "start_time": "2022-12-09T11:27:48.001Z"
   },
   {
    "duration": 20,
    "start_time": "2022-12-09T11:27:48.009Z"
   },
   {
    "duration": 32,
    "start_time": "2022-12-09T11:27:48.030Z"
   },
   {
    "duration": 34,
    "start_time": "2022-12-09T11:27:48.064Z"
   },
   {
    "duration": 29,
    "start_time": "2022-12-09T11:27:48.100Z"
   },
   {
    "duration": 18,
    "start_time": "2022-12-09T11:27:48.131Z"
   },
   {
    "duration": 46,
    "start_time": "2022-12-09T11:27:48.151Z"
   },
   {
    "duration": 18,
    "start_time": "2022-12-09T11:27:48.201Z"
   },
   {
    "duration": 19,
    "start_time": "2022-12-09T11:27:48.221Z"
   },
   {
    "duration": 124,
    "start_time": "2022-12-09T11:27:48.242Z"
   },
   {
    "duration": 4,
    "start_time": "2022-12-09T11:27:48.368Z"
   },
   {
    "duration": 37,
    "start_time": "2022-12-09T11:27:48.377Z"
   },
   {
    "duration": 11,
    "start_time": "2022-12-09T11:27:48.415Z"
   },
   {
    "duration": 23,
    "start_time": "2022-12-09T11:27:48.428Z"
   },
   {
    "duration": 22,
    "start_time": "2022-12-09T11:27:48.453Z"
   },
   {
    "duration": 196,
    "start_time": "2022-12-09T11:27:48.477Z"
   },
   {
    "duration": 7,
    "start_time": "2022-12-09T11:27:48.675Z"
   },
   {
    "duration": 33,
    "start_time": "2022-12-09T11:27:48.683Z"
   },
   {
    "duration": 46,
    "start_time": "2022-12-09T11:27:48.718Z"
   },
   {
    "duration": 250,
    "start_time": "2022-12-09T11:27:48.766Z"
   },
   {
    "duration": 11,
    "start_time": "2022-12-09T11:27:49.018Z"
   },
   {
    "duration": 169,
    "start_time": "2022-12-09T11:27:49.031Z"
   },
   {
    "duration": 9,
    "start_time": "2022-12-09T11:27:49.203Z"
   },
   {
    "duration": 159,
    "start_time": "2022-12-09T11:27:49.214Z"
   },
   {
    "duration": 20,
    "start_time": "2022-12-09T11:27:49.377Z"
   },
   {
    "duration": 187,
    "start_time": "2022-12-09T11:27:49.399Z"
   },
   {
    "duration": 168,
    "start_time": "2022-12-09T11:27:49.588Z"
   },
   {
    "duration": 9,
    "start_time": "2022-12-09T11:27:49.758Z"
   },
   {
    "duration": 158,
    "start_time": "2022-12-09T11:27:49.779Z"
   },
   {
    "duration": 9,
    "start_time": "2022-12-09T11:27:49.938Z"
   },
   {
    "duration": 183,
    "start_time": "2022-12-09T11:27:49.949Z"
   },
   {
    "duration": 9,
    "start_time": "2022-12-09T11:27:50.133Z"
   },
   {
    "duration": 191,
    "start_time": "2022-12-09T11:27:50.143Z"
   },
   {
    "duration": 8,
    "start_time": "2022-12-09T11:27:50.336Z"
   },
   {
    "duration": 177,
    "start_time": "2022-12-09T11:27:50.345Z"
   },
   {
    "duration": 115,
    "start_time": "2022-12-09T11:27:50.524Z"
   },
   {
    "duration": 8,
    "start_time": "2022-12-09T11:27:50.641Z"
   },
   {
    "duration": 250,
    "start_time": "2022-12-09T11:27:50.651Z"
   },
   {
    "duration": 9,
    "start_time": "2022-12-09T11:27:50.903Z"
   },
   {
    "duration": 163,
    "start_time": "2022-12-09T11:27:50.913Z"
   },
   {
    "duration": 18,
    "start_time": "2022-12-09T11:27:51.078Z"
   },
   {
    "duration": 154,
    "start_time": "2022-12-09T11:27:51.098Z"
   },
   {
    "duration": 132,
    "start_time": "2022-12-09T11:27:51.254Z"
   },
   {
    "duration": 131,
    "start_time": "2022-12-09T11:27:51.390Z"
   },
   {
    "duration": 185,
    "start_time": "2022-12-09T11:27:51.523Z"
   },
   {
    "duration": 4,
    "start_time": "2022-12-09T11:27:51.709Z"
   },
   {
    "duration": 10,
    "start_time": "2022-12-09T11:27:51.715Z"
   },
   {
    "duration": 13,
    "start_time": "2022-12-09T11:27:51.727Z"
   },
   {
    "duration": 186,
    "start_time": "2022-12-09T11:27:51.741Z"
   },
   {
    "duration": 5,
    "start_time": "2022-12-09T11:27:51.929Z"
   },
   {
    "duration": 193,
    "start_time": "2022-12-09T11:27:51.935Z"
   },
   {
    "duration": 6,
    "start_time": "2022-12-09T11:27:52.130Z"
   },
   {
    "duration": 178,
    "start_time": "2022-12-09T11:27:52.137Z"
   },
   {
    "duration": 6,
    "start_time": "2022-12-09T11:27:52.316Z"
   },
   {
    "duration": 172,
    "start_time": "2022-12-09T11:27:52.323Z"
   },
   {
    "duration": 153,
    "start_time": "2022-12-09T11:27:52.497Z"
   },
   {
    "duration": 246,
    "start_time": "2022-12-09T11:27:52.651Z"
   },
   {
    "duration": 157,
    "start_time": "2022-12-09T11:27:52.899Z"
   },
   {
    "duration": 182,
    "start_time": "2022-12-09T11:27:53.057Z"
   },
   {
    "duration": 22,
    "start_time": "2022-12-09T11:27:53.240Z"
   },
   {
    "duration": 177,
    "start_time": "2022-12-09T11:27:53.264Z"
   },
   {
    "duration": 13,
    "start_time": "2022-12-09T11:27:53.443Z"
   }
  ],
  "kernelspec": {
   "display_name": "Python 3 (ipykernel)",
   "language": "python",
   "name": "python3"
  },
  "language_info": {
   "codemirror_mode": {
    "name": "ipython",
    "version": 3
   },
   "file_extension": ".py",
   "mimetype": "text/x-python",
   "name": "python",
   "nbconvert_exporter": "python",
   "pygments_lexer": "ipython3",
   "version": "3.9.12"
  },
  "toc": {
   "base_numbering": 1,
   "nav_menu": {},
   "number_sections": true,
   "sideBar": true,
   "skip_h1_title": true,
   "title_cell": "Содержание",
   "title_sidebar": "Contents",
   "toc_cell": true,
   "toc_position": {
    "height": "calc(100% - 180px)",
    "left": "10px",
    "top": "150px",
    "width": "165px"
   },
   "toc_section_display": true,
   "toc_window_display": true
  }
 },
 "nbformat": 4,
 "nbformat_minor": 2
}
